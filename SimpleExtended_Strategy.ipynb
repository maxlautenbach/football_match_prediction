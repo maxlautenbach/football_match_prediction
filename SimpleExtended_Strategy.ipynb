{
 "cells": [
  {
   "cell_type": "code",
   "execution_count": 1,
   "metadata": {
    "collapsed": true,
    "ExecuteTime": {
     "end_time": "2023-09-27T15:02:55.029122Z",
     "start_time": "2023-09-27T15:02:53.798196Z"
    }
   },
   "outputs": [],
   "source": [
    "import pickle\n",
    "import random\n",
    "\n",
    "import numpy as np\n",
    "\n",
    "matches_df = pickle.load(open(\"database/matches_df.pck\", \"rb\"))"
   ]
  },
  {
   "cell_type": "code",
   "execution_count": 2,
   "outputs": [],
   "source": [
    "winner_list = []\n",
    "market_val_diff = []\n",
    "goals_diff = []\n",
    "for _, row in matches_df.iterrows():\n",
    "    if row[\"Team Home ID\"] == row[\"Winner Team ID\"]:\n",
    "        winner_list.append(\"Home\")\n",
    "    elif row[\"Team Away ID\"] == row[\"Winner Team ID\"]:\n",
    "        winner_list.append(\"Away\")\n",
    "    elif row[\"Winner Team ID\"] == 0:\n",
    "        winner_list.append(\"Draw\")\n",
    "    market_val_diff.append(row[\"Market Value Home\"] - row[\"Market Value Away\"])\n",
    "    goals_diff.append(row[\"Goals Home\"] - row[\"Goals Away\"])\n",
    "matches_df[\"Result\"] = winner_list\n",
    "matches_df[\"Market Value Difference\"] = market_val_diff\n",
    "matches_df[\"Goals Difference\"] = goals_diff"
   ],
   "metadata": {
    "collapsed": false,
    "ExecuteTime": {
     "end_time": "2023-09-27T15:02:55.095491Z",
     "start_time": "2023-09-27T15:02:55.028339Z"
    }
   }
  },
  {
   "cell_type": "code",
   "execution_count": 3,
   "outputs": [],
   "source": [
    "import asyncio\n",
    "import nest_asyncio\n",
    "from database import dbconn\n",
    "import importlib\n",
    "\n",
    "importlib.reload(dbconn)\n",
    "\n",
    "nest_asyncio.apply()\n",
    "\n",
    "loop = asyncio.get_event_loop()\n",
    "\n"
   ],
   "metadata": {
    "collapsed": false,
    "ExecuteTime": {
     "end_time": "2023-09-27T15:02:55.483862Z",
     "start_time": "2023-09-27T15:02:55.095235Z"
    }
   }
  },
  {
   "cell_type": "code",
   "execution_count": 10,
   "outputs": [],
   "source": [
    "import pandas as pd\n",
    "\n",
    "dict_team_data = dict()\n",
    "\n",
    "for team_id in set(matches_df[\"Team Home ID\"]):\n",
    "    team_data_matches_home, team_data_matches_away = loop.run_until_complete(dbconn.get_matches_by_team(team_id))\n",
    "    team_data_matches = [[x.id, x.goalsHome, x.goalsAway, x.winnerTeamId] for x in team_data_matches_home] + [[x.id, x.goalsHome, x.goalsAway, x.winnerTeamId] for x in team_data_matches_away]\n",
    "    team_data_matches = sorted(team_data_matches, key=lambda x: x[0])\n",
    "    for i in range(len(team_data_matches)):\n",
    "        if team_data_matches[i][3] == team_id:\n",
    "            team_data_matches[i][3] = \"Won\"\n",
    "        elif team_data_matches[i][3] == None:\n",
    "            team_data_matches[i][3] = \"Draw\"\n",
    "        else:\n",
    "            team_data_matches[i][3] = \"Lost\"\n",
    "    dict_team_data[team_id] = pd.DataFrame(team_data_matches)"
   ],
   "metadata": {
    "collapsed": false,
    "ExecuteTime": {
     "end_time": "2023-09-27T15:51:34.107393Z",
     "start_time": "2023-09-27T15:51:32.470804Z"
    }
   }
  },
  {
   "cell_type": "code",
   "execution_count": 22,
   "outputs": [],
   "source": [
    "matches_form = []\n",
    "for _, row in matches_df.iterrows():\n",
    "    home_form = dict_team_data[row[\"Team Home ID\"]]\n",
    "    home_form = home_form[home_form[0] < row[\"Match ID\"]].iloc[-5:]\n",
    "    home_form_5 = list(home_form[3])\n",
    "    for i in range(5 - len(home_form_5)):\n",
    "        home_form_5 = [\"Draw\"] + home_form_5\n",
    "    away_form = dict_team_data[row[\"Team Away ID\"]]\n",
    "    away_form = away_form[away_form[0] < row[\"Match ID\"]].iloc[-5:]\n",
    "    away_form_5 = list(away_form[3])\n",
    "    for i in range(5 - len(away_form_5)):\n",
    "        away_form_5 = [\"Draw\"] + away_form_5\n",
    "    matches_form.append(home_form_5 + away_form_5)"
   ],
   "metadata": {
    "collapsed": false,
    "ExecuteTime": {
     "end_time": "2023-09-27T16:02:27.204313Z",
     "start_time": "2023-09-27T16:02:25.854613Z"
    }
   }
  },
  {
   "cell_type": "code",
   "execution_count": 37,
   "outputs": [
    {
     "data": {
      "text/plain": "      Match ID  Team Home ID  Team Away ID  Market Value Home  \\\n0        19702             7           134             301.25   \n1        19703            87           175              82.33   \n2        19704            16           131              88.62   \n3        19705            55             9              76.65   \n4        19706           112            81              63.10   \n...        ...           ...           ...                ...   \n3055     61146            87           175             234.00   \n3056     61147            81            91             125.53   \n3057     61148            16            65             168.12   \n3058     61149            80           129             110.70   \n3059     61150           131            40             266.30   \n\n      Market Value Away  Goals Home  Goals Away  Winner Team ID Result  \\\n0                 72.00           2           1               7   Home   \n1                 70.95           2           1              87   Home   \n2                103.75           0           1             131   Away   \n3                178.35           2           2               0   Draw   \n4                 47.23           1           1               0   Draw   \n...                 ...         ...         ...             ...    ...   \n3055             207.72           5           1              87   Home   \n3056             224.75           2           2               0   Draw   \n3057              92.88           2           1              16   Home   \n3058              49.55           3           2              80   Home   \n3059             788.33           2           2               0   Draw   \n\n      Market Value Difference  ...  Home_Pre5 Home_Pre4 Home_Pre3 Home_Pre2  \\\n0                      229.25  ...       Draw      Draw      Draw      Draw   \n1                       11.38  ...       Draw      Draw      Draw      Draw   \n2                      -15.13  ...       Draw      Draw      Draw      Draw   \n3                     -101.70  ...       Draw      Draw      Draw      Draw   \n4                       15.87  ...       Draw      Draw      Draw      Draw   \n...                       ...  ...        ...       ...       ...       ...   \n3055                    26.28  ...        Won      Lost      Draw       Won   \n3056                   -99.22  ...       Lost      Draw      Lost       Won   \n3057                    75.24  ...       Lost      Draw      Lost      Draw   \n3058                    61.15  ...        Won       Won       Won      Draw   \n3059                  -522.03  ...        Won      Lost       Won      Draw   \n\n     Home_Pre1 Away_Pre5 Away_Pre4 Away_Pre3 Away_Pre2 Away_Pre1  \n0         Draw      Draw      Draw      Draw      Draw      Draw  \n1         Draw      Draw      Draw      Draw      Draw      Draw  \n2         Draw      Draw      Draw      Draw      Draw      Draw  \n3         Draw      Draw      Draw      Draw      Draw      Draw  \n4         Draw      Draw      Draw      Draw      Draw      Draw  \n...        ...       ...       ...       ...       ...       ...  \n3055      Draw      Lost      Draw      Draw      Lost      Lost  \n3056       Won      Lost      Lost      Draw      Lost      Draw  \n3057      Draw       Won       Won       Won       Won      Lost  \n3058       Won      Draw      Lost      Lost       Won       Won  \n3059       Won       Won       Won       Won      Lost      Draw  \n\n[3060 rows x 21 columns]",
      "text/html": "<div>\n<style scoped>\n    .dataframe tbody tr th:only-of-type {\n        vertical-align: middle;\n    }\n\n    .dataframe tbody tr th {\n        vertical-align: top;\n    }\n\n    .dataframe thead th {\n        text-align: right;\n    }\n</style>\n<table border=\"1\" class=\"dataframe\">\n  <thead>\n    <tr style=\"text-align: right;\">\n      <th></th>\n      <th>Match ID</th>\n      <th>Team Home ID</th>\n      <th>Team Away ID</th>\n      <th>Market Value Home</th>\n      <th>Market Value Away</th>\n      <th>Goals Home</th>\n      <th>Goals Away</th>\n      <th>Winner Team ID</th>\n      <th>Result</th>\n      <th>Market Value Difference</th>\n      <th>...</th>\n      <th>Home_Pre5</th>\n      <th>Home_Pre4</th>\n      <th>Home_Pre3</th>\n      <th>Home_Pre2</th>\n      <th>Home_Pre1</th>\n      <th>Away_Pre5</th>\n      <th>Away_Pre4</th>\n      <th>Away_Pre3</th>\n      <th>Away_Pre2</th>\n      <th>Away_Pre1</th>\n    </tr>\n  </thead>\n  <tbody>\n    <tr>\n      <th>0</th>\n      <td>19702</td>\n      <td>7</td>\n      <td>134</td>\n      <td>301.25</td>\n      <td>72.00</td>\n      <td>2</td>\n      <td>1</td>\n      <td>7</td>\n      <td>Home</td>\n      <td>229.25</td>\n      <td>...</td>\n      <td>Draw</td>\n      <td>Draw</td>\n      <td>Draw</td>\n      <td>Draw</td>\n      <td>Draw</td>\n      <td>Draw</td>\n      <td>Draw</td>\n      <td>Draw</td>\n      <td>Draw</td>\n      <td>Draw</td>\n    </tr>\n    <tr>\n      <th>1</th>\n      <td>19703</td>\n      <td>87</td>\n      <td>175</td>\n      <td>82.33</td>\n      <td>70.95</td>\n      <td>2</td>\n      <td>1</td>\n      <td>87</td>\n      <td>Home</td>\n      <td>11.38</td>\n      <td>...</td>\n      <td>Draw</td>\n      <td>Draw</td>\n      <td>Draw</td>\n      <td>Draw</td>\n      <td>Draw</td>\n      <td>Draw</td>\n      <td>Draw</td>\n      <td>Draw</td>\n      <td>Draw</td>\n      <td>Draw</td>\n    </tr>\n    <tr>\n      <th>2</th>\n      <td>19704</td>\n      <td>16</td>\n      <td>131</td>\n      <td>88.62</td>\n      <td>103.75</td>\n      <td>0</td>\n      <td>1</td>\n      <td>131</td>\n      <td>Away</td>\n      <td>-15.13</td>\n      <td>...</td>\n      <td>Draw</td>\n      <td>Draw</td>\n      <td>Draw</td>\n      <td>Draw</td>\n      <td>Draw</td>\n      <td>Draw</td>\n      <td>Draw</td>\n      <td>Draw</td>\n      <td>Draw</td>\n      <td>Draw</td>\n    </tr>\n    <tr>\n      <th>3</th>\n      <td>19705</td>\n      <td>55</td>\n      <td>9</td>\n      <td>76.65</td>\n      <td>178.35</td>\n      <td>2</td>\n      <td>2</td>\n      <td>0</td>\n      <td>Draw</td>\n      <td>-101.70</td>\n      <td>...</td>\n      <td>Draw</td>\n      <td>Draw</td>\n      <td>Draw</td>\n      <td>Draw</td>\n      <td>Draw</td>\n      <td>Draw</td>\n      <td>Draw</td>\n      <td>Draw</td>\n      <td>Draw</td>\n      <td>Draw</td>\n    </tr>\n    <tr>\n      <th>4</th>\n      <td>19706</td>\n      <td>112</td>\n      <td>81</td>\n      <td>63.10</td>\n      <td>47.23</td>\n      <td>1</td>\n      <td>1</td>\n      <td>0</td>\n      <td>Draw</td>\n      <td>15.87</td>\n      <td>...</td>\n      <td>Draw</td>\n      <td>Draw</td>\n      <td>Draw</td>\n      <td>Draw</td>\n      <td>Draw</td>\n      <td>Draw</td>\n      <td>Draw</td>\n      <td>Draw</td>\n      <td>Draw</td>\n      <td>Draw</td>\n    </tr>\n    <tr>\n      <th>...</th>\n      <td>...</td>\n      <td>...</td>\n      <td>...</td>\n      <td>...</td>\n      <td>...</td>\n      <td>...</td>\n      <td>...</td>\n      <td>...</td>\n      <td>...</td>\n      <td>...</td>\n      <td>...</td>\n      <td>...</td>\n      <td>...</td>\n      <td>...</td>\n      <td>...</td>\n      <td>...</td>\n      <td>...</td>\n      <td>...</td>\n      <td>...</td>\n      <td>...</td>\n      <td>...</td>\n    </tr>\n    <tr>\n      <th>3055</th>\n      <td>61146</td>\n      <td>87</td>\n      <td>175</td>\n      <td>234.00</td>\n      <td>207.72</td>\n      <td>5</td>\n      <td>1</td>\n      <td>87</td>\n      <td>Home</td>\n      <td>26.28</td>\n      <td>...</td>\n      <td>Won</td>\n      <td>Lost</td>\n      <td>Draw</td>\n      <td>Won</td>\n      <td>Draw</td>\n      <td>Lost</td>\n      <td>Draw</td>\n      <td>Draw</td>\n      <td>Lost</td>\n      <td>Lost</td>\n    </tr>\n    <tr>\n      <th>3056</th>\n      <td>61147</td>\n      <td>81</td>\n      <td>91</td>\n      <td>125.53</td>\n      <td>224.75</td>\n      <td>2</td>\n      <td>2</td>\n      <td>0</td>\n      <td>Draw</td>\n      <td>-99.22</td>\n      <td>...</td>\n      <td>Lost</td>\n      <td>Draw</td>\n      <td>Lost</td>\n      <td>Won</td>\n      <td>Won</td>\n      <td>Lost</td>\n      <td>Lost</td>\n      <td>Draw</td>\n      <td>Lost</td>\n      <td>Draw</td>\n    </tr>\n    <tr>\n      <th>3057</th>\n      <td>61148</td>\n      <td>16</td>\n      <td>65</td>\n      <td>168.12</td>\n      <td>92.88</td>\n      <td>2</td>\n      <td>1</td>\n      <td>16</td>\n      <td>Home</td>\n      <td>75.24</td>\n      <td>...</td>\n      <td>Lost</td>\n      <td>Draw</td>\n      <td>Lost</td>\n      <td>Draw</td>\n      <td>Draw</td>\n      <td>Won</td>\n      <td>Won</td>\n      <td>Won</td>\n      <td>Won</td>\n      <td>Lost</td>\n    </tr>\n    <tr>\n      <th>3058</th>\n      <td>61149</td>\n      <td>80</td>\n      <td>129</td>\n      <td>110.70</td>\n      <td>49.55</td>\n      <td>3</td>\n      <td>2</td>\n      <td>80</td>\n      <td>Home</td>\n      <td>61.15</td>\n      <td>...</td>\n      <td>Won</td>\n      <td>Won</td>\n      <td>Won</td>\n      <td>Draw</td>\n      <td>Won</td>\n      <td>Draw</td>\n      <td>Lost</td>\n      <td>Lost</td>\n      <td>Won</td>\n      <td>Won</td>\n    </tr>\n    <tr>\n      <th>3059</th>\n      <td>61150</td>\n      <td>131</td>\n      <td>40</td>\n      <td>266.30</td>\n      <td>788.33</td>\n      <td>2</td>\n      <td>2</td>\n      <td>0</td>\n      <td>Draw</td>\n      <td>-522.03</td>\n      <td>...</td>\n      <td>Won</td>\n      <td>Lost</td>\n      <td>Won</td>\n      <td>Draw</td>\n      <td>Won</td>\n      <td>Won</td>\n      <td>Won</td>\n      <td>Won</td>\n      <td>Lost</td>\n      <td>Draw</td>\n    </tr>\n  </tbody>\n</table>\n<p>3060 rows × 21 columns</p>\n</div>"
     },
     "execution_count": 37,
     "metadata": {},
     "output_type": "execute_result"
    }
   ],
   "source": [
    "pd.concat([matches_df, pd.DataFrame(matches_form, columns=[\"Home_Pre\" + str(x) for x in range(5, 0, -1)] + [\"Away_Pre\" + str(x) for x in range(5, 0, -1)])], axis=1)"
   ],
   "metadata": {
    "collapsed": false,
    "ExecuteTime": {
     "end_time": "2023-09-27T16:20:07.677319Z",
     "start_time": "2023-09-27T16:20:07.656779Z"
    }
   }
  },
  {
   "cell_type": "code",
   "execution_count": 30,
   "outputs": [
    {
     "data": {
      "text/plain": "['Home_Pre5',\n 'Home_Pre4',\n 'Home_Pre3',\n 'Home_Pre2',\n 'Home_Pre1',\n 'Away_Pre5',\n 'Away_Pre4',\n 'Away_Pre3',\n 'Away_Pre2',\n 'Away_Pre1']"
     },
     "execution_count": 30,
     "metadata": {},
     "output_type": "execute_result"
    }
   ],
   "source": [],
   "metadata": {
    "collapsed": false,
    "ExecuteTime": {
     "end_time": "2023-09-27T16:06:57.152984Z",
     "start_time": "2023-09-27T16:06:57.151035Z"
    }
   }
  },
  {
   "cell_type": "code",
   "execution_count": null,
   "outputs": [],
   "source": [],
   "metadata": {
    "collapsed": false
   }
  }
 ],
 "metadata": {
  "kernelspec": {
   "display_name": "Python 3",
   "language": "python",
   "name": "python3"
  },
  "language_info": {
   "codemirror_mode": {
    "name": "ipython",
    "version": 2
   },
   "file_extension": ".py",
   "mimetype": "text/x-python",
   "name": "python",
   "nbconvert_exporter": "python",
   "pygments_lexer": "ipython2",
   "version": "2.7.6"
  }
 },
 "nbformat": 4,
 "nbformat_minor": 0
}
