{
 "cells": [
  {
   "cell_type": "code",
   "execution_count": 16,
   "metadata": {
    "collapsed": true,
    "ExecuteTime": {
     "end_time": "2023-10-09T17:48:17.790371Z",
     "start_time": "2023-10-09T17:48:17.782546Z"
    }
   },
   "outputs": [],
   "source": [
    "import pickle\n",
    "import random\n",
    "\n",
    "import numpy as np\n",
    "\n",
    "matches_df = pickle.load(open(\"database/matches_df.pck\", \"rb\"))"
   ]
  },
  {
   "cell_type": "code",
   "execution_count": 17,
   "outputs": [],
   "source": [
    "winner_list = []\n",
    "market_val_diff = []\n",
    "goals_diff = []\n",
    "for _, row in matches_df.iterrows():\n",
    "    if row[\"Team Home ID\"] == row[\"Winner Team ID\"]:\n",
    "        winner_list.append(\"Home\")\n",
    "    elif row[\"Team Away ID\"] == row[\"Winner Team ID\"]:\n",
    "        winner_list.append(\"Away\")\n",
    "    elif row[\"Winner Team ID\"] == 0:\n",
    "        winner_list.append(\"Draw\")\n",
    "    market_val_diff.append(row[\"Market Value Home\"] - row[\"Market Value Away\"])\n",
    "    goals_diff.append(row[\"Goals Home\"] - row[\"Goals Away\"])\n",
    "matches_df[\"Result\"] = winner_list\n",
    "matches_df[\"Market Value Difference\"] = market_val_diff\n",
    "matches_df[\"Goals Difference\"] = goals_diff"
   ],
   "metadata": {
    "collapsed": false,
    "ExecuteTime": {
     "end_time": "2023-10-09T17:48:17.853859Z",
     "start_time": "2023-10-09T17:48:17.806304Z"
    }
   }
  },
  {
   "cell_type": "code",
   "execution_count": 18,
   "outputs": [],
   "source": [
    "import asyncio\n",
    "import nest_asyncio\n",
    "from database import dbconn\n",
    "import importlib\n",
    "\n",
    "importlib.reload(dbconn)\n",
    "\n",
    "nest_asyncio.apply()\n",
    "\n",
    "loop = asyncio.get_event_loop()\n",
    "\n"
   ],
   "metadata": {
    "collapsed": false,
    "ExecuteTime": {
     "end_time": "2023-10-09T17:48:17.858323Z",
     "start_time": "2023-10-09T17:48:17.855539Z"
    }
   }
  },
  {
   "cell_type": "code",
   "execution_count": 19,
   "outputs": [],
   "source": [
    "import pandas as pd\n",
    "\n",
    "dict_team_data = dict()\n",
    "\n",
    "for team_id in set(matches_df[\"Team Home ID\"]):\n",
    "    team_data_matches_home, team_data_matches_away = loop.run_until_complete(dbconn.get_matches_by_team(team_id))\n",
    "    team_data_matches = [[x.id, x.goalsHome, x.goalsAway, x.winnerTeamId] for x in team_data_matches_home] + [[x.id, x.goalsHome, x.goalsAway, x.winnerTeamId] for x in team_data_matches_away]\n",
    "    team_data_matches = sorted(team_data_matches, key=lambda x: x[0])\n",
    "    for i in range(len(team_data_matches)):\n",
    "        if team_data_matches[i][3] == team_id:\n",
    "            team_data_matches[i][3] = \"Won\"\n",
    "        elif team_data_matches[i][3] == None:\n",
    "            team_data_matches[i][3] = \"Draw\"\n",
    "        else:\n",
    "            team_data_matches[i][3] = \"Lost\"\n",
    "    dict_team_data[team_id] = pd.DataFrame(team_data_matches)"
   ],
   "metadata": {
    "collapsed": false,
    "ExecuteTime": {
     "end_time": "2023-10-09T17:48:19.749767Z",
     "start_time": "2023-10-09T17:48:17.861433Z"
    }
   }
  },
  {
   "cell_type": "code",
   "execution_count": 20,
   "outputs": [],
   "source": [
    "matches_form = []\n",
    "for _, row in matches_df.iterrows():\n",
    "    home_form = dict_team_data[row[\"Team Home ID\"]]\n",
    "    home_form = home_form[home_form[0] < row[\"Match ID\"]].iloc[-5:]\n",
    "    home_form_5 = list(home_form[3])\n",
    "    for i in range(5 - len(home_form_5)):\n",
    "        home_form_5 = [\"Draw\"] + home_form_5\n",
    "    away_form = dict_team_data[row[\"Team Away ID\"]]\n",
    "    away_form = away_form[away_form[0] < row[\"Match ID\"]].iloc[-5:]\n",
    "    away_form_5 = list(away_form[3])\n",
    "    for i in range(5 - len(away_form_5)):\n",
    "        away_form_5 = [\"Draw\"] + away_form_5\n",
    "    matches_form.append(home_form_5 + away_form_5)"
   ],
   "metadata": {
    "collapsed": false,
    "ExecuteTime": {
     "end_time": "2023-10-09T17:48:20.418063Z",
     "start_time": "2023-10-09T17:48:19.757238Z"
    }
   }
  },
  {
   "cell_type": "code",
   "execution_count": 21,
   "outputs": [],
   "source": [
    "columns_added = [\"Home_Pre\" + str(x) for x in range(5, 0, -1)] + [\"Away_Pre\" + str(x) for x in range(5, 0, -1)]\n",
    "matches_df = pd.concat([matches_df, pd.DataFrame(matches_form, columns=columns_added)], axis=1)"
   ],
   "metadata": {
    "collapsed": false,
    "ExecuteTime": {
     "end_time": "2023-10-09T17:48:20.423160Z",
     "start_time": "2023-10-09T17:48:20.419256Z"
    }
   }
  },
  {
   "cell_type": "code",
   "execution_count": 22,
   "outputs": [],
   "source": [
    "from sklearn.model_selection import train_test_split\n",
    "from sklearn.preprocessing import *\n",
    "\n",
    "res_enc = LabelEncoder()\n",
    "form_enc = LabelEncoder()\n",
    "matches_df[\"Result\"] = res_enc.fit_transform(matches_df[\"Result\"])\n",
    "form_enc.fit(matches_df[\"Home_Pre5\"])\n",
    "matches_df[\"Home_Pre5\"] = form_enc.transform(matches_df[\"Home_Pre5\"])\n",
    "for column in columns_added[1:]:\n",
    "    matches_df[column] = form_enc.transform(matches_df[column])\n",
    "X_train, X_test, y_train, y_test = train_test_split(matches_df.drop([\"Goals Home\", \"Goals Away\", \"Goals Difference\", \"Result\", \"Winner Team ID\", \"Match ID\", \"Team Home ID\", \"Team Away ID\"], axis=1), matches_df[\"Result\"], random_state=42, test_size=0.2)"
   ],
   "metadata": {
    "collapsed": false,
    "ExecuteTime": {
     "end_time": "2023-10-09T17:48:20.431841Z",
     "start_time": "2023-10-09T17:48:20.426260Z"
    }
   }
  },
  {
   "cell_type": "code",
   "execution_count": 23,
   "outputs": [
    {
     "name": "stderr",
     "output_type": "stream",
     "text": [
      "/Users/maxlautenbach/PycharmProjects/football_match_prediction/venv/lib/python3.9/site-packages/sklearn/utils/validation.py:753: FutureWarning: is_sparse is deprecated and will be removed in a future version. Check `isinstance(dtype, pd.SparseDtype)` instead.\n",
      "  if not hasattr(array, \"sparse\") and array.dtypes.apply(is_sparse).any():\n",
      "/Users/maxlautenbach/PycharmProjects/football_match_prediction/venv/lib/python3.9/site-packages/sklearn/utils/validation.py:591: FutureWarning: is_sparse is deprecated and will be removed in a future version. Check `isinstance(dtype, pd.SparseDtype)` instead.\n",
      "  if is_sparse(pd_dtype):\n",
      "/Users/maxlautenbach/PycharmProjects/football_match_prediction/venv/lib/python3.9/site-packages/sklearn/utils/validation.py:600: FutureWarning: is_sparse is deprecated and will be removed in a future version. Check `isinstance(dtype, pd.SparseDtype)` instead.\n",
      "  if is_sparse(pd_dtype) or not is_extension_array_dtype(pd_dtype):\n",
      "/Users/maxlautenbach/PycharmProjects/football_match_prediction/venv/lib/python3.9/site-packages/sklearn/utils/validation.py:753: FutureWarning: is_sparse is deprecated and will be removed in a future version. Check `isinstance(dtype, pd.SparseDtype)` instead.\n",
      "  if not hasattr(array, \"sparse\") and array.dtypes.apply(is_sparse).any():\n",
      "/Users/maxlautenbach/PycharmProjects/football_match_prediction/venv/lib/python3.9/site-packages/sklearn/utils/validation.py:591: FutureWarning: is_sparse is deprecated and will be removed in a future version. Check `isinstance(dtype, pd.SparseDtype)` instead.\n",
      "  if is_sparse(pd_dtype):\n",
      "/Users/maxlautenbach/PycharmProjects/football_match_prediction/venv/lib/python3.9/site-packages/sklearn/utils/validation.py:600: FutureWarning: is_sparse is deprecated and will be removed in a future version. Check `isinstance(dtype, pd.SparseDtype)` instead.\n",
      "  if is_sparse(pd_dtype) or not is_extension_array_dtype(pd_dtype):\n"
     ]
    },
    {
     "data": {
      "text/plain": "0.48366013071895425"
     },
     "execution_count": 23,
     "metadata": {},
     "output_type": "execute_result"
    }
   ],
   "source": [
    "from sklearn.naive_bayes import GaussianNB\n",
    "from sklearn.metrics import *\n",
    "\n",
    "clf = GaussianNB()\n",
    "clf.fit(X_train, y_train)\n",
    "y_pred = clf.predict(X_test)\n",
    "accuracy_score(y_test, y_pred)"
   ],
   "metadata": {
    "collapsed": false,
    "ExecuteTime": {
     "end_time": "2023-10-09T17:48:20.438742Z",
     "start_time": "2023-10-09T17:48:20.434891Z"
    }
   }
  },
  {
   "cell_type": "code",
   "execution_count": 24,
   "outputs": [
    {
     "name": "stderr",
     "output_type": "stream",
     "text": [
      "/Users/maxlautenbach/PycharmProjects/football_match_prediction/venv/lib/python3.9/site-packages/sklearn/utils/validation.py:753: FutureWarning: is_sparse is deprecated and will be removed in a future version. Check `isinstance(dtype, pd.SparseDtype)` instead.\n",
      "  if not hasattr(array, \"sparse\") and array.dtypes.apply(is_sparse).any():\n",
      "/Users/maxlautenbach/PycharmProjects/football_match_prediction/venv/lib/python3.9/site-packages/sklearn/utils/validation.py:591: FutureWarning: is_sparse is deprecated and will be removed in a future version. Check `isinstance(dtype, pd.SparseDtype)` instead.\n",
      "  if is_sparse(pd_dtype):\n",
      "/Users/maxlautenbach/PycharmProjects/football_match_prediction/venv/lib/python3.9/site-packages/sklearn/utils/validation.py:600: FutureWarning: is_sparse is deprecated and will be removed in a future version. Check `isinstance(dtype, pd.SparseDtype)` instead.\n",
      "  if is_sparse(pd_dtype) or not is_extension_array_dtype(pd_dtype):\n",
      "/Users/maxlautenbach/PycharmProjects/football_match_prediction/venv/lib/python3.9/site-packages/sklearn/utils/validation.py:753: FutureWarning: is_sparse is deprecated and will be removed in a future version. Check `isinstance(dtype, pd.SparseDtype)` instead.\n",
      "  if not hasattr(array, \"sparse\") and array.dtypes.apply(is_sparse).any():\n",
      "/Users/maxlautenbach/PycharmProjects/football_match_prediction/venv/lib/python3.9/site-packages/sklearn/utils/validation.py:591: FutureWarning: is_sparse is deprecated and will be removed in a future version. Check `isinstance(dtype, pd.SparseDtype)` instead.\n",
      "  if is_sparse(pd_dtype):\n",
      "/Users/maxlautenbach/PycharmProjects/football_match_prediction/venv/lib/python3.9/site-packages/sklearn/utils/validation.py:600: FutureWarning: is_sparse is deprecated and will be removed in a future version. Check `isinstance(dtype, pd.SparseDtype)` instead.\n",
      "  if is_sparse(pd_dtype) or not is_extension_array_dtype(pd_dtype):\n"
     ]
    },
    {
     "data": {
      "text/plain": "0.47549019607843135"
     },
     "execution_count": 24,
     "metadata": {},
     "output_type": "execute_result"
    }
   ],
   "source": [
    "from sklearn.ensemble import *\n",
    "\n",
    "clf = RandomForestClassifier(random_state=42)\n",
    "clf.fit(X_train, y_train)\n",
    "y_pred = clf.predict(X_test)\n",
    "accuracy_score(y_test, y_pred)"
   ],
   "metadata": {
    "collapsed": false,
    "ExecuteTime": {
     "end_time": "2023-10-09T17:48:20.738467Z",
     "start_time": "2023-10-09T17:48:20.441073Z"
    }
   }
  },
  {
   "cell_type": "code",
   "execution_count": 25,
   "outputs": [
    {
     "name": "stderr",
     "output_type": "stream",
     "text": [
      "/Users/maxlautenbach/PycharmProjects/football_match_prediction/venv/lib/python3.9/site-packages/sklearn/utils/validation.py:753: FutureWarning: is_sparse is deprecated and will be removed in a future version. Check `isinstance(dtype, pd.SparseDtype)` instead.\n",
      "  if not hasattr(array, \"sparse\") and array.dtypes.apply(is_sparse).any():\n",
      "/Users/maxlautenbach/PycharmProjects/football_match_prediction/venv/lib/python3.9/site-packages/sklearn/utils/validation.py:591: FutureWarning: is_sparse is deprecated and will be removed in a future version. Check `isinstance(dtype, pd.SparseDtype)` instead.\n",
      "  if is_sparse(pd_dtype):\n",
      "/Users/maxlautenbach/PycharmProjects/football_match_prediction/venv/lib/python3.9/site-packages/sklearn/utils/validation.py:600: FutureWarning: is_sparse is deprecated and will be removed in a future version. Check `isinstance(dtype, pd.SparseDtype)` instead.\n",
      "  if is_sparse(pd_dtype) or not is_extension_array_dtype(pd_dtype):\n",
      "/Users/maxlautenbach/PycharmProjects/football_match_prediction/venv/lib/python3.9/site-packages/sklearn/utils/validation.py:753: FutureWarning: is_sparse is deprecated and will be removed in a future version. Check `isinstance(dtype, pd.SparseDtype)` instead.\n",
      "  if not hasattr(array, \"sparse\") and array.dtypes.apply(is_sparse).any():\n",
      "/Users/maxlautenbach/PycharmProjects/football_match_prediction/venv/lib/python3.9/site-packages/sklearn/utils/validation.py:591: FutureWarning: is_sparse is deprecated and will be removed in a future version. Check `isinstance(dtype, pd.SparseDtype)` instead.\n",
      "  if is_sparse(pd_dtype):\n",
      "/Users/maxlautenbach/PycharmProjects/football_match_prediction/venv/lib/python3.9/site-packages/sklearn/utils/validation.py:600: FutureWarning: is_sparse is deprecated and will be removed in a future version. Check `isinstance(dtype, pd.SparseDtype)` instead.\n",
      "  if is_sparse(pd_dtype) or not is_extension_array_dtype(pd_dtype):\n"
     ]
    },
    {
     "data": {
      "text/plain": "0.4934640522875817"
     },
     "execution_count": 25,
     "metadata": {},
     "output_type": "execute_result"
    }
   ],
   "source": [
    "clf = GradientBoostingClassifier(random_state=42)\n",
    "clf.fit(X_train, y_train)\n",
    "y_pred = clf.predict(X_test)\n",
    "accuracy_score(y_test, y_pred)"
   ],
   "metadata": {
    "collapsed": false,
    "ExecuteTime": {
     "end_time": "2023-10-09T17:48:23.932044Z",
     "start_time": "2023-10-09T17:48:20.739786Z"
    }
   }
  },
  {
   "cell_type": "code",
   "execution_count": 26,
   "outputs": [
    {
     "name": "stderr",
     "output_type": "stream",
     "text": [
      "/Users/maxlautenbach/PycharmProjects/football_match_prediction/venv/lib/python3.9/site-packages/sklearn/utils/validation.py:753: FutureWarning: is_sparse is deprecated and will be removed in a future version. Check `isinstance(dtype, pd.SparseDtype)` instead.\n",
      "  if not hasattr(array, \"sparse\") and array.dtypes.apply(is_sparse).any():\n",
      "/Users/maxlautenbach/PycharmProjects/football_match_prediction/venv/lib/python3.9/site-packages/sklearn/utils/validation.py:591: FutureWarning: is_sparse is deprecated and will be removed in a future version. Check `isinstance(dtype, pd.SparseDtype)` instead.\n",
      "  if is_sparse(pd_dtype):\n",
      "/Users/maxlautenbach/PycharmProjects/football_match_prediction/venv/lib/python3.9/site-packages/sklearn/utils/validation.py:600: FutureWarning: is_sparse is deprecated and will be removed in a future version. Check `isinstance(dtype, pd.SparseDtype)` instead.\n",
      "  if is_sparse(pd_dtype) or not is_extension_array_dtype(pd_dtype):\n",
      "/Users/maxlautenbach/PycharmProjects/football_match_prediction/venv/lib/python3.9/site-packages/sklearn/utils/validation.py:753: FutureWarning: is_sparse is deprecated and will be removed in a future version. Check `isinstance(dtype, pd.SparseDtype)` instead.\n",
      "  if not hasattr(array, \"sparse\") and array.dtypes.apply(is_sparse).any():\n",
      "/Users/maxlautenbach/PycharmProjects/football_match_prediction/venv/lib/python3.9/site-packages/sklearn/utils/validation.py:591: FutureWarning: is_sparse is deprecated and will be removed in a future version. Check `isinstance(dtype, pd.SparseDtype)` instead.\n",
      "  if is_sparse(pd_dtype):\n",
      "/Users/maxlautenbach/PycharmProjects/football_match_prediction/venv/lib/python3.9/site-packages/sklearn/utils/validation.py:600: FutureWarning: is_sparse is deprecated and will be removed in a future version. Check `isinstance(dtype, pd.SparseDtype)` instead.\n",
      "  if is_sparse(pd_dtype) or not is_extension_array_dtype(pd_dtype):\n"
     ]
    },
    {
     "data": {
      "text/plain": "0.5081699346405228"
     },
     "execution_count": 26,
     "metadata": {},
     "output_type": "execute_result"
    }
   ],
   "source": [
    "clf = AdaBoostClassifier(random_state=42)\n",
    "clf.fit(X_train, y_train)\n",
    "y_pred = clf.predict(X_test)\n",
    "accuracy_score(y_test, y_pred)"
   ],
   "metadata": {
    "collapsed": false,
    "ExecuteTime": {
     "end_time": "2023-10-09T17:48:24.182625Z",
     "start_time": "2023-10-09T17:48:23.932934Z"
    }
   }
  },
  {
   "cell_type": "code",
   "execution_count": 27,
   "outputs": [
    {
     "name": "stderr",
     "output_type": "stream",
     "text": [
      "/Users/maxlautenbach/PycharmProjects/football_match_prediction/venv/lib/python3.9/site-packages/sklearn/utils/validation.py:753: FutureWarning: is_sparse is deprecated and will be removed in a future version. Check `isinstance(dtype, pd.SparseDtype)` instead.\n",
      "  if not hasattr(array, \"sparse\") and array.dtypes.apply(is_sparse).any():\n",
      "/Users/maxlautenbach/PycharmProjects/football_match_prediction/venv/lib/python3.9/site-packages/sklearn/utils/validation.py:591: FutureWarning: is_sparse is deprecated and will be removed in a future version. Check `isinstance(dtype, pd.SparseDtype)` instead.\n",
      "  if is_sparse(pd_dtype):\n",
      "/Users/maxlautenbach/PycharmProjects/football_match_prediction/venv/lib/python3.9/site-packages/sklearn/utils/validation.py:600: FutureWarning: is_sparse is deprecated and will be removed in a future version. Check `isinstance(dtype, pd.SparseDtype)` instead.\n",
      "  if is_sparse(pd_dtype) or not is_extension_array_dtype(pd_dtype):\n",
      "/Users/maxlautenbach/PycharmProjects/football_match_prediction/venv/lib/python3.9/site-packages/sklearn/utils/validation.py:753: FutureWarning: is_sparse is deprecated and will be removed in a future version. Check `isinstance(dtype, pd.SparseDtype)` instead.\n",
      "  if not hasattr(array, \"sparse\") and array.dtypes.apply(is_sparse).any():\n",
      "/Users/maxlautenbach/PycharmProjects/football_match_prediction/venv/lib/python3.9/site-packages/sklearn/utils/validation.py:591: FutureWarning: is_sparse is deprecated and will be removed in a future version. Check `isinstance(dtype, pd.SparseDtype)` instead.\n",
      "  if is_sparse(pd_dtype):\n",
      "/Users/maxlautenbach/PycharmProjects/football_match_prediction/venv/lib/python3.9/site-packages/sklearn/utils/validation.py:600: FutureWarning: is_sparse is deprecated and will be removed in a future version. Check `isinstance(dtype, pd.SparseDtype)` instead.\n",
      "  if is_sparse(pd_dtype) or not is_extension_array_dtype(pd_dtype):\n"
     ]
    },
    {
     "data": {
      "text/plain": "0.4444444444444444"
     },
     "execution_count": 27,
     "metadata": {},
     "output_type": "execute_result"
    }
   ],
   "source": [
    "from sklearn.neighbors import *\n",
    "\n",
    "clf = KNeighborsClassifier()\n",
    "clf.fit(X_train, y_train)\n",
    "y_pred = clf.predict(X_test)\n",
    "accuracy_score(y_test, y_pred)"
   ],
   "metadata": {
    "collapsed": false,
    "ExecuteTime": {
     "end_time": "2023-10-09T17:48:24.197307Z",
     "start_time": "2023-10-09T17:48:24.183905Z"
    }
   }
  },
  {
   "cell_type": "code",
   "execution_count": 32,
   "outputs": [
    {
     "name": "stdout",
     "output_type": "stream",
     "text": [
      "100%|██████████| 1/1 [00:00<00:00,  1.56trial/s, best loss: 0.5040816326530613]\n",
      " 50%|█████     | 1/2 [00:00<?, ?trial/s, best loss=?]"
     ]
    },
    {
     "name": "stderr",
     "output_type": "stream",
     "text": [
      "/Users/maxlautenbach/PycharmProjects/football_match_prediction/venv/lib/python3.9/site-packages/sklearn/ensemble/_gb.py:310: FutureWarning: The loss parameter name 'deviance' was deprecated in v1.1 and will be removed in version 1.3. Use the new parameter name 'log_loss' which is equivalent.\n",
      "  warnings.warn(\n"
     ]
    },
    {
     "name": "stdout",
     "output_type": "stream",
     "text": [
      "100%|██████████| 2/2 [00:01<00:00,  1.14s/trial, best loss: 0.49183673469387756]\n",
      "100%|██████████| 3/3 [00:00<00:00,  1.34trial/s, best loss: 0.49183673469387756]\n",
      "100%|██████████| 4/4 [00:00<00:00,  1.04trial/s, best loss: 0.49183673469387756]\n",
      "100%|██████████| 5/5 [00:01<00:00,  1.94s/trial, best loss: 0.49183673469387756]\n",
      "100%|██████████| 6/6 [00:01<00:00,  1.12s/trial, best loss: 0.49183673469387756]\n",
      "100%|██████████| 7/7 [00:00<00:00,  1.24trial/s, best loss: 0.48367346938775513]\n",
      "100%|██████████| 8/8 [00:15<00:00, 15.63s/trial, best loss: 0.48367346938775513]\n",
      "100%|██████████| 9/9 [00:00<00:00,  1.24trial/s, best loss: 0.4816326530612245]\n",
      "100%|██████████| 10/10 [00:00<00:00,  1.15trial/s, best loss: 0.4816326530612245]\n",
      "100%|██████████| 11/11 [00:01<00:00,  1.51s/trial, best loss: 0.4816326530612245]\n",
      "100%|██████████| 12/12 [00:00<00:00,  1.35trial/s, best loss: 0.4816326530612245]\n",
      " 92%|█████████▏| 12/13 [00:00<?, ?trial/s, best loss=?]"
     ]
    },
    {
     "name": "stderr",
     "output_type": "stream",
     "text": [
      "/Users/maxlautenbach/PycharmProjects/football_match_prediction/venv/lib/python3.9/site-packages/sklearn/ensemble/_gb.py:310: FutureWarning: The loss parameter name 'deviance' was deprecated in v1.1 and will be removed in version 1.3. Use the new parameter name 'log_loss' which is equivalent.\n",
      "  warnings.warn(\n"
     ]
    },
    {
     "name": "stdout",
     "output_type": "stream",
     "text": [
      "100%|██████████| 13/13 [00:07<00:00,  7.40s/trial, best loss: 0.4816326530612245]\n",
      "100%|██████████| 14/14 [00:00<00:00,  1.29trial/s, best loss: 0.4816326530612245]\n",
      "100%|██████████| 15/15 [00:01<00:00,  1.83s/trial, best loss: 0.4816326530612245]\n",
      "100%|██████████| 16/16 [00:00<00:00,  1.10trial/s, best loss: 0.4816326530612245]\n",
      "100%|██████████| 17/17 [00:00<00:00,  1.35trial/s, best loss: 0.4816326530612245]\n",
      " 94%|█████████▍| 17/18 [00:00<?, ?trial/s, best loss=?]"
     ]
    },
    {
     "name": "stderr",
     "output_type": "stream",
     "text": [
      "/Users/maxlautenbach/PycharmProjects/football_match_prediction/venv/lib/python3.9/site-packages/sklearn/ensemble/_gb.py:310: FutureWarning: The loss parameter name 'deviance' was deprecated in v1.1 and will be removed in version 1.3. Use the new parameter name 'log_loss' which is equivalent.\n",
      "  warnings.warn(\n",
      "/Users/maxlautenbach/PycharmProjects/football_match_prediction/venv/lib/python3.9/site-packages/sklearn/ensemble/_gb.py:310: FutureWarning: The loss parameter name 'deviance' was deprecated in v1.1 and will be removed in version 1.3. Use the new parameter name 'log_loss' which is equivalent.\n",
      "  warnings.warn(\n"
     ]
    },
    {
     "name": "stdout",
     "output_type": "stream",
     "text": [
      "100%|██████████| 18/18 [00:04<00:00,  4.21s/trial, best loss: 0.4816326530612245]\n",
      "100%|██████████| 19/19 [00:00<00:00,  1.15trial/s, best loss: 0.4816326530612245]\n",
      " 95%|█████████▌| 19/20 [00:00<?, ?trial/s, best loss=?]"
     ]
    },
    {
     "name": "stderr",
     "output_type": "stream",
     "text": [
      "/Users/maxlautenbach/PycharmProjects/football_match_prediction/venv/lib/python3.9/site-packages/sklearn/ensemble/_gb.py:310: FutureWarning: The loss parameter name 'deviance' was deprecated in v1.1 and will be removed in version 1.3. Use the new parameter name 'log_loss' which is equivalent.\n",
      "  warnings.warn(\n",
      "/Users/maxlautenbach/PycharmProjects/football_match_prediction/venv/lib/python3.9/site-packages/sklearn/ensemble/_gb.py:310: FutureWarning: The loss parameter name 'deviance' was deprecated in v1.1 and will be removed in version 1.3. Use the new parameter name 'log_loss' which is equivalent.\n",
      "  warnings.warn(\n"
     ]
    },
    {
     "name": "stdout",
     "output_type": "stream",
     "text": [
      "100%|██████████| 20/20 [00:01<00:00,  1.38s/trial, best loss: 0.4816326530612245]\n",
      "100%|██████████| 21/21 [00:00<00:00,  1.36trial/s, best loss: 0.4816326530612245]\n",
      "100%|██████████| 22/22 [00:00<00:00,  1.27trial/s, best loss: 0.4816326530612245]\n",
      "100%|██████████| 23/23 [00:00<00:00,  1.48trial/s, best loss: 0.4816326530612245]\n",
      "100%|██████████| 24/24 [00:00<00:00,  1.31trial/s, best loss: 0.4816326530612245]\n",
      "100%|██████████| 25/25 [00:00<00:00,  1.27trial/s, best loss: 0.4816326530612245]\n",
      "100%|██████████| 26/26 [00:00<00:00,  1.45trial/s, best loss: 0.4816326530612245]\n",
      "100%|██████████| 27/27 [00:00<00:00,  1.38trial/s, best loss: 0.4816326530612245]\n",
      "100%|██████████| 28/28 [00:00<00:00,  1.27trial/s, best loss: 0.4816326530612245]\n",
      "100%|██████████| 29/29 [00:00<00:00,  1.56trial/s, best loss: 0.4816326530612245]\n",
      "100%|██████████| 30/30 [00:00<00:00,  1.12trial/s, best loss: 0.4816326530612245]\n",
      "100%|██████████| 31/31 [00:00<00:00,  1.30trial/s, best loss: 0.4816326530612245]\n",
      "100%|██████████| 32/32 [00:00<00:00,  1.42trial/s, best loss: 0.4816326530612245]\n",
      "100%|██████████| 33/33 [00:01<00:00,  1.52s/trial, best loss: 0.4816326530612245]\n",
      "100%|██████████| 34/34 [00:03<00:00,  3.52s/trial, best loss: 0.4816326530612245]\n",
      "100%|██████████| 35/35 [00:04<00:00,  4.79s/trial, best loss: 0.47959183673469385]\n",
      "100%|██████████| 36/36 [00:04<00:00,  4.39s/trial, best loss: 0.47959183673469385]\n",
      "100%|██████████| 37/37 [00:05<00:00,  5.38s/trial, best loss: 0.4775510204081632]\n",
      "100%|██████████| 38/38 [00:04<00:00,  4.30s/trial, best loss: 0.4775510204081632]\n",
      "100%|██████████| 39/39 [00:01<00:00,  1.38s/trial, best loss: 0.4775510204081632]\n",
      "100%|██████████| 40/40 [00:04<00:00,  4.29s/trial, best loss: 0.4775510204081632]\n",
      "100%|██████████| 41/41 [00:01<00:00,  1.60s/trial, best loss: 0.4755102040816327]\n",
      "100%|██████████| 42/42 [00:01<00:00,  1.37s/trial, best loss: 0.4755102040816327]\n",
      "100%|██████████| 43/43 [00:01<00:00,  1.67s/trial, best loss: 0.4755102040816327]\n",
      "100%|██████████| 44/44 [00:00<00:00,  1.45trial/s, best loss: 0.4755102040816327]\n",
      "100%|██████████| 45/45 [00:02<00:00,  3.00s/trial, best loss: 0.4755102040816327]\n",
      "100%|██████████| 46/46 [00:01<00:00,  1.00s/trial, best loss: 0.4755102040816327]\n",
      "100%|██████████| 47/47 [00:01<00:00,  1.74s/trial, best loss: 0.4755102040816327]\n",
      "100%|██████████| 48/48 [00:02<00:00,  2.72s/trial, best loss: 0.4755102040816327]\n",
      "100%|██████████| 49/49 [00:00<00:00,  1.46trial/s, best loss: 0.4755102040816327]\n",
      "100%|██████████| 50/50 [00:02<00:00,  2.82s/trial, best loss: 0.4755102040816327]\n",
      "100%|██████████| 51/51 [00:01<00:00,  1.80s/trial, best loss: 0.4755102040816327]\n",
      "100%|██████████| 52/52 [00:00<00:00,  1.14trial/s, best loss: 0.4755102040816327]\n",
      "100%|██████████| 53/53 [00:00<00:00,  1.17trial/s, best loss: 0.4755102040816327]\n",
      " 98%|█████████▊| 53/54 [00:00<?, ?trial/s, best loss=?]"
     ]
    },
    {
     "name": "stderr",
     "output_type": "stream",
     "text": [
      "/Users/maxlautenbach/PycharmProjects/football_match_prediction/venv/lib/python3.9/site-packages/sklearn/ensemble/_gb.py:310: FutureWarning: The loss parameter name 'deviance' was deprecated in v1.1 and will be removed in version 1.3. Use the new parameter name 'log_loss' which is equivalent.\n",
      "  warnings.warn(\n"
     ]
    },
    {
     "name": "stdout",
     "output_type": "stream",
     "text": [
      "100%|██████████| 54/54 [00:01<00:00,  1.83s/trial, best loss: 0.4755102040816327]\n",
      "100%|██████████| 55/55 [00:03<00:00,  3.47s/trial, best loss: 0.4755102040816327]\n",
      "100%|██████████| 56/56 [00:00<00:00,  1.42trial/s, best loss: 0.4755102040816327]\n",
      "100%|██████████| 57/57 [00:01<00:00,  1.00s/trial, best loss: 0.4755102040816327]\n",
      "100%|██████████| 58/58 [00:00<00:00,  1.43trial/s, best loss: 0.4755102040816327]\n",
      "100%|██████████| 59/59 [00:00<00:00,  1.18trial/s, best loss: 0.4755102040816327]\n",
      " 98%|█████████▊| 59/60 [00:00<?, ?trial/s, best loss=?]"
     ]
    },
    {
     "name": "stderr",
     "output_type": "stream",
     "text": [
      "/Users/maxlautenbach/PycharmProjects/football_match_prediction/venv/lib/python3.9/site-packages/sklearn/ensemble/_gb.py:310: FutureWarning: The loss parameter name 'deviance' was deprecated in v1.1 and will be removed in version 1.3. Use the new parameter name 'log_loss' which is equivalent.\n",
      "  warnings.warn(\n"
     ]
    },
    {
     "name": "stdout",
     "output_type": "stream",
     "text": [
      "100%|██████████| 60/60 [00:01<00:00,  1.31s/trial, best loss: 0.4755102040816327]\n",
      "100%|██████████| 61/61 [00:01<00:00,  1.29s/trial, best loss: 0.47346938775510206]\n",
      "100%|██████████| 62/62 [00:01<00:00,  1.65s/trial, best loss: 0.47346938775510206]\n",
      "100%|██████████| 63/63 [00:00<00:00,  1.30trial/s, best loss: 0.47346938775510206]\n",
      "100%|██████████| 64/64 [00:00<00:00,  1.16trial/s, best loss: 0.47346938775510206]\n",
      "100%|██████████| 65/65 [00:00<00:00,  1.34trial/s, best loss: 0.47346938775510206]\n",
      "100%|██████████| 66/66 [00:00<00:00,  1.30trial/s, best loss: 0.47346938775510206]\n",
      "100%|██████████| 67/67 [00:00<00:00,  1.11trial/s, best loss: 0.47346938775510206]\n",
      "100%|██████████| 68/68 [00:00<00:00,  1.09trial/s, best loss: 0.47346938775510206]\n",
      "100%|██████████| 69/69 [00:00<00:00,  1.18trial/s, best loss: 0.47346938775510206]\n",
      "100%|██████████| 70/70 [00:01<00:00,  1.16s/trial, best loss: 0.47346938775510206]\n",
      "100%|██████████| 71/71 [00:00<00:00,  1.44trial/s, best loss: 0.47346938775510206]\n",
      "100%|██████████| 72/72 [00:01<00:00,  1.25s/trial, best loss: 0.47346938775510206]\n",
      " 99%|█████████▊| 72/73 [00:00<?, ?trial/s, best loss=?]"
     ]
    },
    {
     "name": "stderr",
     "output_type": "stream",
     "text": [
      "/Users/maxlautenbach/PycharmProjects/football_match_prediction/venv/lib/python3.9/site-packages/sklearn/ensemble/_gb.py:310: FutureWarning: The loss parameter name 'deviance' was deprecated in v1.1 and will be removed in version 1.3. Use the new parameter name 'log_loss' which is equivalent.\n",
      "  warnings.warn(\n"
     ]
    },
    {
     "name": "stdout",
     "output_type": "stream",
     "text": [
      "100%|██████████| 73/73 [00:02<00:00,  2.93s/trial, best loss: 0.47346938775510206]\n",
      "100%|██████████| 74/74 [00:01<00:00,  1.67s/trial, best loss: 0.47346938775510206]\n",
      "100%|██████████| 75/75 [00:01<00:00,  1.59s/trial, best loss: 0.47346938775510206]\n",
      "100%|██████████| 76/76 [00:00<00:00,  1.31trial/s, best loss: 0.47346938775510206]\n",
      "100%|██████████| 77/77 [00:00<00:00,  1.10trial/s, best loss: 0.47346938775510206]\n",
      "100%|██████████| 78/78 [00:00<00:00,  1.31trial/s, best loss: 0.47346938775510206]\n",
      "100%|██████████| 79/79 [00:00<00:00,  1.16trial/s, best loss: 0.47346938775510206]\n",
      "100%|██████████| 80/80 [00:00<00:00,  1.31trial/s, best loss: 0.47346938775510206]\n",
      "100%|██████████| 81/81 [00:01<00:00,  1.06s/trial, best loss: 0.47346938775510206]\n",
      "100%|██████████| 82/82 [00:00<00:00,  1.24trial/s, best loss: 0.47346938775510206]\n",
      " 99%|█████████▉| 82/83 [00:00<?, ?trial/s, best loss=?]"
     ]
    },
    {
     "name": "stderr",
     "output_type": "stream",
     "text": [
      "/Users/maxlautenbach/PycharmProjects/football_match_prediction/venv/lib/python3.9/site-packages/sklearn/ensemble/_gb.py:310: FutureWarning: The loss parameter name 'deviance' was deprecated in v1.1 and will be removed in version 1.3. Use the new parameter name 'log_loss' which is equivalent.\n",
      "  warnings.warn(\n"
     ]
    },
    {
     "name": "stdout",
     "output_type": "stream",
     "text": [
      "100%|██████████| 83/83 [00:00<00:00,  1.42trial/s, best loss: 0.47346938775510206]\n",
      "100%|██████████| 84/84 [00:01<00:00,  1.08s/trial, best loss: 0.47346938775510206]\n",
      "100%|██████████| 85/85 [00:00<00:00,  1.23trial/s, best loss: 0.47346938775510206]\n",
      "100%|██████████| 86/86 [00:03<00:00,  3.24s/trial, best loss: 0.47346938775510206]\n",
      "100%|██████████| 87/87 [00:00<00:00,  1.32trial/s, best loss: 0.47346938775510206]\n",
      " 99%|█████████▉| 87/88 [00:00<?, ?trial/s, best loss=?]"
     ]
    },
    {
     "name": "stderr",
     "output_type": "stream",
     "text": [
      "/Users/maxlautenbach/PycharmProjects/football_match_prediction/venv/lib/python3.9/site-packages/sklearn/linear_model/_stochastic_gradient.py:173: FutureWarning: The loss 'log' was deprecated in v1.1 and will be removed in version 1.3. Use `loss='log_loss'` which is equivalent.\n",
      "  warnings.warn(\n"
     ]
    },
    {
     "name": "stdout",
     "output_type": "stream",
     "text": [
      "100%|██████████| 88/88 [00:05<00:00,  5.79s/trial, best loss: 0.47346938775510206]\n",
      "100%|██████████| 89/89 [00:00<00:00,  1.18trial/s, best loss: 0.47346938775510206]\n",
      "100%|██████████| 90/90 [00:00<00:00,  1.05trial/s, best loss: 0.47346938775510206]\n",
      "100%|██████████| 91/91 [00:00<00:00,  1.50trial/s, best loss: 0.47346938775510206]\n",
      "100%|██████████| 92/92 [00:00<00:00,  1.03trial/s, best loss: 0.47346938775510206]\n",
      "100%|██████████| 93/93 [00:00<00:00,  1.40trial/s, best loss: 0.47346938775510206]\n",
      " 99%|█████████▉| 93/94 [00:00<?, ?trial/s, best loss=?]"
     ]
    },
    {
     "name": "stderr",
     "output_type": "stream",
     "text": [
      "/Users/maxlautenbach/PycharmProjects/football_match_prediction/venv/lib/python3.9/site-packages/sklearn/ensemble/_gb.py:310: FutureWarning: The loss parameter name 'deviance' was deprecated in v1.1 and will be removed in version 1.3. Use the new parameter name 'log_loss' which is equivalent.\n",
      "  warnings.warn(\n"
     ]
    },
    {
     "name": "stdout",
     "output_type": "stream",
     "text": [
      "100%|██████████| 94/94 [00:04<00:00,  4.36s/trial, best loss: 0.47346938775510206]\n",
      "100%|██████████| 95/95 [00:01<00:00,  1.31s/trial, best loss: 0.47346938775510206]\n",
      "100%|██████████| 96/96 [00:02<00:00,  2.66s/trial, best loss: 0.47346938775510206]\n",
      "100%|██████████| 97/97 [00:00<00:00,  1.25trial/s, best loss: 0.47346938775510206]\n",
      "100%|██████████| 98/98 [00:01<00:00,  1.33s/trial, best loss: 0.47346938775510206]\n",
      "100%|██████████| 99/99 [00:00<00:00,  1.16trial/s, best loss: 0.47346938775510206]\n",
      "100%|██████████| 100/100 [00:00<00:00,  1.34trial/s, best loss: 0.47346938775510206]\n",
      "100%|██████████| 101/101 [00:01<00:00,  1.11s/trial, best loss: 0.47346938775510206]\n",
      "100%|██████████| 102/102 [00:00<00:00,  1.63trial/s, best loss: 0.47346938775510206]\n",
      "100%|██████████| 103/103 [00:01<00:00,  1.09s/trial, best loss: 0.47346938775510206]\n",
      " 99%|█████████▉| 103/104 [00:00<?, ?trial/s, best loss=?]"
     ]
    },
    {
     "name": "stderr",
     "output_type": "stream",
     "text": [
      "/Users/maxlautenbach/PycharmProjects/football_match_prediction/venv/lib/python3.9/site-packages/sklearn/ensemble/_gb.py:310: FutureWarning: The loss parameter name 'deviance' was deprecated in v1.1 and will be removed in version 1.3. Use the new parameter name 'log_loss' which is equivalent.\n",
      "  warnings.warn(\n"
     ]
    },
    {
     "name": "stdout",
     "output_type": "stream",
     "text": [
      "100%|██████████| 104/104 [00:00<00:00,  1.16trial/s, best loss: 0.47346938775510206]\n",
      "100%|██████████| 105/105 [00:00<00:00,  1.30trial/s, best loss: 0.47346938775510206]\n",
      "100%|██████████| 106/106 [00:01<00:00,  1.78s/trial, best loss: 0.47346938775510206]\n",
      "100%|██████████| 107/107 [00:01<00:00,  1.16s/trial, best loss: 0.47346938775510206]\n",
      "100%|██████████| 108/108 [00:00<00:00,  1.38trial/s, best loss: 0.47346938775510206]\n",
      "100%|██████████| 109/109 [00:15<00:00, 15.64s/trial, best loss: 0.47346938775510206]\n",
      "100%|██████████| 110/110 [00:01<00:00,  1.71s/trial, best loss: 0.47346938775510206]\n",
      "100%|██████████| 111/111 [00:00<00:00,  1.46trial/s, best loss: 0.47346938775510206]\n",
      "100%|██████████| 112/112 [00:00<00:00,  1.33trial/s, best loss: 0.47346938775510206]\n",
      "100%|██████████| 113/113 [00:00<00:00,  1.41trial/s, best loss: 0.47346938775510206]\n",
      " 99%|█████████▉| 113/114 [00:00<?, ?trial/s, best loss=?]"
     ]
    },
    {
     "name": "stderr",
     "output_type": "stream",
     "text": [
      "/Users/maxlautenbach/PycharmProjects/football_match_prediction/venv/lib/python3.9/site-packages/sklearn/ensemble/_gb.py:310: FutureWarning: The loss parameter name 'deviance' was deprecated in v1.1 and will be removed in version 1.3. Use the new parameter name 'log_loss' which is equivalent.\n",
      "  warnings.warn(\n"
     ]
    },
    {
     "name": "stdout",
     "output_type": "stream",
     "text": [
      "100%|██████████| 114/114 [00:02<00:00,  2.78s/trial, best loss: 0.47346938775510206]\n",
      "100%|██████████| 115/115 [00:00<00:00,  1.03trial/s, best loss: 0.47346938775510206]\n",
      "100%|██████████| 116/116 [00:00<00:00,  1.13trial/s, best loss: 0.47346938775510206]\n",
      "100%|██████████| 117/117 [00:02<00:00,  2.64s/trial, best loss: 0.47346938775510206]\n",
      "100%|██████████| 118/118 [00:00<00:00,  1.26trial/s, best loss: 0.47346938775510206]\n",
      " 99%|█████████▉| 118/119 [00:00<?, ?trial/s, best loss=?]"
     ]
    },
    {
     "name": "stderr",
     "output_type": "stream",
     "text": [
      "/Users/maxlautenbach/PycharmProjects/football_match_prediction/venv/lib/python3.9/site-packages/sklearn/linear_model/_stochastic_gradient.py:173: FutureWarning: The loss 'log' was deprecated in v1.1 and will be removed in version 1.3. Use `loss='log_loss'` which is equivalent.\n",
      "  warnings.warn(\n"
     ]
    },
    {
     "name": "stdout",
     "output_type": "stream",
     "text": [
      "100%|██████████| 119/119 [00:00<00:00,  1.13trial/s, best loss: 0.47346938775510206]\n",
      "100%|██████████| 120/120 [00:01<00:00,  1.07s/trial, best loss: 0.47346938775510206]\n",
      "100%|██████████| 121/121 [00:00<00:00,  1.36trial/s, best loss: 0.47346938775510206]\n",
      "100%|██████████| 122/122 [00:04<00:00,  4.48s/trial, best loss: 0.47346938775510206]\n",
      "100%|██████████| 123/123 [00:00<00:00,  1.41trial/s, best loss: 0.47346938775510206]\n",
      " 99%|█████████▉| 123/124 [00:00<?, ?trial/s, best loss=?]"
     ]
    },
    {
     "name": "stderr",
     "output_type": "stream",
     "text": [
      "/Users/maxlautenbach/PycharmProjects/football_match_prediction/venv/lib/python3.9/site-packages/sklearn/ensemble/_gb.py:310: FutureWarning: The loss parameter name 'deviance' was deprecated in v1.1 and will be removed in version 1.3. Use the new parameter name 'log_loss' which is equivalent.\n",
      "  warnings.warn(\n"
     ]
    },
    {
     "name": "stdout",
     "output_type": "stream",
     "text": [
      "100%|██████████| 124/124 [00:05<00:00,  5.96s/trial, best loss: 0.47346938775510206]\n",
      "100%|██████████| 125/125 [00:00<00:00,  1.04trial/s, best loss: 0.47346938775510206]\n",
      "100%|██████████| 126/126 [00:00<00:00,  1.19trial/s, best loss: 0.47346938775510206]\n",
      "100%|██████████| 127/127 [00:01<00:00,  1.01s/trial, best loss: 0.47346938775510206]\n",
      "100%|██████████| 128/128 [00:00<00:00,  1.40trial/s, best loss: 0.47346938775510206]\n",
      " 99%|█████████▉| 128/129 [00:00<?, ?trial/s, best loss=?]"
     ]
    },
    {
     "name": "stderr",
     "output_type": "stream",
     "text": [
      "/Users/maxlautenbach/PycharmProjects/football_match_prediction/venv/lib/python3.9/site-packages/sklearn/linear_model/_stochastic_gradient.py:173: FutureWarning: The loss 'log' was deprecated in v1.1 and will be removed in version 1.3. Use `loss='log_loss'` which is equivalent.\n",
      "  warnings.warn(\n"
     ]
    },
    {
     "name": "stdout",
     "output_type": "stream",
     "text": [
      "100%|██████████| 129/129 [00:01<00:00,  1.23s/trial, best loss: 0.47346938775510206]\n",
      "100%|██████████| 130/130 [00:00<00:00,  1.22trial/s, best loss: 0.47346938775510206]\n",
      "100%|██████████| 131/131 [00:00<00:00,  1.14trial/s, best loss: 0.47346938775510206]\n",
      "100%|██████████| 132/132 [00:00<00:00,  1.12trial/s, best loss: 0.47346938775510206]\n",
      "100%|██████████| 133/133 [00:00<00:00,  1.42trial/s, best loss: 0.47346938775510206]\n",
      "100%|██████████| 134/134 [00:00<00:00,  1.06trial/s, best loss: 0.47346938775510206]\n",
      " 99%|█████████▉| 134/135 [00:00<?, ?trial/s, best loss=?]"
     ]
    },
    {
     "name": "stderr",
     "output_type": "stream",
     "text": [
      "/Users/maxlautenbach/PycharmProjects/football_match_prediction/venv/lib/python3.9/site-packages/sklearn/ensemble/_gb.py:310: FutureWarning: The loss parameter name 'deviance' was deprecated in v1.1 and will be removed in version 1.3. Use the new parameter name 'log_loss' which is equivalent.\n",
      "  warnings.warn(\n"
     ]
    },
    {
     "name": "stdout",
     "output_type": "stream",
     "text": [
      "100%|██████████| 135/135 [00:01<00:00,  1.71s/trial, best loss: 0.47346938775510206]\n",
      "100%|██████████| 136/136 [00:02<00:00,  2.28s/trial, best loss: 0.47346938775510206]\n",
      "100%|██████████| 137/137 [00:00<00:00,  1.16trial/s, best loss: 0.47346938775510206]\n",
      "100%|██████████| 138/138 [00:00<00:00,  1.23trial/s, best loss: 0.47346938775510206]\n",
      "100%|██████████| 139/139 [00:01<00:00,  1.76s/trial, best loss: 0.47346938775510206]\n",
      "100%|██████████| 140/140 [00:00<00:00,  1.10trial/s, best loss: 0.47346938775510206]\n",
      "100%|██████████| 141/141 [00:05<00:00,  5.59s/trial, best loss: 0.47346938775510206]\n",
      "100%|██████████| 142/142 [00:01<00:00,  1.07s/trial, best loss: 0.47346938775510206]\n",
      "100%|██████████| 143/143 [00:00<00:00,  1.39trial/s, best loss: 0.47346938775510206]\n",
      "100%|██████████| 144/144 [00:00<00:00,  1.40trial/s, best loss: 0.47346938775510206]\n",
      " 99%|█████████▉| 144/145 [00:00<?, ?trial/s, best loss=?]"
     ]
    },
    {
     "name": "stderr",
     "output_type": "stream",
     "text": [
      "/Users/maxlautenbach/PycharmProjects/football_match_prediction/venv/lib/python3.9/site-packages/sklearn/ensemble/_gb.py:310: FutureWarning: The loss parameter name 'deviance' was deprecated in v1.1 and will be removed in version 1.3. Use the new parameter name 'log_loss' which is equivalent.\n",
      "  warnings.warn(\n"
     ]
    },
    {
     "name": "stdout",
     "output_type": "stream",
     "text": [
      "100%|██████████| 145/145 [00:03<00:00,  3.98s/trial, best loss: 0.47346938775510206]\n",
      "100%|██████████| 146/146 [00:01<00:00,  1.65s/trial, best loss: 0.47346938775510206]\n",
      "100%|██████████| 147/147 [00:01<00:00,  1.39s/trial, best loss: 0.47346938775510206]\n",
      "100%|██████████| 148/148 [00:01<00:00,  1.43s/trial, best loss: 0.47346938775510206]\n",
      "100%|██████████| 149/149 [00:01<00:00,  1.43s/trial, best loss: 0.47346938775510206]\n",
      "100%|██████████| 150/150 [00:01<00:00,  1.30s/trial, best loss: 0.47346938775510206]\n",
      "100%|██████████| 151/151 [00:01<00:00,  1.31s/trial, best loss: 0.47346938775510206]\n",
      "100%|██████████| 152/152 [00:01<00:00,  1.14s/trial, best loss: 0.47346938775510206]\n",
      "100%|██████████| 153/153 [00:01<00:00,  1.56s/trial, best loss: 0.4714285714285714]\n",
      "100%|██████████| 154/154 [00:02<00:00,  2.88s/trial, best loss: 0.4714285714285714]\n",
      "100%|██████████| 155/155 [00:04<00:00,  4.06s/trial, best loss: 0.4714285714285714]\n",
      "100%|██████████| 156/156 [00:00<00:00,  1.08trial/s, best loss: 0.4714285714285714]\n",
      "100%|██████████| 157/157 [00:01<00:00,  1.89s/trial, best loss: 0.4714285714285714]\n",
      "100%|██████████| 158/158 [00:01<00:00,  1.55s/trial, best loss: 0.4714285714285714]\n",
      "100%|██████████| 159/159 [00:01<00:00,  1.36s/trial, best loss: 0.4714285714285714]\n",
      " 99%|█████████▉| 159/160 [00:00<?, ?trial/s, best loss=?]"
     ]
    },
    {
     "name": "stderr",
     "output_type": "stream",
     "text": [
      "/Users/maxlautenbach/PycharmProjects/football_match_prediction/venv/lib/python3.9/site-packages/sklearn/linear_model/_stochastic_gradient.py:173: FutureWarning: The loss 'log' was deprecated in v1.1 and will be removed in version 1.3. Use `loss='log_loss'` which is equivalent.\n",
      "  warnings.warn(\n"
     ]
    },
    {
     "name": "stdout",
     "output_type": "stream",
     "text": [
      "100%|██████████| 160/160 [00:01<00:00,  1.41s/trial, best loss: 0.4714285714285714]\n",
      "100%|██████████| 161/161 [00:15<00:00, 15.68s/trial, best loss: 0.4714285714285714]\n",
      "100%|██████████| 162/162 [00:00<00:00,  1.54trial/s, best loss: 0.4714285714285714]\n",
      "100%|██████████| 163/163 [00:01<00:00,  1.44s/trial, best loss: 0.4714285714285714]\n",
      "100%|██████████| 164/164 [00:00<00:00,  1.34trial/s, best loss: 0.4714285714285714]\n",
      "100%|██████████| 165/165 [00:01<00:00,  1.03s/trial, best loss: 0.4714285714285714]\n",
      "100%|██████████| 166/166 [00:00<00:00,  1.20trial/s, best loss: 0.4714285714285714]\n",
      " 99%|█████████▉| 166/167 [00:00<?, ?trial/s, best loss=?]"
     ]
    },
    {
     "name": "stderr",
     "output_type": "stream",
     "text": [
      "/Users/maxlautenbach/PycharmProjects/football_match_prediction/venv/lib/python3.9/site-packages/sklearn/ensemble/_gb.py:310: FutureWarning: The loss parameter name 'deviance' was deprecated in v1.1 and will be removed in version 1.3. Use the new parameter name 'log_loss' which is equivalent.\n",
      "  warnings.warn(\n"
     ]
    },
    {
     "name": "stdout",
     "output_type": "stream",
     "text": [
      "100%|██████████| 167/167 [00:01<00:00,  1.29s/trial, best loss: 0.4714285714285714]\n",
      "100%|██████████| 168/168 [00:02<00:00,  2.78s/trial, best loss: 0.4714285714285714]\n",
      "100%|██████████| 169/169 [00:02<00:00,  2.89s/trial, best loss: 0.4714285714285714]\n",
      "100%|██████████| 170/170 [00:00<00:00,  1.19trial/s, best loss: 0.4714285714285714]\n",
      "100%|██████████| 171/171 [00:15<00:00, 15.68s/trial, best loss: 0.4714285714285714]\n",
      "100%|██████████| 172/172 [00:01<00:00,  1.24s/trial, best loss: 0.4714285714285714]\n",
      "100%|██████████| 173/173 [00:00<00:00,  1.39trial/s, best loss: 0.4714285714285714]\n",
      "100%|██████████| 174/174 [00:02<00:00,  2.71s/trial, best loss: 0.4714285714285714]\n",
      "100%|██████████| 175/175 [00:00<00:00,  1.30trial/s, best loss: 0.4714285714285714]\n",
      " 99%|█████████▉| 175/176 [00:00<?, ?trial/s, best loss=?]"
     ]
    },
    {
     "name": "stderr",
     "output_type": "stream",
     "text": [
      "/Users/maxlautenbach/PycharmProjects/football_match_prediction/venv/lib/python3.9/site-packages/sklearn/ensemble/_gb.py:310: FutureWarning: The loss parameter name 'deviance' was deprecated in v1.1 and will be removed in version 1.3. Use the new parameter name 'log_loss' which is equivalent.\n",
      "  warnings.warn(\n"
     ]
    },
    {
     "name": "stdout",
     "output_type": "stream",
     "text": [
      "100%|██████████| 176/176 [00:00<00:00,  1.04trial/s, best loss: 0.4714285714285714]\n",
      "100%|██████████| 177/177 [00:01<00:00,  1.01s/trial, best loss: 0.4714285714285714]\n",
      "100%|██████████| 178/178 [00:02<00:00,  2.86s/trial, best loss: 0.4714285714285714]\n",
      "100%|██████████| 179/179 [00:02<00:00,  2.06s/trial, best loss: 0.4714285714285714]\n",
      "100%|██████████| 180/180 [00:00<00:00,  1.01trial/s, best loss: 0.4714285714285714]\n",
      "100%|██████████| 181/181 [00:00<00:00,  1.28trial/s, best loss: 0.4714285714285714]\n",
      " 99%|█████████▉| 181/182 [00:00<?, ?trial/s, best loss=?]"
     ]
    },
    {
     "name": "stderr",
     "output_type": "stream",
     "text": [
      "/Users/maxlautenbach/PycharmProjects/football_match_prediction/venv/lib/python3.9/site-packages/sklearn/linear_model/_stochastic_gradient.py:173: FutureWarning: The loss 'log' was deprecated in v1.1 and will be removed in version 1.3. Use `loss='log_loss'` which is equivalent.\n",
      "  warnings.warn(\n"
     ]
    },
    {
     "name": "stdout",
     "output_type": "stream",
     "text": [
      "100%|██████████| 182/182 [00:00<00:00,  1.19trial/s, best loss: 0.4714285714285714]\n",
      "100%|██████████| 183/183 [00:02<00:00,  2.71s/trial, best loss: 0.4714285714285714]\n",
      "100%|██████████| 184/184 [00:00<00:00,  1.33trial/s, best loss: 0.4714285714285714]\n",
      "100%|██████████| 185/185 [00:02<00:00,  2.51s/trial, best loss: 0.4714285714285714]\n",
      "100%|██████████| 186/186 [00:00<00:00,  1.30trial/s, best loss: 0.4714285714285714]\n",
      " 99%|█████████▉| 186/187 [00:00<?, ?trial/s, best loss=?]"
     ]
    },
    {
     "name": "stderr",
     "output_type": "stream",
     "text": [
      "/Users/maxlautenbach/PycharmProjects/football_match_prediction/venv/lib/python3.9/site-packages/sklearn/ensemble/_gb.py:310: FutureWarning: The loss parameter name 'deviance' was deprecated in v1.1 and will be removed in version 1.3. Use the new parameter name 'log_loss' which is equivalent.\n",
      "  warnings.warn(\n"
     ]
    },
    {
     "name": "stdout",
     "output_type": "stream",
     "text": [
      "100%|██████████| 187/187 [00:01<00:00,  1.51s/trial, best loss: 0.4714285714285714]\n",
      "100%|██████████| 188/188 [00:00<00:00,  1.14trial/s, best loss: 0.4714285714285714]\n",
      "100%|██████████| 189/189 [00:00<00:00,  1.18trial/s, best loss: 0.4714285714285714]\n",
      "100%|██████████| 190/190 [00:01<00:00,  1.58s/trial, best loss: 0.4714285714285714]\n",
      "100%|██████████| 191/191 [00:00<00:00,  1.02trial/s, best loss: 0.46734693877551026]\n",
      "100%|██████████| 192/192 [00:01<00:00,  1.06s/trial, best loss: 0.46734693877551026]\n",
      "100%|██████████| 193/193 [00:01<00:00,  1.03s/trial, best loss: 0.46734693877551026]\n",
      "100%|██████████| 194/194 [00:01<00:00,  1.03s/trial, best loss: 0.46734693877551026]\n",
      "100%|██████████| 195/195 [00:00<00:00,  1.05trial/s, best loss: 0.46734693877551026]\n",
      "100%|██████████| 196/196 [00:00<00:00,  1.03trial/s, best loss: 0.46734693877551026]\n",
      "100%|██████████| 197/197 [00:00<00:00,  1.04trial/s, best loss: 0.46734693877551026]\n",
      "100%|██████████| 198/198 [00:01<00:00,  1.03s/trial, best loss: 0.46734693877551026]\n",
      "100%|██████████| 199/199 [00:01<00:00,  1.72s/trial, best loss: 0.46734693877551026]\n",
      "100%|█████████▉| 199/200 [00:00<?, ?trial/s, best loss=?]"
     ]
    },
    {
     "name": "stderr",
     "output_type": "stream",
     "text": [
      "/Users/maxlautenbach/PycharmProjects/football_match_prediction/venv/lib/python3.9/site-packages/sklearn/linear_model/_stochastic_gradient.py:173: FutureWarning: The loss 'log' was deprecated in v1.1 and will be removed in version 1.3. Use `loss='log_loss'` which is equivalent.\n",
      "  warnings.warn(\n"
     ]
    },
    {
     "name": "stdout",
     "output_type": "stream",
     "text": [
      "100%|██████████| 200/200 [00:00<00:00,  1.02trial/s, best loss: 0.46734693877551026]\n",
      "100%|██████████| 201/201 [00:01<00:00,  1.05s/trial, best loss: 0.46734693877551026]\n",
      "100%|██████████| 202/202 [00:01<00:00,  1.74s/trial, best loss: 0.46734693877551026]\n",
      "100%|██████████| 203/203 [00:01<00:00,  1.07s/trial, best loss: 0.46734693877551026]\n",
      "100%|██████████| 204/204 [00:00<00:00,  1.01trial/s, best loss: 0.46734693877551026]\n",
      "100%|██████████| 205/205 [00:01<00:00,  1.01s/trial, best loss: 0.46734693877551026]\n",
      "100%|█████████▉| 205/206 [00:00<?, ?trial/s, best loss=?]"
     ]
    },
    {
     "name": "stderr",
     "output_type": "stream",
     "text": [
      "/Users/maxlautenbach/PycharmProjects/football_match_prediction/venv/lib/python3.9/site-packages/sklearn/ensemble/_gb.py:310: FutureWarning: The loss parameter name 'deviance' was deprecated in v1.1 and will be removed in version 1.3. Use the new parameter name 'log_loss' which is equivalent.\n",
      "  warnings.warn(\n"
     ]
    },
    {
     "name": "stdout",
     "output_type": "stream",
     "text": [
      "100%|██████████| 206/206 [00:03<00:00,  3.84s/trial, best loss: 0.46734693877551026]\n",
      "100%|██████████| 207/207 [00:01<00:00,  1.62s/trial, best loss: 0.46734693877551026]\n",
      "100%|██████████| 208/208 [00:00<00:00,  1.30trial/s, best loss: 0.46734693877551026]\n",
      "100%|██████████| 209/209 [00:01<00:00,  1.59s/trial, best loss: 0.46734693877551026]\n",
      "100%|██████████| 210/210 [00:00<00:00,  1.27trial/s, best loss: 0.46734693877551026]\n",
      "100%|██████████| 211/211 [00:00<00:00,  1.36trial/s, best loss: 0.46734693877551026]\n",
      "100%|██████████| 212/212 [00:00<00:00,  1.04trial/s, best loss: 0.46734693877551026]\n",
      "100%|█████████▉| 212/213 [00:00<?, ?trial/s, best loss=?]"
     ]
    },
    {
     "name": "stderr",
     "output_type": "stream",
     "text": [
      "/Users/maxlautenbach/PycharmProjects/football_match_prediction/venv/lib/python3.9/site-packages/sklearn/ensemble/_gb.py:310: FutureWarning: The loss parameter name 'deviance' was deprecated in v1.1 and will be removed in version 1.3. Use the new parameter name 'log_loss' which is equivalent.\n",
      "  warnings.warn(\n"
     ]
    },
    {
     "name": "stdout",
     "output_type": "stream",
     "text": [
      "100%|██████████| 213/213 [00:04<00:00,  4.86s/trial, best loss: 0.46734693877551026]\n",
      "100%|██████████| 214/214 [00:00<00:00,  1.36trial/s, best loss: 0.46734693877551026]\n",
      "100%|██████████| 215/215 [00:00<00:00,  1.32trial/s, best loss: 0.46734693877551026]\n",
      "100%|██████████| 216/216 [00:01<00:00,  1.06s/trial, best loss: 0.46734693877551026]\n",
      "100%|██████████| 217/217 [00:05<00:00,  5.07s/trial, best loss: 0.46734693877551026]\n",
      "100%|██████████| 218/218 [00:00<00:00,  1.37trial/s, best loss: 0.46734693877551026]\n",
      "100%|██████████| 219/219 [00:00<00:00,  1.21trial/s, best loss: 0.46734693877551026]\n",
      "100%|██████████| 220/220 [00:15<00:00, 15.71s/trial, best loss: 0.46734693877551026]\n",
      "100%|█████████▉| 220/221 [00:00<?, ?trial/s, best loss=?]"
     ]
    },
    {
     "name": "stderr",
     "output_type": "stream",
     "text": [
      "/Users/maxlautenbach/PycharmProjects/football_match_prediction/venv/lib/python3.9/site-packages/sklearn/ensemble/_gb.py:310: FutureWarning: The loss parameter name 'deviance' was deprecated in v1.1 and will be removed in version 1.3. Use the new parameter name 'log_loss' which is equivalent.\n",
      "  warnings.warn(\n"
     ]
    },
    {
     "name": "stdout",
     "output_type": "stream",
     "text": [
      "100%|██████████| 221/221 [00:00<00:00,  1.04trial/s, best loss: 0.46734693877551026]\n",
      "100%|██████████| 222/222 [00:00<00:00,  1.06trial/s, best loss: 0.46734693877551026]\n",
      "100%|█████████▉| 222/223 [00:00<?, ?trial/s, best loss=?]"
     ]
    },
    {
     "name": "stderr",
     "output_type": "stream",
     "text": [
      "/Users/maxlautenbach/PycharmProjects/football_match_prediction/venv/lib/python3.9/site-packages/sklearn/linear_model/_stochastic_gradient.py:705: ConvergenceWarning: Maximum number of iteration reached before convergence. Consider increasing max_iter to improve the fit.\n",
      "  warnings.warn(\n"
     ]
    },
    {
     "name": "stdout",
     "output_type": "stream",
     "text": [
      "100%|██████████| 223/223 [00:02<00:00,  2.35s/trial, best loss: 0.46734693877551026]\n",
      "100%|██████████| 224/224 [00:01<00:00,  1.06s/trial, best loss: 0.46734693877551026]\n",
      "100%|██████████| 225/225 [00:01<00:00,  1.15s/trial, best loss: 0.46734693877551026]\n",
      "100%|██████████| 226/226 [00:00<00:00,  1.24trial/s, best loss: 0.46734693877551026]\n",
      "100%|██████████| 227/227 [00:00<00:00,  1.24trial/s, best loss: 0.46734693877551026]\n",
      "100%|██████████| 228/228 [00:00<00:00,  1.31trial/s, best loss: 0.46734693877551026]\n",
      "100%|██████████| 229/229 [00:00<00:00,  1.02trial/s, best loss: 0.46734693877551026]\n",
      "100%|██████████| 230/230 [00:08<00:00,  8.54s/trial, best loss: 0.46734693877551026]\n",
      "100%|██████████| 231/231 [00:00<00:00,  1.25trial/s, best loss: 0.46734693877551026]\n",
      "100%|█████████▉| 231/232 [00:00<?, ?trial/s, best loss=?]"
     ]
    },
    {
     "name": "stderr",
     "output_type": "stream",
     "text": [
      "/Users/maxlautenbach/PycharmProjects/football_match_prediction/venv/lib/python3.9/site-packages/sklearn/ensemble/_gb.py:310: FutureWarning: The loss parameter name 'deviance' was deprecated in v1.1 and will be removed in version 1.3. Use the new parameter name 'log_loss' which is equivalent.\n",
      "  warnings.warn(\n"
     ]
    },
    {
     "name": "stdout",
     "output_type": "stream",
     "text": [
      "100%|██████████| 232/232 [00:02<00:00,  2.46s/trial, best loss: 0.46734693877551026]\n",
      "100%|██████████| 233/233 [00:02<00:00,  2.91s/trial, best loss: 0.46734693877551026]\n",
      "100%|██████████| 234/234 [00:01<00:00,  1.70s/trial, best loss: 0.46734693877551026]\n",
      "100%|██████████| 235/235 [00:00<00:00,  1.31trial/s, best loss: 0.46734693877551026]\n",
      "100%|██████████| 236/236 [00:15<00:00, 15.65s/trial, best loss: 0.46734693877551026]\n",
      "100%|██████████| 237/237 [00:01<00:00,  1.98s/trial, best loss: 0.46734693877551026]\n",
      "100%|██████████| 238/238 [00:00<00:00,  1.02trial/s, best loss: 0.46734693877551026]\n",
      "100%|██████████| 239/239 [00:00<00:00,  1.19trial/s, best loss: 0.46734693877551026]\n",
      "100%|██████████| 240/240 [00:02<00:00,  2.43s/trial, best loss: 0.46734693877551026]\n",
      "100%|██████████| 241/241 [00:00<00:00,  1.36trial/s, best loss: 0.46734693877551026]\n",
      "100%|██████████| 242/242 [00:00<00:00,  1.02trial/s, best loss: 0.46734693877551026]\n",
      "100%|██████████| 243/243 [00:03<00:00,  3.34s/trial, best loss: 0.46734693877551026]\n",
      "100%|█████████▉| 243/244 [00:00<?, ?trial/s, best loss=?]"
     ]
    },
    {
     "name": "stderr",
     "output_type": "stream",
     "text": [
      "/Users/maxlautenbach/PycharmProjects/football_match_prediction/venv/lib/python3.9/site-packages/sklearn/ensemble/_gb.py:310: FutureWarning: The loss parameter name 'deviance' was deprecated in v1.1 and will be removed in version 1.3. Use the new parameter name 'log_loss' which is equivalent.\n",
      "  warnings.warn(\n"
     ]
    },
    {
     "name": "stdout",
     "output_type": "stream",
     "text": [
      "100%|██████████| 244/244 [00:00<00:00,  1.09trial/s, best loss: 0.46734693877551026]\n",
      "100%|██████████| 245/245 [00:00<00:00,  1.31trial/s, best loss: 0.46734693877551026]\n",
      "100%|█████████▉| 245/246 [00:00<?, ?trial/s, best loss=?]"
     ]
    },
    {
     "name": "stderr",
     "output_type": "stream",
     "text": [
      "/Users/maxlautenbach/PycharmProjects/football_match_prediction/venv/lib/python3.9/site-packages/sklearn/linear_model/_stochastic_gradient.py:173: FutureWarning: The loss 'log' was deprecated in v1.1 and will be removed in version 1.3. Use `loss='log_loss'` which is equivalent.\n",
      "  warnings.warn(\n"
     ]
    },
    {
     "name": "stdout",
     "output_type": "stream",
     "text": [
      "100%|██████████| 246/246 [00:01<00:00,  1.87s/trial, best loss: 0.46734693877551026]\n",
      "100%|██████████| 247/247 [00:15<00:00, 15.70s/trial, best loss: 0.46734693877551026]\n",
      "100%|██████████| 248/248 [00:04<00:00,  4.49s/trial, best loss: 0.46734693877551026]\n",
      "100%|██████████| 249/249 [00:00<00:00,  1.32trial/s, best loss: 0.46734693877551026]\n",
      "100%|██████████| 250/250 [00:01<00:00,  1.01s/trial, best loss: 0.46734693877551026]\n",
      "100%|██████████| 251/251 [00:00<00:00,  1.18trial/s, best loss: 0.46734693877551026]\n",
      "100%|██████████| 252/252 [00:00<00:00,  1.36trial/s, best loss: 0.46734693877551026]\n",
      "100%|██████████| 253/253 [00:00<00:00,  1.41trial/s, best loss: 0.46734693877551026]\n",
      "100%|██████████| 254/254 [00:07<00:00,  7.77s/trial, best loss: 0.46734693877551026]\n",
      "100%|█████████▉| 254/255 [00:00<?, ?trial/s, best loss=?]"
     ]
    },
    {
     "name": "stderr",
     "output_type": "stream",
     "text": [
      "/Users/maxlautenbach/PycharmProjects/football_match_prediction/venv/lib/python3.9/site-packages/sklearn/ensemble/_gb.py:310: FutureWarning: The loss parameter name 'deviance' was deprecated in v1.1 and will be removed in version 1.3. Use the new parameter name 'log_loss' which is equivalent.\n",
      "  warnings.warn(\n"
     ]
    },
    {
     "name": "stdout",
     "output_type": "stream",
     "text": [
      "100%|██████████| 255/255 [00:01<00:00,  1.60s/trial, best loss: 0.46734693877551026]\n",
      "100%|██████████| 256/256 [00:00<00:00,  1.30trial/s, best loss: 0.46734693877551026]\n",
      "100%|██████████| 257/257 [00:01<00:00,  1.74s/trial, best loss: 0.46734693877551026]\n",
      "100%|██████████| 258/258 [00:01<00:00,  1.19s/trial, best loss: 0.46734693877551026]\n",
      "100%|██████████| 259/259 [00:00<00:00,  1.14trial/s, best loss: 0.46734693877551026]\n",
      "100%|██████████| 260/260 [00:02<00:00,  2.24s/trial, best loss: 0.46734693877551026]\n",
      "100%|██████████| 261/261 [00:03<00:00,  3.08s/trial, best loss: 0.46734693877551026]\n",
      "100%|██████████| 262/262 [00:01<00:00,  1.78s/trial, best loss: 0.46734693877551026]\n",
      "100%|██████████| 263/263 [00:02<00:00,  2.47s/trial, best loss: 0.46734693877551026]\n",
      "100%|██████████| 264/264 [00:01<00:00,  1.53s/trial, best loss: 0.46734693877551026]\n",
      "100%|██████████| 265/265 [00:02<00:00,  2.20s/trial, best loss: 0.46734693877551026]\n",
      "100%|██████████| 266/266 [00:02<00:00,  2.72s/trial, best loss: 0.46734693877551026]\n",
      "100%|██████████| 267/267 [00:03<00:00,  3.28s/trial, best loss: 0.46734693877551026]\n",
      "100%|██████████| 268/268 [00:02<00:00,  2.04s/trial, best loss: 0.46734693877551026]\n",
      "100%|██████████| 269/269 [00:02<00:00,  2.65s/trial, best loss: 0.46734693877551026]\n",
      "100%|██████████| 270/270 [00:03<00:00,  3.85s/trial, best loss: 0.46734693877551026]\n",
      "100%|██████████| 271/271 [00:05<00:00,  5.37s/trial, best loss: 0.46734693877551026]\n",
      "100%|██████████| 272/272 [00:02<00:00,  2.30s/trial, best loss: 0.46734693877551026]\n",
      "100%|██████████| 273/273 [00:02<00:00,  2.12s/trial, best loss: 0.46734693877551026]\n",
      "100%|██████████| 274/274 [00:00<00:00,  1.45trial/s, best loss: 0.46734693877551026]\n",
      "100%|█████████▉| 274/275 [00:00<?, ?trial/s, best loss=?]"
     ]
    },
    {
     "name": "stderr",
     "output_type": "stream",
     "text": [
      "/Users/maxlautenbach/PycharmProjects/football_match_prediction/venv/lib/python3.9/site-packages/sklearn/linear_model/_stochastic_gradient.py:173: FutureWarning: The loss 'log' was deprecated in v1.1 and will be removed in version 1.3. Use `loss='log_loss'` which is equivalent.\n",
      "  warnings.warn(\n"
     ]
    },
    {
     "name": "stdout",
     "output_type": "stream",
     "text": [
      "100%|██████████| 275/275 [00:00<00:00,  1.19trial/s, best loss: 0.46734693877551026]\n",
      "100%|██████████| 276/276 [00:05<00:00,  5.21s/trial, best loss: 0.46734693877551026]\n",
      "100%|██████████| 277/277 [00:01<00:00,  1.03s/trial, best loss: 0.46734693877551026]\n",
      "100%|██████████| 278/278 [00:00<00:00,  1.39trial/s, best loss: 0.46734693877551026]\n",
      "100%|██████████| 279/279 [00:01<00:00,  1.94s/trial, best loss: 0.46734693877551026]\n",
      "100%|█████████▉| 279/280 [00:00<?, ?trial/s, best loss=?]"
     ]
    },
    {
     "name": "stderr",
     "output_type": "stream",
     "text": [
      "/Users/maxlautenbach/PycharmProjects/football_match_prediction/venv/lib/python3.9/site-packages/sklearn/ensemble/_gb.py:310: FutureWarning: The loss parameter name 'deviance' was deprecated in v1.1 and will be removed in version 1.3. Use the new parameter name 'log_loss' which is equivalent.\n",
      "  warnings.warn(\n"
     ]
    },
    {
     "name": "stdout",
     "output_type": "stream",
     "text": [
      "100%|██████████| 280/280 [00:02<00:00,  2.58s/trial, best loss: 0.46734693877551026]\n",
      "100%|██████████| 281/281 [00:00<00:00,  1.21trial/s, best loss: 0.46734693877551026]\n",
      "100%|██████████| 282/282 [00:04<00:00,  4.72s/trial, best loss: 0.46734693877551026]\n",
      "100%|██████████| 283/283 [00:00<00:00,  1.16trial/s, best loss: 0.46734693877551026]\n",
      "100%|██████████| 284/284 [00:02<00:00,  2.32s/trial, best loss: 0.46734693877551026]\n",
      "100%|██████████| 285/285 [00:03<00:00,  3.93s/trial, best loss: 0.46734693877551026]\n",
      "100%|██████████| 286/286 [00:00<00:00,  1.12trial/s, best loss: 0.46734693877551026]\n",
      "100%|██████████| 287/287 [00:00<00:00,  1.22trial/s, best loss: 0.46734693877551026]\n",
      "100%|██████████| 288/288 [00:01<00:00,  1.55s/trial, best loss: 0.46734693877551026]\n",
      "100%|██████████| 289/289 [00:01<00:00,  1.06s/trial, best loss: 0.46734693877551026]\n",
      "100%|██████████| 290/290 [00:00<00:00,  1.33trial/s, best loss: 0.46734693877551026]\n",
      "100%|██████████| 291/291 [00:01<00:00,  1.30s/trial, best loss: 0.46734693877551026]\n",
      "100%|█████████▉| 291/292 [00:00<?, ?trial/s, best loss=?]"
     ]
    },
    {
     "name": "stderr",
     "output_type": "stream",
     "text": [
      "/Users/maxlautenbach/PycharmProjects/football_match_prediction/venv/lib/python3.9/site-packages/sklearn/ensemble/_gb.py:310: FutureWarning: The loss parameter name 'deviance' was deprecated in v1.1 and will be removed in version 1.3. Use the new parameter name 'log_loss' which is equivalent.\n",
      "  warnings.warn(\n"
     ]
    },
    {
     "name": "stdout",
     "output_type": "stream",
     "text": [
      "100%|██████████| 292/292 [00:02<00:00,  2.63s/trial, best loss: 0.46734693877551026]\n",
      "100%|██████████| 293/293 [00:00<00:00,  1.26trial/s, best loss: 0.46734693877551026]\n",
      "100%|██████████| 294/294 [00:01<00:00,  1.78s/trial, best loss: 0.46734693877551026]\n",
      "100%|██████████| 295/295 [00:00<00:00,  1.26trial/s, best loss: 0.46734693877551026]\n",
      "100%|██████████| 296/296 [00:03<00:00,  3.10s/trial, best loss: 0.46734693877551026]\n",
      "100%|██████████| 297/297 [00:08<00:00,  8.23s/trial, best loss: 0.46734693877551026]\n",
      "100%|██████████| 298/298 [00:01<00:00,  1.12s/trial, best loss: 0.46734693877551026]\n",
      "100%|██████████| 299/299 [00:00<00:00,  1.38trial/s, best loss: 0.46734693877551026]\n",
      "100%|██████████| 300/300 [00:01<00:00,  1.46s/trial, best loss: 0.46734693877551026]\n",
      "100%|██████████| 301/301 [00:01<00:00,  1.04s/trial, best loss: 0.46734693877551026]\n",
      "100%|██████████| 302/302 [00:01<00:00,  1.47s/trial, best loss: 0.46734693877551026]\n",
      "100%|██████████| 303/303 [00:03<00:00,  3.30s/trial, best loss: 0.46734693877551026]\n",
      "100%|██████████| 304/304 [00:00<00:00,  1.33trial/s, best loss: 0.46734693877551026]\n",
      "100%|██████████| 305/305 [00:01<00:00,  1.01s/trial, best loss: 0.46734693877551026]\n",
      "100%|█████████▉| 305/306 [00:00<?, ?trial/s, best loss=?]"
     ]
    },
    {
     "name": "stderr",
     "output_type": "stream",
     "text": [
      "/Users/maxlautenbach/PycharmProjects/football_match_prediction/venv/lib/python3.9/site-packages/sklearn/ensemble/_gb.py:310: FutureWarning: The loss parameter name 'deviance' was deprecated in v1.1 and will be removed in version 1.3. Use the new parameter name 'log_loss' which is equivalent.\n",
      "  warnings.warn(\n"
     ]
    },
    {
     "name": "stdout",
     "output_type": "stream",
     "text": [
      "100%|██████████| 306/306 [00:01<00:00,  1.12s/trial, best loss: 0.46734693877551026]\n",
      "100%|██████████| 307/307 [00:03<00:00,  3.20s/trial, best loss: 0.46734693877551026]\n",
      "100%|██████████| 308/308 [00:01<00:00,  1.69s/trial, best loss: 0.46734693877551026]\n",
      "100%|██████████| 309/309 [00:01<00:00,  1.35s/trial, best loss: 0.46734693877551026]\n",
      "100%|██████████| 310/310 [00:00<00:00,  1.22trial/s, best loss: 0.46734693877551026]\n",
      "100%|█████████▉| 310/311 [00:00<?, ?trial/s, best loss=?]"
     ]
    },
    {
     "name": "stderr",
     "output_type": "stream",
     "text": [
      "/Users/maxlautenbach/PycharmProjects/football_match_prediction/venv/lib/python3.9/site-packages/sklearn/linear_model/_stochastic_gradient.py:173: FutureWarning: The loss 'log' was deprecated in v1.1 and will be removed in version 1.3. Use `loss='log_loss'` which is equivalent.\n",
      "  warnings.warn(\n"
     ]
    },
    {
     "name": "stdout",
     "output_type": "stream",
     "text": [
      "100%|██████████| 311/311 [00:01<00:00,  1.17s/trial, best loss: 0.46734693877551026]\n",
      "100%|██████████| 312/312 [00:02<00:00,  2.77s/trial, best loss: 0.46734693877551026]\n",
      "100%|██████████| 313/313 [00:00<00:00,  1.30trial/s, best loss: 0.46734693877551026]\n",
      "100%|██████████| 314/314 [00:03<00:00,  3.30s/trial, best loss: 0.46734693877551026]\n",
      "100%|██████████| 315/315 [00:00<00:00,  1.39trial/s, best loss: 0.46734693877551026]\n",
      "100%|█████████▉| 315/316 [00:00<?, ?trial/s, best loss=?]"
     ]
    },
    {
     "name": "stderr",
     "output_type": "stream",
     "text": [
      "/Users/maxlautenbach/PycharmProjects/football_match_prediction/venv/lib/python3.9/site-packages/sklearn/ensemble/_gb.py:310: FutureWarning: The loss parameter name 'deviance' was deprecated in v1.1 and will be removed in version 1.3. Use the new parameter name 'log_loss' which is equivalent.\n",
      "  warnings.warn(\n"
     ]
    },
    {
     "name": "stdout",
     "output_type": "stream",
     "text": [
      "100%|██████████| 316/316 [00:01<00:00,  1.26s/trial, best loss: 0.46734693877551026]\n",
      "100%|██████████| 317/317 [00:00<00:00,  1.18trial/s, best loss: 0.46734693877551026]\n",
      "100%|██████████| 318/318 [00:01<00:00,  1.23s/trial, best loss: 0.46734693877551026]\n",
      "100%|██████████| 319/319 [00:00<00:00,  1.22trial/s, best loss: 0.46734693877551026]\n",
      "100%|██████████| 320/320 [00:09<00:00,  9.99s/trial, best loss: 0.46734693877551026]\n",
      "100%|██████████| 321/321 [00:00<00:00,  1.35trial/s, best loss: 0.46734693877551026]\n",
      "100%|██████████| 322/322 [00:02<00:00,  2.74s/trial, best loss: 0.46734693877551026]\n",
      "100%|██████████| 323/323 [00:00<00:00,  1.31trial/s, best loss: 0.46734693877551026]\n",
      "100%|██████████| 324/324 [00:02<00:00,  2.44s/trial, best loss: 0.46734693877551026]\n",
      "100%|██████████| 325/325 [00:00<00:00,  1.04trial/s, best loss: 0.46734693877551026]\n",
      "100%|██████████| 326/326 [00:15<00:00, 15.69s/trial, best loss: 0.46734693877551026]\n",
      "100%|██████████| 327/327 [00:00<00:00,  1.32trial/s, best loss: 0.46734693877551026]\n",
      "100%|██████████| 328/328 [00:00<00:00,  1.32trial/s, best loss: 0.46734693877551026]\n",
      "100%|██████████| 329/329 [00:03<00:00,  3.40s/trial, best loss: 0.46734693877551026]\n",
      "100%|█████████▉| 329/330 [00:00<?, ?trial/s, best loss=?]"
     ]
    },
    {
     "name": "stderr",
     "output_type": "stream",
     "text": [
      "/Users/maxlautenbach/PycharmProjects/football_match_prediction/venv/lib/python3.9/site-packages/sklearn/ensemble/_gb.py:310: FutureWarning: The loss parameter name 'deviance' was deprecated in v1.1 and will be removed in version 1.3. Use the new parameter name 'log_loss' which is equivalent.\n",
      "  warnings.warn(\n"
     ]
    },
    {
     "name": "stdout",
     "output_type": "stream",
     "text": [
      "100%|██████████| 330/330 [00:01<00:00,  1.96s/trial, best loss: 0.46734693877551026]\n",
      "100%|██████████| 331/331 [00:01<00:00,  1.09s/trial, best loss: 0.46734693877551026]\n",
      "100%|██████████| 332/332 [00:02<00:00,  2.67s/trial, best loss: 0.46734693877551026]\n",
      "100%|██████████| 333/333 [00:11<00:00, 11.29s/trial, best loss: 0.46734693877551026]\n",
      "100%|█████████▉| 333/334 [00:00<?, ?trial/s, best loss=?]"
     ]
    },
    {
     "name": "stderr",
     "output_type": "stream",
     "text": [
      "/Users/maxlautenbach/PycharmProjects/football_match_prediction/venv/lib/python3.9/site-packages/sklearn/linear_model/_stochastic_gradient.py:173: FutureWarning: The loss 'log' was deprecated in v1.1 and will be removed in version 1.3. Use `loss='log_loss'` which is equivalent.\n",
      "  warnings.warn(\n"
     ]
    },
    {
     "name": "stdout",
     "output_type": "stream",
     "text": [
      "100%|██████████| 334/334 [00:01<00:00,  1.03s/trial, best loss: 0.46734693877551026]\n",
      "100%|██████████| 335/335 [00:15<00:00, 15.65s/trial, best loss: 0.46734693877551026]\n",
      "100%|██████████| 336/336 [00:00<00:00,  1.34trial/s, best loss: 0.46734693877551026]\n",
      "100%|██████████| 337/337 [00:00<00:00,  1.29trial/s, best loss: 0.46734693877551026]\n",
      "100%|██████████| 338/338 [00:01<00:00,  1.64s/trial, best loss: 0.46734693877551026]\n",
      "100%|██████████| 339/339 [00:02<00:00,  2.45s/trial, best loss: 0.46734693877551026]\n",
      "100%|██████████| 340/340 [00:00<00:00,  1.39trial/s, best loss: 0.46734693877551026]\n",
      "100%|██████████| 341/341 [00:06<00:00,  6.56s/trial, best loss: 0.46734693877551026]\n",
      "100%|█████████▉| 341/342 [00:00<?, ?trial/s, best loss=?]"
     ]
    },
    {
     "name": "stderr",
     "output_type": "stream",
     "text": [
      "/Users/maxlautenbach/PycharmProjects/football_match_prediction/venv/lib/python3.9/site-packages/sklearn/ensemble/_gb.py:310: FutureWarning: The loss parameter name 'deviance' was deprecated in v1.1 and will be removed in version 1.3. Use the new parameter name 'log_loss' which is equivalent.\n",
      "  warnings.warn(\n"
     ]
    },
    {
     "name": "stdout",
     "output_type": "stream",
     "text": [
      "100%|██████████| 342/342 [00:02<00:00,  2.63s/trial, best loss: 0.46734693877551026]\n",
      "100%|██████████| 343/343 [00:01<00:00,  1.01s/trial, best loss: 0.46734693877551026]\n",
      "100%|██████████| 344/344 [00:01<00:00,  1.04s/trial, best loss: 0.46734693877551026]\n",
      "100%|██████████| 345/345 [00:06<00:00,  6.56s/trial, best loss: 0.46734693877551026]\n",
      "100%|██████████| 346/346 [00:00<00:00,  1.42trial/s, best loss: 0.46734693877551026]\n",
      "100%|██████████| 347/347 [00:00<00:00,  1.08trial/s, best loss: 0.46734693877551026]\n",
      "100%|██████████| 348/348 [00:01<00:00,  1.87s/trial, best loss: 0.46734693877551026]\n",
      "100%|██████████| 349/349 [00:00<00:00,  1.37trial/s, best loss: 0.46734693877551026]\n",
      "100%|██████████| 350/350 [00:00<00:00,  1.39trial/s, best loss: 0.46734693877551026]\n",
      "100%|██████████| 351/351 [00:02<00:00,  2.63s/trial, best loss: 0.46734693877551026]\n",
      "100%|██████████| 352/352 [00:01<00:00,  1.07s/trial, best loss: 0.46734693877551026]\n",
      "100%|█████████▉| 352/353 [00:00<?, ?trial/s, best loss=?]"
     ]
    },
    {
     "name": "stderr",
     "output_type": "stream",
     "text": [
      "/Users/maxlautenbach/PycharmProjects/football_match_prediction/venv/lib/python3.9/site-packages/sklearn/ensemble/_gb.py:310: FutureWarning: The loss parameter name 'deviance' was deprecated in v1.1 and will be removed in version 1.3. Use the new parameter name 'log_loss' which is equivalent.\n",
      "  warnings.warn(\n"
     ]
    },
    {
     "name": "stdout",
     "output_type": "stream",
     "text": [
      "100%|██████████| 353/353 [00:00<00:00,  1.21trial/s, best loss: 0.46734693877551026]\n",
      "100%|██████████| 354/354 [00:01<00:00,  1.78s/trial, best loss: 0.46734693877551026]\n",
      "100%|██████████| 355/355 [00:01<00:00,  1.46s/trial, best loss: 0.46734693877551026]\n",
      "100%|██████████| 356/356 [00:01<00:00,  1.20s/trial, best loss: 0.46734693877551026]\n",
      "100%|██████████| 357/357 [00:03<00:00,  3.14s/trial, best loss: 0.46734693877551026]\n",
      "100%|██████████| 358/358 [00:00<00:00,  1.28trial/s, best loss: 0.46734693877551026]\n",
      "100%|█████████▉| 358/359 [00:00<?, ?trial/s, best loss=?]"
     ]
    },
    {
     "name": "stderr",
     "output_type": "stream",
     "text": [
      "/Users/maxlautenbach/PycharmProjects/football_match_prediction/venv/lib/python3.9/site-packages/sklearn/linear_model/_stochastic_gradient.py:173: FutureWarning: The loss 'log' was deprecated in v1.1 and will be removed in version 1.3. Use `loss='log_loss'` which is equivalent.\n",
      "  warnings.warn(\n"
     ]
    },
    {
     "name": "stdout",
     "output_type": "stream",
     "text": [
      "100%|██████████| 359/359 [00:06<00:00,  6.59s/trial, best loss: 0.46734693877551026]\n",
      "100%|██████████| 360/360 [00:00<00:00,  1.26trial/s, best loss: 0.46734693877551026]\n",
      "100%|██████████| 361/361 [00:01<00:00,  1.01s/trial, best loss: 0.46734693877551026]\n",
      "100%|██████████| 362/362 [00:02<00:00,  2.66s/trial, best loss: 0.46734693877551026]\n",
      "100%|██████████| 363/363 [00:00<00:00,  1.34trial/s, best loss: 0.46734693877551026]\n",
      "100%|██████████| 364/364 [00:00<00:00,  1.30trial/s, best loss: 0.46734693877551026]\n",
      "100%|██████████| 365/365 [00:05<00:00,  5.90s/trial, best loss: 0.46734693877551026]\n",
      "100%|█████████▉| 365/366 [00:00<?, ?trial/s, best loss=?]"
     ]
    },
    {
     "name": "stderr",
     "output_type": "stream",
     "text": [
      "/Users/maxlautenbach/PycharmProjects/football_match_prediction/venv/lib/python3.9/site-packages/sklearn/ensemble/_gb.py:310: FutureWarning: The loss parameter name 'deviance' was deprecated in v1.1 and will be removed in version 1.3. Use the new parameter name 'log_loss' which is equivalent.\n",
      "  warnings.warn(\n"
     ]
    },
    {
     "name": "stdout",
     "output_type": "stream",
     "text": [
      "100%|██████████| 366/366 [00:01<00:00,  1.15s/trial, best loss: 0.46734693877551026]\n",
      "100%|██████████| 367/367 [00:01<00:00,  1.50s/trial, best loss: 0.46734693877551026]\n",
      "100%|██████████| 368/368 [00:15<00:00, 15.71s/trial, best loss: 0.46734693877551026]\n",
      "100%|██████████| 369/369 [00:01<00:00,  1.27s/trial, best loss: 0.46734693877551026]\n",
      "100%|██████████| 370/370 [00:00<00:00,  1.00trial/s, best loss: 0.46734693877551026]\n",
      "100%|██████████| 371/371 [00:02<00:00,  2.21s/trial, best loss: 0.46734693877551026]\n",
      "100%|██████████| 372/372 [00:00<00:00,  1.25trial/s, best loss: 0.46734693877551026]\n",
      "100%|██████████| 373/373 [00:00<00:00,  1.30trial/s, best loss: 0.46734693877551026]\n",
      "100%|██████████| 374/374 [00:03<00:00,  3.69s/trial, best loss: 0.46734693877551026]\n",
      "100%|██████████| 375/375 [00:01<00:00,  1.40s/trial, best loss: 0.46734693877551026]\n",
      "100%|██████████| 376/376 [00:00<00:00,  1.25trial/s, best loss: 0.46734693877551026]\n",
      "100%|█████████▉| 376/377 [00:00<?, ?trial/s, best loss=?]"
     ]
    },
    {
     "name": "stderr",
     "output_type": "stream",
     "text": [
      "/Users/maxlautenbach/PycharmProjects/football_match_prediction/venv/lib/python3.9/site-packages/sklearn/linear_model/_stochastic_gradient.py:173: FutureWarning: The loss 'log' was deprecated in v1.1 and will be removed in version 1.3. Use `loss='log_loss'` which is equivalent.\n",
      "  warnings.warn(\n"
     ]
    },
    {
     "name": "stdout",
     "output_type": "stream",
     "text": [
      "100%|██████████| 377/377 [00:02<00:00,  2.20s/trial, best loss: 0.46734693877551026]\n",
      "100%|█████████▉| 377/378 [00:00<?, ?trial/s, best loss=?]"
     ]
    },
    {
     "name": "stderr",
     "output_type": "stream",
     "text": [
      "/Users/maxlautenbach/PycharmProjects/football_match_prediction/venv/lib/python3.9/site-packages/sklearn/ensemble/_gb.py:310: FutureWarning: The loss parameter name 'deviance' was deprecated in v1.1 and will be removed in version 1.3. Use the new parameter name 'log_loss' which is equivalent.\n",
      "  warnings.warn(\n"
     ]
    },
    {
     "name": "stdout",
     "output_type": "stream",
     "text": [
      "100%|██████████| 378/378 [00:01<00:00,  1.54s/trial, best loss: 0.46734693877551026]\n",
      "100%|██████████| 379/379 [00:02<00:00,  2.74s/trial, best loss: 0.46734693877551026]\n",
      "100%|██████████| 380/380 [00:02<00:00,  2.00s/trial, best loss: 0.46734693877551026]\n",
      "100%|██████████| 381/381 [00:05<00:00,  5.62s/trial, best loss: 0.46734693877551026]\n",
      "100%|██████████| 382/382 [00:00<00:00,  1.32trial/s, best loss: 0.46734693877551026]\n",
      "100%|██████████| 383/383 [00:01<00:00,  1.70s/trial, best loss: 0.46734693877551026]\n",
      "100%|██████████| 384/384 [00:00<00:00,  1.00trial/s, best loss: 0.46734693877551026]\n",
      "100%|██████████| 385/385 [00:01<00:00,  1.02s/trial, best loss: 0.46734693877551026]\n",
      "100%|██████████| 386/386 [00:00<00:00,  1.09trial/s, best loss: 0.46734693877551026]\n",
      "100%|██████████| 387/387 [00:00<00:00,  1.38trial/s, best loss: 0.46734693877551026]\n",
      "100%|██████████| 388/388 [00:01<00:00,  1.08s/trial, best loss: 0.46734693877551026]\n",
      "100%|██████████| 389/389 [00:04<00:00,  4.25s/trial, best loss: 0.46734693877551026]\n",
      "100%|█████████▉| 389/390 [00:00<?, ?trial/s, best loss=?]"
     ]
    },
    {
     "name": "stderr",
     "output_type": "stream",
     "text": [
      "/Users/maxlautenbach/PycharmProjects/football_match_prediction/venv/lib/python3.9/site-packages/sklearn/ensemble/_gb.py:310: FutureWarning: The loss parameter name 'deviance' was deprecated in v1.1 and will be removed in version 1.3. Use the new parameter name 'log_loss' which is equivalent.\n",
      "  warnings.warn(\n"
     ]
    },
    {
     "name": "stdout",
     "output_type": "stream",
     "text": [
      "100%|██████████| 390/390 [00:01<00:00,  1.09s/trial, best loss: 0.46734693877551026]\n",
      "100%|██████████| 391/391 [00:02<00:00,  2.07s/trial, best loss: 0.46734693877551026]\n",
      "100%|██████████| 392/392 [00:00<00:00,  1.07trial/s, best loss: 0.46734693877551026]\n",
      "100%|██████████| 393/393 [00:04<00:00,  4.60s/trial, best loss: 0.46734693877551026]\n",
      "100%|██████████| 394/394 [00:00<00:00,  1.39trial/s, best loss: 0.46734693877551026]\n",
      "100%|██████████| 395/395 [00:07<00:00,  7.45s/trial, best loss: 0.46734693877551026]\n",
      "100%|██████████| 396/396 [00:00<00:00,  1.30trial/s, best loss: 0.46734693877551026]\n",
      "100%|██████████| 397/397 [00:01<00:00,  1.00s/trial, best loss: 0.46734693877551026]\n",
      "100%|██████████| 398/398 [00:01<00:00,  1.17s/trial, best loss: 0.46734693877551026]\n",
      "100%|██████████| 399/399 [00:00<00:00,  1.26trial/s, best loss: 0.46734693877551026]\n",
      "100%|██████████| 400/400 [00:00<00:00,  1.19trial/s, best loss: 0.46734693877551026]\n",
      "100%|█████████▉| 400/401 [00:00<?, ?trial/s, best loss=?]"
     ]
    },
    {
     "name": "stderr",
     "output_type": "stream",
     "text": [
      "/Users/maxlautenbach/PycharmProjects/football_match_prediction/venv/lib/python3.9/site-packages/sklearn/linear_model/_stochastic_gradient.py:173: FutureWarning: The loss 'log' was deprecated in v1.1 and will be removed in version 1.3. Use `loss='log_loss'` which is equivalent.\n",
      "  warnings.warn(\n"
     ]
    },
    {
     "name": "stdout",
     "output_type": "stream",
     "text": [
      "100%|██████████| 401/401 [00:00<00:00,  1.06trial/s, best loss: 0.46734693877551026]\n",
      "100%|██████████| 402/402 [00:01<00:00,  1.64s/trial, best loss: 0.46734693877551026]\n",
      "100%|██████████| 403/403 [00:01<00:00,  1.39s/trial, best loss: 0.46734693877551026]\n",
      "100%|██████████| 404/404 [00:01<00:00,  1.75s/trial, best loss: 0.46734693877551026]\n",
      "100%|██████████| 405/405 [00:01<00:00,  1.40s/trial, best loss: 0.46734693877551026]\n",
      "100%|██████████| 406/406 [00:02<00:00,  2.20s/trial, best loss: 0.46734693877551026]\n",
      "100%|██████████| 407/407 [00:02<00:00,  2.63s/trial, best loss: 0.46734693877551026]\n",
      "100%|██████████| 408/408 [00:01<00:00,  1.90s/trial, best loss: 0.46734693877551026]\n",
      "100%|██████████| 409/409 [00:04<00:00,  4.08s/trial, best loss: 0.46734693877551026]\n",
      "100%|██████████| 410/410 [00:01<00:00,  1.67s/trial, best loss: 0.46734693877551026]\n",
      "100%|██████████| 411/411 [00:02<00:00,  2.54s/trial, best loss: 0.46734693877551026]\n",
      "100%|██████████| 412/412 [00:04<00:00,  4.91s/trial, best loss: 0.46734693877551026]\n",
      "100%|██████████| 413/413 [00:01<00:00,  1.56s/trial, best loss: 0.46734693877551026]\n",
      "100%|██████████| 414/414 [00:03<00:00,  3.26s/trial, best loss: 0.46734693877551026]\n",
      "100%|██████████| 415/415 [00:02<00:00,  2.68s/trial, best loss: 0.46734693877551026]\n",
      "100%|██████████| 416/416 [00:01<00:00,  1.97s/trial, best loss: 0.46734693877551026]\n",
      "100%|██████████| 417/417 [00:02<00:00,  2.14s/trial, best loss: 0.46734693877551026]\n",
      "100%|██████████| 418/418 [00:03<00:00,  3.33s/trial, best loss: 0.46734693877551026]\n",
      "100%|██████████| 419/419 [00:02<00:00,  2.62s/trial, best loss: 0.46734693877551026]\n",
      "100%|█████████▉| 419/420 [00:00<?, ?trial/s, best loss=?]"
     ]
    },
    {
     "name": "stderr",
     "output_type": "stream",
     "text": [
      "/Users/maxlautenbach/PycharmProjects/football_match_prediction/venv/lib/python3.9/site-packages/sklearn/ensemble/_gb.py:310: FutureWarning: The loss parameter name 'deviance' was deprecated in v1.1 and will be removed in version 1.3. Use the new parameter name 'log_loss' which is equivalent.\n",
      "  warnings.warn(\n"
     ]
    },
    {
     "name": "stdout",
     "output_type": "stream",
     "text": [
      "100%|██████████| 420/420 [00:11<00:00, 11.70s/trial, best loss: 0.46734693877551026]\n",
      "100%|██████████| 421/421 [00:03<00:00,  3.46s/trial, best loss: 0.46734693877551026]\n",
      "100%|██████████| 422/422 [00:01<00:00,  1.52s/trial, best loss: 0.46734693877551026]\n",
      "100%|██████████| 423/423 [00:02<00:00,  2.78s/trial, best loss: 0.46734693877551026]\n",
      "100%|██████████| 424/424 [00:00<00:00,  1.44trial/s, best loss: 0.46734693877551026]\n",
      "100%|██████████| 425/425 [00:02<00:00,  2.72s/trial, best loss: 0.46734693877551026]\n",
      "100%|██████████| 426/426 [00:00<00:00,  1.18trial/s, best loss: 0.46734693877551026]\n",
      "100%|██████████| 427/427 [00:03<00:00,  3.75s/trial, best loss: 0.46734693877551026]\n",
      "100%|██████████| 428/428 [00:01<00:00,  1.38s/trial, best loss: 0.46734693877551026]\n",
      "100%|██████████| 429/429 [00:00<00:00,  1.34trial/s, best loss: 0.46734693877551026]\n",
      "100%|██████████| 430/430 [00:01<00:00,  1.03s/trial, best loss: 0.46734693877551026]\n",
      "100%|██████████| 431/431 [00:00<00:00,  1.31trial/s, best loss: 0.46734693877551026]\n",
      "100%|██████████| 432/432 [00:04<00:00,  4.27s/trial, best loss: 0.46734693877551026]\n",
      "100%|█████████▉| 432/433 [00:00<?, ?trial/s, best loss=?]"
     ]
    },
    {
     "name": "stderr",
     "output_type": "stream",
     "text": [
      "/Users/maxlautenbach/PycharmProjects/football_match_prediction/venv/lib/python3.9/site-packages/sklearn/ensemble/_gb.py:310: FutureWarning: The loss parameter name 'deviance' was deprecated in v1.1 and will be removed in version 1.3. Use the new parameter name 'log_loss' which is equivalent.\n",
      "  warnings.warn(\n"
     ]
    },
    {
     "name": "stdout",
     "output_type": "stream",
     "text": [
      "100%|██████████| 433/433 [00:01<00:00,  1.73s/trial, best loss: 0.46734693877551026]\n",
      "100%|██████████| 434/434 [00:03<00:00,  3.93s/trial, best loss: 0.46734693877551026]\n",
      "100%|██████████| 435/435 [00:02<00:00,  2.09s/trial, best loss: 0.46734693877551026]\n",
      "100%|██████████| 436/436 [00:04<00:00,  4.02s/trial, best loss: 0.46734693877551026]\n",
      "100%|██████████| 437/437 [00:00<00:00,  1.24trial/s, best loss: 0.46734693877551026]\n",
      "100%|██████████| 438/438 [00:01<00:00,  1.11s/trial, best loss: 0.46734693877551026]\n",
      "100%|██████████| 439/439 [00:04<00:00,  4.15s/trial, best loss: 0.46734693877551026]\n",
      "100%|██████████| 440/440 [00:00<00:00,  1.11trial/s, best loss: 0.46734693877551026]\n",
      "100%|██████████| 441/441 [00:01<00:00,  1.05s/trial, best loss: 0.46734693877551026]\n",
      "100%|██████████| 442/442 [00:01<00:00,  1.26s/trial, best loss: 0.46734693877551026]\n",
      "100%|██████████| 443/443 [00:00<00:00,  1.18trial/s, best loss: 0.46734693877551026]\n",
      "100%|██████████| 444/444 [00:01<00:00,  1.86s/trial, best loss: 0.46734693877551026]\n",
      "100%|██████████| 445/445 [00:00<00:00,  1.19trial/s, best loss: 0.46734693877551026]\n",
      "100%|█████████▉| 445/446 [00:00<?, ?trial/s, best loss=?]"
     ]
    },
    {
     "name": "stderr",
     "output_type": "stream",
     "text": [
      "/Users/maxlautenbach/PycharmProjects/football_match_prediction/venv/lib/python3.9/site-packages/sklearn/ensemble/_gb.py:310: FutureWarning: The loss parameter name 'deviance' was deprecated in v1.1 and will be removed in version 1.3. Use the new parameter name 'log_loss' which is equivalent.\n",
      "  warnings.warn(\n"
     ]
    },
    {
     "name": "stdout",
     "output_type": "stream",
     "text": [
      "100%|██████████| 446/446 [00:01<00:00,  1.28s/trial, best loss: 0.46734693877551026]\n",
      "100%|██████████| 447/447 [00:01<00:00,  1.17s/trial, best loss: 0.46734693877551026]\n",
      "100%|██████████| 448/448 [00:00<00:00,  1.18trial/s, best loss: 0.46734693877551026]\n",
      "100%|█████████▉| 448/449 [00:00<?, ?trial/s, best loss=?]"
     ]
    },
    {
     "name": "stderr",
     "output_type": "stream",
     "text": [
      "/Users/maxlautenbach/PycharmProjects/football_match_prediction/venv/lib/python3.9/site-packages/sklearn/linear_model/_stochastic_gradient.py:173: FutureWarning: The loss 'log' was deprecated in v1.1 and will be removed in version 1.3. Use `loss='log_loss'` which is equivalent.\n",
      "  warnings.warn(\n"
     ]
    },
    {
     "name": "stdout",
     "output_type": "stream",
     "text": [
      "100%|██████████| 449/449 [00:01<00:00,  1.01s/trial, best loss: 0.46734693877551026]\n",
      "100%|██████████| 450/450 [00:01<00:00,  1.25s/trial, best loss: 0.46734693877551026]\n",
      "100%|██████████| 451/451 [00:07<00:00,  7.09s/trial, best loss: 0.46734693877551026]\n",
      "100%|██████████| 452/452 [00:02<00:00,  2.34s/trial, best loss: 0.46734693877551026]\n",
      "100%|██████████| 453/453 [00:00<00:00,  1.26trial/s, best loss: 0.46734693877551026]\n",
      "100%|██████████| 454/454 [00:01<00:00,  1.01s/trial, best loss: 0.46734693877551026]\n",
      "100%|██████████| 455/455 [00:04<00:00,  4.49s/trial, best loss: 0.46734693877551026]\n",
      "100%|██████████| 456/456 [00:00<00:00,  1.33trial/s, best loss: 0.46734693877551026]\n",
      "100%|██████████| 457/457 [00:07<00:00,  7.00s/trial, best loss: 0.46734693877551026]\n",
      "100%|██████████| 458/458 [00:00<00:00,  1.22trial/s, best loss: 0.46734693877551026]\n",
      "100%|█████████▉| 458/459 [00:00<?, ?trial/s, best loss=?]"
     ]
    },
    {
     "name": "stderr",
     "output_type": "stream",
     "text": [
      "/Users/maxlautenbach/PycharmProjects/football_match_prediction/venv/lib/python3.9/site-packages/sklearn/ensemble/_gb.py:310: FutureWarning: The loss parameter name 'deviance' was deprecated in v1.1 and will be removed in version 1.3. Use the new parameter name 'log_loss' which is equivalent.\n",
      "  warnings.warn(\n"
     ]
    },
    {
     "name": "stdout",
     "output_type": "stream",
     "text": [
      "100%|██████████| 459/459 [00:00<00:00,  1.10trial/s, best loss: 0.46734693877551026]\n",
      "100%|██████████| 460/460 [00:02<00:00,  2.34s/trial, best loss: 0.46734693877551026]\n",
      "100%|██████████| 461/461 [00:04<00:00,  4.68s/trial, best loss: 0.46734693877551026]\n",
      "100%|██████████| 462/462 [00:00<00:00,  1.20trial/s, best loss: 0.46734693877551026]\n",
      "100%|██████████| 463/463 [00:05<00:00,  5.18s/trial, best loss: 0.46734693877551026]\n",
      "100%|██████████| 464/464 [00:00<00:00,  1.24trial/s, best loss: 0.46734693877551026]\n",
      "100%|██████████| 465/465 [00:01<00:00,  1.74s/trial, best loss: 0.46734693877551026]\n",
      "100%|██████████| 466/466 [00:01<00:00,  1.22s/trial, best loss: 0.46734693877551026]\n",
      "100%|██████████| 467/467 [00:00<00:00,  1.19trial/s, best loss: 0.46734693877551026]\n",
      "100%|██████████| 468/468 [00:00<00:00,  1.33trial/s, best loss: 0.46734693877551026]\n",
      "100%|██████████| 469/469 [00:02<00:00,  2.63s/trial, best loss: 0.46734693877551026]\n",
      "100%|██████████| 470/470 [00:01<00:00,  1.02s/trial, best loss: 0.46734693877551026]\n",
      "100%|██████████| 471/471 [00:02<00:00,  2.07s/trial, best loss: 0.46734693877551026]\n",
      "100%|█████████▉| 471/472 [00:00<?, ?trial/s, best loss=?]"
     ]
    },
    {
     "name": "stderr",
     "output_type": "stream",
     "text": [
      "/Users/maxlautenbach/PycharmProjects/football_match_prediction/venv/lib/python3.9/site-packages/sklearn/ensemble/_gb.py:310: FutureWarning: The loss parameter name 'deviance' was deprecated in v1.1 and will be removed in version 1.3. Use the new parameter name 'log_loss' which is equivalent.\n",
      "  warnings.warn(\n"
     ]
    },
    {
     "name": "stdout",
     "output_type": "stream",
     "text": [
      "100%|██████████| 472/472 [00:03<00:00,  3.92s/trial, best loss: 0.46734693877551026]\n",
      "100%|██████████| 473/473 [00:02<00:00,  2.56s/trial, best loss: 0.46734693877551026]\n",
      "100%|██████████| 474/474 [00:01<00:00,  1.42s/trial, best loss: 0.46734693877551026]\n",
      "100%|██████████| 475/475 [00:03<00:00,  3.42s/trial, best loss: 0.46734693877551026]\n",
      "100%|██████████| 476/476 [00:00<00:00,  1.48trial/s, best loss: 0.46734693877551026]\n",
      "100%|██████████| 477/477 [00:04<00:00,  4.25s/trial, best loss: 0.46734693877551026]\n",
      "100%|██████████| 478/478 [00:00<00:00,  1.18trial/s, best loss: 0.46734693877551026]\n",
      "100%|██████████| 479/479 [00:00<00:00,  1.19trial/s, best loss: 0.46734693877551026]\n",
      "100%|██████████| 480/480 [00:10<00:00, 10.73s/trial, best loss: 0.46734693877551026]\n",
      "100%|██████████| 481/481 [00:00<00:00,  1.46trial/s, best loss: 0.46734693877551026]\n",
      "100%|██████████| 482/482 [00:00<00:00,  1.20trial/s, best loss: 0.46734693877551026]\n",
      "100%|██████████| 483/483 [00:00<00:00,  1.27trial/s, best loss: 0.46734693877551026]\n",
      "100%|██████████| 484/484 [00:00<00:00,  1.21trial/s, best loss: 0.46734693877551026]\n",
      "100%|██████████| 485/485 [00:01<00:00,  1.66s/trial, best loss: 0.46734693877551026]\n",
      "100%|█████████▉| 485/486 [00:00<?, ?trial/s, best loss=?]"
     ]
    },
    {
     "name": "stderr",
     "output_type": "stream",
     "text": [
      "/Users/maxlautenbach/PycharmProjects/football_match_prediction/venv/lib/python3.9/site-packages/sklearn/ensemble/_gb.py:310: FutureWarning: The loss parameter name 'deviance' was deprecated in v1.1 and will be removed in version 1.3. Use the new parameter name 'log_loss' which is equivalent.\n",
      "  warnings.warn(\n"
     ]
    },
    {
     "name": "stdout",
     "output_type": "stream",
     "text": [
      "100%|██████████| 486/486 [00:01<00:00,  1.27s/trial, best loss: 0.46734693877551026]\n",
      "100%|██████████| 487/487 [00:01<00:00,  1.16s/trial, best loss: 0.46734693877551026]\n",
      "100%|██████████| 488/488 [00:01<00:00,  1.11s/trial, best loss: 0.46734693877551026]\n",
      "100%|██████████| 489/489 [00:04<00:00,  4.81s/trial, best loss: 0.46734693877551026]\n",
      "100%|██████████| 490/490 [00:01<00:00,  1.45s/trial, best loss: 0.46734693877551026]\n",
      "100%|█████████▉| 490/491 [00:00<?, ?trial/s, best loss=?]"
     ]
    },
    {
     "name": "stderr",
     "output_type": "stream",
     "text": [
      "/Users/maxlautenbach/PycharmProjects/football_match_prediction/venv/lib/python3.9/site-packages/sklearn/linear_model/_stochastic_gradient.py:173: FutureWarning: The loss 'log' was deprecated in v1.1 and will be removed in version 1.3. Use `loss='log_loss'` which is equivalent.\n",
      "  warnings.warn(\n"
     ]
    },
    {
     "name": "stdout",
     "output_type": "stream",
     "text": [
      "100%|██████████| 491/491 [00:05<00:00,  5.81s/trial, best loss: 0.46734693877551026]\n",
      "100%|██████████| 492/492 [00:01<00:00,  1.01s/trial, best loss: 0.46734693877551026]\n",
      "100%|██████████| 493/493 [00:00<00:00,  1.23trial/s, best loss: 0.46734693877551026]\n",
      "100%|██████████| 494/494 [00:00<00:00,  1.34trial/s, best loss: 0.46734693877551026]\n",
      "100%|██████████| 495/495 [00:02<00:00,  2.47s/trial, best loss: 0.46734693877551026]\n",
      "100%|██████████| 496/496 [00:00<00:00,  1.00trial/s, best loss: 0.46734693877551026]\n",
      "100%|██████████| 497/497 [00:00<00:00,  1.13trial/s, best loss: 0.46734693877551026]\n",
      "100%|█████████▉| 497/498 [00:00<?, ?trial/s, best loss=?]"
     ]
    },
    {
     "name": "stderr",
     "output_type": "stream",
     "text": [
      "/Users/maxlautenbach/PycharmProjects/football_match_prediction/venv/lib/python3.9/site-packages/sklearn/ensemble/_gb.py:310: FutureWarning: The loss parameter name 'deviance' was deprecated in v1.1 and will be removed in version 1.3. Use the new parameter name 'log_loss' which is equivalent.\n",
      "  warnings.warn(\n"
     ]
    },
    {
     "name": "stdout",
     "output_type": "stream",
     "text": [
      "100%|██████████| 498/498 [00:01<00:00,  1.00s/trial, best loss: 0.46734693877551026]\n",
      "100%|██████████| 499/499 [00:01<00:00,  1.89s/trial, best loss: 0.46734693877551026]\n",
      "100%|██████████| 500/500 [00:03<00:00,  3.86s/trial, best loss: 0.46734693877551026]\n"
     ]
    },
    {
     "name": "stderr",
     "output_type": "stream",
     "text": [
      "/Users/maxlautenbach/PycharmProjects/football_match_prediction/venv/lib/python3.9/site-packages/sklearn/utils/validation.py:753: FutureWarning: is_sparse is deprecated and will be removed in a future version. Check `isinstance(dtype, pd.SparseDtype)` instead.\n",
      "  if not hasattr(array, \"sparse\") and array.dtypes.apply(is_sparse).any():\n",
      "/Users/maxlautenbach/PycharmProjects/football_match_prediction/venv/lib/python3.9/site-packages/sklearn/utils/validation.py:591: FutureWarning: is_sparse is deprecated and will be removed in a future version. Check `isinstance(dtype, pd.SparseDtype)` instead.\n",
      "  if is_sparse(pd_dtype):\n",
      "/Users/maxlautenbach/PycharmProjects/football_match_prediction/venv/lib/python3.9/site-packages/sklearn/utils/validation.py:600: FutureWarning: is_sparse is deprecated and will be removed in a future version. Check `isinstance(dtype, pd.SparseDtype)` instead.\n",
      "  if is_sparse(pd_dtype) or not is_extension_array_dtype(pd_dtype):\n",
      "/Users/maxlautenbach/PycharmProjects/football_match_prediction/venv/lib/python3.9/site-packages/sklearn/utils/validation.py:753: FutureWarning: is_sparse is deprecated and will be removed in a future version. Check `isinstance(dtype, pd.SparseDtype)` instead.\n",
      "  if not hasattr(array, \"sparse\") and array.dtypes.apply(is_sparse).any():\n",
      "/Users/maxlautenbach/PycharmProjects/football_match_prediction/venv/lib/python3.9/site-packages/sklearn/utils/validation.py:591: FutureWarning: is_sparse is deprecated and will be removed in a future version. Check `isinstance(dtype, pd.SparseDtype)` instead.\n",
      "  if is_sparse(pd_dtype):\n",
      "/Users/maxlautenbach/PycharmProjects/football_match_prediction/venv/lib/python3.9/site-packages/sklearn/utils/validation.py:600: FutureWarning: is_sparse is deprecated and will be removed in a future version. Check `isinstance(dtype, pd.SparseDtype)` instead.\n",
      "  if is_sparse(pd_dtype) or not is_extension_array_dtype(pd_dtype):\n",
      "/Users/maxlautenbach/PycharmProjects/football_match_prediction/venv/lib/python3.9/site-packages/sklearn/base.py:450: UserWarning: X does not have valid feature names, but PCA was fitted with feature names\n",
      "  warnings.warn(\n"
     ]
    },
    {
     "data": {
      "text/plain": "0.5"
     },
     "execution_count": 32,
     "metadata": {},
     "output_type": "execute_result"
    }
   ],
   "source": [
    "from hpsklearn import *\n",
    "from hyperopt import *\n",
    "\n",
    "clf = estim = HyperoptEstimator(classifier=any_classifier(\"my_clf\"),\n",
    "                              preprocessing=any_preprocessing(\"my_pre\"),\n",
    "                              algo=tpe.suggest,\n",
    "                              max_evals=500,\n",
    "                              trial_timeout=15)\n",
    "clf.fit(X_train, y_train)\n",
    "clf.score(X_test, y_test)"
   ],
   "metadata": {
    "collapsed": false,
    "ExecuteTime": {
     "end_time": "2023-10-09T18:27:28.267393Z",
     "start_time": "2023-10-09T18:09:42.972805Z"
    }
   }
  },
  {
   "cell_type": "code",
   "execution_count": 28,
   "outputs": [],
   "source": [],
   "metadata": {
    "collapsed": false,
    "ExecuteTime": {
     "end_time": "2023-10-09T17:48:29.094969Z",
     "start_time": "2023-10-09T17:48:29.093753Z"
    }
   }
  }
 ],
 "metadata": {
  "kernelspec": {
   "display_name": "Python 3",
   "language": "python",
   "name": "python3"
  },
  "language_info": {
   "codemirror_mode": {
    "name": "ipython",
    "version": 2
   },
   "file_extension": ".py",
   "mimetype": "text/x-python",
   "name": "python",
   "nbconvert_exporter": "python",
   "pygments_lexer": "ipython2",
   "version": "2.7.6"
  }
 },
 "nbformat": 4,
 "nbformat_minor": 0
}
