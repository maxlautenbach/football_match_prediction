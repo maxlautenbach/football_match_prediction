{
 "cells": [
  {
   "cell_type": "code",
   "execution_count": 151,
   "metadata": {
    "collapsed": true,
    "ExecuteTime": {
     "end_time": "2023-12-12T20:08:31.431516Z",
     "start_time": "2023-12-12T20:08:31.420786Z"
    }
   },
   "outputs": [],
   "source": [
    "import pickle\n",
    "import random\n",
    "\n",
    "import numpy as np\n",
    "\n",
    "matches_df = pickle.load(open(\"database/matches_df.pck\", \"rb\"))"
   ]
  },
  {
   "cell_type": "code",
   "execution_count": 152,
   "outputs": [],
   "source": [
    "winner_list = []\n",
    "market_val_diff = []\n",
    "goals_diff = []\n",
    "for _, row in matches_df.iterrows():\n",
    "    if row[\"Team Home ID\"] == row[\"Winner Team ID\"]:\n",
    "        winner_list.append(\"Home\")\n",
    "    elif row[\"Team Away ID\"] == row[\"Winner Team ID\"]:\n",
    "        winner_list.append(\"Away\")\n",
    "    elif row[\"Winner Team ID\"] == 0:\n",
    "        winner_list.append(\"Draw\")\n",
    "    market_val_diff.append(row[\"Market Value Home\"] - row[\"Market Value Away\"])\n",
    "    goals_diff.append(row[\"Goals Home\"] - row[\"Goals Away\"])\n",
    "matches_df[\"Result\"] = winner_list\n",
    "matches_df[\"Market Value Difference\"] = market_val_diff\n",
    "matches_df[\"Goals Difference\"] = goals_diff"
   ],
   "metadata": {
    "collapsed": false,
    "ExecuteTime": {
     "end_time": "2023-12-12T20:08:31.490910Z",
     "start_time": "2023-12-12T20:08:31.427300Z"
    }
   }
  },
  {
   "cell_type": "code",
   "execution_count": 153,
   "outputs": [],
   "source": [
    "import asyncio\n",
    "import nest_asyncio\n",
    "from database import dbconn\n",
    "import importlib\n",
    "\n",
    "importlib.reload(dbconn)\n",
    "\n",
    "nest_asyncio.apply()\n",
    "\n",
    "loop = asyncio.get_event_loop()\n",
    "\n"
   ],
   "metadata": {
    "collapsed": false,
    "ExecuteTime": {
     "end_time": "2023-12-12T20:08:31.494429Z",
     "start_time": "2023-12-12T20:08:31.491628Z"
    }
   }
  },
  {
   "cell_type": "code",
   "execution_count": 154,
   "outputs": [],
   "source": [
    "import pandas as pd\n",
    "\n",
    "dict_team_data = dict()\n",
    "\n",
    "for team_id in set(matches_df[\"Team Home ID\"]):\n",
    "    team_data_matches_home, team_data_matches_away = loop.run_until_complete(dbconn.get_matches_by_team(team_id))\n",
    "    team_data_matches = [[x.id, x.goalsHome, x.goalsAway, x.winnerTeamId] for x in team_data_matches_home] + [[x.id, x.goalsHome, x.goalsAway, x.winnerTeamId] for x in team_data_matches_away]\n",
    "    team_data_matches = sorted(team_data_matches, key=lambda x: x[0])\n",
    "    for i in range(len(team_data_matches)):\n",
    "        if team_data_matches[i][3] == team_id:\n",
    "            team_data_matches[i][3] = \"Won\"\n",
    "        elif team_data_matches[i][3] == None:\n",
    "            team_data_matches[i][3] = \"Draw\"\n",
    "        else:\n",
    "            team_data_matches[i][3] = \"Lost\"\n",
    "    dict_team_data[team_id] = pd.DataFrame(team_data_matches)"
   ],
   "metadata": {
    "collapsed": false,
    "ExecuteTime": {
     "end_time": "2023-12-12T20:08:32.870560Z",
     "start_time": "2023-12-12T20:08:31.497065Z"
    }
   }
  },
  {
   "cell_type": "code",
   "execution_count": 155,
   "outputs": [],
   "source": [
    "matches_form = []\n",
    "for _, row in matches_df.iterrows():\n",
    "    home_form = dict_team_data[row[\"Team Home ID\"]]\n",
    "    home_form = home_form[home_form[0] < row[\"Match ID\"]].iloc[-5:]\n",
    "    home_form_5 = list(home_form[3])\n",
    "    for i in range(5 - len(home_form_5)):\n",
    "        home_form_5 = [\"Draw\"] + home_form_5\n",
    "    away_form = dict_team_data[row[\"Team Away ID\"]]\n",
    "    away_form = away_form[away_form[0] < row[\"Match ID\"]].iloc[-5:]\n",
    "    away_form_5 = list(away_form[3])\n",
    "    for i in range(5 - len(away_form_5)):\n",
    "        away_form_5 = [\"Draw\"] + away_form_5\n",
    "    matches_form.append(home_form_5 + away_form_5)"
   ],
   "metadata": {
    "collapsed": false,
    "ExecuteTime": {
     "end_time": "2023-12-12T20:08:33.426964Z",
     "start_time": "2023-12-12T20:08:32.879816Z"
    }
   }
  },
  {
   "cell_type": "code",
   "execution_count": 156,
   "outputs": [],
   "source": [
    "columns_added = [\"Home_Pre\" + str(x) for x in range(5, 0, -1)] + [\"Away_Pre\" + str(x) for x in range(5, 0, -1)]\n",
    "matches_df = pd.concat([matches_df, pd.DataFrame(matches_form, columns=columns_added)], axis=1)"
   ],
   "metadata": {
    "collapsed": false,
    "ExecuteTime": {
     "end_time": "2023-12-12T20:08:33.431517Z",
     "start_time": "2023-12-12T20:08:33.427399Z"
    }
   }
  },
  {
   "cell_type": "code",
   "execution_count": 157,
   "outputs": [],
   "source": [
    "from sklearn.model_selection import train_test_split\n",
    "from sklearn.preprocessing import LabelEncoder\n",
    "\n",
    "end_goals = []\n",
    "for _, row in matches_df.iterrows():\n",
    "    end_goals.append(str(row[\"Goals Home\"]) + \":\" + str(row[\"Goals Away\"]))\n",
    "result_enc = LabelEncoder()\n",
    "end_goals = result_enc.fit_transform(end_goals)\n",
    "matches_df[\"Goals Result\"] = end_goals"
   ],
   "metadata": {
    "collapsed": false,
    "ExecuteTime": {
     "end_time": "2023-12-12T20:08:33.477085Z",
     "start_time": "2023-12-12T20:08:33.431659Z"
    }
   }
  },
  {
   "cell_type": "code",
   "execution_count": 158,
   "outputs": [],
   "source": [
    "res_enc = LabelEncoder()\n",
    "form_enc = LabelEncoder()\n",
    "matches_df[\"Result\"] = res_enc.fit_transform(matches_df[\"Result\"])\n",
    "form_enc.fit(matches_df[\"Home_Pre5\"])\n",
    "matches_df[\"Home_Pre5\"] = form_enc.transform(matches_df[\"Home_Pre5\"])\n",
    "for column in columns_added[1:]:\n",
    "    matches_df[column] = form_enc.transform(matches_df[column])\n",
    "X_train, X_test, y_train, y_test = train_test_split(matches_df.drop([\"Goals Home\", \"Goals Away\", \"Goals Difference\", \"Result\", \"Winner Team ID\", \"Match ID\", \"Team Home ID\", \"Team Away ID\", \"Goals Result\"], axis=1), matches_df[\"Goals Result\"], random_state=42, test_size=0.2)"
   ],
   "metadata": {
    "collapsed": false,
    "ExecuteTime": {
     "end_time": "2023-12-12T20:08:33.485342Z",
     "start_time": "2023-12-12T20:08:33.479753Z"
    }
   }
  },
  {
   "cell_type": "code",
   "execution_count": 159,
   "outputs": [],
   "source": [
    "from sklearn.metrics import make_scorer\n",
    "\n",
    "def score(y_true, y_pred, **kwargs):\n",
    "    y_true = [x.split(\":\") for x in result_enc.inverse_transform(y_true)]\n",
    "    y_pred = [x.split(\":\") for x in result_enc.inverse_transform(y_pred)]\n",
    "    score_value = 0\n",
    "    for true, pred in zip(y_true, y_pred):\n",
    "        if true[0] == pred[0] and true[1] == pred[1]:\n",
    "            score_value += 5\n",
    "        elif (int(true[0]) - int(true[1])) == (int(pred[0]) - int(pred[1])):\n",
    "            score_value += 3\n",
    "        elif ((true[0] > true[1]) and (pred[0] > pred[1])) or ((true[0] < true[1]) and (pred[0] < pred[1])):\n",
    "            score_value += 1\n",
    "    return round(score_value / (len(y_true)/306))\n",
    "\n",
    "kicktipp_scorer = make_scorer(score, greater_is_better=True)"
   ],
   "metadata": {
    "collapsed": false,
    "ExecuteTime": {
     "end_time": "2023-12-12T20:08:33.488715Z",
     "start_time": "2023-12-12T20:08:33.487332Z"
    }
   }
  },
  {
   "cell_type": "code",
   "execution_count": 160,
   "outputs": [
    {
     "data": {
      "text/plain": "(282, 0.06372549019607843)"
     },
     "execution_count": 160,
     "metadata": {},
     "output_type": "execute_result"
    }
   ],
   "source": [
    "from sklearn.naive_bayes import GaussianNB\n",
    "from sklearn.metrics import *\n",
    "\n",
    "clf = GaussianNB()\n",
    "clf.fit(X_train, y_train)\n",
    "y_pred = clf.predict(X_test)\n",
    "score(y_test, y_pred), accuracy_score(y_test, y_pred)"
   ],
   "metadata": {
    "collapsed": false,
    "ExecuteTime": {
     "end_time": "2023-12-12T20:08:33.497449Z",
     "start_time": "2023-12-12T20:08:33.489623Z"
    }
   }
  },
  {
   "cell_type": "code",
   "execution_count": 161,
   "outputs": [
    {
     "data": {
      "text/plain": "(278, 0.07516339869281045)"
     },
     "execution_count": 161,
     "metadata": {},
     "output_type": "execute_result"
    }
   ],
   "source": [
    "from sklearn.ensemble import *\n",
    "\n",
    "clf = RandomForestClassifier(random_state=42)\n",
    "clf.fit(X_train, y_train)\n",
    "y_pred = clf.predict(X_test)\n",
    "score(y_test, y_pred), accuracy_score(y_test, y_pred)"
   ],
   "metadata": {
    "collapsed": false,
    "ExecuteTime": {
     "end_time": "2023-12-12T20:08:33.864328Z",
     "start_time": "2023-12-12T20:08:33.498224Z"
    }
   }
  },
  {
   "cell_type": "code",
   "execution_count": 162,
   "outputs": [
    {
     "data": {
      "text/plain": "(273, 0.07026143790849673)"
     },
     "execution_count": 162,
     "metadata": {},
     "output_type": "execute_result"
    }
   ],
   "source": [
    "clf = GradientBoostingClassifier(random_state=42)\n",
    "clf.fit(X_train, y_train)\n",
    "y_pred = clf.predict(X_test)\n",
    "score(y_test, y_pred), accuracy_score(y_test, y_pred)"
   ],
   "metadata": {
    "collapsed": false,
    "ExecuteTime": {
     "end_time": "2023-12-12T20:08:47.375621Z",
     "start_time": "2023-12-12T20:08:33.872227Z"
    }
   }
  },
  {
   "cell_type": "code",
   "execution_count": 163,
   "outputs": [
    {
     "data": {
      "text/plain": "(282, 0.1111111111111111)"
     },
     "execution_count": 163,
     "metadata": {},
     "output_type": "execute_result"
    }
   ],
   "source": [
    "clf = AdaBoostClassifier(random_state=42)\n",
    "clf.fit(X_train, y_train)\n",
    "y_pred = clf.predict(X_test)\n",
    "score(y_test, y_pred), accuracy_score(y_test, y_pred)"
   ],
   "metadata": {
    "collapsed": false,
    "ExecuteTime": {
     "end_time": "2023-12-12T20:08:47.544976Z",
     "start_time": "2023-12-12T20:08:47.379558Z"
    }
   }
  },
  {
   "cell_type": "code",
   "execution_count": 164,
   "outputs": [
    {
     "data": {
      "text/plain": "array([0.13480392, 0.09313725, 0.10784314, 0.12009804, 0.1127451 ])"
     },
     "execution_count": 164,
     "metadata": {},
     "output_type": "execute_result"
    }
   ],
   "source": [
    "from sklearn.model_selection import cross_val_score, TimeSeriesSplit\n",
    "\n",
    "tscv = TimeSeriesSplit(n_splits=5)\n",
    "cross_val_score(clf, X_train, y_train, cv=tscv)"
   ],
   "metadata": {
    "collapsed": false,
    "ExecuteTime": {
     "end_time": "2023-12-12T20:08:47.953133Z",
     "start_time": "2023-12-12T20:08:47.545916Z"
    }
   }
  },
  {
   "cell_type": "code",
   "execution_count": 165,
   "outputs": [
    {
     "data": {
      "text/plain": "(304, 0.09803921568627451)"
     },
     "execution_count": 165,
     "metadata": {},
     "output_type": "execute_result"
    }
   ],
   "source": [
    "from sklearn.neighbors import *\n",
    "\n",
    "clf = KNeighborsClassifier(n_neighbors=100)\n",
    "clf.fit(X_train, y_train)\n",
    "y_pred = clf.predict(X_test)\n",
    "score(y_test, y_pred), accuracy_score(y_test, y_pred)"
   ],
   "metadata": {
    "collapsed": false,
    "ExecuteTime": {
     "end_time": "2023-12-12T20:08:47.989928Z",
     "start_time": "2023-12-12T20:08:47.954095Z"
    }
   }
  },
  {
   "cell_type": "code",
   "execution_count": 166,
   "outputs": [
    {
     "name": "stderr",
     "output_type": "stream",
     "text": [
      "/Users/maxlautenbach/PycharmProjects/football_match_prediction/venv3/lib/python3.11/site-packages/sklearn/model_selection/_split.py:737: UserWarning: The least populated class in y has only 1 members, which is less than n_splits=5.\n",
      "  warnings.warn(\n"
     ]
    },
    {
     "data": {
      "text/plain": "array([331, 294, 324, 266, 306])"
     },
     "execution_count": 166,
     "metadata": {},
     "output_type": "execute_result"
    }
   ],
   "source": [
    "cross_val_score(clf, X_test, y_test, scoring=kicktipp_scorer)"
   ],
   "metadata": {
    "collapsed": false,
    "ExecuteTime": {
     "end_time": "2023-12-12T20:08:48.005197Z",
     "start_time": "2023-12-12T20:08:47.976084Z"
    }
   }
  },
  {
   "cell_type": "code",
   "execution_count": 169,
   "outputs": [],
   "source": [
    "from sklearn.pipeline import Pipeline\n",
    "\n",
    "pipe = Pipeline(steps=[(\"clf\", KNeighborsClassifier())])"
   ],
   "metadata": {
    "collapsed": false,
    "ExecuteTime": {
     "end_time": "2023-12-12T20:09:31.003256Z",
     "start_time": "2023-12-12T20:09:30.995623Z"
    }
   }
  },
  {
   "cell_type": "code",
   "execution_count": 170,
   "outputs": [
    {
     "name": "stderr",
     "output_type": "stream",
     "text": [
      "/Users/maxlautenbach/PycharmProjects/football_match_prediction/venv3/lib/python3.11/site-packages/sklearn/model_selection/_split.py:737: UserWarning: The least populated class in y has only 1 members, which is less than n_splits=5.\n",
      "  warnings.warn(\n"
     ]
    },
    {
     "data": {
      "text/plain": "array([351, 401, 336, 283, 316])"
     },
     "execution_count": 170,
     "metadata": {},
     "output_type": "execute_result"
    }
   ],
   "source": [
    "cross_val_score(pipe, X_test, y_test, scoring=kicktipp_scorer)"
   ],
   "metadata": {
    "collapsed": false,
    "ExecuteTime": {
     "end_time": "2023-12-12T20:09:31.624113Z",
     "start_time": "2023-12-12T20:09:31.595651Z"
    }
   }
  },
  {
   "cell_type": "code",
   "execution_count": 175,
   "outputs": [
    {
     "name": "stderr",
     "output_type": "stream",
     "text": [
      "/Users/maxlautenbach/PycharmProjects/football_match_prediction/venv3/lib/python3.11/site-packages/sklearn/model_selection/_split.py:737: UserWarning: The least populated class in y has only 1 members, which is less than n_splits=5.\n",
      "  warnings.warn(\n"
     ]
    },
    {
     "data": {
      "text/plain": "(302, 0.09803921568627451)"
     },
     "execution_count": 175,
     "metadata": {},
     "output_type": "execute_result"
    }
   ],
   "source": [
    "from sklearn.model_selection import GridSearchCV\n",
    "\n",
    "param_grid = {\n",
    "    \"clf__n_neighbors\": np.arange(1, 250, 1)\n",
    "}\n",
    "\n",
    "clf = GridSearchCV(pipe, param_grid, n_jobs=2).fit(X_train, y_train)\n",
    "y_pred = clf.predict(X_test)\n",
    "score(y_test, y_pred), accuracy_score(y_test, y_pred)"
   ],
   "metadata": {
    "collapsed": false,
    "ExecuteTime": {
     "end_time": "2023-12-12T20:11:34.261788Z",
     "start_time": "2023-12-12T20:11:24.339831Z"
    }
   }
  },
  {
   "cell_type": "code",
   "execution_count": null,
   "outputs": [],
   "source": [],
   "metadata": {
    "collapsed": false
   }
  }
 ],
 "metadata": {
  "kernelspec": {
   "display_name": "Python 3",
   "language": "python",
   "name": "python3"
  },
  "language_info": {
   "codemirror_mode": {
    "name": "ipython",
    "version": 2
   },
   "file_extension": ".py",
   "mimetype": "text/x-python",
   "name": "python",
   "nbconvert_exporter": "python",
   "pygments_lexer": "ipython2",
   "version": "2.7.6"
  }
 },
 "nbformat": 4,
 "nbformat_minor": 0
}
