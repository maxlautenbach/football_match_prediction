{
 "cells": [
  {
   "cell_type": "code",
   "execution_count": 1,
   "metadata": {
    "collapsed": true,
    "ExecuteTime": {
     "end_time": "2023-09-30T09:51:42.032679Z",
     "start_time": "2023-09-30T09:51:41.410514Z"
    }
   },
   "outputs": [],
   "source": [
    "import pickle\n",
    "import random\n",
    "\n",
    "import numpy as np\n",
    "\n",
    "matches_df = pickle.load(open(\"database/matches_df.pck\", \"rb\"))"
   ]
  },
  {
   "cell_type": "code",
   "execution_count": 2,
   "outputs": [],
   "source": [
    "winner_list = []\n",
    "market_val_diff = []\n",
    "goals_diff = []\n",
    "for _, row in matches_df.iterrows():\n",
    "    if row[\"Team Home ID\"] == row[\"Winner Team ID\"]:\n",
    "        winner_list.append(\"Home\")\n",
    "    elif row[\"Team Away ID\"] == row[\"Winner Team ID\"]:\n",
    "        winner_list.append(\"Away\")\n",
    "    elif row[\"Winner Team ID\"] == 0:\n",
    "        winner_list.append(\"Draw\")\n",
    "    market_val_diff.append(row[\"Market Value Home\"] - row[\"Market Value Away\"])\n",
    "    goals_diff.append(row[\"Goals Home\"] - row[\"Goals Away\"])\n",
    "matches_df[\"Result\"] = winner_list\n",
    "matches_df[\"Market Value Difference\"] = market_val_diff\n",
    "matches_df[\"Goals Difference\"] = goals_diff"
   ],
   "metadata": {
    "collapsed": false,
    "ExecuteTime": {
     "end_time": "2023-09-30T09:51:42.125831Z",
     "start_time": "2023-09-30T09:51:42.032999Z"
    }
   }
  },
  {
   "cell_type": "code",
   "execution_count": 3,
   "outputs": [],
   "source": [
    "import asyncio\n",
    "import nest_asyncio\n",
    "from database import dbconn\n",
    "import importlib\n",
    "\n",
    "importlib.reload(dbconn)\n",
    "\n",
    "nest_asyncio.apply()\n",
    "\n",
    "loop = asyncio.get_event_loop()\n",
    "\n"
   ],
   "metadata": {
    "collapsed": false,
    "ExecuteTime": {
     "end_time": "2023-09-30T09:51:42.230679Z",
     "start_time": "2023-09-30T09:51:42.033607Z"
    }
   }
  },
  {
   "cell_type": "code",
   "execution_count": 3,
   "outputs": [],
   "source": [],
   "metadata": {
    "collapsed": false,
    "ExecuteTime": {
     "end_time": "2023-09-30T09:51:42.259528Z",
     "start_time": "2023-09-30T09:51:42.103467Z"
    }
   }
  },
  {
   "cell_type": "code",
   "execution_count": 4,
   "outputs": [],
   "source": [
    "import pandas as pd\n",
    "\n",
    "dict_team_data = dict()\n",
    "\n",
    "for team_id in set(matches_df[\"Team Home ID\"]):\n",
    "    team_data_matches_home, team_data_matches_away = loop.run_until_complete(dbconn.get_matches_by_team(team_id))\n",
    "    team_data_matches = [[x.id, x.goalsHome, x.goalsAway, x.winnerTeamId] for x in team_data_matches_home] + [[x.id, x.goalsHome, x.goalsAway, x.winnerTeamId] for x in team_data_matches_away]\n",
    "    team_data_matches = sorted(team_data_matches, key=lambda x: x[0])\n",
    "    for i in range(len(team_data_matches)):\n",
    "        if team_data_matches[i][3] == team_id:\n",
    "            team_data_matches[i][3] = \"Won\"\n",
    "        elif team_data_matches[i][3] == None:\n",
    "            team_data_matches[i][3] = \"Draw\"\n",
    "        else:\n",
    "            team_data_matches[i][3] = \"Lost\"\n",
    "    dict_team_data[team_id] = pd.DataFrame(team_data_matches)"
   ],
   "metadata": {
    "collapsed": false,
    "ExecuteTime": {
     "end_time": "2023-09-30T09:51:44.462340Z",
     "start_time": "2023-09-30T09:51:42.104190Z"
    }
   }
  },
  {
   "cell_type": "code",
   "execution_count": 5,
   "outputs": [],
   "source": [
    "matches_form = []\n",
    "for _, row in matches_df.iterrows():\n",
    "    home_form = dict_team_data[row[\"Team Home ID\"]]\n",
    "    home_form = home_form[home_form[0] < row[\"Match ID\"]].iloc[-5:]\n",
    "    home_form_5 = list(home_form[3])\n",
    "    for i in range(5 - len(home_form_5)):\n",
    "        home_form_5 = [\"Draw\"] + home_form_5\n",
    "    away_form = dict_team_data[row[\"Team Away ID\"]]\n",
    "    away_form = away_form[away_form[0] < row[\"Match ID\"]].iloc[-5:]\n",
    "    away_form_5 = list(away_form[3])\n",
    "    for i in range(5 - len(away_form_5)):\n",
    "        away_form_5 = [\"Draw\"] + away_form_5\n",
    "    matches_form.append(home_form_5 + away_form_5)"
   ],
   "metadata": {
    "collapsed": false,
    "ExecuteTime": {
     "end_time": "2023-09-30T09:51:44.551749Z",
     "start_time": "2023-09-30T09:51:44.462044Z"
    }
   }
  },
  {
   "cell_type": "code",
   "execution_count": 6,
   "outputs": [],
   "source": [
    "columns_added = [\"Home_Pre\" + str(x) for x in range(5, 0, -1)] + [\"Away_Pre\" + str(x) for x in range(5, 0, -1)]\n",
    "matches_df = pd.concat([matches_df, pd.DataFrame(matches_form, columns=columns_added)], axis=1)"
   ],
   "metadata": {
    "collapsed": false,
    "ExecuteTime": {
     "end_time": "2023-09-30T09:51:44.552082Z",
     "start_time": "2023-09-30T09:51:44.532697Z"
    }
   }
  },
  {
   "cell_type": "code",
   "execution_count": 7,
   "outputs": [],
   "source": [
    "from sklearn.model_selection import train_test_split\n",
    "from sklearn.preprocessing import *\n",
    "\n",
    "res_enc = LabelEncoder()\n",
    "form_enc = LabelEncoder()\n",
    "matches_df[\"Result\"] = res_enc.fit_transform(matches_df[\"Result\"])\n",
    "form_enc.fit(matches_df[\"Home_Pre5\"])\n",
    "matches_df[\"Home_Pre5\"] = form_enc.transform(matches_df[\"Home_Pre5\"])\n",
    "for column in columns_added[1:]:\n",
    "    matches_df[column] = form_enc.transform(matches_df[column])\n",
    "X_train, X_test, y_train, y_test = train_test_split(matches_df.drop([\"Goals Home\", \"Goals Away\", \"Goals Difference\", \"Result\", \"Winner Team ID\", \"Match ID\", \"Team Home ID\", \"Team Away ID\"], axis=1), matches_df[\"Result\"], random_state=42, test_size=0.2)"
   ],
   "metadata": {
    "collapsed": false,
    "ExecuteTime": {
     "end_time": "2023-09-30T09:51:45.060492Z",
     "start_time": "2023-09-30T09:51:44.538702Z"
    }
   }
  },
  {
   "cell_type": "code",
   "execution_count": 8,
   "outputs": [
    {
     "data": {
      "text/plain": "0.48366013071895425"
     },
     "execution_count": 8,
     "metadata": {},
     "output_type": "execute_result"
    }
   ],
   "source": [
    "from sklearn.naive_bayes import GaussianNB\n",
    "from sklearn.metrics import *\n",
    "\n",
    "clf = GaussianNB()\n",
    "clf.fit(X_train, y_train)\n",
    "y_pred = clf.predict(X_test)\n",
    "accuracy_score(y_test, y_pred)"
   ],
   "metadata": {
    "collapsed": false,
    "ExecuteTime": {
     "end_time": "2023-09-30T09:51:45.068074Z",
     "start_time": "2023-09-30T09:51:44.936778Z"
    }
   }
  },
  {
   "cell_type": "code",
   "execution_count": 9,
   "outputs": [
    {
     "data": {
      "text/plain": "0.47549019607843135"
     },
     "execution_count": 9,
     "metadata": {},
     "output_type": "execute_result"
    }
   ],
   "source": [
    "from sklearn.ensemble import *\n",
    "\n",
    "clf = RandomForestClassifier(random_state=42)\n",
    "clf.fit(X_train, y_train)\n",
    "y_pred = clf.predict(X_test)\n",
    "accuracy_score(y_test, y_pred)"
   ],
   "metadata": {
    "collapsed": false,
    "ExecuteTime": {
     "end_time": "2023-09-30T09:51:45.246326Z",
     "start_time": "2023-09-30T09:51:45.060806Z"
    }
   }
  },
  {
   "cell_type": "code",
   "execution_count": 10,
   "outputs": [
    {
     "data": {
      "text/plain": "0.4934640522875817"
     },
     "execution_count": 10,
     "metadata": {},
     "output_type": "execute_result"
    }
   ],
   "source": [
    "clf = GradientBoostingClassifier(random_state=42)\n",
    "clf.fit(X_train, y_train)\n",
    "y_pred = clf.predict(X_test)\n",
    "accuracy_score(y_test, y_pred)"
   ],
   "metadata": {
    "collapsed": false,
    "ExecuteTime": {
     "end_time": "2023-09-30T09:51:46.011339Z",
     "start_time": "2023-09-30T09:51:45.247212Z"
    }
   }
  },
  {
   "cell_type": "code",
   "execution_count": 11,
   "outputs": [
    {
     "data": {
      "text/plain": "0.5081699346405228"
     },
     "execution_count": 11,
     "metadata": {},
     "output_type": "execute_result"
    }
   ],
   "source": [
    "clf = AdaBoostClassifier(random_state=42)\n",
    "clf.fit(X_train, y_train)\n",
    "y_pred = clf.predict(X_test)\n",
    "accuracy_score(y_test, y_pred)"
   ],
   "metadata": {
    "collapsed": false,
    "ExecuteTime": {
     "end_time": "2023-09-30T09:51:46.097668Z",
     "start_time": "2023-09-30T09:51:46.011995Z"
    }
   }
  },
  {
   "cell_type": "code",
   "execution_count": 12,
   "outputs": [
    {
     "data": {
      "text/plain": "0.4444444444444444"
     },
     "execution_count": 12,
     "metadata": {},
     "output_type": "execute_result"
    }
   ],
   "source": [
    "from sklearn.neighbors import *\n",
    "\n",
    "clf = KNeighborsClassifier()\n",
    "clf.fit(X_train, y_train)\n",
    "y_pred = clf.predict(X_test)\n",
    "accuracy_score(y_test, y_pred)"
   ],
   "metadata": {
    "collapsed": false,
    "ExecuteTime": {
     "end_time": "2023-09-30T09:51:46.113705Z",
     "start_time": "2023-09-30T09:51:46.098399Z"
    }
   }
  },
  {
   "cell_type": "code",
   "execution_count": 18,
   "outputs": [
    {
     "name": "stdout",
     "output_type": "stream",
     "text": [
      "Parse progress: |████████████████████████████████████████████████████████████████| (done) 100%\n",
      "Parse progress: |████████████████████████████████████████████████████████████████| (done) 100%\n"
     ]
    }
   ],
   "source": [],
   "metadata": {
    "collapsed": false,
    "ExecuteTime": {
     "end_time": "2023-09-30T09:54:49.673274Z",
     "start_time": "2023-09-30T09:54:49.309887Z"
    }
   }
  },
  {
   "cell_type": "code",
   "execution_count": 62,
   "outputs": [
    {
     "name": "stdout",
     "output_type": "stream",
     "text": [
      "Checking whether there is an H2O instance running at http://localhost:54321. connected.\n"
     ]
    },
    {
     "data": {
      "text/plain": "--------------------------  ------------------------------------\nH2O_cluster_uptime:         1 hour 45 mins\nH2O_cluster_timezone:       Europe/Berlin\nH2O_data_parsing_timezone:  UTC\nH2O_cluster_version:        3.42.0.3\nH2O_cluster_version_age:    1 month and 7 days\nH2O_cluster_name:           H2O_from_python_maxlautenbach_iulu9c\nH2O_cluster_total_nodes:    1\nH2O_cluster_free_memory:    7.908 Gb\nH2O_cluster_total_cores:    10\nH2O_cluster_allowed_cores:  10\nH2O_cluster_status:         locked, healthy\nH2O_connection_url:         http://localhost:54321\nH2O_connection_proxy:       {\"http\": null, \"https\": null}\nH2O_internal_security:      False\nPython_version:             3.9.18 final\n--------------------------  ------------------------------------",
      "text/html": "\n<style>\n\n#h2o-table-21.h2o-container {\n  overflow-x: auto;\n}\n#h2o-table-21 .h2o-table {\n  /* width: 100%; */\n  margin-top: 1em;\n  margin-bottom: 1em;\n}\n#h2o-table-21 .h2o-table caption {\n  white-space: nowrap;\n  caption-side: top;\n  text-align: left;\n  /* margin-left: 1em; */\n  margin: 0;\n  font-size: larger;\n}\n#h2o-table-21 .h2o-table thead {\n  white-space: nowrap; \n  position: sticky;\n  top: 0;\n  box-shadow: 0 -1px inset;\n}\n#h2o-table-21 .h2o-table tbody {\n  overflow: auto;\n}\n#h2o-table-21 .h2o-table th,\n#h2o-table-21 .h2o-table td {\n  text-align: right;\n  /* border: 1px solid; */\n}\n#h2o-table-21 .h2o-table tr:nth-child(even) {\n  /* background: #F5F5F5 */\n}\n\n</style>      \n<div id=\"h2o-table-21\" class=\"h2o-container\">\n  <table class=\"h2o-table\">\n    <caption></caption>\n    <thead></thead>\n    <tbody><tr><td>H2O_cluster_uptime:</td>\n<td>1 hour 45 mins</td></tr>\n<tr><td>H2O_cluster_timezone:</td>\n<td>Europe/Berlin</td></tr>\n<tr><td>H2O_data_parsing_timezone:</td>\n<td>UTC</td></tr>\n<tr><td>H2O_cluster_version:</td>\n<td>3.42.0.3</td></tr>\n<tr><td>H2O_cluster_version_age:</td>\n<td>1 month and 7 days</td></tr>\n<tr><td>H2O_cluster_name:</td>\n<td>H2O_from_python_maxlautenbach_iulu9c</td></tr>\n<tr><td>H2O_cluster_total_nodes:</td>\n<td>1</td></tr>\n<tr><td>H2O_cluster_free_memory:</td>\n<td>7.908 Gb</td></tr>\n<tr><td>H2O_cluster_total_cores:</td>\n<td>10</td></tr>\n<tr><td>H2O_cluster_allowed_cores:</td>\n<td>10</td></tr>\n<tr><td>H2O_cluster_status:</td>\n<td>locked, healthy</td></tr>\n<tr><td>H2O_connection_url:</td>\n<td>http://localhost:54321</td></tr>\n<tr><td>H2O_connection_proxy:</td>\n<td>{\"http\": null, \"https\": null}</td></tr>\n<tr><td>H2O_internal_security:</td>\n<td>False</td></tr>\n<tr><td>Python_version:</td>\n<td>3.9.18 final</td></tr></tbody>\n  </table>\n</div>\n"
     },
     "metadata": {},
     "output_type": "display_data"
    },
    {
     "name": "stdout",
     "output_type": "stream",
     "text": [
      "Parse progress: |████████████████████████████████████████████████████████████████| (done) 100%\n",
      "Parse progress: |████████████████████████████████████████████████████████████████| (done) 100%\n",
      "AutoML progress: |\n",
      "13:38:55.742: AutoML: XGBoost is not available; skipping it.\n",
      "\n",
      "███████████████████████████████████████████████████████████████| (done) 100%\n",
      "CPU times: user 1.2 s, sys: 273 ms, total: 1.47 s\n",
      "Wall time: 3min 44s\n"
     ]
    },
    {
     "data": {
      "text/plain": "Model Details\n=============\nH2OStackedEnsembleEstimator : Stacked Ensemble\nModel Key: StackedEnsemble_BestOfFamily_1_AutoML_6_20230930_133855\n\n\nModel Summary for Stacked Ensemble: \nkey                                        value\n-----------------------------------------  ----------------\nStacking strategy                          cross_validation\nNumber of base models (used / total)       4/5\n# GBM base models (used / total)           1/1\n# GLM base models (used / total)           1/1\n# DeepLearning base models (used / total)  1/1\n# DRF base models (used / total)           1/2\nMetalearner algorithm                      GLM\nMetalearner fold assignment scheme         Random\nMetalearner nfolds                         5\nMetalearner fold_column\nCustom metalearner hyperparameters         None\n\nModelMetricsRegressionGLM: stackedensemble\n** Reported on train data. **\n\nMSE: 2.820370688075981\nRMSE: 1.679395929516319\nMAE: 1.3222667593045838\nRMSLE: NaN\nMean Residual Deviance: 2.820370688075981\nR^2: 0.2800933119468467\nNull degrees of freedom: 2447\nResidual degrees of freedom: 2443\nNull deviance: 9590.503267973827\nResidual deviance: 6904.267444410002\nAIC: 9497.376720577942\n\nModelMetricsRegressionGLM: stackedensemble\n** Reported on cross-validation data. **\n\nMSE: 3.1208295302473723\nRMSE: 1.7665869721718692\nMAE: 1.3922143034940535\nRMSLE: NaN\nMean Residual Deviance: 3.1208295302473723\nR^2: 0.2034004393119202\nNull degrees of freedom: 2447\nResidual degrees of freedom: 2444\nNull deviance: 9607.017418358193\nResidual deviance: 7639.790690045567\nAIC: 9743.18902271425\n\nCross-Validation Metrics Summary: \n                        mean      sd         cv_1_valid    cv_2_valid    cv_3_valid    cv_4_valid    cv_5_valid\n----------------------  --------  ---------  ------------  ------------  ------------  ------------  ------------\nmae                     1.39114   0.0581399  1.33372       1.44178       1.44655       1.32555       1.40808\nmean_residual_deviance  3.11757   0.254115   2.88117       3.34916       3.34335       2.81553       3.19864\nmse                     3.11757   0.254115   2.88117       3.34916       3.34335       2.81553       3.19864\nnull_deviance           1921.4    139.872    1893.72       1987.67       2128.35       1790.62       1806.66\nr2                      0.201679  0.0347442  0.248374      0.189307      0.201952      0.215174      0.153586\nresidual_deviance       1526.41   131.726    1414.65       1607.6        1698.42       1382.42       1528.95\nrmse                    1.76448   0.072389   1.6974        1.83007       1.82848       1.67795       1.78847\nrmsle                   nan       0          nan           nan           nan           nan           nan\n\n[tips]\nUse `model.explain()` to inspect the model.\n--\nUse `h2o.display.toggle_user_tips()` to switch on/off this section.",
      "text/html": "<pre style='margin: 1em 0 1em 0;'>Model Details\n=============\nH2OStackedEnsembleEstimator : Stacked Ensemble\nModel Key: StackedEnsemble_BestOfFamily_1_AutoML_6_20230930_133855\n</pre>\n<div style='margin: 1em 0 1em 0;'>\n<style>\n\n#h2o-table-22.h2o-container {\n  overflow-x: auto;\n}\n#h2o-table-22 .h2o-table {\n  /* width: 100%; */\n  margin-top: 1em;\n  margin-bottom: 1em;\n}\n#h2o-table-22 .h2o-table caption {\n  white-space: nowrap;\n  caption-side: top;\n  text-align: left;\n  /* margin-left: 1em; */\n  margin: 0;\n  font-size: larger;\n}\n#h2o-table-22 .h2o-table thead {\n  white-space: nowrap; \n  position: sticky;\n  top: 0;\n  box-shadow: 0 -1px inset;\n}\n#h2o-table-22 .h2o-table tbody {\n  overflow: auto;\n}\n#h2o-table-22 .h2o-table th,\n#h2o-table-22 .h2o-table td {\n  text-align: right;\n  /* border: 1px solid; */\n}\n#h2o-table-22 .h2o-table tr:nth-child(even) {\n  /* background: #F5F5F5 */\n}\n\n</style>      \n<div id=\"h2o-table-22\" class=\"h2o-container\">\n  <table class=\"h2o-table\">\n    <caption>Model Summary for Stacked Ensemble: </caption>\n    <thead><tr><th>key</th>\n<th>value</th></tr></thead>\n    <tbody><tr><td>Stacking strategy</td>\n<td>cross_validation</td></tr>\n<tr><td>Number of base models (used / total)</td>\n<td>4/5</td></tr>\n<tr><td># GBM base models (used / total)</td>\n<td>1/1</td></tr>\n<tr><td># GLM base models (used / total)</td>\n<td>1/1</td></tr>\n<tr><td># DeepLearning base models (used / total)</td>\n<td>1/1</td></tr>\n<tr><td># DRF base models (used / total)</td>\n<td>1/2</td></tr>\n<tr><td>Metalearner algorithm</td>\n<td>GLM</td></tr>\n<tr><td>Metalearner fold assignment scheme</td>\n<td>Random</td></tr>\n<tr><td>Metalearner nfolds</td>\n<td>5</td></tr>\n<tr><td>Metalearner fold_column</td>\n<td>None</td></tr>\n<tr><td>Custom metalearner hyperparameters</td>\n<td>None</td></tr></tbody>\n  </table>\n</div>\n</div>\n<div style='margin: 1em 0 1em 0;'><pre style='margin: 1em 0 1em 0;'>ModelMetricsRegressionGLM: stackedensemble\n** Reported on train data. **\n\nMSE: 2.820370688075981\nRMSE: 1.679395929516319\nMAE: 1.3222667593045838\nRMSLE: NaN\nMean Residual Deviance: 2.820370688075981\nR^2: 0.2800933119468467\nNull degrees of freedom: 2447\nResidual degrees of freedom: 2443\nNull deviance: 9590.503267973827\nResidual deviance: 6904.267444410002\nAIC: 9497.376720577942</pre></div>\n<div style='margin: 1em 0 1em 0;'><pre style='margin: 1em 0 1em 0;'>ModelMetricsRegressionGLM: stackedensemble\n** Reported on cross-validation data. **\n\nMSE: 3.1208295302473723\nRMSE: 1.7665869721718692\nMAE: 1.3922143034940535\nRMSLE: NaN\nMean Residual Deviance: 3.1208295302473723\nR^2: 0.2034004393119202\nNull degrees of freedom: 2447\nResidual degrees of freedom: 2444\nNull deviance: 9607.017418358193\nResidual deviance: 7639.790690045567\nAIC: 9743.18902271425</pre></div>\n<div style='margin: 1em 0 1em 0;'>\n<style>\n\n#h2o-table-23.h2o-container {\n  overflow-x: auto;\n}\n#h2o-table-23 .h2o-table {\n  /* width: 100%; */\n  margin-top: 1em;\n  margin-bottom: 1em;\n}\n#h2o-table-23 .h2o-table caption {\n  white-space: nowrap;\n  caption-side: top;\n  text-align: left;\n  /* margin-left: 1em; */\n  margin: 0;\n  font-size: larger;\n}\n#h2o-table-23 .h2o-table thead {\n  white-space: nowrap; \n  position: sticky;\n  top: 0;\n  box-shadow: 0 -1px inset;\n}\n#h2o-table-23 .h2o-table tbody {\n  overflow: auto;\n}\n#h2o-table-23 .h2o-table th,\n#h2o-table-23 .h2o-table td {\n  text-align: right;\n  /* border: 1px solid; */\n}\n#h2o-table-23 .h2o-table tr:nth-child(even) {\n  /* background: #F5F5F5 */\n}\n\n</style>      \n<div id=\"h2o-table-23\" class=\"h2o-container\">\n  <table class=\"h2o-table\">\n    <caption>Cross-Validation Metrics Summary: </caption>\n    <thead><tr><th></th>\n<th>mean</th>\n<th>sd</th>\n<th>cv_1_valid</th>\n<th>cv_2_valid</th>\n<th>cv_3_valid</th>\n<th>cv_4_valid</th>\n<th>cv_5_valid</th></tr></thead>\n    <tbody><tr><td>mae</td>\n<td>1.3911365</td>\n<td>0.0581399</td>\n<td>1.3337193</td>\n<td>1.4417789</td>\n<td>1.4465504</td>\n<td>1.3255492</td>\n<td>1.4080849</td></tr>\n<tr><td>mean_residual_deviance</td>\n<td>3.11757</td>\n<td>0.2541147</td>\n<td>2.8811703</td>\n<td>3.349163</td>\n<td>3.3433487</td>\n<td>2.8155289</td>\n<td>3.198638</td></tr>\n<tr><td>mse</td>\n<td>3.11757</td>\n<td>0.2541147</td>\n<td>2.8811703</td>\n<td>3.349163</td>\n<td>3.3433487</td>\n<td>2.8155289</td>\n<td>3.198638</td></tr>\n<tr><td>null_deviance</td>\n<td>1921.4034</td>\n<td>139.87204</td>\n<td>1893.7223</td>\n<td>1987.6656</td>\n<td>2128.3535</td>\n<td>1790.6152</td>\n<td>1806.6606</td></tr>\n<tr><td>r2</td>\n<td>0.2016788</td>\n<td>0.0347442</td>\n<td>0.2483742</td>\n<td>0.1893066</td>\n<td>0.2019524</td>\n<td>0.2151744</td>\n<td>0.1535863</td></tr>\n<tr><td>residual_deviance</td>\n<td>1526.4095</td>\n<td>131.7259</td>\n<td>1414.6547</td>\n<td>1607.5983</td>\n<td>1698.4211</td>\n<td>1382.4247</td>\n<td>1528.949</td></tr>\n<tr><td>rmse</td>\n<td>1.7644767</td>\n<td>0.0723890</td>\n<td>1.697401</td>\n<td>1.8300718</td>\n<td>1.8284826</td>\n<td>1.6779538</td>\n<td>1.7884737</td></tr>\n<tr><td>rmsle</td>\n<td>nan</td>\n<td>0.0</td>\n<td>nan</td>\n<td>nan</td>\n<td>nan</td>\n<td>nan</td>\n<td>nan</td></tr></tbody>\n  </table>\n</div>\n</div><pre style=\"font-size: smaller; margin: 1em 0 0 0;\">\n\n[tips]\nUse `model.explain()` to inspect the model.\n--\nUse `h2o.display.toggle_user_tips()` to switch on/off this section.</pre>"
     },
     "execution_count": 62,
     "metadata": {},
     "output_type": "execute_result"
    }
   ],
   "source": [
    "import h2o\n",
    "from h2o.automl import H2OAutoML\n",
    "\n",
    "h2o.init(max_mem_size_GB=8)\n",
    "\n",
    "train, test = train_test_split(matches_df.drop([\"Goals Home\", \"Goals Away\", \"Winner Team ID\", \"Match ID\", \"Team Home ID\", \"Team Away ID\", \"Result\"], axis=1), random_state=42, test_size=0.2)\n",
    "\n",
    "train = h2o.H2OFrame(train)\n",
    "test = h2o.H2OFrame(test)\n",
    "\n",
    "clf = H2OAutoML(max_models=20, max_runtime_secs=1200)\n",
    "clf.train(training_frame=train, y=\"Goals Difference\")"
   ],
   "metadata": {
    "collapsed": false,
    "ExecuteTime": {
     "end_time": "2023-09-30T11:42:39.833205Z",
     "start_time": "2023-09-30T11:38:55.550249Z"
    }
   }
  },
  {
   "cell_type": "code",
   "execution_count": 43,
   "outputs": [
    {
     "name": "stdout",
     "output_type": "stream",
     "text": [
      "glm prediction progress: |███████████████████████████████████████████████████████| (done) 100%\n"
     ]
    },
    {
     "data": {
      "text/plain": "     predict\n0        2.0\n1       -0.0\n2       -2.0\n3       -0.0\n4        1.0\n..       ...\n607      1.0\n608      1.0\n609      0.0\n610      0.0\n611     -0.0\n\n[612 rows x 1 columns]",
      "text/html": "<div>\n<style scoped>\n    .dataframe tbody tr th:only-of-type {\n        vertical-align: middle;\n    }\n\n    .dataframe tbody tr th {\n        vertical-align: top;\n    }\n\n    .dataframe thead th {\n        text-align: right;\n    }\n</style>\n<table border=\"1\" class=\"dataframe\">\n  <thead>\n    <tr style=\"text-align: right;\">\n      <th></th>\n      <th>predict</th>\n    </tr>\n  </thead>\n  <tbody>\n    <tr>\n      <th>0</th>\n      <td>2.0</td>\n    </tr>\n    <tr>\n      <th>1</th>\n      <td>-0.0</td>\n    </tr>\n    <tr>\n      <th>2</th>\n      <td>-2.0</td>\n    </tr>\n    <tr>\n      <th>3</th>\n      <td>-0.0</td>\n    </tr>\n    <tr>\n      <th>4</th>\n      <td>1.0</td>\n    </tr>\n    <tr>\n      <th>...</th>\n      <td>...</td>\n    </tr>\n    <tr>\n      <th>607</th>\n      <td>1.0</td>\n    </tr>\n    <tr>\n      <th>608</th>\n      <td>1.0</td>\n    </tr>\n    <tr>\n      <th>609</th>\n      <td>0.0</td>\n    </tr>\n    <tr>\n      <th>610</th>\n      <td>0.0</td>\n    </tr>\n    <tr>\n      <th>611</th>\n      <td>-0.0</td>\n    </tr>\n  </tbody>\n</table>\n<p>612 rows × 1 columns</p>\n</div>"
     },
     "execution_count": 43,
     "metadata": {},
     "output_type": "execute_result"
    }
   ],
   "source": [
    "y_pred = clf.predict(test)\n",
    "y_pred = y_pred.as_data_frame().round()\n",
    "y_pred"
   ],
   "metadata": {
    "collapsed": false,
    "ExecuteTime": {
     "end_time": "2023-09-30T11:32:52.196437Z",
     "start_time": "2023-09-30T11:32:52.134479Z"
    }
   }
  },
  {
   "cell_type": "code",
   "execution_count": 64,
   "outputs": [
    {
     "data": {
      "text/plain": "     Goals Difference  predict  Goals Home  Goals Away\n0                   1      2.0           2           1\n1                   0     -0.0           2           1\n2                  -1     -2.0           0           1\n3                   0     -0.0           2           2\n4                   1      1.0           1           1\n..                ...      ...         ...         ...\n607                -1      1.0           3           1\n608                 2      1.0           3           1\n609                -1      0.0           3           2\n610                 0      0.0           2           1\n611                 2     -0.0           0           4\n\n[612 rows x 4 columns]",
      "text/html": "<div>\n<style scoped>\n    .dataframe tbody tr th:only-of-type {\n        vertical-align: middle;\n    }\n\n    .dataframe tbody tr th {\n        vertical-align: top;\n    }\n\n    .dataframe thead th {\n        text-align: right;\n    }\n</style>\n<table border=\"1\" class=\"dataframe\">\n  <thead>\n    <tr style=\"text-align: right;\">\n      <th></th>\n      <th>Goals Difference</th>\n      <th>predict</th>\n      <th>Goals Home</th>\n      <th>Goals Away</th>\n    </tr>\n  </thead>\n  <tbody>\n    <tr>\n      <th>0</th>\n      <td>1</td>\n      <td>2.0</td>\n      <td>2</td>\n      <td>1</td>\n    </tr>\n    <tr>\n      <th>1</th>\n      <td>0</td>\n      <td>-0.0</td>\n      <td>2</td>\n      <td>1</td>\n    </tr>\n    <tr>\n      <th>2</th>\n      <td>-1</td>\n      <td>-2.0</td>\n      <td>0</td>\n      <td>1</td>\n    </tr>\n    <tr>\n      <th>3</th>\n      <td>0</td>\n      <td>-0.0</td>\n      <td>2</td>\n      <td>2</td>\n    </tr>\n    <tr>\n      <th>4</th>\n      <td>1</td>\n      <td>1.0</td>\n      <td>1</td>\n      <td>1</td>\n    </tr>\n    <tr>\n      <th>...</th>\n      <td>...</td>\n      <td>...</td>\n      <td>...</td>\n      <td>...</td>\n    </tr>\n    <tr>\n      <th>607</th>\n      <td>-1</td>\n      <td>1.0</td>\n      <td>3</td>\n      <td>1</td>\n    </tr>\n    <tr>\n      <th>608</th>\n      <td>2</td>\n      <td>1.0</td>\n      <td>3</td>\n      <td>1</td>\n    </tr>\n    <tr>\n      <th>609</th>\n      <td>-1</td>\n      <td>0.0</td>\n      <td>3</td>\n      <td>2</td>\n    </tr>\n    <tr>\n      <th>610</th>\n      <td>0</td>\n      <td>0.0</td>\n      <td>2</td>\n      <td>1</td>\n    </tr>\n    <tr>\n      <th>611</th>\n      <td>2</td>\n      <td>-0.0</td>\n      <td>0</td>\n      <td>4</td>\n    </tr>\n  </tbody>\n</table>\n<p>612 rows × 4 columns</p>\n</div>"
     },
     "execution_count": 64,
     "metadata": {},
     "output_type": "execute_result"
    }
   ],
   "source": [
    "res_df = pd.concat([test.as_data_frame()[\"Goals Difference\"], y_pred], axis=1)\n",
    "res_df.join(matches_df[[\"Goals Home\", \"Goals Away\"]])"
   ],
   "metadata": {
    "collapsed": false,
    "ExecuteTime": {
     "end_time": "2023-09-30T16:33:48.817816Z",
     "start_time": "2023-09-30T16:33:48.786460Z"
    }
   }
  },
  {
   "cell_type": "code",
   "execution_count": 59,
   "outputs": [],
   "source": [
    "count = 0\n",
    "count2 = 0\n",
    "for _, row in res_df.iterrows():\n",
    "    if row[\"Goals Difference\"] == row[\"predict\"]:\n",
    "        count += 1\n",
    "        count2 += 3\n",
    "    elif (row[\"Goals Difference\"] < 0 and row[\"predict\"] < 0) or (row[\"Goals Difference\"] > 0 and row[\"predict\"] > 0) or (row[\"Goals Difference\"] == 0 and row[\"predict\"] == 0):\n",
    "        count += 1\n",
    "        count2 += 1\n"
   ],
   "metadata": {
    "collapsed": false,
    "ExecuteTime": {
     "end_time": "2023-09-30T11:37:49.664703Z",
     "start_time": "2023-09-30T11:37:49.659012Z"
    }
   }
  },
  {
   "cell_type": "code",
   "execution_count": 60,
   "outputs": [
    {
     "data": {
      "text/plain": "0.43137254901960786"
     },
     "execution_count": 60,
     "metadata": {},
     "output_type": "execute_result"
    }
   ],
   "source": [
    "count / len(res_df)"
   ],
   "metadata": {
    "collapsed": false,
    "ExecuteTime": {
     "end_time": "2023-09-30T11:37:50.096264Z",
     "start_time": "2023-09-30T11:37:50.073247Z"
    }
   }
  },
  {
   "cell_type": "code",
   "execution_count": 61,
   "outputs": [
    {
     "data": {
      "text/plain": "276.0"
     },
     "execution_count": 61,
     "metadata": {},
     "output_type": "execute_result"
    }
   ],
   "source": [
    "(count2 / len(res_df)) * 306"
   ],
   "metadata": {
    "collapsed": false,
    "ExecuteTime": {
     "end_time": "2023-09-30T11:37:50.539420Z",
     "start_time": "2023-09-30T11:37:50.528613Z"
    }
   }
  },
  {
   "cell_type": "code",
   "execution_count": null,
   "outputs": [],
   "source": [],
   "metadata": {
    "collapsed": false
   }
  }
 ],
 "metadata": {
  "kernelspec": {
   "display_name": "Python 3",
   "language": "python",
   "name": "python3"
  },
  "language_info": {
   "codemirror_mode": {
    "name": "ipython",
    "version": 2
   },
   "file_extension": ".py",
   "mimetype": "text/x-python",
   "name": "python",
   "nbconvert_exporter": "python",
   "pygments_lexer": "ipython2",
   "version": "2.7.6"
  }
 },
 "nbformat": 4,
 "nbformat_minor": 0
}
