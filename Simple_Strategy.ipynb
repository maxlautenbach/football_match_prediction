{
 "cells": [
  {
   "cell_type": "code",
   "execution_count": 31,
   "metadata": {
    "collapsed": true,
    "ExecuteTime": {
     "end_time": "2023-09-22T15:47:38.613098Z",
     "start_time": "2023-09-22T15:47:38.606858Z"
    }
   },
   "outputs": [],
   "source": [
    "import pickle\n",
    "import random\n",
    "\n",
    "matches_df = pickle.load(open(\"database/matches_df.pck\", \"rb\"))"
   ]
  },
  {
   "cell_type": "code",
   "execution_count": 32,
   "outputs": [],
   "source": [
    "winner_list = []\n",
    "market_val_diff = []\n",
    "goals_diff = []\n",
    "for _, row in matches_df.iterrows():\n",
    "    if row[\"Team Home ID\"] == row[\"Winner Team ID\"]:\n",
    "        winner_list.append(\"Home\")\n",
    "    elif row[\"Team Away ID\"] == row[\"Winner Team ID\"]:\n",
    "        winner_list.append(\"Away\")\n",
    "    elif row[\"Winner Team ID\"] == 0:\n",
    "        winner_list.append(\"Draw\")\n",
    "    market_val_diff.append(row[\"Market Value Home\"] - row[\"Market Value Away\"])\n",
    "    goals_diff.append(row[\"Goals Home\"] - row[\"Goals Away\"])\n",
    "matches_df[\"Result\"] = winner_list\n",
    "matches_df[\"Market Value Difference\"] = market_val_diff\n",
    "matches_df[\"Goals Difference\"] = goals_diff"
   ],
   "metadata": {
    "collapsed": false,
    "ExecuteTime": {
     "end_time": "2023-09-22T15:47:38.788876Z",
     "start_time": "2023-09-22T15:47:38.644560Z"
    }
   }
  },
  {
   "cell_type": "code",
   "execution_count": 33,
   "outputs": [],
   "source": [
    "y_pred = []\n",
    "for _, row in matches_df.iterrows():\n",
    "    if row[\"Market Value Difference\"] >= 0:\n",
    "        y_pred.append([2, 1, 1])\n",
    "    else:\n",
    "        y_pred.append([1, 2, -1])"
   ],
   "metadata": {
    "collapsed": false,
    "ExecuteTime": {
     "end_time": "2023-09-22T15:47:38.903733Z",
     "start_time": "2023-09-22T15:47:38.791504Z"
    }
   }
  },
  {
   "cell_type": "code",
   "execution_count": 34,
   "outputs": [
    {
     "data": {
      "text/plain": "324.9"
     },
     "execution_count": 34,
     "metadata": {},
     "output_type": "execute_result"
    }
   ],
   "source": [
    "points = 0\n",
    "point_list = []\n",
    "for index, row in matches_df.iterrows():\n",
    "    pred_home_goals, pred_away_goals, pred_goal_diff = y_pred[index]\n",
    "    if pred_home_goals == row[\"Goals Home\"] and pred_away_goals == row[\"Goals Away\"]:\n",
    "        points += 5\n",
    "        point_list.append(5)\n",
    "    elif pred_goal_diff == row[\"Goals Difference\"]:\n",
    "        points += 3\n",
    "        point_list.append(3)\n",
    "    elif (pred_goal_diff > 0 and row[\"Goals Difference\"] > 0) or (pred_goal_diff < 0 and row[\"Goals Difference\"] < 0):\n",
    "        points += 1\n",
    "        point_list.append(1)\n",
    "    else:\n",
    "        point_list.append(0)\n",
    "points / 10"
   ],
   "metadata": {
    "collapsed": false,
    "ExecuteTime": {
     "end_time": "2023-09-22T15:47:39.040086Z",
     "start_time": "2023-09-22T15:47:38.945738Z"
    }
   }
  },
  {
   "cell_type": "code",
   "execution_count": 35,
   "outputs": [],
   "source": [
    "import pandas as pd\n",
    "df = pd.concat([matches_df[[\"Market Value Difference\",\"Goals Home\", \"Goals Away\", \"Goals Difference\"]], pd.DataFrame(y_pred, columns=[\"Pred Goals Home\", \"Pred Goals Away\", \"Pred Goals Difference\"])], axis=1)\n",
    "df[\"Points\"] = point_list"
   ],
   "metadata": {
    "collapsed": false,
    "ExecuteTime": {
     "end_time": "2023-09-22T15:47:39.048129Z",
     "start_time": "2023-09-22T15:47:39.046213Z"
    }
   }
  },
  {
   "cell_type": "code",
   "execution_count": 36,
   "outputs": [
    {
     "data": {
      "text/plain": "Points\n0    151.5\n1     94.2\n3     35.4\n5     24.9\nName: count, dtype: float64"
     },
     "execution_count": 36,
     "metadata": {},
     "output_type": "execute_result"
    }
   ],
   "source": [
    "df[\"Points\"].value_counts()/10"
   ],
   "metadata": {
    "collapsed": false,
    "ExecuteTime": {
     "end_time": "2023-09-22T15:47:39.053670Z",
     "start_time": "2023-09-22T15:47:39.051543Z"
    }
   }
  },
  {
   "cell_type": "code",
   "execution_count": 37,
   "outputs": [],
   "source": [
    "from sklearn.model_selection import train_test_split\n",
    "\n",
    "train_df, test_df = train_test_split(matches_df)"
   ],
   "metadata": {
    "collapsed": false,
    "ExecuteTime": {
     "end_time": "2023-09-22T15:47:39.058558Z",
     "start_time": "2023-09-22T15:47:39.055516Z"
    }
   }
  },
  {
   "cell_type": "code",
   "execution_count": 54,
   "outputs": [],
   "source": [
    "last = 900\n",
    "range_dicts = dict()\n",
    "for i in range(700, -900, -50):\n",
    "    filtered_df = train_df[(train_df[\"Market Value Difference\"] > i) & (train_df[\"Market Value Difference\"] < last)]\n",
    "    if len(filtered_df) == 0:\n",
    "        pass\n",
    "    else:\n",
    "        range_dicts[str(last) + \",\" + str(i)] = filtered_df[\"Result\"].value_counts()/len(filtered_df)\n",
    "        last = i"
   ],
   "metadata": {
    "collapsed": false,
    "ExecuteTime": {
     "end_time": "2023-09-22T15:50:09.120096Z",
     "start_time": "2023-09-22T15:50:09.101727Z"
    }
   }
  },
  {
   "cell_type": "code",
   "execution_count": 86,
   "outputs": [
    {
     "ename": "ValueError",
     "evalue": "a must be 1-dimensional",
     "output_type": "error",
     "traceback": [
      "\u001B[0;31m---------------------------------------------------------------------------\u001B[0m",
      "\u001B[0;31mValueError\u001B[0m                                Traceback (most recent call last)",
      "Cell \u001B[0;32mIn[86], line 11\u001B[0m\n\u001B[1;32m      9\u001B[0m interval \u001B[38;5;241m=\u001B[39m [\u001B[38;5;28mint\u001B[39m(x) \u001B[38;5;28;01mfor\u001B[39;00m x \u001B[38;5;129;01min\u001B[39;00m key\u001B[38;5;241m.\u001B[39msplit(\u001B[38;5;124m\"\u001B[39m\u001B[38;5;124m,\u001B[39m\u001B[38;5;124m\"\u001B[39m)]\n\u001B[1;32m     10\u001B[0m \u001B[38;5;28;01mif\u001B[39;00m interval[\u001B[38;5;241m0\u001B[39m] \u001B[38;5;241m>\u001B[39m row[\u001B[38;5;124m\"\u001B[39m\u001B[38;5;124mMarket Value Difference\u001B[39m\u001B[38;5;124m\"\u001B[39m] \u001B[38;5;241m>\u001B[39m interval[\u001B[38;5;241m1\u001B[39m]:\n\u001B[0;32m---> 11\u001B[0m     pred_res \u001B[38;5;241m=\u001B[39m \u001B[43mnumpy\u001B[49m\u001B[38;5;241;43m.\u001B[39;49m\u001B[43mrandom\u001B[49m\u001B[38;5;241;43m.\u001B[39;49m\u001B[43mchoice\u001B[49m\u001B[43m(\u001B[49m\u001B[38;5;28;43mlist\u001B[39;49m\u001B[43m(\u001B[49m\u001B[43mrange_dicts\u001B[49m\u001B[43m[\u001B[49m\u001B[43mkey\u001B[49m\u001B[43m]\u001B[49m\u001B[38;5;241;43m.\u001B[39;49m\u001B[43mindex\u001B[49m\u001B[43m)\u001B[49m\u001B[43m,\u001B[49m\u001B[43m \u001B[49m\u001B[43mp\u001B[49m\u001B[38;5;241;43m=\u001B[39;49m\u001B[38;5;28;43mlist\u001B[39;49m\u001B[43m(\u001B[49m\u001B[43mrange_dicts\u001B[49m\u001B[43m[\u001B[49m\u001B[43mkey\u001B[49m\u001B[43m]\u001B[49m\u001B[38;5;241;43m.\u001B[39;49m\u001B[43mvalues\u001B[49m\u001B[43m)\u001B[49m\u001B[43m)\u001B[49m\n\u001B[1;32m     12\u001B[0m     y_pred\u001B[38;5;241m.\u001B[39mappend(pred_res)\n\u001B[1;32m     13\u001B[0m     val_i \u001B[38;5;241m+\u001B[39m\u001B[38;5;241m=\u001B[39m \u001B[38;5;241m1\u001B[39m\n",
      "File \u001B[0;32mnumpy/random/mtrand.pyx:946\u001B[0m, in \u001B[0;36mnumpy.random.mtrand.RandomState.choice\u001B[0;34m()\u001B[0m\n",
      "\u001B[0;31mValueError\u001B[0m: a must be 1-dimensional"
     ]
    }
   ],
   "source": [
    "import numpy\n",
    "\n",
    "range_dict_keys = range_dicts.keys()\n",
    "y_pred = []\n",
    "val_i = 0\n",
    "row_i = 0\n",
    "for _, row in test_df.iterrows():\n",
    "    for key in range_dict_keys:\n",
    "        interval = [int(x) for x in key.split(\",\")]\n",
    "        if interval[0] > row[\"Market Value Difference\"] > interval[1]:\n",
    "            pred_res = numpy.random.choice(list(range_dicts[key].index), p=list(range_dicts[key].values))\n",
    "            y_pred.append(pred_res)\n",
    "            val_i += 1\n",
    "            pass\n",
    "    row_i += 1\n",
    "    if val_i != row_i:\n",
    "        pred_res = numpy.random.choice([\"Home\", \"Away\", \"Draw\"])\n",
    "        y_pred.append(pred_res)\n",
    "        val_i += 1"
   ],
   "metadata": {
    "collapsed": false,
    "ExecuteTime": {
     "end_time": "2023-09-22T16:07:41.772464Z",
     "start_time": "2023-09-22T16:07:41.753317Z"
    }
   }
  },
  {
   "cell_type": "code",
   "execution_count": 56,
   "outputs": [
    {
     "data": {
      "text/plain": "0.40522875816993464"
     },
     "execution_count": 56,
     "metadata": {},
     "output_type": "execute_result"
    }
   ],
   "source": [
    "from sklearn.metrics import *\n",
    "\n",
    "accuracy_score(test_df[\"Result\"], y_pred)"
   ],
   "metadata": {
    "collapsed": false,
    "ExecuteTime": {
     "end_time": "2023-09-22T15:50:10.446334Z",
     "start_time": "2023-09-22T15:50:10.433843Z"
    }
   }
  },
  {
   "cell_type": "code",
   "execution_count": 57,
   "outputs": [
    {
     "data": {
      "text/plain": "array([[ 82,  53,  72],\n       [ 63,  47,  85],\n       [ 88,  94, 181]])"
     },
     "execution_count": 57,
     "metadata": {},
     "output_type": "execute_result"
    }
   ],
   "source": [
    "confusion_matrix(test_df[\"Result\"], y_pred)"
   ],
   "metadata": {
    "collapsed": false,
    "ExecuteTime": {
     "end_time": "2023-09-22T15:50:10.943692Z",
     "start_time": "2023-09-22T15:50:10.938959Z"
    }
   }
  },
  {
   "cell_type": "code",
   "execution_count": 66,
   "outputs": [],
   "source": [
    "last = 900\n",
    "range_dicts_exact = dict()\n",
    "for i in range(700, -900, -50):\n",
    "    filtered_df = train_df[(train_df[\"Market Value Difference\"] > i) & (train_df[\"Market Value Difference\"] < last)]\n",
    "    if len(filtered_df) == 0:\n",
    "        pass\n",
    "    else:\n",
    "        range_dicts_exact[str(last) + \",\" + str(i)] = filtered_df.groupby(by=[\"Goals Home\", \"Goals Away\"]).size()/len(filtered_df)\n",
    "        last = i"
   ],
   "metadata": {
    "collapsed": false,
    "ExecuteTime": {
     "end_time": "2023-09-22T16:00:12.607016Z",
     "start_time": "2023-09-22T16:00:12.574811Z"
    }
   }
  },
  {
   "cell_type": "code",
   "execution_count": 100,
   "outputs": [],
   "source": [
    "import numpy\n",
    "\n",
    "range_dict_exact_keys = range_dicts.keys()\n",
    "y_pred = []\n",
    "val_i = 0\n",
    "row_i = 0\n",
    "for _, row in test_df.iterrows():\n",
    "    for key in range_dict_exact_keys:\n",
    "        interval = [int(x) for x in key.split(\",\")]\n",
    "        if interval[0] > row[\"Market Value Difference\"] > interval[1]:\n",
    "            pred_res = numpy.random.choice([str(x) for x in list(range_dicts_exact[key].index)], p=list(range_dicts[key].values))\n",
    "            y_pred.append(pred_res)\n",
    "            val_i += 1\n",
    "            pass\n",
    "    row_i += 1\n",
    "    if val_i != row_i:\n",
    "        pred_res = numpy.random.choice([\"(2, 1)\", \"(1, 1)\", \"(1, 2)\"])\n",
    "        y_pred.append(pred_res)\n",
    "        val_i += 1"
   ],
   "metadata": {
    "collapsed": false,
    "ExecuteTime": {
     "end_time": "2023-09-22T16:11:13.312376Z",
     "start_time": "2023-09-22T16:11:13.310872Z"
    }
   }
  },
  {
   "cell_type": "code",
   "execution_count": 101,
   "outputs": [],
   "source": [
    "y_pred = [[int(y[0]), int(y[1]), int(y[0]) - int(y[1])] for y in [str(x).replace(\"(\", \"\").replace(\")\", \"\").split(\",\") for x in y_pred]]"
   ],
   "metadata": {
    "collapsed": false,
    "ExecuteTime": {
     "end_time": "2023-09-22T16:11:13.361465Z",
     "start_time": "2023-09-22T16:11:13.343884Z"
    }
   }
  },
  {
   "cell_type": "code",
   "execution_count": 102,
   "outputs": [
    {
     "data": {
      "text/plain": "263.2"
     },
     "execution_count": 102,
     "metadata": {},
     "output_type": "execute_result"
    }
   ],
   "source": [
    "points = 0\n",
    "point_list = []\n",
    "for index, (_, row) in enumerate(test_df.iterrows()):\n",
    "    pred_home_goals, pred_away_goals, pred_goal_diff = y_pred[index]\n",
    "    if pred_home_goals == row[\"Goals Home\"] and pred_away_goals == row[\"Goals Away\"]:\n",
    "        points += 5\n",
    "        point_list.append(5)\n",
    "    elif pred_goal_diff == row[\"Goals Difference\"]:\n",
    "        points += 3\n",
    "        point_list.append(3)\n",
    "    elif (pred_goal_diff > 0 and row[\"Goals Difference\"] > 0) or (pred_goal_diff < 0 and row[\"Goals Difference\"] < 0):\n",
    "        points += 1\n",
    "        point_list.append(1)\n",
    "    else:\n",
    "        point_list.append(0)\n",
    "points * 306 / len(test_df)"
   ],
   "metadata": {
    "collapsed": false,
    "ExecuteTime": {
     "end_time": "2023-09-22T16:11:13.743203Z",
     "start_time": "2023-09-22T16:11:13.740721Z"
    }
   }
  },
  {
   "cell_type": "code",
   "execution_count": null,
   "outputs": [],
   "source": [],
   "metadata": {
    "collapsed": false
   }
  }
 ],
 "metadata": {
  "kernelspec": {
   "display_name": "Python 3",
   "language": "python",
   "name": "python3"
  },
  "language_info": {
   "codemirror_mode": {
    "name": "ipython",
    "version": 2
   },
   "file_extension": ".py",
   "mimetype": "text/x-python",
   "name": "python",
   "nbconvert_exporter": "python",
   "pygments_lexer": "ipython2",
   "version": "2.7.6"
  }
 },
 "nbformat": 4,
 "nbformat_minor": 0
}
