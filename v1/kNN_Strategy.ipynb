{
 "cells": [
  {
   "cell_type": "code",
   "execution_count": 1,
   "metadata": {
    "collapsed": true,
    "ExecuteTime": {
     "end_time": "2024-01-21T17:54:21.090079Z",
     "start_time": "2024-01-21T17:54:19.221920Z"
    }
   },
   "outputs": [],
   "source": [
    "import pickle\n",
    "import random\n",
    "\n",
    "import numpy as np\n",
    "\n",
    "matches_df = pickle.load(open(\"database/matches_df.pck\", \"rb\"))"
   ]
  },
  {
   "cell_type": "code",
   "execution_count": 2,
   "outputs": [],
   "source": [
    "winner_list = []\n",
    "market_val_diff = []\n",
    "goals_diff = []\n",
    "for _, row in matches_df.iterrows():\n",
    "    if row[\"Team Home ID\"] == row[\"Winner Team ID\"]:\n",
    "        winner_list.append(\"Home\")\n",
    "    elif row[\"Team Away ID\"] == row[\"Winner Team ID\"]:\n",
    "        winner_list.append(\"Away\")\n",
    "    elif row[\"Winner Team ID\"] == 0:\n",
    "        winner_list.append(\"Draw\")\n",
    "    market_val_diff.append(row[\"Market Value Home\"] - row[\"Market Value Away\"])\n",
    "    goals_diff.append(row[\"Goals Home\"] - row[\"Goals Away\"])\n",
    "matches_df[\"Result\"] = winner_list\n",
    "matches_df[\"Market Value Difference\"] = market_val_diff\n",
    "matches_df[\"Goals Difference\"] = goals_diff"
   ],
   "metadata": {
    "collapsed": false,
    "ExecuteTime": {
     "end_time": "2024-01-21T17:54:21.144216Z",
     "start_time": "2024-01-21T17:54:21.142555Z"
    }
   }
  },
  {
   "cell_type": "code",
   "execution_count": 3,
   "outputs": [],
   "source": [
    "import asyncio\n",
    "import nest_asyncio\n",
    "from database import dbconn\n",
    "import importlib\n",
    "\n",
    "importlib.reload(dbconn)\n",
    "\n",
    "nest_asyncio.apply()\n",
    "\n",
    "loop = asyncio.get_event_loop()\n",
    "\n"
   ],
   "metadata": {
    "collapsed": false,
    "ExecuteTime": {
     "end_time": "2024-01-21T17:54:21.505281Z",
     "start_time": "2024-01-21T17:54:21.145423Z"
    }
   }
  },
  {
   "cell_type": "code",
   "execution_count": 4,
   "outputs": [],
   "source": [
    "import pandas as pd\n",
    "\n",
    "dict_team_data = dict()\n",
    "\n",
    "for team_id in set(matches_df[\"Team Home ID\"]):\n",
    "    team_data_matches_home, team_data_matches_away = loop.run_until_complete(dbconn.get_matches_by_team(team_id))\n",
    "    # Switched goalsAway and goalsHome to concat home and away matches to gotten and scored goals\n",
    "    team_data_matches = [[x.id, x.goalsHome, x.goalsAway, x.winnerTeamId] for x in team_data_matches_home] + [[x.id, x.goalsAway, x.goalsHome, x.winnerTeamId] for x in team_data_matches_away]\n",
    "    team_data_matches = sorted(team_data_matches, key=lambda x: x[0])\n",
    "    for i in range(len(team_data_matches)):\n",
    "        if team_data_matches[i][3] == team_id:\n",
    "            team_data_matches[i][3] = \"Won\"\n",
    "        elif team_data_matches[i][3] == None:\n",
    "            team_data_matches[i][3] = \"Draw\"\n",
    "        else:\n",
    "            team_data_matches[i][3] = \"Lost\"\n",
    "    dict_team_data[team_id] = pd.DataFrame(team_data_matches)"
   ],
   "metadata": {
    "collapsed": false,
    "ExecuteTime": {
     "end_time": "2024-01-21T17:54:22.694930Z",
     "start_time": "2024-01-21T17:54:21.507988Z"
    }
   }
  },
  {
   "cell_type": "code",
   "execution_count": 5,
   "outputs": [],
   "source": [
    "matches_form = []\n",
    "for _, row in matches_df.iterrows():\n",
    "    home_form = dict_team_data[row[\"Team Home ID\"]]\n",
    "    home_form = home_form[home_form[0] < row[\"Match ID\"]].iloc[-5:]\n",
    "    home_form_5 = list(home_form[3])\n",
    "    for i in range(5 - len(home_form_5)):\n",
    "        home_form_5 = [\"Draw\"] + home_form_5\n",
    "    away_form = dict_team_data[row[\"Team Away ID\"]]\n",
    "    away_form = away_form[away_form[0] < row[\"Match ID\"]].iloc[-5:]\n",
    "    away_form_5 = list(away_form[3])\n",
    "    for i in range(5 - len(away_form_5)):\n",
    "        away_form_5 = [\"Draw\"] + away_form_5\n",
    "    sum = 0\n",
    "    home_form_5_sums = [0, 0, 0, 0, 0]\n",
    "    for i in range(len(home_form_5)-1, -1, -1):\n",
    "        if home_form_5[i] == \"Draw\":\n",
    "            sum += 1\n",
    "        elif home_form_5[i] == \"Won\":\n",
    "            sum += 3\n",
    "        home_form_5_sums[i] = sum\n",
    "    sum = 0\n",
    "    away_form_5_sums = [0, 0, 0, 0, 0]\n",
    "    for i in range(len(away_form_5)-1, -1, -1):\n",
    "        if away_form_5[i] == \"Draw\":\n",
    "            sum += 1\n",
    "        elif away_form_5[i] == \"Won\":\n",
    "            sum += 3\n",
    "        away_form_5_sums[i] = sum\n",
    "    diff_form_5 = []\n",
    "    for i in range(len(home_form_5)):\n",
    "        diff_form_5.append(home_form_5_sums[i] - away_form_5_sums[i])\n",
    "    matches_form.append(home_form_5 + away_form_5 + diff_form_5)"
   ],
   "metadata": {
    "collapsed": false,
    "ExecuteTime": {
     "end_time": "2024-01-21T17:54:23.513033Z",
     "start_time": "2024-01-21T17:54:22.926420Z"
    }
   }
  },
  {
   "cell_type": "code",
   "execution_count": 6,
   "outputs": [],
   "source": [
    "columns_added = [\"Home_Pre\" + str(x) for x in range(5, 0, -1)] + [\"Away_Pre\" + str(x) for x in range(5, 0, -1)] + [\"Form_Diff_Pre\" + str(x) for x in range(5, 0, -1)]\n",
    "matches_df = pd.concat([matches_df, pd.DataFrame(matches_form, columns=columns_added)], axis=1)"
   ],
   "metadata": {
    "collapsed": false,
    "ExecuteTime": {
     "end_time": "2024-01-21T17:54:23.521994Z",
     "start_time": "2024-01-21T17:54:23.514367Z"
    }
   }
  },
  {
   "cell_type": "code",
   "execution_count": 7,
   "outputs": [],
   "source": [
    "matches_goals = []\n",
    "for _, row in matches_df.iterrows():\n",
    "    home_goals = dict_team_data[row[\"Team Home ID\"]]\n",
    "    home_goals = home_goals[home_goals[0] < row[\"Match ID\"]].iloc[-5:]\n",
    "    home_goals_5 = list(home_goals[1])\n",
    "    for i in range(5 - len(home_goals_5)):\n",
    "        home_goals_5 = [0] + home_goals_5\n",
    "    away_goals = dict_team_data[row[\"Team Away ID\"]]\n",
    "    away_goals = away_goals[away_goals[0] < row[\"Match ID\"]].iloc[-5:]\n",
    "    away_goals_5 = list(away_goals[1])\n",
    "    for i in range(5 - len(away_goals_5)):\n",
    "        away_goals_5 = [0] + away_goals_5\n",
    "    sum = 0\n",
    "    home_goals_5_sums = [0, 0, 0, 0, 0]\n",
    "    for i in range(len(home_goals_5)-1, -1, -1):\n",
    "        sum += home_goals_5[i]\n",
    "        home_goals_5_sums[i] = sum\n",
    "    sum = 0\n",
    "    away_goals_5_sums = [0, 0, 0, 0, 0]\n",
    "    for i in range(len(away_goals_5)-1, -1, -1):\n",
    "        sum += away_goals_5[i]\n",
    "        away_goals_5_sums[i] = sum\n",
    "    diff_goals_5 = []\n",
    "    for i in range(len(home_goals_5)):\n",
    "        diff_goals_5.append(home_goals_5_sums[i] - away_goals_5_sums[i])\n",
    "    matches_goals.append(home_goals_5 + away_goals_5 + diff_goals_5)"
   ],
   "metadata": {
    "collapsed": false,
    "ExecuteTime": {
     "end_time": "2024-01-21T17:54:24.103184Z",
     "start_time": "2024-01-21T17:54:23.522150Z"
    }
   }
  },
  {
   "cell_type": "code",
   "execution_count": 8,
   "outputs": [],
   "source": [
    "goal_columns_added = [\"Home_Pre_Goals\" + str(x) for x in range(5, 0, -1)] + [\"Away_Pre_Goals\" + str(x) for x in range(5, 0, -1)] + [\"Form_Diff_Pre_Goals\" + str(x) for x in range(5, 0, -1)]\n",
    "matches_df = pd.concat([matches_df, pd.DataFrame(matches_goals, columns=goal_columns_added)], axis=1)"
   ],
   "metadata": {
    "collapsed": false,
    "ExecuteTime": {
     "end_time": "2024-01-21T17:54:24.112450Z",
     "start_time": "2024-01-21T17:54:24.103850Z"
    }
   }
  },
  {
   "cell_type": "code",
   "execution_count": 9,
   "outputs": [],
   "source": [
    "from sklearn.model_selection import train_test_split\n",
    "from sklearn.preprocessing import LabelEncoder\n",
    "\n",
    "end_goals = []\n",
    "form_enc = LabelEncoder()\n",
    "form_enc.fit_transform(matches_df[\"Home_Pre1\"])\n",
    "for col in columns_added[:-5]:\n",
    "    matches_df[col] = form_enc.transform(matches_df[col])\n",
    "for _, row in matches_df.iterrows():\n",
    "    end_goals.append(str(row[\"Goals Home\"]) + \":\" + str(row[\"Goals Away\"]))\n",
    "result_enc = LabelEncoder()\n",
    "end_goals = result_enc.fit_transform(end_goals)\n",
    "matches_df[\"Goals Result\"] = end_goals"
   ],
   "metadata": {
    "collapsed": false,
    "ExecuteTime": {
     "end_time": "2024-01-21T17:54:27.679939Z",
     "start_time": "2024-01-21T17:54:24.112645Z"
    }
   }
  },
  {
   "cell_type": "code",
   "execution_count": 10,
   "outputs": [],
   "source": [
    "res_enc = LabelEncoder()\n",
    "matches_df[\"Result\"] = res_enc.fit_transform(matches_df[\"Result\"])\n",
    "X_train, X_test, y_train, y_test = train_test_split(matches_df.drop([\"Market Value Home\", \"Market Value Away\", \"Goals Home\", \"Goals Away\", \"Goals Difference\", \"Result\", \"Winner Team ID\", \"Match ID\", \"Team Home ID\", \"Team Away ID\", \"Goals Result\"], axis=1), matches_df[\"Goals Result\"], random_state=42, test_size=0.2)"
   ],
   "metadata": {
    "collapsed": false,
    "ExecuteTime": {
     "end_time": "2024-01-21T17:54:27.691673Z",
     "start_time": "2024-01-21T17:54:27.681907Z"
    }
   }
  },
  {
   "cell_type": "code",
   "execution_count": 11,
   "outputs": [],
   "source": [
    "from sklearn.metrics import make_scorer\n",
    "\n",
    "def score(y_true, y_pred, **kwargs):\n",
    "    y_true = [x.split(\":\") for x in result_enc.inverse_transform(y_true)]\n",
    "    y_pred = [x.split(\":\") for x in result_enc.inverse_transform(y_pred)]\n",
    "    score_value = 0\n",
    "    for true, pred in zip(y_true, y_pred):\n",
    "        if true[0] == pred[0] and true[1] == pred[1]:\n",
    "            score_value += 5\n",
    "        elif (int(true[0]) - int(true[1])) == (int(pred[0]) - int(pred[1])):\n",
    "            score_value += 3\n",
    "        elif ((true[0] > true[1]) and (pred[0] > pred[1])) or ((true[0] < true[1]) and (pred[0] < pred[1])):\n",
    "            score_value += 1\n",
    "    return round(score_value / (len(y_true)/306))\n",
    "\n",
    "kicktipp_scorer = make_scorer(score, greater_is_better=True)"
   ],
   "metadata": {
    "collapsed": false,
    "ExecuteTime": {
     "end_time": "2024-01-21T17:54:27.692445Z",
     "start_time": "2024-01-21T17:54:27.687825Z"
    }
   }
  },
  {
   "cell_type": "code",
   "execution_count": 12,
   "outputs": [],
   "source": [
    "from sklearn.model_selection import TimeSeriesSplit\n",
    "\n",
    "tscv = TimeSeriesSplit(n_splits=5)"
   ],
   "metadata": {
    "collapsed": false,
    "ExecuteTime": {
     "end_time": "2024-01-21T17:54:27.693287Z",
     "start_time": "2024-01-21T17:54:27.690430Z"
    }
   }
  },
  {
   "cell_type": "code",
   "execution_count": 29,
   "outputs": [
    {
     "name": "stdout",
     "output_type": "stream",
     "text": [
      "CPU times: user 574 ms, sys: 173 ms, total: 747 ms\n",
      "Wall time: 5.25 s\n"
     ]
    },
    {
     "data": {
      "text/plain": "(332,\n 0.12581699346405228,\n {'clf__metric': 'euclidean',\n  'clf__n_neighbors': 245,\n  'clf__weights': 'uniform'},\n 0.12107843137254903)"
     },
     "execution_count": 29,
     "metadata": {},
     "output_type": "execute_result"
    }
   ],
   "source": [
    "%%time\n",
    "\n",
    "from sklearn.model_selection import GridSearchCV\n",
    "from sklearn.pipeline import Pipeline\n",
    "from sklearn.neighbors import KNeighborsClassifier\n",
    "from sklearn.metrics import accuracy_score\n",
    "\n",
    "pipe = Pipeline(steps=[(\"clf\", KNeighborsClassifier())])\n",
    "\n",
    "param_grid = {\n",
    "    \"clf__n_neighbors\": np.arange(10, 250, 5),\n",
    "    \"clf__weights\": [\"uniform\", \"distance\"],\n",
    "    \"clf__metric\": [\"euclidean\", \"minkowski\", \"chebyshev\", \"cosine\"]\n",
    "}\n",
    "\n",
    "clf = GridSearchCV(pipe, param_grid, n_jobs=-1, cv=tscv).fit(X_train, y_train)\n",
    "y_pred = clf.predict(X_test)\n",
    "score(y_test, y_pred), accuracy_score(y_test, y_pred), clf.best_params_, clf.best_score_"
   ],
   "metadata": {
    "collapsed": false,
    "ExecuteTime": {
     "end_time": "2024-01-21T18:23:40.593529Z",
     "start_time": "2024-01-21T18:23:35.337594Z"
    }
   }
  },
  {
   "cell_type": "code",
   "execution_count": null,
   "outputs": [],
   "source": [],
   "metadata": {
    "collapsed": false
   }
  }
 ],
 "metadata": {
  "kernelspec": {
   "display_name": "Python 3",
   "language": "python",
   "name": "python3"
  },
  "language_info": {
   "codemirror_mode": {
    "name": "ipython",
    "version": 2
   },
   "file_extension": ".py",
   "mimetype": "text/x-python",
   "name": "python",
   "nbconvert_exporter": "python",
   "pygments_lexer": "ipython2",
   "version": "2.7.6"
  }
 },
 "nbformat": 4,
 "nbformat_minor": 0
}
