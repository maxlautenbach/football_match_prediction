{
 "cells": [
  {
   "cell_type": "code",
   "execution_count": 200,
   "metadata": {
    "collapsed": true,
    "ExecuteTime": {
     "end_time": "2023-09-23T07:57:36.072735Z",
     "start_time": "2023-09-23T07:57:36.070410Z"
    }
   },
   "outputs": [],
   "source": [
    "import pickle\n",
    "import random\n",
    "\n",
    "import numpy as np\n",
    "\n",
    "matches_df = pickle.load(open(\"database/matches_df.pck\", \"rb\"))"
   ]
  },
  {
   "cell_type": "code",
   "execution_count": 201,
   "outputs": [],
   "source": [
    "winner_list = []\n",
    "market_val_diff = []\n",
    "goals_diff = []\n",
    "for _, row in matches_df.iterrows():\n",
    "    if row[\"Team Home ID\"] == row[\"Winner Team ID\"]:\n",
    "        winner_list.append(\"Home\")\n",
    "    elif row[\"Team Away ID\"] == row[\"Winner Team ID\"]:\n",
    "        winner_list.append(\"Away\")\n",
    "    elif row[\"Winner Team ID\"] == 0:\n",
    "        winner_list.append(\"Draw\")\n",
    "    market_val_diff.append(row[\"Market Value Home\"] - row[\"Market Value Away\"])\n",
    "    goals_diff.append(row[\"Goals Home\"] - row[\"Goals Away\"])\n",
    "matches_df[\"Result\"] = winner_list\n",
    "matches_df[\"Market Value Difference\"] = market_val_diff\n",
    "matches_df[\"Goals Difference\"] = goals_diff"
   ],
   "metadata": {
    "collapsed": false,
    "ExecuteTime": {
     "end_time": "2023-09-23T07:57:36.139086Z",
     "start_time": "2023-09-23T07:57:36.087911Z"
    }
   }
  },
  {
   "cell_type": "code",
   "execution_count": 211,
   "outputs": [
    {
     "name": "stderr",
     "output_type": "stream",
     "text": [
      "100%|██████████| 500/500 [10:10<00:00,  1.22s/it]\n"
     ]
    }
   ],
   "source": [
    "from tqdm import tqdm\n",
    "import numpy as np\n",
    "\n",
    "from sklearn.model_selection import train_test_split\n",
    "\n",
    "\n",
    "\n",
    "def opt(interval, train_df, df, type):\n",
    "    last = 900\n",
    "    range_dicts_exact = dict()\n",
    "    for i in range(700, -900, -interval):\n",
    "        filtered_df = train_df[(train_df[\"Market Value Difference\"] > i) & (train_df[\"Market Value Difference\"] < last)]\n",
    "        if len(filtered_df) == 0:\n",
    "            pass\n",
    "        else:\n",
    "            range_dicts_exact[str(last) + \",\" + str(i)] = filtered_df.groupby(by=[\"Goals Home\", \"Goals Away\"]).size()/len(filtered_df)\n",
    "            last = i\n",
    "\n",
    "    range_dict_exact_keys = range_dicts_exact.keys()\n",
    "    y_pred = []\n",
    "    val_i = 0\n",
    "    row_i = 0\n",
    "    for _, row in df.iterrows():\n",
    "        for key in range_dict_exact_keys:\n",
    "            interval = [int(x) for x in key.split(\",\")]\n",
    "            if interval[0] > row[\"Market Value Difference\"] > interval[1]:\n",
    "                pred_res = range_dicts_exact[key].idxmax()\n",
    "                pred_res = (pred_res[0], pred_res[1], pred_res[0] - pred_res[1])\n",
    "                y_pred.append(pred_res)\n",
    "                val_i += 1\n",
    "                pass\n",
    "        row_i += 1\n",
    "        if val_i != row_i:\n",
    "            if row[\"Market Value Difference\"] > 0:\n",
    "                pred_res = (2, 1 , 1)\n",
    "            else:\n",
    "                pred_res = (1, 2, -1)\n",
    "            y_pred.append(pred_res)\n",
    "            val_i += 1\n",
    "\n",
    "    points = 0\n",
    "    point_list = []\n",
    "    for index, (_, row) in enumerate(df.iterrows()):\n",
    "        pred_home_goals, pred_away_goals, pred_goal_diff = y_pred[index]\n",
    "        if pred_home_goals == row[\"Goals Home\"] and pred_away_goals == row[\"Goals Away\"]:\n",
    "            points += 5\n",
    "            point_list.append(5)\n",
    "        elif pred_goal_diff == row[\"Goals Difference\"]:\n",
    "            points += 3\n",
    "            point_list.append(3)\n",
    "        elif (pred_goal_diff > 0 and row[\"Goals Difference\"] > 0) or (pred_goal_diff < 0 and row[\"Goals Difference\"] < 0):\n",
    "            points += 1\n",
    "            point_list.append(1)\n",
    "        else:\n",
    "            point_list.append(0)\n",
    "    if type == \"points\":\n",
    "        points *= 306 / len(df)\n",
    "        return [points, 0]\n",
    "    else:\n",
    "        return [3 * point_list.count(3.0) + 2 * point_list.count(5.0) + point_list.count(1.0), points]\n",
    "\n",
    "\n",
    "def try_out(train_df, test_df, validate_df):\n",
    "    opt_list = []\n",
    "    for i in range(30, 600, 10):\n",
    "        opt_list.append([i, opt(i, train_df, test_df, \"\")])\n",
    "    opt_list = sorted(opt_list, key= lambda x: x[1][0], reverse=True)\n",
    "    return opt(opt_list[0][0], train_df, validate_df, \"points\")\n",
    "\n",
    "resulted_points = []\n",
    "\n",
    "for _ in tqdm(range(500)):\n",
    "    train_df, test_df = train_test_split(matches_df, test_size=612)\n",
    "    test_df, validate_df = train_test_split(test_df, test_size=306)\n",
    "    resulted_points.append(try_out(train_df, test_df, validate_df))\n"
   ],
   "metadata": {
    "collapsed": false,
    "ExecuteTime": {
     "end_time": "2023-09-23T08:15:13.354124Z",
     "start_time": "2023-09-23T08:05:02.489180Z"
    }
   }
  },
  {
   "cell_type": "code",
   "execution_count": 212,
   "outputs": [],
   "source": [
    "resulted_points = [x[0] for x in resulted_points]"
   ],
   "metadata": {
    "collapsed": false,
    "ExecuteTime": {
     "end_time": "2023-09-23T08:15:13.356213Z",
     "start_time": "2023-09-23T08:15:13.354768Z"
    }
   }
  },
  {
   "cell_type": "code",
   "execution_count": 213,
   "outputs": [
    {
     "data": {
      "text/plain": "(330.91, 413.0, 253.0, 28.434167826753782)"
     },
     "execution_count": 213,
     "metadata": {},
     "output_type": "execute_result"
    }
   ],
   "source": [
    "np.mean(resulted_points), np.max(resulted_points), np.min(resulted_points), np.std(resulted_points)"
   ],
   "metadata": {
    "collapsed": false,
    "ExecuteTime": {
     "end_time": "2023-09-23T08:15:13.359757Z",
     "start_time": "2023-09-23T08:15:13.357734Z"
    }
   }
  },
  {
   "cell_type": "code",
   "execution_count": null,
   "outputs": [],
   "source": [],
   "metadata": {
    "collapsed": false
   }
  }
 ],
 "metadata": {
  "kernelspec": {
   "display_name": "Python 3",
   "language": "python",
   "name": "python3"
  },
  "language_info": {
   "codemirror_mode": {
    "name": "ipython",
    "version": 2
   },
   "file_extension": ".py",
   "mimetype": "text/x-python",
   "name": "python",
   "nbconvert_exporter": "python",
   "pygments_lexer": "ipython2",
   "version": "2.7.6"
  }
 },
 "nbformat": 4,
 "nbformat_minor": 0
}
