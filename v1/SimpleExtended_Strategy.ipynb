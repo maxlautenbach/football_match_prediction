{
 "cells": [
  {
   "cell_type": "code",
   "execution_count": 3,
   "metadata": {
    "collapsed": true,
    "ExecuteTime": {
     "end_time": "2024-01-21T18:24:40.504358Z",
     "start_time": "2024-01-21T18:24:40.267671Z"
    }
   },
   "outputs": [],
   "source": [
    "import pickle\n",
    "import random\n",
    "\n",
    "import numpy as np\n",
    "\n",
    "matches_df = pickle.load(open(\"database/matches_df.pck\", \"rb\"))"
   ]
  },
  {
   "cell_type": "code",
   "execution_count": 4,
   "outputs": [],
   "source": [
    "winner_list = []\n",
    "market_val_diff = []\n",
    "goals_diff = []\n",
    "for _, row in matches_df.iterrows():\n",
    "    if row[\"Team Home ID\"] == row[\"Winner Team ID\"]:\n",
    "        winner_list.append(\"Home\")\n",
    "    elif row[\"Team Away ID\"] == row[\"Winner Team ID\"]:\n",
    "        winner_list.append(\"Away\")\n",
    "    elif row[\"Winner Team ID\"] == 0:\n",
    "        winner_list.append(\"Draw\")\n",
    "    market_val_diff.append(row[\"Market Value Home\"] - row[\"Market Value Away\"])\n",
    "    goals_diff.append(row[\"Goals Home\"] - row[\"Goals Away\"])\n",
    "matches_df[\"Result\"] = winner_list\n",
    "matches_df[\"Market Value Difference\"] = market_val_diff\n",
    "matches_df[\"Goals Difference\"] = goals_diff"
   ],
   "metadata": {
    "collapsed": false,
    "ExecuteTime": {
     "end_time": "2024-01-21T18:24:40.555608Z",
     "start_time": "2024-01-21T18:24:40.505515Z"
    }
   }
  },
  {
   "cell_type": "code",
   "execution_count": 5,
   "outputs": [],
   "source": [
    "import asyncio\n",
    "import nest_asyncio\n",
    "from database import dbconn\n",
    "import importlib\n",
    "\n",
    "importlib.reload(dbconn)\n",
    "\n",
    "nest_asyncio.apply()\n",
    "\n",
    "loop = asyncio.get_event_loop()\n",
    "\n"
   ],
   "metadata": {
    "collapsed": false,
    "ExecuteTime": {
     "end_time": "2024-01-21T18:24:40.846482Z",
     "start_time": "2024-01-21T18:24:40.557302Z"
    }
   }
  },
  {
   "cell_type": "code",
   "execution_count": 6,
   "outputs": [],
   "source": [
    "import pandas as pd\n",
    "\n",
    "dict_team_data = dict()\n",
    "\n",
    "for team_id in set(matches_df[\"Team Home ID\"]):\n",
    "    team_data_matches_home, team_data_matches_away = loop.run_until_complete(dbconn.get_matches_by_team(team_id))\n",
    "    # Switched goalsAway and goalsHome to concat home and away matches to gotten and scored goals\n",
    "    team_data_matches = [[x.id, x.goalsHome, x.goalsAway, x.winnerTeamId] for x in team_data_matches_home] + [[x.id, x.goalsAway, x.goalsHome, x.winnerTeamId] for x in team_data_matches_away]\n",
    "    team_data_matches = sorted(team_data_matches, key=lambda x: x[0])\n",
    "    for i in range(len(team_data_matches)):\n",
    "        if team_data_matches[i][3] == team_id:\n",
    "            team_data_matches[i][3] = \"Won\"\n",
    "        elif team_data_matches[i][3] == None:\n",
    "            team_data_matches[i][3] = \"Draw\"\n",
    "        else:\n",
    "            team_data_matches[i][3] = \"Lost\"\n",
    "    dict_team_data[team_id] = pd.DataFrame(team_data_matches)"
   ],
   "metadata": {
    "collapsed": false,
    "ExecuteTime": {
     "end_time": "2024-01-21T18:24:41.867132Z",
     "start_time": "2024-01-21T18:24:40.849150Z"
    }
   }
  },
  {
   "cell_type": "code",
   "execution_count": 7,
   "outputs": [],
   "source": [
    "matches_form = []\n",
    "for _, row in matches_df.iterrows():\n",
    "    home_form = dict_team_data[row[\"Team Home ID\"]]\n",
    "    home_form = home_form[home_form[0] < row[\"Match ID\"]].iloc[-5:]\n",
    "    home_form_5 = list(home_form[3])\n",
    "    for i in range(5 - len(home_form_5)):\n",
    "        home_form_5 = [\"Draw\"] + home_form_5\n",
    "    away_form = dict_team_data[row[\"Team Away ID\"]]\n",
    "    away_form = away_form[away_form[0] < row[\"Match ID\"]].iloc[-5:]\n",
    "    away_form_5 = list(away_form[3])\n",
    "    for i in range(5 - len(away_form_5)):\n",
    "        away_form_5 = [\"Draw\"] + away_form_5\n",
    "    sum = 0\n",
    "    home_form_5_sums = [0, 0, 0, 0, 0]\n",
    "    for i in range(len(home_form_5)-1, -1, -1):\n",
    "        if home_form_5[i] == \"Draw\":\n",
    "            sum += 1\n",
    "        elif home_form_5[i] == \"Won\":\n",
    "            sum += 3\n",
    "        home_form_5_sums[i] = sum\n",
    "    sum = 0\n",
    "    away_form_5_sums = [0, 0, 0, 0, 0]\n",
    "    for i in range(len(away_form_5)-1, -1, -1):\n",
    "        if away_form_5[i] == \"Draw\":\n",
    "            sum += 1\n",
    "        elif away_form_5[i] == \"Won\":\n",
    "            sum += 3\n",
    "        away_form_5_sums[i] = sum\n",
    "    diff_form_5 = []\n",
    "    for i in range(len(home_form_5)):\n",
    "        diff_form_5.append(home_form_5_sums[i] - away_form_5_sums[i])\n",
    "    matches_form.append(home_form_5 + away_form_5 + diff_form_5)"
   ],
   "metadata": {
    "collapsed": false,
    "ExecuteTime": {
     "end_time": "2024-01-21T18:24:42.450306Z",
     "start_time": "2024-01-21T18:24:41.874925Z"
    }
   }
  },
  {
   "cell_type": "code",
   "execution_count": 8,
   "outputs": [],
   "source": [
    "columns_added = [\"Home_Pre\" + str(x) for x in range(5, 0, -1)] + [\"Away_Pre\" + str(x) for x in range(5, 0, -1)] + [\"Form_Diff_Pre\" + str(x) for x in range(5, 0, -1)]\n",
    "matches_df = pd.concat([matches_df, pd.DataFrame(matches_form, columns=columns_added)], axis=1)"
   ],
   "metadata": {
    "collapsed": false,
    "ExecuteTime": {
     "end_time": "2024-01-21T18:24:42.456547Z",
     "start_time": "2024-01-21T18:24:42.451168Z"
    }
   }
  },
  {
   "cell_type": "code",
   "execution_count": 9,
   "outputs": [],
   "source": [
    "matches_goals = []\n",
    "for _, row in matches_df.iterrows():\n",
    "    home_goals = dict_team_data[row[\"Team Home ID\"]]\n",
    "    home_goals = home_goals[home_goals[0] < row[\"Match ID\"]].iloc[-5:]\n",
    "    home_goals_5 = list(home_goals[1])\n",
    "    for i in range(5 - len(home_goals_5)):\n",
    "        home_goals_5 = [0] + home_goals_5\n",
    "    away_goals = dict_team_data[row[\"Team Away ID\"]]\n",
    "    away_goals = away_goals[away_goals[0] < row[\"Match ID\"]].iloc[-5:]\n",
    "    away_goals_5 = list(away_goals[1])\n",
    "    for i in range(5 - len(away_goals_5)):\n",
    "        away_goals_5 = [0] + away_goals_5\n",
    "    sum = 0\n",
    "    home_goals_5_sums = [0, 0, 0, 0, 0]\n",
    "    for i in range(len(home_goals_5)-1, -1, -1):\n",
    "        sum += home_goals_5[i]\n",
    "        home_goals_5_sums[i] = sum\n",
    "    sum = 0\n",
    "    away_goals_5_sums = [0, 0, 0, 0, 0]\n",
    "    for i in range(len(away_goals_5)-1, -1, -1):\n",
    "        sum += away_goals_5[i]\n",
    "        away_goals_5_sums[i] = sum\n",
    "    diff_goals_5 = []\n",
    "    for i in range(len(home_goals_5)):\n",
    "        diff_goals_5.append(home_goals_5_sums[i] - away_goals_5_sums[i])\n",
    "    matches_goals.append(home_goals_5 + away_goals_5 + diff_goals_5)"
   ],
   "metadata": {
    "collapsed": false,
    "ExecuteTime": {
     "end_time": "2024-01-21T18:24:43.047754Z",
     "start_time": "2024-01-21T18:24:42.458939Z"
    }
   }
  },
  {
   "cell_type": "code",
   "execution_count": 10,
   "outputs": [],
   "source": [
    "goal_columns_added = [\"Home_Pre_Goals\" + str(x) for x in range(5, 0, -1)] + [\"Away_Pre_Goals\" + str(x) for x in range(5, 0, -1)] + [\"Form_Diff_Pre_Goals\" + str(x) for x in range(5, 0, -1)]\n",
    "matches_df = pd.concat([matches_df, pd.DataFrame(matches_goals, columns=goal_columns_added)], axis=1)"
   ],
   "metadata": {
    "collapsed": false,
    "ExecuteTime": {
     "end_time": "2024-01-21T18:24:43.056073Z",
     "start_time": "2024-01-21T18:24:43.048411Z"
    }
   }
  },
  {
   "cell_type": "code",
   "execution_count": 11,
   "outputs": [],
   "source": [
    "from sklearn.model_selection import train_test_split\n",
    "from sklearn.preprocessing import LabelEncoder\n",
    "\n",
    "end_goals = []\n",
    "form_enc = LabelEncoder()\n",
    "form_enc.fit_transform(matches_df[\"Home_Pre1\"])\n",
    "for col in columns_added[:-5]:\n",
    "    matches_df[col] = form_enc.transform(matches_df[col])\n",
    "for _, row in matches_df.iterrows():\n",
    "    end_goals.append(str(row[\"Goals Home\"]) + \":\" + str(row[\"Goals Away\"]))\n",
    "result_enc = LabelEncoder()\n",
    "end_goals = result_enc.fit_transform(end_goals)\n",
    "matches_df[\"Goals Result\"] = end_goals"
   ],
   "metadata": {
    "collapsed": false,
    "ExecuteTime": {
     "end_time": "2024-01-21T18:24:43.106079Z",
     "start_time": "2024-01-21T18:24:43.061065Z"
    }
   }
  },
  {
   "cell_type": "code",
   "execution_count": 12,
   "outputs": [],
   "source": [
    "res_enc = LabelEncoder()\n",
    "matches_df[\"Result\"] = res_enc.fit_transform(matches_df[\"Result\"])\n",
    "X_train, X_test, y_train, y_test = train_test_split(matches_df.drop([\"Market Value Home\", \"Market Value Away\", \"Goals Home\", \"Goals Away\", \"Goals Difference\", \"Result\", \"Winner Team ID\", \"Match ID\", \"Team Home ID\", \"Team Away ID\", \"Goals Result\"], axis=1), matches_df[\"Goals Result\"], random_state=42, test_size=0.2)"
   ],
   "metadata": {
    "collapsed": false,
    "ExecuteTime": {
     "end_time": "2024-01-21T18:24:43.112845Z",
     "start_time": "2024-01-21T18:24:43.108612Z"
    }
   }
  },
  {
   "cell_type": "code",
   "execution_count": 13,
   "outputs": [],
   "source": [
    "from sklearn.metrics import make_scorer\n",
    "\n",
    "def score(y_true, y_pred, **kwargs):\n",
    "    y_true = [x.split(\":\") for x in result_enc.inverse_transform(y_true)]\n",
    "    y_pred = [x.split(\":\") for x in result_enc.inverse_transform(y_pred)]\n",
    "    score_value = 0\n",
    "    for true, pred in zip(y_true, y_pred):\n",
    "        if true[0] == pred[0] and true[1] == pred[1]:\n",
    "            score_value += 5\n",
    "        elif (int(true[0]) - int(true[1])) == (int(pred[0]) - int(pred[1])):\n",
    "            score_value += 3\n",
    "        elif ((true[0] > true[1]) and (pred[0] > pred[1])) or ((true[0] < true[1]) and (pred[0] < pred[1])):\n",
    "            score_value += 1\n",
    "    return round(score_value / (len(y_true)/306))\n",
    "\n",
    "kicktipp_scorer = make_scorer(score, greater_is_better=True)"
   ],
   "metadata": {
    "collapsed": false,
    "ExecuteTime": {
     "end_time": "2024-01-21T18:24:43.116149Z",
     "start_time": "2024-01-21T18:24:43.113352Z"
    }
   }
  },
  {
   "cell_type": "code",
   "execution_count": 14,
   "outputs": [],
   "source": [
    "from sklearn.model_selection import TimeSeriesSplit\n",
    "\n",
    "tscv = TimeSeriesSplit(n_splits=5)"
   ],
   "metadata": {
    "collapsed": false,
    "ExecuteTime": {
     "end_time": "2024-01-21T18:24:43.119583Z",
     "start_time": "2024-01-21T18:24:43.115588Z"
    }
   }
  },
  {
   "cell_type": "markdown",
   "source": [
    "## GridSearch RandomForest\n",
    "\n",
    "Max Depth: 10\n",
    "N Estimators: 460\n",
    "Min Samples: 10\n",
    "\n",
    "**Result: 318 Points per Season**"
   ],
   "metadata": {
    "collapsed": false
   }
  },
  {
   "cell_type": "code",
   "execution_count": 59,
   "outputs": [
    {
     "name": "stdout",
     "output_type": "stream",
     "text": [
      "Fitting 5 folds for each of 36 candidates, totalling 180 fits\n",
      "CPU times: user 1.18 s, sys: 97.8 ms, total: 1.27 s\n",
      "Wall time: 17.7 s\n"
     ]
    },
    {
     "data": {
      "text/plain": "(296,\n 0.10947712418300654,\n {'clf__max_depth': 4, 'clf__max_features': 14, 'clf__n_estimators': 450},\n 319.4)"
     },
     "execution_count": 59,
     "metadata": {},
     "output_type": "execute_result"
    }
   ],
   "source": [
    "%%time\n",
    "\n",
    "from sklearn.metrics import accuracy_score\n",
    "from sklearn.model_selection import GridSearchCV, RandomizedSearchCV\n",
    "from sklearn.pipeline import Pipeline\n",
    "from sklearn.ensemble import RandomForestClassifier\n",
    "\n",
    "pipe = Pipeline(steps=[(\"clf\", RandomForestClassifier(random_state=42))])\n",
    "\n",
    "param_grid = {\n",
    "    \"clf__n_estimators\": np.arange(440, 460, 10),\n",
    "    \"clf__max_depth\": np.arange(4, 12, 3),\n",
    "    \"clf__max_features\": np.arange(2,18,3)\n",
    "}\n",
    "\n",
    "clf = GridSearchCV(pipe, param_grid, n_jobs=-1, cv=tscv, verbose=3, scoring=kicktipp_scorer).fit(X_train, y_train)\n",
    "y_pred = clf.predict(X_test)\n",
    "score(y_test, y_pred), accuracy_score(y_test, y_pred), clf.best_params_, clf.best_score_"
   ],
   "metadata": {
    "collapsed": false,
    "ExecuteTime": {
     "end_time": "2024-01-21T18:48:17.275356Z",
     "start_time": "2024-01-21T18:47:59.537034Z"
    }
   }
  },
  {
   "cell_type": "code",
   "execution_count": 56,
   "outputs": [
    {
     "data": {
      "text/plain": "RandomForestClassifier(max_depth=4, max_features=2, n_estimators=450,\n                       random_state=42)",
      "text/html": "<style>#sk-container-id-9 {color: black;}#sk-container-id-9 pre{padding: 0;}#sk-container-id-9 div.sk-toggleable {background-color: white;}#sk-container-id-9 label.sk-toggleable__label {cursor: pointer;display: block;width: 100%;margin-bottom: 0;padding: 0.3em;box-sizing: border-box;text-align: center;}#sk-container-id-9 label.sk-toggleable__label-arrow:before {content: \"▸\";float: left;margin-right: 0.25em;color: #696969;}#sk-container-id-9 label.sk-toggleable__label-arrow:hover:before {color: black;}#sk-container-id-9 div.sk-estimator:hover label.sk-toggleable__label-arrow:before {color: black;}#sk-container-id-9 div.sk-toggleable__content {max-height: 0;max-width: 0;overflow: hidden;text-align: left;background-color: #f0f8ff;}#sk-container-id-9 div.sk-toggleable__content pre {margin: 0.2em;color: black;border-radius: 0.25em;background-color: #f0f8ff;}#sk-container-id-9 input.sk-toggleable__control:checked~div.sk-toggleable__content {max-height: 200px;max-width: 100%;overflow: auto;}#sk-container-id-9 input.sk-toggleable__control:checked~label.sk-toggleable__label-arrow:before {content: \"▾\";}#sk-container-id-9 div.sk-estimator input.sk-toggleable__control:checked~label.sk-toggleable__label {background-color: #d4ebff;}#sk-container-id-9 div.sk-label input.sk-toggleable__control:checked~label.sk-toggleable__label {background-color: #d4ebff;}#sk-container-id-9 input.sk-hidden--visually {border: 0;clip: rect(1px 1px 1px 1px);clip: rect(1px, 1px, 1px, 1px);height: 1px;margin: -1px;overflow: hidden;padding: 0;position: absolute;width: 1px;}#sk-container-id-9 div.sk-estimator {font-family: monospace;background-color: #f0f8ff;border: 1px dotted black;border-radius: 0.25em;box-sizing: border-box;margin-bottom: 0.5em;}#sk-container-id-9 div.sk-estimator:hover {background-color: #d4ebff;}#sk-container-id-9 div.sk-parallel-item::after {content: \"\";width: 100%;border-bottom: 1px solid gray;flex-grow: 1;}#sk-container-id-9 div.sk-label:hover label.sk-toggleable__label {background-color: #d4ebff;}#sk-container-id-9 div.sk-serial::before {content: \"\";position: absolute;border-left: 1px solid gray;box-sizing: border-box;top: 0;bottom: 0;left: 50%;z-index: 0;}#sk-container-id-9 div.sk-serial {display: flex;flex-direction: column;align-items: center;background-color: white;padding-right: 0.2em;padding-left: 0.2em;position: relative;}#sk-container-id-9 div.sk-item {position: relative;z-index: 1;}#sk-container-id-9 div.sk-parallel {display: flex;align-items: stretch;justify-content: center;background-color: white;position: relative;}#sk-container-id-9 div.sk-item::before, #sk-container-id-9 div.sk-parallel-item::before {content: \"\";position: absolute;border-left: 1px solid gray;box-sizing: border-box;top: 0;bottom: 0;left: 50%;z-index: -1;}#sk-container-id-9 div.sk-parallel-item {display: flex;flex-direction: column;z-index: 1;position: relative;background-color: white;}#sk-container-id-9 div.sk-parallel-item:first-child::after {align-self: flex-end;width: 50%;}#sk-container-id-9 div.sk-parallel-item:last-child::after {align-self: flex-start;width: 50%;}#sk-container-id-9 div.sk-parallel-item:only-child::after {width: 0;}#sk-container-id-9 div.sk-dashed-wrapped {border: 1px dashed gray;margin: 0 0.4em 0.5em 0.4em;box-sizing: border-box;padding-bottom: 0.4em;background-color: white;}#sk-container-id-9 div.sk-label label {font-family: monospace;font-weight: bold;display: inline-block;line-height: 1.2em;}#sk-container-id-9 div.sk-label-container {text-align: center;}#sk-container-id-9 div.sk-container {/* jupyter's `normalize.less` sets `[hidden] { display: none; }` but bootstrap.min.css set `[hidden] { display: none !important; }` so we also need the `!important` here to be able to override the default hidden behavior on the sphinx rendered scikit-learn.org. See: https://github.com/scikit-learn/scikit-learn/issues/21755 */display: inline-block !important;position: relative;}#sk-container-id-9 div.sk-text-repr-fallback {display: none;}</style><div id=\"sk-container-id-9\" class=\"sk-top-container\"><div class=\"sk-text-repr-fallback\"><pre>RandomForestClassifier(max_depth=4, max_features=2, n_estimators=450,\n                       random_state=42)</pre><b>In a Jupyter environment, please rerun this cell to show the HTML representation or trust the notebook. <br />On GitHub, the HTML representation is unable to render, please try loading this page with nbviewer.org.</b></div><div class=\"sk-container\" hidden><div class=\"sk-item\"><div class=\"sk-estimator sk-toggleable\"><input class=\"sk-toggleable__control sk-hidden--visually\" id=\"sk-estimator-id-10\" type=\"checkbox\" checked><label for=\"sk-estimator-id-10\" class=\"sk-toggleable__label sk-toggleable__label-arrow\">RandomForestClassifier</label><div class=\"sk-toggleable__content\"><pre>RandomForestClassifier(max_depth=4, max_features=2, n_estimators=450,\n                       random_state=42)</pre></div></div></div></div></div>"
     },
     "execution_count": 56,
     "metadata": {},
     "output_type": "execute_result"
    }
   ],
   "source": [
    "clf_best = clf.best_estimator_.named_steps['clf']\n",
    "clf_best.fit(X_train, y_train)\n"
   ],
   "metadata": {
    "collapsed": false,
    "ExecuteTime": {
     "end_time": "2024-01-21T18:47:40.983284Z",
     "start_time": "2024-01-21T18:47:40.611322Z"
    }
   }
  },
  {
   "cell_type": "code",
   "execution_count": 57,
   "outputs": [
    {
     "data": {
      "text/plain": "['Form_Diff_Pre5',\n 'Form_Diff_Pre4',\n 'Form_Diff_Pre3',\n 'Form_Diff_Pre2',\n 'Home_Pre_Goals5',\n 'Home_Pre_Goals4',\n 'Home_Pre_Goals3',\n 'Home_Pre_Goals2',\n 'Home_Pre_Goals1',\n 'Away_Pre_Goals4',\n 'Away_Pre_Goals2',\n 'Away_Pre_Goals1',\n 'Form_Diff_Pre_Goals5',\n 'Form_Diff_Pre_Goals4',\n 'Form_Diff_Pre_Goals3',\n 'Form_Diff_Pre_Goals2',\n 'Form_Diff_Pre_Goals1']"
     },
     "execution_count": 57,
     "metadata": {},
     "output_type": "execute_result"
    }
   ],
   "source": [
    "fi = pd.Series(clf_best.feature_importances_)\n",
    "fi.index = X_train.columns\n",
    "list(fi[fi > 0.03].index)"
   ],
   "metadata": {
    "collapsed": false,
    "ExecuteTime": {
     "end_time": "2024-01-21T18:47:40.992210Z",
     "start_time": "2024-01-21T18:47:40.975838Z"
    }
   }
  },
  {
   "cell_type": "code",
   "execution_count": null,
   "outputs": [],
   "source": [],
   "metadata": {
    "collapsed": false
   }
  }
 ],
 "metadata": {
  "kernelspec": {
   "display_name": "Python 3",
   "language": "python",
   "name": "python3"
  },
  "language_info": {
   "codemirror_mode": {
    "name": "ipython",
    "version": 2
   },
   "file_extension": ".py",
   "mimetype": "text/x-python",
   "name": "python",
   "nbconvert_exporter": "python",
   "pygments_lexer": "ipython2",
   "version": "2.7.6"
  }
 },
 "nbformat": 4,
 "nbformat_minor": 0
}
