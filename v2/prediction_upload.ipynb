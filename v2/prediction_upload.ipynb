{
 "cells": [
  {
   "cell_type": "code",
   "execution_count": 1,
   "outputs": [
    {
     "data": {
      "text/plain": "                    date              teamHomeName           teamAwayName  \\\n5803 2024-05-11 15:30:00                1. FC Köln     1. FC Union Berlin   \n5804 2024-05-11 15:30:00                VfL Bochum       Bayer Leverkusen   \n5802 2024-05-11 15:30:00  Borussia Mönchengladbach    Eintracht Frankfurt   \n5805 2024-05-11 15:30:00               FC Augsburg          VfB Stuttgart   \n5800 2024-05-11 15:30:00               SC Freiburg  1. FC Heidenheim 1846   \n5799 2024-05-11 15:30:00                RB Leipzig          Werder Bremen   \n5798 2024-05-11 15:30:00         FC Bayern München          VfL Wolfsburg   \n5801 2024-05-11 15:30:00           1. FSV Mainz 05      Borussia Dortmund   \n5806 2024-05-11 15:30:00           SV Darmstadt 98    TSG 1899 Hoffenheim   \n\n     prediction  \n5803        1:1  \n5804        0:2  \n5802        1:1  \n5805        1:1  \n5800        1:1  \n5799        1:1  \n5798        2:0  \n5801        0:1  \n5806        1:1  ",
      "text/html": "<div>\n<style scoped>\n    .dataframe tbody tr th:only-of-type {\n        vertical-align: middle;\n    }\n\n    .dataframe tbody tr th {\n        vertical-align: top;\n    }\n\n    .dataframe thead th {\n        text-align: right;\n    }\n</style>\n<table border=\"1\" class=\"dataframe\">\n  <thead>\n    <tr style=\"text-align: right;\">\n      <th></th>\n      <th>date</th>\n      <th>teamHomeName</th>\n      <th>teamAwayName</th>\n      <th>prediction</th>\n    </tr>\n  </thead>\n  <tbody>\n    <tr>\n      <th>5803</th>\n      <td>2024-05-11 15:30:00</td>\n      <td>1. FC Köln</td>\n      <td>1. FC Union Berlin</td>\n      <td>1:1</td>\n    </tr>\n    <tr>\n      <th>5804</th>\n      <td>2024-05-11 15:30:00</td>\n      <td>VfL Bochum</td>\n      <td>Bayer Leverkusen</td>\n      <td>0:2</td>\n    </tr>\n    <tr>\n      <th>5802</th>\n      <td>2024-05-11 15:30:00</td>\n      <td>Borussia Mönchengladbach</td>\n      <td>Eintracht Frankfurt</td>\n      <td>1:1</td>\n    </tr>\n    <tr>\n      <th>5805</th>\n      <td>2024-05-11 15:30:00</td>\n      <td>FC Augsburg</td>\n      <td>VfB Stuttgart</td>\n      <td>1:1</td>\n    </tr>\n    <tr>\n      <th>5800</th>\n      <td>2024-05-11 15:30:00</td>\n      <td>SC Freiburg</td>\n      <td>1. FC Heidenheim 1846</td>\n      <td>1:1</td>\n    </tr>\n    <tr>\n      <th>5799</th>\n      <td>2024-05-11 15:30:00</td>\n      <td>RB Leipzig</td>\n      <td>Werder Bremen</td>\n      <td>1:1</td>\n    </tr>\n    <tr>\n      <th>5798</th>\n      <td>2024-05-11 15:30:00</td>\n      <td>FC Bayern München</td>\n      <td>VfL Wolfsburg</td>\n      <td>2:0</td>\n    </tr>\n    <tr>\n      <th>5801</th>\n      <td>2024-05-11 15:30:00</td>\n      <td>1. FSV Mainz 05</td>\n      <td>Borussia Dortmund</td>\n      <td>0:1</td>\n    </tr>\n    <tr>\n      <th>5806</th>\n      <td>2024-05-11 15:30:00</td>\n      <td>SV Darmstadt 98</td>\n      <td>TSG 1899 Hoffenheim</td>\n      <td>1:1</td>\n    </tr>\n  </tbody>\n</table>\n</div>"
     },
     "execution_count": 1,
     "metadata": {},
     "output_type": "execute_result"
    }
   ],
   "source": [
    "from sklearn.ensemble import RandomForestClassifier\n",
    "from sklearn.preprocessing import LabelEncoder\n",
    "import pickle\n",
    "\n",
    "clf = pickle.load(open(\"classifier.pck\", \"rb\"))\n",
    "enc = pickle.load(open(\"encoder.pck\", \"rb\"))\n",
    "\n",
    "next_matchday_df = pickle.load(open(\"next_matchday_df.pck\", \"rb\"))\n",
    "next_matchday_df.drop(\"resultClass\", axis=1, inplace=True)\n",
    "next_matchday_df_prep = next_matchday_df.drop([\"date\", \"teamHomeName\", \"teamAwayName\"], axis=1)\n",
    "predictions = clf.predict(next_matchday_df_prep)\n",
    "next_matchday_df[\"prediction\"] = enc.inverse_transform(predictions)\n",
    "next_matchday_df[[\"date\", \"teamHomeName\", \"teamAwayName\", \"prediction\"]]"
   ],
   "metadata": {
    "collapsed": false,
    "ExecuteTime": {
     "end_time": "2024-05-10T08:22:33.747506Z",
     "start_time": "2024-05-10T08:22:30.241246Z"
    }
   },
   "id": "c6de4d807ab9333b"
  },
  {
   "cell_type": "code",
   "execution_count": 2,
   "id": "initial_id",
   "metadata": {
    "collapsed": true,
    "ExecuteTime": {
     "end_time": "2024-05-10T08:22:43.021167Z",
     "start_time": "2024-05-10T08:22:33.747348Z"
    }
   },
   "outputs": [],
   "source": [
    "from selenium import webdriver\n",
    "from selenium.webdriver.common.keys import Keys\n",
    "from selenium.webdriver.common.by import By\n",
    "\n",
    "import dotenv\n",
    "import os\n",
    "\n",
    "dotenv.load_dotenv(\".env\")\n",
    "os.getenv(\"EMAIL\")\n",
    "\n",
    "driver = webdriver.Chrome()\n",
    "driver.get(\"http://kicktipp.de\")\n",
    "\n",
    "nav_button = driver.find_element(By.CLASS_NAME, \"navtoggle\")\n",
    "nav_button.click()\n",
    "\n",
    "email_input = driver.find_element(By.ID, \"kennung\")\n",
    "email_input.send_keys(os.getenv(\"EMAIL\"))\n",
    "passwort_input = driver.find_element(By.ID, \"passwort\")\n",
    "passwort_input.send_keys(os.getenv(\"PASSWORT\"))\n",
    "\n",
    "login_button = driver.find_element(By.NAME, \"submitbutton\")\n",
    "login_button.click()"
   ]
  },
  {
   "cell_type": "code",
   "execution_count": 7,
   "outputs": [],
   "source": [
    "tipprunden_div = driver.find_element(By.XPATH, '//*[@id=\"kicktipp-content\"]/div[2]/div[2]/div[1]/div/div')\n",
    "for tipprunden in tipprunden_div.find_elements(By.TAG_NAME, \"a\"):\n",
    "    if tipprunden.get_attribute('innerHTML') == os.getenv(\"TIPPRUNDENNAME\"):\n",
    "        tipprunden.click()\n",
    "        break"
   ],
   "metadata": {
    "collapsed": false,
    "ExecuteTime": {
     "end_time": "2024-05-10T08:23:02.369164Z",
     "start_time": "2024-05-10T08:23:02.355620Z"
    }
   },
   "id": "27234c54d5a51074"
  },
  {
   "cell_type": "code",
   "execution_count": 8,
   "outputs": [],
   "source": [
    "cookies_div = driver.find_element(By.CLASS_NAME, \"qc-cmp2-summary-buttons\")\n",
    "for button in cookies_div.find_elements(By.TAG_NAME, \"button\"):\n",
    "    if button.find_element(By.TAG_NAME, \"span\").get_attribute(\"innerHTML\") == \"ZUSTIMMEN\":\n",
    "        button.click()\n",
    "        break"
   ],
   "metadata": {
    "collapsed": false,
    "ExecuteTime": {
     "end_time": "2024-05-10T08:23:10.046183Z",
     "start_time": "2024-05-10T08:23:09.941601Z"
    }
   },
   "id": "e5daa366a0fc6bf8"
  },
  {
   "cell_type": "code",
   "execution_count": 9,
   "outputs": [],
   "source": [
    "driver.get(os.getenv(\"LINK-TIPPABGABE\"))"
   ],
   "metadata": {
    "collapsed": false,
    "ExecuteTime": {
     "end_time": "2024-05-10T08:23:11.657660Z",
     "start_time": "2024-05-10T08:23:11.362532Z"
    }
   },
   "id": "2059bf3d5404e80e"
  },
  {
   "cell_type": "code",
   "execution_count": 10,
   "outputs": [],
   "source": [
    "from difflib import get_close_matches\n",
    "\n",
    "tippabgabe_tabelle = driver.find_element(By.ID, \"tippabgabeSpiele\")\n",
    "for datarow in tippabgabe_tabelle.find_elements(By.CLASS_NAME, \"datarow\"):\n",
    "    homeTeam = datarow.find_element(By.CLASS_NAME, \"col1\").get_attribute(\"innerHTML\")\n",
    "    if homeTeam != \"\":\n",
    "        selectedTeam = get_close_matches(homeTeam, next_matchday_df[\"teamHomeName\"])[0]\n",
    "        prediction = next_matchday_df[next_matchday_df[\"teamHomeName\"] == selectedTeam][\"prediction\"].iloc[0].split(\":\")\n",
    "        inputs = datarow.find_elements(By.TAG_NAME, \"input\")\n",
    "        inputs[1].clear()\n",
    "        inputs[1].send_keys(prediction[0])\n",
    "        inputs[2].clear()\n",
    "        inputs[2].send_keys(prediction[1])"
   ],
   "metadata": {
    "collapsed": false,
    "ExecuteTime": {
     "end_time": "2024-05-10T08:23:13.601062Z",
     "start_time": "2024-05-10T08:23:12.762764Z"
    }
   },
   "id": "efb19cfc69a35f7e"
  },
  {
   "cell_type": "code",
   "execution_count": 11,
   "outputs": [],
   "source": [
    "driver.find_element(By.NAME, \"submitbutton\").click()"
   ],
   "metadata": {
    "collapsed": false,
    "ExecuteTime": {
     "end_time": "2024-05-10T08:23:14.792626Z",
     "start_time": "2024-05-10T08:23:14.623741Z"
    }
   },
   "id": "83c3d68f55d491c7"
  },
  {
   "cell_type": "code",
   "execution_count": 12,
   "outputs": [],
   "source": [
    "driver.close()"
   ],
   "metadata": {
    "collapsed": false,
    "ExecuteTime": {
     "end_time": "2024-05-10T08:23:16.354234Z",
     "start_time": "2024-05-10T08:23:16.245397Z"
    }
   },
   "id": "97746c415450f3f9"
  },
  {
   "cell_type": "code",
   "execution_count": null,
   "outputs": [],
   "source": [],
   "metadata": {
    "collapsed": false,
    "ExecuteTime": {
     "start_time": "2024-05-10T08:22:43.222102Z"
    }
   },
   "id": "f26603e242c62da6"
  }
 ],
 "metadata": {
  "kernelspec": {
   "display_name": "Python 3",
   "language": "python",
   "name": "python3"
  },
  "language_info": {
   "codemirror_mode": {
    "name": "ipython",
    "version": 2
   },
   "file_extension": ".py",
   "mimetype": "text/x-python",
   "name": "python",
   "nbconvert_exporter": "python",
   "pygments_lexer": "ipython2",
   "version": "2.7.6"
  }
 },
 "nbformat": 4,
 "nbformat_minor": 5
}
