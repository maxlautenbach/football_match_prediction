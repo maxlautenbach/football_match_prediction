{
 "cells": [
  {
   "cell_type": "code",
   "source": [
    "from sklearn.ensemble import RandomForestClassifier\n",
    "from sklearn.preprocessing import LabelEncoder\n",
    "import pickle\n",
    "\n",
    "clf = pickle.load(open(\"classifier.pck\", \"rb\"))\n",
    "enc = pickle.load(open(\"encoder.pck\", \"rb\"))\n",
    "\n",
    "next_matchday_df = pickle.load(open(\"next_matchday_df.pck\", \"rb\"))\n",
    "next_matchday_df.drop(\"resultClass\", axis=1, inplace=True)\n",
    "next_matchday_df_prep = next_matchday_df.drop([\"date\", \"teamHomeName\", \"teamAwayName\"], axis=1)\n",
    "predictions = clf.predict(next_matchday_df_prep)\n",
    "next_matchday_df[\"prediction\"] = enc.inverse_transform(predictions)\n",
    "next_matchday_df[[\"date\", \"teamHomeName\", \"teamAwayName\", \"prediction\"]]"
   ],
   "metadata": {
    "collapsed": false,
    "ExecuteTime": {
     "end_time": "2025-05-12T11:45:15.913057Z",
     "start_time": "2025-05-12T11:45:15.808744Z"
    }
   },
   "id": "c6de4d807ab9333b",
   "outputs": [
    {
     "data": {
      "text/plain": [
       "                     date              teamHomeName         teamAwayName  \\\n",
       "11630 2025-05-17 15:30:00               FC Augsburg   1. FC Union Berlin   \n",
       "11631 2025-05-17 15:30:00           1. FSV Mainz 05     Bayer Leverkusen   \n",
       "11629 2025-05-17 15:30:00               SC Freiburg  Eintracht Frankfurt   \n",
       "11632 2025-05-17 15:30:00  Borussia Mönchengladbach        VfL Wolfsburg   \n",
       "11627 2025-05-17 15:30:00       TSG 1899 Hoffenheim    FC Bayern München   \n",
       "11626 2025-05-17 15:30:00         Borussia Dortmund        Holstein Kiel   \n",
       "11625 2025-05-17 15:30:00                RB Leipzig        VfB Stuttgart   \n",
       "11628 2025-05-17 15:30:00     1. FC Heidenheim 1846        Werder Bremen   \n",
       "11633 2025-05-17 15:30:00              FC St. Pauli           VfL Bochum   \n",
       "\n",
       "      prediction  \n",
       "11630        1:1  \n",
       "11631        1:1  \n",
       "11629        2:0  \n",
       "11632        1:1  \n",
       "11627        1:1  \n",
       "11626        2:1  \n",
       "11625        2:1  \n",
       "11628        2:1  \n",
       "11633        2:0  "
      ],
      "text/html": [
       "<div>\n",
       "<style scoped>\n",
       "    .dataframe tbody tr th:only-of-type {\n",
       "        vertical-align: middle;\n",
       "    }\n",
       "\n",
       "    .dataframe tbody tr th {\n",
       "        vertical-align: top;\n",
       "    }\n",
       "\n",
       "    .dataframe thead th {\n",
       "        text-align: right;\n",
       "    }\n",
       "</style>\n",
       "<table border=\"1\" class=\"dataframe\">\n",
       "  <thead>\n",
       "    <tr style=\"text-align: right;\">\n",
       "      <th></th>\n",
       "      <th>date</th>\n",
       "      <th>teamHomeName</th>\n",
       "      <th>teamAwayName</th>\n",
       "      <th>prediction</th>\n",
       "    </tr>\n",
       "  </thead>\n",
       "  <tbody>\n",
       "    <tr>\n",
       "      <th>11630</th>\n",
       "      <td>2025-05-17 15:30:00</td>\n",
       "      <td>FC Augsburg</td>\n",
       "      <td>1. FC Union Berlin</td>\n",
       "      <td>1:1</td>\n",
       "    </tr>\n",
       "    <tr>\n",
       "      <th>11631</th>\n",
       "      <td>2025-05-17 15:30:00</td>\n",
       "      <td>1. FSV Mainz 05</td>\n",
       "      <td>Bayer Leverkusen</td>\n",
       "      <td>1:1</td>\n",
       "    </tr>\n",
       "    <tr>\n",
       "      <th>11629</th>\n",
       "      <td>2025-05-17 15:30:00</td>\n",
       "      <td>SC Freiburg</td>\n",
       "      <td>Eintracht Frankfurt</td>\n",
       "      <td>2:0</td>\n",
       "    </tr>\n",
       "    <tr>\n",
       "      <th>11632</th>\n",
       "      <td>2025-05-17 15:30:00</td>\n",
       "      <td>Borussia Mönchengladbach</td>\n",
       "      <td>VfL Wolfsburg</td>\n",
       "      <td>1:1</td>\n",
       "    </tr>\n",
       "    <tr>\n",
       "      <th>11627</th>\n",
       "      <td>2025-05-17 15:30:00</td>\n",
       "      <td>TSG 1899 Hoffenheim</td>\n",
       "      <td>FC Bayern München</td>\n",
       "      <td>1:1</td>\n",
       "    </tr>\n",
       "    <tr>\n",
       "      <th>11626</th>\n",
       "      <td>2025-05-17 15:30:00</td>\n",
       "      <td>Borussia Dortmund</td>\n",
       "      <td>Holstein Kiel</td>\n",
       "      <td>2:1</td>\n",
       "    </tr>\n",
       "    <tr>\n",
       "      <th>11625</th>\n",
       "      <td>2025-05-17 15:30:00</td>\n",
       "      <td>RB Leipzig</td>\n",
       "      <td>VfB Stuttgart</td>\n",
       "      <td>2:1</td>\n",
       "    </tr>\n",
       "    <tr>\n",
       "      <th>11628</th>\n",
       "      <td>2025-05-17 15:30:00</td>\n",
       "      <td>1. FC Heidenheim 1846</td>\n",
       "      <td>Werder Bremen</td>\n",
       "      <td>2:1</td>\n",
       "    </tr>\n",
       "    <tr>\n",
       "      <th>11633</th>\n",
       "      <td>2025-05-17 15:30:00</td>\n",
       "      <td>FC St. Pauli</td>\n",
       "      <td>VfL Bochum</td>\n",
       "      <td>2:0</td>\n",
       "    </tr>\n",
       "  </tbody>\n",
       "</table>\n",
       "</div>"
      ]
     },
     "execution_count": 19,
     "metadata": {},
     "output_type": "execute_result"
    }
   ],
   "execution_count": 19
  },
  {
   "cell_type": "code",
   "id": "initial_id",
   "metadata": {
    "collapsed": true,
    "ExecuteTime": {
     "end_time": "2025-05-12T11:45:18.948345Z",
     "start_time": "2025-05-12T11:45:15.914236Z"
    }
   },
   "source": [
    "from selenium import webdriver\n",
    "from selenium.webdriver.common.keys import Keys\n",
    "from selenium.webdriver.common.by import By\n",
    "\n",
    "import dotenv\n",
    "import os\n",
    "\n",
    "dotenv.load_dotenv(\".env\")\n",
    "os.getenv(\"EMAIL\")\n",
    "\n",
    "driver = webdriver.Chrome()\n",
    "driver.get(os.getenv(\"LINK-TIPPABGABE\"))\n",
    "\n",
    "nav_button = driver.find_element(By.CLASS_NAME, \"navtoggle\")\n",
    "nav_button.click()\n",
    "\n",
    "email_input = driver.find_element(By.ID, \"kennung\")\n",
    "email_input.send_keys(os.getenv(\"EMAIL\"))\n",
    "passwort_input = driver.find_element(By.ID, \"passwort\")\n",
    "passwort_input.send_keys(os.getenv(\"PASSWORT\"))\n",
    "\n",
    "login_button = driver.find_element(By.NAME, \"submitbutton\")\n",
    "login_button.click()"
   ],
   "outputs": [],
   "execution_count": 20
  },
  {
   "metadata": {
    "ExecuteTime": {
     "end_time": "2025-05-12T11:45:27.693487Z",
     "start_time": "2025-05-12T11:45:27.653371Z"
    }
   },
   "cell_type": "code",
   "source": [
    "frame = driver.switch_to.frame(driver.find_element(By.XPATH, \"/html/body/div[2]/iframe\"))\n",
    "driver.find_element(By.XPATH, \"/html/body/div[2]/div/div/div/div[3]/div[1]/div[2]/button\").click()\n",
    "driver.switch_to.default_content()"
   ],
   "id": "98924689b6842279",
   "outputs": [
    {
     "ename": "NoSuchElementException",
     "evalue": "Message: no such element: Unable to locate element: {\"method\":\"xpath\",\"selector\":\"/html/body/div[2]/iframe\"}\n  (Session info: chrome=136.0.7103.93); For documentation on this error, please visit: https://www.selenium.dev/documentation/webdriver/troubleshooting/errors#no-such-element-exception\nStacktrace:\n0   chromedriver                        0x0000000104ea03bc cxxbridge1$str$ptr + 2829900\n1   chromedriver                        0x0000000104e98684 cxxbridge1$str$ptr + 2797844\n2   chromedriver                        0x00000001049d5fbc cxxbridge1$string$len + 90140\n3   chromedriver                        0x0000000104a1d1bc cxxbridge1$string$len + 381468\n4   chromedriver                        0x0000000104a5e044 cxxbridge1$string$len + 647332\n5   chromedriver                        0x0000000104a113f8 cxxbridge1$string$len + 332888\n6   chromedriver                        0x0000000104e647e0 cxxbridge1$str$ptr + 2585200\n7   chromedriver                        0x0000000104e67ab0 cxxbridge1$str$ptr + 2598208\n8   chromedriver                        0x0000000104e45db4 cxxbridge1$str$ptr + 2459716\n9   chromedriver                        0x0000000104e68328 cxxbridge1$str$ptr + 2600376\n10  chromedriver                        0x0000000104e37640 cxxbridge1$str$ptr + 2400464\n11  chromedriver                        0x0000000104e8828c cxxbridge1$str$ptr + 2731292\n12  chromedriver                        0x0000000104e88418 cxxbridge1$str$ptr + 2731688\n13  chromedriver                        0x0000000104e982d0 cxxbridge1$str$ptr + 2796896\n14  libsystem_pthread.dylib             0x0000000198019c0c _pthread_start + 136\n15  libsystem_pthread.dylib             0x0000000198014b80 thread_start + 8\n",
     "output_type": "error",
     "traceback": [
      "\u001B[0;31m---------------------------------------------------------------------------\u001B[0m",
      "\u001B[0;31mNoSuchElementException\u001B[0m                    Traceback (most recent call last)",
      "Cell \u001B[0;32mIn[24], line 1\u001B[0m\n\u001B[0;32m----> 1\u001B[0m frame \u001B[38;5;241m=\u001B[39m driver\u001B[38;5;241m.\u001B[39mswitch_to\u001B[38;5;241m.\u001B[39mframe(\u001B[43mdriver\u001B[49m\u001B[38;5;241;43m.\u001B[39;49m\u001B[43mfind_element\u001B[49m\u001B[43m(\u001B[49m\u001B[43mBy\u001B[49m\u001B[38;5;241;43m.\u001B[39;49m\u001B[43mXPATH\u001B[49m\u001B[43m,\u001B[49m\u001B[43m \u001B[49m\u001B[38;5;124;43m\"\u001B[39;49m\u001B[38;5;124;43m/html/body/div[2]/iframe\u001B[39;49m\u001B[38;5;124;43m\"\u001B[39;49m\u001B[43m)\u001B[49m)\n\u001B[1;32m      2\u001B[0m driver\u001B[38;5;241m.\u001B[39mfind_element(By\u001B[38;5;241m.\u001B[39mXPATH, \u001B[38;5;124m\"\u001B[39m\u001B[38;5;124m/html/body/div[2]/div/div/div/div[3]/div[1]/div[2]/button\u001B[39m\u001B[38;5;124m\"\u001B[39m)\u001B[38;5;241m.\u001B[39mclick()\n\u001B[1;32m      3\u001B[0m driver\u001B[38;5;241m.\u001B[39mswitch_to\u001B[38;5;241m.\u001B[39mdefault_content()\n",
      "File \u001B[0;32m~/PycharmProjects/football_match_prediction/venv3/lib/python3.11/site-packages/selenium/webdriver/remote/webdriver.py:741\u001B[0m, in \u001B[0;36mWebDriver.find_element\u001B[0;34m(self, by, value)\u001B[0m\n\u001B[1;32m    738\u001B[0m     by \u001B[38;5;241m=\u001B[39m By\u001B[38;5;241m.\u001B[39mCSS_SELECTOR\n\u001B[1;32m    739\u001B[0m     value \u001B[38;5;241m=\u001B[39m \u001B[38;5;124mf\u001B[39m\u001B[38;5;124m'\u001B[39m\u001B[38;5;124m[name=\u001B[39m\u001B[38;5;124m\"\u001B[39m\u001B[38;5;132;01m{\u001B[39;00mvalue\u001B[38;5;132;01m}\u001B[39;00m\u001B[38;5;124m\"\u001B[39m\u001B[38;5;124m]\u001B[39m\u001B[38;5;124m'\u001B[39m\n\u001B[0;32m--> 741\u001B[0m \u001B[38;5;28;01mreturn\u001B[39;00m \u001B[38;5;28;43mself\u001B[39;49m\u001B[38;5;241;43m.\u001B[39;49m\u001B[43mexecute\u001B[49m\u001B[43m(\u001B[49m\u001B[43mCommand\u001B[49m\u001B[38;5;241;43m.\u001B[39;49m\u001B[43mFIND_ELEMENT\u001B[49m\u001B[43m,\u001B[49m\u001B[43m \u001B[49m\u001B[43m{\u001B[49m\u001B[38;5;124;43m\"\u001B[39;49m\u001B[38;5;124;43musing\u001B[39;49m\u001B[38;5;124;43m\"\u001B[39;49m\u001B[43m:\u001B[49m\u001B[43m \u001B[49m\u001B[43mby\u001B[49m\u001B[43m,\u001B[49m\u001B[43m \u001B[49m\u001B[38;5;124;43m\"\u001B[39;49m\u001B[38;5;124;43mvalue\u001B[39;49m\u001B[38;5;124;43m\"\u001B[39;49m\u001B[43m:\u001B[49m\u001B[43m \u001B[49m\u001B[43mvalue\u001B[49m\u001B[43m}\u001B[49m\u001B[43m)\u001B[49m[\u001B[38;5;124m\"\u001B[39m\u001B[38;5;124mvalue\u001B[39m\u001B[38;5;124m\"\u001B[39m]\n",
      "File \u001B[0;32m~/PycharmProjects/football_match_prediction/venv3/lib/python3.11/site-packages/selenium/webdriver/remote/webdriver.py:347\u001B[0m, in \u001B[0;36mWebDriver.execute\u001B[0;34m(self, driver_command, params)\u001B[0m\n\u001B[1;32m    345\u001B[0m response \u001B[38;5;241m=\u001B[39m \u001B[38;5;28mself\u001B[39m\u001B[38;5;241m.\u001B[39mcommand_executor\u001B[38;5;241m.\u001B[39mexecute(driver_command, params)\n\u001B[1;32m    346\u001B[0m \u001B[38;5;28;01mif\u001B[39;00m response:\n\u001B[0;32m--> 347\u001B[0m     \u001B[38;5;28;43mself\u001B[39;49m\u001B[38;5;241;43m.\u001B[39;49m\u001B[43merror_handler\u001B[49m\u001B[38;5;241;43m.\u001B[39;49m\u001B[43mcheck_response\u001B[49m\u001B[43m(\u001B[49m\u001B[43mresponse\u001B[49m\u001B[43m)\u001B[49m\n\u001B[1;32m    348\u001B[0m     response[\u001B[38;5;124m\"\u001B[39m\u001B[38;5;124mvalue\u001B[39m\u001B[38;5;124m\"\u001B[39m] \u001B[38;5;241m=\u001B[39m \u001B[38;5;28mself\u001B[39m\u001B[38;5;241m.\u001B[39m_unwrap_value(response\u001B[38;5;241m.\u001B[39mget(\u001B[38;5;124m\"\u001B[39m\u001B[38;5;124mvalue\u001B[39m\u001B[38;5;124m\"\u001B[39m, \u001B[38;5;28;01mNone\u001B[39;00m))\n\u001B[1;32m    349\u001B[0m     \u001B[38;5;28;01mreturn\u001B[39;00m response\n",
      "File \u001B[0;32m~/PycharmProjects/football_match_prediction/venv3/lib/python3.11/site-packages/selenium/webdriver/remote/errorhandler.py:229\u001B[0m, in \u001B[0;36mErrorHandler.check_response\u001B[0;34m(self, response)\u001B[0m\n\u001B[1;32m    227\u001B[0m         alert_text \u001B[38;5;241m=\u001B[39m value[\u001B[38;5;124m\"\u001B[39m\u001B[38;5;124malert\u001B[39m\u001B[38;5;124m\"\u001B[39m]\u001B[38;5;241m.\u001B[39mget(\u001B[38;5;124m\"\u001B[39m\u001B[38;5;124mtext\u001B[39m\u001B[38;5;124m\"\u001B[39m)\n\u001B[1;32m    228\u001B[0m     \u001B[38;5;28;01mraise\u001B[39;00m exception_class(message, screen, stacktrace, alert_text)  \u001B[38;5;66;03m# type: ignore[call-arg]  # mypy is not smart enough here\u001B[39;00m\n\u001B[0;32m--> 229\u001B[0m \u001B[38;5;28;01mraise\u001B[39;00m exception_class(message, screen, stacktrace)\n",
      "\u001B[0;31mNoSuchElementException\u001B[0m: Message: no such element: Unable to locate element: {\"method\":\"xpath\",\"selector\":\"/html/body/div[2]/iframe\"}\n  (Session info: chrome=136.0.7103.93); For documentation on this error, please visit: https://www.selenium.dev/documentation/webdriver/troubleshooting/errors#no-such-element-exception\nStacktrace:\n0   chromedriver                        0x0000000104ea03bc cxxbridge1$str$ptr + 2829900\n1   chromedriver                        0x0000000104e98684 cxxbridge1$str$ptr + 2797844\n2   chromedriver                        0x00000001049d5fbc cxxbridge1$string$len + 90140\n3   chromedriver                        0x0000000104a1d1bc cxxbridge1$string$len + 381468\n4   chromedriver                        0x0000000104a5e044 cxxbridge1$string$len + 647332\n5   chromedriver                        0x0000000104a113f8 cxxbridge1$string$len + 332888\n6   chromedriver                        0x0000000104e647e0 cxxbridge1$str$ptr + 2585200\n7   chromedriver                        0x0000000104e67ab0 cxxbridge1$str$ptr + 2598208\n8   chromedriver                        0x0000000104e45db4 cxxbridge1$str$ptr + 2459716\n9   chromedriver                        0x0000000104e68328 cxxbridge1$str$ptr + 2600376\n10  chromedriver                        0x0000000104e37640 cxxbridge1$str$ptr + 2400464\n11  chromedriver                        0x0000000104e8828c cxxbridge1$str$ptr + 2731292\n12  chromedriver                        0x0000000104e88418 cxxbridge1$str$ptr + 2731688\n13  chromedriver                        0x0000000104e982d0 cxxbridge1$str$ptr + 2796896\n14  libsystem_pthread.dylib             0x0000000198019c0c _pthread_start + 136\n15  libsystem_pthread.dylib             0x0000000198014b80 thread_start + 8\n"
     ]
    }
   ],
   "execution_count": 24
  },
  {
   "cell_type": "code",
   "source": [
    "from difflib import get_close_matches\n",
    "\n",
    "driver.switch_to.default_content()\n",
    "tippabgabe_tabelle = driver.find_element(By.ID, \"tippabgabeSpiele\")\n",
    "for datarow in tippabgabe_tabelle.find_elements(By.CLASS_NAME, \"datarow\"):\n",
    "    homeTeam = datarow.find_element(By.CLASS_NAME, \"col1\").get_attribute(\"innerHTML\")\n",
    "    if homeTeam != \"\":\n",
    "        selectedTeam = get_close_matches(homeTeam, next_matchday_df[\"teamHomeName\"])[0]\n",
    "        prediction = next_matchday_df[next_matchday_df[\"teamHomeName\"] == selectedTeam][\"prediction\"].iloc[0].split(\":\")\n",
    "        inputs = datarow.find_elements(By.TAG_NAME, \"input\")\n",
    "        inputs[1].clear()\n",
    "        inputs[1].send_keys(prediction[0])\n",
    "        inputs[2].clear()\n",
    "        inputs[2].send_keys(prediction[1])"
   ],
   "metadata": {
    "collapsed": false,
    "ExecuteTime": {
     "end_time": "2025-05-12T11:45:29.271766Z",
     "start_time": "2025-05-12T11:45:28.572112Z"
    }
   },
   "id": "efb19cfc69a35f7e",
   "outputs": [],
   "execution_count": 25
  },
  {
   "cell_type": "code",
   "source": [
    "driver.find_element(By.NAME, \"submitbutton\").click()"
   ],
   "metadata": {
    "collapsed": false,
    "ExecuteTime": {
     "end_time": "2025-05-12T11:45:20.726117Z",
     "start_time": "2025-05-12T11:45:19.675694Z"
    }
   },
   "id": "83c3d68f55d491c7",
   "outputs": [
    {
     "ename": "ElementClickInterceptedException",
     "evalue": "Message: element click intercepted: Element <button type=\"submit\" name=\"submitbutton\">...</button> is not clickable at point (266, 968). Other element would receive the click: <iframe src=\"https://cdn.privacy-mgmt.com/index.html?hasCsp=true&amp;message_id=1230027&amp;consentUUID=9fce6fb5-e928-444d-bc0e-25fcafe6c420&amp;consent_origin=https%3A%2F%2Fcdn.privacy-mgmt.com%2Fconsent%2Ftcfv2&amp;preload_message=true&amp;concatenatedUUID=9fce6fb5-e928-444d-bc0e-25fcafe6c420~~&amp;version=v1&amp;consentLanguage=de\" id=\"sp_message_iframe_1230027\" cd_frame_id_=\"cf95b133a6f3fd2cd7756371f1223dba\" title=\"SP Consent Message\"></iframe>\n  (Session info: chrome=136.0.7103.93)\nStacktrace:\n0   chromedriver                        0x0000000104ea03bc cxxbridge1$str$ptr + 2829900\n1   chromedriver                        0x0000000104e98684 cxxbridge1$str$ptr + 2797844\n2   chromedriver                        0x00000001049d5fbc cxxbridge1$string$len + 90140\n3   chromedriver                        0x0000000104a22d20 cxxbridge1$string$len + 404864\n4   chromedriver                        0x0000000104a2128c cxxbridge1$string$len + 398060\n5   chromedriver                        0x0000000104a1f0a0 cxxbridge1$string$len + 389376\n6   chromedriver                        0x0000000104a1e49c cxxbridge1$string$len + 386300\n7   chromedriver                        0x0000000104a12f14 cxxbridge1$string$len + 339828\n8   chromedriver                        0x0000000104a129a0 cxxbridge1$string$len + 338432\n9   chromedriver                        0x0000000104a5e044 cxxbridge1$string$len + 647332\n10  chromedriver                        0x0000000104a113f8 cxxbridge1$string$len + 332888\n11  chromedriver                        0x0000000104e647e0 cxxbridge1$str$ptr + 2585200\n12  chromedriver                        0x0000000104e67ab0 cxxbridge1$str$ptr + 2598208\n13  chromedriver                        0x0000000104e45db4 cxxbridge1$str$ptr + 2459716\n14  chromedriver                        0x0000000104e68328 cxxbridge1$str$ptr + 2600376\n15  chromedriver                        0x0000000104e37640 cxxbridge1$str$ptr + 2400464\n16  chromedriver                        0x0000000104e8828c cxxbridge1$str$ptr + 2731292\n17  chromedriver                        0x0000000104e88418 cxxbridge1$str$ptr + 2731688\n18  chromedriver                        0x0000000104e982d0 cxxbridge1$str$ptr + 2796896\n19  libsystem_pthread.dylib             0x0000000198019c0c _pthread_start + 136\n20  libsystem_pthread.dylib             0x0000000198014b80 thread_start + 8\n",
     "output_type": "error",
     "traceback": [
      "\u001B[0;31m---------------------------------------------------------------------------\u001B[0m",
      "\u001B[0;31mElementClickInterceptedException\u001B[0m          Traceback (most recent call last)",
      "Cell \u001B[0;32mIn[23], line 1\u001B[0m\n\u001B[0;32m----> 1\u001B[0m \u001B[43mdriver\u001B[49m\u001B[38;5;241;43m.\u001B[39;49m\u001B[43mfind_element\u001B[49m\u001B[43m(\u001B[49m\u001B[43mBy\u001B[49m\u001B[38;5;241;43m.\u001B[39;49m\u001B[43mNAME\u001B[49m\u001B[43m,\u001B[49m\u001B[43m \u001B[49m\u001B[38;5;124;43m\"\u001B[39;49m\u001B[38;5;124;43msubmitbutton\u001B[39;49m\u001B[38;5;124;43m\"\u001B[39;49m\u001B[43m)\u001B[49m\u001B[38;5;241;43m.\u001B[39;49m\u001B[43mclick\u001B[49m\u001B[43m(\u001B[49m\u001B[43m)\u001B[49m\n",
      "File \u001B[0;32m~/PycharmProjects/football_match_prediction/venv3/lib/python3.11/site-packages/selenium/webdriver/remote/webelement.py:94\u001B[0m, in \u001B[0;36mWebElement.click\u001B[0;34m(self)\u001B[0m\n\u001B[1;32m     92\u001B[0m \u001B[38;5;28;01mdef\u001B[39;00m \u001B[38;5;21mclick\u001B[39m(\u001B[38;5;28mself\u001B[39m) \u001B[38;5;241m-\u001B[39m\u001B[38;5;241m>\u001B[39m \u001B[38;5;28;01mNone\u001B[39;00m:\n\u001B[1;32m     93\u001B[0m \u001B[38;5;250m    \u001B[39m\u001B[38;5;124;03m\"\"\"Clicks the element.\"\"\"\u001B[39;00m\n\u001B[0;32m---> 94\u001B[0m     \u001B[38;5;28;43mself\u001B[39;49m\u001B[38;5;241;43m.\u001B[39;49m\u001B[43m_execute\u001B[49m\u001B[43m(\u001B[49m\u001B[43mCommand\u001B[49m\u001B[38;5;241;43m.\u001B[39;49m\u001B[43mCLICK_ELEMENT\u001B[49m\u001B[43m)\u001B[49m\n",
      "File \u001B[0;32m~/PycharmProjects/football_match_prediction/venv3/lib/python3.11/site-packages/selenium/webdriver/remote/webelement.py:395\u001B[0m, in \u001B[0;36mWebElement._execute\u001B[0;34m(self, command, params)\u001B[0m\n\u001B[1;32m    393\u001B[0m     params \u001B[38;5;241m=\u001B[39m {}\n\u001B[1;32m    394\u001B[0m params[\u001B[38;5;124m\"\u001B[39m\u001B[38;5;124mid\u001B[39m\u001B[38;5;124m\"\u001B[39m] \u001B[38;5;241m=\u001B[39m \u001B[38;5;28mself\u001B[39m\u001B[38;5;241m.\u001B[39m_id\n\u001B[0;32m--> 395\u001B[0m \u001B[38;5;28;01mreturn\u001B[39;00m \u001B[38;5;28;43mself\u001B[39;49m\u001B[38;5;241;43m.\u001B[39;49m\u001B[43m_parent\u001B[49m\u001B[38;5;241;43m.\u001B[39;49m\u001B[43mexecute\u001B[49m\u001B[43m(\u001B[49m\u001B[43mcommand\u001B[49m\u001B[43m,\u001B[49m\u001B[43m \u001B[49m\u001B[43mparams\u001B[49m\u001B[43m)\u001B[49m\n",
      "File \u001B[0;32m~/PycharmProjects/football_match_prediction/venv3/lib/python3.11/site-packages/selenium/webdriver/remote/webdriver.py:347\u001B[0m, in \u001B[0;36mWebDriver.execute\u001B[0;34m(self, driver_command, params)\u001B[0m\n\u001B[1;32m    345\u001B[0m response \u001B[38;5;241m=\u001B[39m \u001B[38;5;28mself\u001B[39m\u001B[38;5;241m.\u001B[39mcommand_executor\u001B[38;5;241m.\u001B[39mexecute(driver_command, params)\n\u001B[1;32m    346\u001B[0m \u001B[38;5;28;01mif\u001B[39;00m response:\n\u001B[0;32m--> 347\u001B[0m     \u001B[38;5;28;43mself\u001B[39;49m\u001B[38;5;241;43m.\u001B[39;49m\u001B[43merror_handler\u001B[49m\u001B[38;5;241;43m.\u001B[39;49m\u001B[43mcheck_response\u001B[49m\u001B[43m(\u001B[49m\u001B[43mresponse\u001B[49m\u001B[43m)\u001B[49m\n\u001B[1;32m    348\u001B[0m     response[\u001B[38;5;124m\"\u001B[39m\u001B[38;5;124mvalue\u001B[39m\u001B[38;5;124m\"\u001B[39m] \u001B[38;5;241m=\u001B[39m \u001B[38;5;28mself\u001B[39m\u001B[38;5;241m.\u001B[39m_unwrap_value(response\u001B[38;5;241m.\u001B[39mget(\u001B[38;5;124m\"\u001B[39m\u001B[38;5;124mvalue\u001B[39m\u001B[38;5;124m\"\u001B[39m, \u001B[38;5;28;01mNone\u001B[39;00m))\n\u001B[1;32m    349\u001B[0m     \u001B[38;5;28;01mreturn\u001B[39;00m response\n",
      "File \u001B[0;32m~/PycharmProjects/football_match_prediction/venv3/lib/python3.11/site-packages/selenium/webdriver/remote/errorhandler.py:229\u001B[0m, in \u001B[0;36mErrorHandler.check_response\u001B[0;34m(self, response)\u001B[0m\n\u001B[1;32m    227\u001B[0m         alert_text \u001B[38;5;241m=\u001B[39m value[\u001B[38;5;124m\"\u001B[39m\u001B[38;5;124malert\u001B[39m\u001B[38;5;124m\"\u001B[39m]\u001B[38;5;241m.\u001B[39mget(\u001B[38;5;124m\"\u001B[39m\u001B[38;5;124mtext\u001B[39m\u001B[38;5;124m\"\u001B[39m)\n\u001B[1;32m    228\u001B[0m     \u001B[38;5;28;01mraise\u001B[39;00m exception_class(message, screen, stacktrace, alert_text)  \u001B[38;5;66;03m# type: ignore[call-arg]  # mypy is not smart enough here\u001B[39;00m\n\u001B[0;32m--> 229\u001B[0m \u001B[38;5;28;01mraise\u001B[39;00m exception_class(message, screen, stacktrace)\n",
      "\u001B[0;31mElementClickInterceptedException\u001B[0m: Message: element click intercepted: Element <button type=\"submit\" name=\"submitbutton\">...</button> is not clickable at point (266, 968). Other element would receive the click: <iframe src=\"https://cdn.privacy-mgmt.com/index.html?hasCsp=true&amp;message_id=1230027&amp;consentUUID=9fce6fb5-e928-444d-bc0e-25fcafe6c420&amp;consent_origin=https%3A%2F%2Fcdn.privacy-mgmt.com%2Fconsent%2Ftcfv2&amp;preload_message=true&amp;concatenatedUUID=9fce6fb5-e928-444d-bc0e-25fcafe6c420~~&amp;version=v1&amp;consentLanguage=de\" id=\"sp_message_iframe_1230027\" cd_frame_id_=\"cf95b133a6f3fd2cd7756371f1223dba\" title=\"SP Consent Message\"></iframe>\n  (Session info: chrome=136.0.7103.93)\nStacktrace:\n0   chromedriver                        0x0000000104ea03bc cxxbridge1$str$ptr + 2829900\n1   chromedriver                        0x0000000104e98684 cxxbridge1$str$ptr + 2797844\n2   chromedriver                        0x00000001049d5fbc cxxbridge1$string$len + 90140\n3   chromedriver                        0x0000000104a22d20 cxxbridge1$string$len + 404864\n4   chromedriver                        0x0000000104a2128c cxxbridge1$string$len + 398060\n5   chromedriver                        0x0000000104a1f0a0 cxxbridge1$string$len + 389376\n6   chromedriver                        0x0000000104a1e49c cxxbridge1$string$len + 386300\n7   chromedriver                        0x0000000104a12f14 cxxbridge1$string$len + 339828\n8   chromedriver                        0x0000000104a129a0 cxxbridge1$string$len + 338432\n9   chromedriver                        0x0000000104a5e044 cxxbridge1$string$len + 647332\n10  chromedriver                        0x0000000104a113f8 cxxbridge1$string$len + 332888\n11  chromedriver                        0x0000000104e647e0 cxxbridge1$str$ptr + 2585200\n12  chromedriver                        0x0000000104e67ab0 cxxbridge1$str$ptr + 2598208\n13  chromedriver                        0x0000000104e45db4 cxxbridge1$str$ptr + 2459716\n14  chromedriver                        0x0000000104e68328 cxxbridge1$str$ptr + 2600376\n15  chromedriver                        0x0000000104e37640 cxxbridge1$str$ptr + 2400464\n16  chromedriver                        0x0000000104e8828c cxxbridge1$str$ptr + 2731292\n17  chromedriver                        0x0000000104e88418 cxxbridge1$str$ptr + 2731688\n18  chromedriver                        0x0000000104e982d0 cxxbridge1$str$ptr + 2796896\n19  libsystem_pthread.dylib             0x0000000198019c0c _pthread_start + 136\n20  libsystem_pthread.dylib             0x0000000198014b80 thread_start + 8\n"
     ]
    }
   ],
   "execution_count": 23
  },
  {
   "cell_type": "code",
   "source": [
    "driver.close()"
   ],
   "metadata": {
    "collapsed": false
   },
   "id": "97746c415450f3f9",
   "outputs": [],
   "execution_count": null
  },
  {
   "cell_type": "code",
   "source": [],
   "metadata": {
    "collapsed": false
   },
   "id": "f26603e242c62da6",
   "outputs": [],
   "execution_count": null
  }
 ],
 "metadata": {
  "kernelspec": {
   "display_name": "Python 3",
   "language": "python",
   "name": "python3"
  },
  "language_info": {
   "codemirror_mode": {
    "name": "ipython",
    "version": 2
   },
   "file_extension": ".py",
   "mimetype": "text/x-python",
   "name": "python",
   "nbconvert_exporter": "python",
   "pygments_lexer": "ipython2",
   "version": "2.7.6"
  }
 },
 "nbformat": 4,
 "nbformat_minor": 5
}
