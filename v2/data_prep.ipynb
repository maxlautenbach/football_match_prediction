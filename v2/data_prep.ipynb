{
 "cells": [
  {
   "cell_type": "code",
   "execution_count": 1,
   "id": "initial_id",
   "metadata": {
    "collapsed": true,
    "ExecuteTime": {
     "end_time": "2024-05-10T08:22:20.889993Z",
     "start_time": "2024-05-10T08:22:20.863983Z"
    }
   },
   "outputs": [],
   "source": [
    "from api import openligadb\n",
    "import datetime\n",
    "\n",
    "def extract_result(match_results):\n",
    "    for match_result in match_results:\n",
    "        if match_result['resultName'] == 'Endergebnis':\n",
    "            return \"finished\", match_result['pointsTeam1'], match_result['pointsTeam2']\n",
    "    return \"future\", None, None\n",
    "\n",
    "\n",
    "\n",
    "def extract_winner(match_data):\n",
    "    try:\n",
    "        if match_data[\"goalsHome\"] > match_data[\"goalsAway\"]:\n",
    "            return match_data[\"teamHomeId\"]\n",
    "        elif match_data[\"goalsHome\"] < match_data[\"goalsAway\"]:\n",
    "            return match_data[\"teamAwayId\"]\n",
    "        else:\n",
    "            return None\n",
    "    except TypeError:\n",
    "        return None\n",
    "\n",
    "\n",
    "def extract_match_data(json):\n",
    "    match_data = {}\n",
    "    match_data[\"id\"] = json[\"matchID\"]\n",
    "    match_data[\"date\"] = datetime.datetime.strptime(json[\"matchDateTime\"],\"%Y-%m-%dT%H:%M:%S\")\n",
    "    match_data[\"teamHomeId\"] = json[\"team1\"][\"teamId\"]\n",
    "    match_data[\"teamHomeName\"] = json[\"team1\"][\"teamName\"]\n",
    "    match_data[\"teamAwayId\"] = json[\"team2\"][\"teamId\"]\n",
    "    match_data[\"teamAwayName\"] = json[\"team2\"][\"teamName\"]\n",
    "    match_data[\"status\"], match_data[\"goalsHome\"], match_data[\"goalsAway\"] = extract_result(json[\"matchResults\"])\n",
    "    match_data[\"winnerTeamId\"] = extract_winner(match_data)\n",
    "    match_data[\"matchDay\"] = json[\"group\"][\"groupOrderID\"]\n",
    "    match_data[\"season\"] = json[\"leagueSeason\"]\n",
    "    return match_data"
   ]
  },
  {
   "cell_type": "code",
   "execution_count": 2,
   "outputs": [],
   "source": [
    "from tqdm import tqdm\n",
    "import pickle\n",
    "import pandas as pd\n",
    "\n",
    "try:\n",
    "    match_df = pickle.load(open(\"match_df.pck\", \"rb\"))\n",
    "except:\n",
    "    match_data = []\n",
    "    for year in tqdm(range(2005, 2024)):\n",
    "        json = openligadb.get_all_season_matches(\"bl1\", year)\n",
    "        for match_data_json in json:\n",
    "            match_data.append(extract_match_data(match_data_json))\n",
    "    match_df = pd.DataFrame(match_data)\n",
    "    pickle.dump(match_df, open(\"match_df.pck\", \"wb\"))"
   ],
   "metadata": {
    "collapsed": false,
    "ExecuteTime": {
     "end_time": "2024-05-10T08:22:22.456931Z",
     "start_time": "2024-05-10T08:22:20.888429Z"
    }
   },
   "id": "25908570bf14966e"
  },
  {
   "cell_type": "code",
   "execution_count": 3,
   "outputs": [],
   "source": [
    "import numpy as np\n",
    "from dateutil.relativedelta import relativedelta\n",
    "import datetime\n",
    "\n",
    "testing = False\n",
    "\n",
    "if testing:\n",
    "    testing_date = datetime.datetime.today() + relativedelta(days=-14)\n",
    "    manip_df = match_df.copy(deep=True)\n",
    "    manip_df = manip_df.loc[(match_df[\"status\"] == \"finished\") & (match_df[\"date\"] > testing_date)]\n",
    "    manip_df[\"status\"] = [\"future\" for _ in range(len(manip_df.index))]\n",
    "    manip_df[[\"goalsHome\", \"goalsAway\", \"winnerTeamId\"]] = np.NaN\n",
    "    match_df[(match_df[\"status\"] == \"finished\") & (match_df[\"date\"] > testing_date)] = manip_df"
   ],
   "metadata": {
    "collapsed": false,
    "ExecuteTime": {
     "end_time": "2024-05-10T08:22:22.462290Z",
     "start_time": "2024-05-10T08:22:22.459666Z"
    }
   },
   "id": "25c0956903c4888b"
  },
  {
   "cell_type": "code",
   "execution_count": 4,
   "outputs": [
    {
     "name": "stderr",
     "output_type": "stream",
     "text": [
      "9it [00:01,  8.89it/s]\n"
     ]
    }
   ],
   "source": [
    "updatable_df = match_df[(match_df[\"status\"] == \"future\") & (match_df[\"date\"] < datetime.datetime.today())]\n",
    "for _, row in tqdm(updatable_df.iterrows()):\n",
    "    row_match_data = openligadb.get_match_data(row[\"id\"])\n",
    "    match_df.loc[row.name] = row_match_data\n",
    "if len(updatable_df) > 0:\n",
    "    pickle.dump(match_df, open(\"match_df.pck\", \"wb\"))"
   ],
   "metadata": {
    "collapsed": false,
    "ExecuteTime": {
     "end_time": "2024-05-10T08:22:23.506306Z",
     "start_time": "2024-05-10T08:22:22.464018Z"
    }
   },
   "id": "1dc07cbfc0075fd5"
  },
  {
   "cell_type": "code",
   "execution_count": 5,
   "outputs": [],
   "source": [
    "next_match_day = 1\n",
    "for _, row in match_df[match_df[\"status\"] == \"future\"].iterrows():\n",
    "    next_match_day = row[\"matchDay\"]\n",
    "    if len(match_df[(match_df[\"matchDay\"] == next_match_day) & (match_df[\"season\"] == row[\"season\"])]) == 9:\n",
    "        break\n",
    "next_match_day_df = match_df[(match_df[\"matchDay\"] == next_match_day) & (match_df[\"season\"] == row[\"season\"])]"
   ],
   "metadata": {
    "collapsed": false,
    "ExecuteTime": {
     "end_time": "2024-05-10T08:22:23.510223Z",
     "start_time": "2024-05-10T08:22:23.506143Z"
    }
   },
   "id": "83af5d90b1b4b19d"
  },
  {
   "cell_type": "code",
   "execution_count": 6,
   "outputs": [],
   "source": [
    "match_df = match_df[match_df[\"status\"] == \"finished\"].fillna(0)\n",
    "next_match_day_df = next_match_day_df.fillna(0)\n",
    "match_df = pd.concat([match_df, next_match_day_df])"
   ],
   "metadata": {
    "collapsed": false,
    "ExecuteTime": {
     "end_time": "2024-05-10T08:22:23.514539Z",
     "start_time": "2024-05-10T08:22:23.509278Z"
    }
   },
   "id": "cf320747f2e93346"
  },
  {
   "cell_type": "code",
   "execution_count": 7,
   "outputs": [],
   "source": [
    "team_match_df_dict = dict()"
   ],
   "metadata": {
    "collapsed": false,
    "ExecuteTime": {
     "end_time": "2024-05-10T08:22:23.518411Z",
     "start_time": "2024-05-10T08:22:23.514036Z"
    }
   },
   "id": "6c723458edc2d2f1"
  },
  {
   "cell_type": "code",
   "execution_count": 8,
   "outputs": [],
   "source": [
    "def get_team_match_df(teamId):\n",
    "    team_match_df = match_df[(match_df[\"teamHomeId\"] == teamId) | (match_df[\"teamAwayId\"] == teamId)].copy(deep=True)\n",
    "    team_match_df.sort_values(by=\"date\")\n",
    "    goalsTeam = []\n",
    "    goalsOpponent = []\n",
    "    teamPoints = []\n",
    "    for _, row in team_match_df.iterrows():\n",
    "        if row[\"teamHomeId\"] == teamId:\n",
    "            goalsTeam.append(row[\"goalsHome\"])\n",
    "            goalsOpponent.append(row[\"goalsAway\"])\n",
    "        else:\n",
    "            goalsOpponent.append(row[\"goalsHome\"])\n",
    "            goalsTeam.append(row[\"goalsAway\"])\n",
    "        if row[\"winnerTeamId\"] == teamId:\n",
    "            teamPoints.append(3)\n",
    "        elif row[\"winnerTeamId\"] == 0:\n",
    "            teamPoints.append(1)\n",
    "        else:\n",
    "            teamPoints.append(0)\n",
    "    team_match_df[\"goalsTeam\"] = goalsTeam\n",
    "    team_match_df[\"goalsOpponent\"] = goalsOpponent\n",
    "    team_match_df[\"teamPoints\"] = teamPoints\n",
    "    team_match_df[\"avgScoredGoals5\"] = team_match_df[\"goalsTeam\"].rolling(window=5).mean().shift(1)\n",
    "    team_match_df[\"avgScoredGoals10\"] = team_match_df[\"goalsTeam\"].rolling(window=10).mean().shift(1)\n",
    "    team_match_df[\"avgGottenGoals5\"] = team_match_df[\"goalsOpponent\"].rolling(window=5).mean().shift(1)\n",
    "    team_match_df[\"avgGottenGoals10\"] = team_match_df[\"goalsOpponent\"].rolling(window=10).mean().shift(1)\n",
    "    team_match_df[\"avgTeamPoints5\"] = team_match_df[\"teamPoints\"].rolling(window=5).mean().shift(1)\n",
    "    team_match_df[\"avgTeamPoints10\"] = team_match_df[\"teamPoints\"].rolling(window=10).mean().shift(1)\n",
    "    return team_match_df"
   ],
   "metadata": {
    "collapsed": false,
    "ExecuteTime": {
     "end_time": "2024-05-10T08:22:23.522184Z",
     "start_time": "2024-05-10T08:22:23.518537Z"
    }
   },
   "id": "d7be434c865f9598"
  },
  {
   "cell_type": "code",
   "execution_count": 9,
   "outputs": [
    {
     "name": "stderr",
     "output_type": "stream",
     "text": [
      "100%|██████████| 37/37 [00:00<00:00, 139.40it/s]\n"
     ]
    }
   ],
   "source": [
    "for teamId in tqdm(set(match_df[\"teamHomeId\"])):\n",
    "    team_match_df_dict[teamId] = get_team_match_df(teamId)"
   ],
   "metadata": {
    "collapsed": false,
    "ExecuteTime": {
     "end_time": "2024-05-10T08:22:23.794621Z",
     "start_time": "2024-05-10T08:22:23.521147Z"
    }
   },
   "id": "bd4b88f6471ea8a3"
  },
  {
   "cell_type": "code",
   "execution_count": 10,
   "outputs": [],
   "source": [
    "from api.transfermarkt import get_teams_market_values_threaded2\n",
    "from collections import defaultdict\n",
    "\n",
    "try:\n",
    "    market_value_dict =  pickle.load(open(\"market_values_dict.pck\", \"rb\"))\n",
    "except:\n",
    "    team_on_season_df = match_df.groupby([\"teamHomeName\", \"season\"]).size().reset_index(name='Freq')\n",
    "    market_value_list = get_teams_market_values_threaded2(team_on_season_df)\n",
    "    market_value_dict = defaultdict(lambda: defaultdict(float))\n",
    "    for market_value in market_value_list:\n",
    "        market_value_dict[market_value[0]][market_value[1]] = market_value[2]\n",
    "    market_value_dict = dict(market_value_dict)\n",
    "    pickle.dump(market_value_dict, open(\"market_values_dict.pck\", \"wb\"))"
   ],
   "metadata": {
    "collapsed": false,
    "ExecuteTime": {
     "end_time": "2024-05-10T08:22:23.832219Z",
     "start_time": "2024-05-10T08:22:23.794466Z"
    }
   },
   "id": "c9dbb0d22813e7e1"
  },
  {
   "cell_type": "code",
   "execution_count": 11,
   "outputs": [],
   "source": [
    "def get_market_value(team, season):\n",
    "    team = team.replace(\"1. FC\", \"1.FC\")\n",
    "    team = team.replace(\"1. FSV\", \"1.FSV\")\n",
    "    team = team.replace(\"FC Kickers Würzburg\", \"Würzburger Kickers\")\n",
    "    return market_value_dict[team][season]"
   ],
   "metadata": {
    "collapsed": false,
    "ExecuteTime": {
     "end_time": "2024-05-10T08:22:23.849798Z",
     "start_time": "2024-05-10T08:22:23.836047Z"
    }
   },
   "id": "343d19d86891ffa4"
  },
  {
   "cell_type": "code",
   "execution_count": 12,
   "outputs": [],
   "source": [
    "from varname import  argname\n",
    "\n",
    "\n",
    "def add_to_match_df(var):\n",
    "    global match_df\n",
    "    match_df[argname('var')] = var"
   ],
   "metadata": {
    "collapsed": false,
    "ExecuteTime": {
     "end_time": "2024-05-10T08:22:23.860409Z",
     "start_time": "2024-05-10T08:22:23.846559Z"
    }
   },
   "id": "5c6be50a8b71a572"
  },
  {
   "cell_type": "code",
   "execution_count": 13,
   "outputs": [],
   "source": [
    "match_df = match_df.sort_values(by=\"date\")"
   ],
   "metadata": {
    "collapsed": false,
    "ExecuteTime": {
     "end_time": "2024-05-10T08:22:23.865791Z",
     "start_time": "2024-05-10T08:22:23.859096Z"
    }
   },
   "id": "34a65704f5bdbcda"
  },
  {
   "cell_type": "code",
   "execution_count": 14,
   "outputs": [],
   "source": [
    "teamHomeValue = []\n",
    "teamAwayValue = []\n",
    "\n",
    "teamHomeAvgScoredGoals5 = []\n",
    "teamHomeAvgScoredGoals10 = []\n",
    "teamHomeAvgGottenGoals5 = []\n",
    "teamHomeAvgGottenGoals10 = []\n",
    "teamHomeAvgTeamPoints5 = []\n",
    "teamHomeAvgTeamPoints10 = []\n",
    "\n",
    "teamAwayAvgScoredGoals5 = []\n",
    "teamAwayAvgScoredGoals10 = []\n",
    "teamAwayAvgGottenGoals5 = []\n",
    "teamAwayAvgGottenGoals10 = []\n",
    "teamAwayAvgTeamPoints5 = []\n",
    "teamAwayAvgTeamPoints10 = []\n",
    "resultClass = []\n",
    "\n",
    "for _, row in match_df.iterrows():\n",
    "    teamHomeValue.append(get_market_value(row[\"teamHomeName\"],row[\"season\"]))\n",
    "    teamAwayValue.append(get_market_value(row[\"teamAwayName\"],row[\"season\"]))\n",
    "    \n",
    "    teamHomeAvgScoredGoals5.append(team_match_df_dict[row[\"teamHomeId\"]][\"avgScoredGoals5\"].loc[row.name])\n",
    "    teamHomeAvgScoredGoals10.append(team_match_df_dict[row[\"teamHomeId\"]][\"avgScoredGoals10\"].loc[row.name])\n",
    "    teamHomeAvgGottenGoals5.append(team_match_df_dict[row[\"teamHomeId\"]][\"avgGottenGoals5\"].loc[row.name])\n",
    "    teamHomeAvgGottenGoals10.append(team_match_df_dict[row[\"teamHomeId\"]][\"avgGottenGoals10\"].loc[row.name])\n",
    "    teamHomeAvgTeamPoints5.append(team_match_df_dict[row[\"teamHomeId\"]][\"avgTeamPoints5\"].loc[row.name])\n",
    "    teamHomeAvgTeamPoints10.append(team_match_df_dict[row[\"teamHomeId\"]][\"avgTeamPoints10\"].loc[row.name])\n",
    "    \n",
    "    teamAwayAvgScoredGoals5.append(team_match_df_dict[row[\"teamAwayId\"]][\"avgScoredGoals5\"].loc[row.name])\n",
    "    teamAwayAvgScoredGoals10.append(team_match_df_dict[row[\"teamAwayId\"]][\"avgScoredGoals10\"].loc[row.name])\n",
    "    teamAwayAvgGottenGoals5.append(team_match_df_dict[row[\"teamAwayId\"]][\"avgGottenGoals5\"].loc[row.name])\n",
    "    teamAwayAvgGottenGoals10.append(team_match_df_dict[row[\"teamAwayId\"]][\"avgGottenGoals10\"].loc[row.name])\n",
    "    teamAwayAvgTeamPoints5.append(team_match_df_dict[row[\"teamAwayId\"]][\"avgTeamPoints5\"].loc[row.name])\n",
    "    teamAwayAvgTeamPoints10.append(team_match_df_dict[row[\"teamAwayId\"]][\"avgTeamPoints10\"].loc[row.name])\n",
    "    \n",
    "    resultClass.append(str(int(row[\"goalsHome\"])) + \":\" + str(int(row[\"goalsAway\"])))\n",
    "add_to_match_df(teamHomeValue)\n",
    "add_to_match_df(teamAwayValue)\n",
    "\n",
    "add_to_match_df(teamHomeAvgScoredGoals5)\n",
    "add_to_match_df(teamHomeAvgScoredGoals10)\n",
    "add_to_match_df(teamHomeAvgGottenGoals5)\n",
    "add_to_match_df(teamHomeAvgGottenGoals10)\n",
    "add_to_match_df(teamHomeAvgTeamPoints5)\n",
    "add_to_match_df(teamHomeAvgTeamPoints10)\n",
    "\n",
    "add_to_match_df(teamAwayAvgScoredGoals5)\n",
    "add_to_match_df(teamAwayAvgScoredGoals10)\n",
    "add_to_match_df(teamAwayAvgGottenGoals5)\n",
    "add_to_match_df(teamAwayAvgGottenGoals10)\n",
    "add_to_match_df(teamAwayAvgTeamPoints5)\n",
    "add_to_match_df(teamAwayAvgTeamPoints10)\n",
    "\n",
    "add_to_match_df(resultClass)"
   ],
   "metadata": {
    "collapsed": false,
    "ExecuteTime": {
     "end_time": "2024-05-10T08:22:24.403770Z",
     "start_time": "2024-05-10T08:22:23.867937Z"
    }
   },
   "id": "abab86a791410b06"
  },
  {
   "cell_type": "code",
   "execution_count": 15,
   "outputs": [],
   "source": [
    "match_df.dropna(inplace=True)"
   ],
   "metadata": {
    "collapsed": false,
    "ExecuteTime": {
     "end_time": "2024-05-10T08:22:24.408786Z",
     "start_time": "2024-05-10T08:22:24.404235Z"
    }
   },
   "id": "e53c60047a506ee"
  },
  {
   "cell_type": "code",
   "execution_count": 16,
   "outputs": [],
   "source": [
    "next_match_day_df = match_df[match_df[\"status\"] == \"future\"].copy(deep=True)\n",
    "next_match_day_df.drop([\"id\", \"winnerTeamId\", \"goalsHome\", \"goalsAway\", \"status\"], axis=1, inplace=True)\n",
    "pickle.dump(next_match_day_df, open(\"next_matchday_df.pck\", \"wb\"))"
   ],
   "metadata": {
    "collapsed": false,
    "ExecuteTime": {
     "end_time": "2024-05-10T08:22:24.417601Z",
     "start_time": "2024-05-10T08:22:24.412023Z"
    }
   },
   "id": "2872b544f616b2b7"
  },
  {
   "cell_type": "code",
   "execution_count": 17,
   "outputs": [],
   "source": [
    "match_df = match_df[match_df[\"status\"] == \"finished\"]\n",
    "match_df.drop([\"id\", \"date\", \"teamHomeName\", \"teamAwayName\", \"winnerTeamId\", \"goalsHome\", \"goalsAway\", \"status\"], axis=1, inplace=True)\n",
    "pickle.dump(match_df, open(\"prepped_match_df.pck\", \"wb\"))"
   ],
   "metadata": {
    "collapsed": false,
    "ExecuteTime": {
     "end_time": "2024-05-10T08:22:24.428004Z",
     "start_time": "2024-05-10T08:22:24.417411Z"
    }
   },
   "id": "745ef6797fece27c"
  },
  {
   "cell_type": "code",
   "execution_count": 17,
   "outputs": [],
   "source": [],
   "metadata": {
    "collapsed": false,
    "ExecuteTime": {
     "end_time": "2024-05-10T08:22:24.432422Z",
     "start_time": "2024-05-10T08:22:24.427455Z"
    }
   },
   "id": "72b158db4066b24c"
  }
 ],
 "metadata": {
  "kernelspec": {
   "display_name": "Python 3",
   "language": "python",
   "name": "python3"
  },
  "language_info": {
   "codemirror_mode": {
    "name": "ipython",
    "version": 2
   },
   "file_extension": ".py",
   "mimetype": "text/x-python",
   "name": "python",
   "nbconvert_exporter": "python",
   "pygments_lexer": "ipython2",
   "version": "2.7.6"
  }
 },
 "nbformat": 4,
 "nbformat_minor": 5
}
