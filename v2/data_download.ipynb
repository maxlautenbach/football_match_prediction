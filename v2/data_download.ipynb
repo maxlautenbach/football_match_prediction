{
 "cells": [
  {
   "cell_type": "code",
   "execution_count": 51,
   "id": "initial_id",
   "metadata": {
    "collapsed": true,
    "ExecuteTime": {
     "end_time": "2024-02-01T17:19:18.088555Z",
     "start_time": "2024-02-01T17:19:18.081982Z"
    }
   },
   "outputs": [],
   "source": [
    "from api import openligadb\n",
    "import datetime\n",
    "\n",
    "def extract_result(match_results):\n",
    "    for match_result in match_results:\n",
    "        if match_result['resultName'] == 'Endergebnis':\n",
    "            return \"finished\", match_result['pointsTeam1'], match_result['pointsTeam2']\n",
    "    return \"future\", None, None\n",
    "\n",
    "\n",
    "\n",
    "def extract_winner(match_data):\n",
    "    try:\n",
    "        if match_data[\"goalsHome\"] > match_data[\"goalsAway\"]:\n",
    "            return match_data[\"teamHomeId\"]\n",
    "        elif match_data[\"goalsHome\"] < match_data[\"goalsAway\"]:\n",
    "            return match_data[\"teamAwayId\"]\n",
    "        else:\n",
    "            return None\n",
    "    except TypeError:\n",
    "        return None\n",
    "\n",
    "\n",
    "def extract_match_data(json):\n",
    "    match_data = {}\n",
    "    match_data[\"id\"] = json[\"matchID\"]\n",
    "    match_data[\"date\"] = datetime.datetime.strptime(json[\"matchDateTime\"],\"%Y-%m-%dT%H:%M:%S\")\n",
    "    match_data[\"teamHomeId\"] = json[\"team1\"][\"teamId\"]\n",
    "    match_data[\"teamAwayId\"] = json[\"team2\"][\"teamId\"]\n",
    "    match_data[\"status\"], match_data[\"goalsHome\"], match_data[\"goalsAway\"] = extract_result(json[\"matchResults\"])\n",
    "    match_data[\"winnerTeamId\"] = extract_winner(match_data)\n",
    "    match_data[\"matchDay\"] = json[\"group\"][\"groupOrderID\"]\n",
    "    return match_data"
   ]
  },
  {
   "cell_type": "code",
   "execution_count": 52,
   "outputs": [
    {
     "name": "stderr",
     "output_type": "stream",
     "text": [
      "100%|██████████| 19/19 [00:03<00:00,  4.87it/s]\n"
     ]
    }
   ],
   "source": [
    "from tqdm import tqdm\n",
    "import pickle\n",
    "import pandas as pd\n",
    "\n",
    "try:\n",
    "    match_df = pickle.load(open(\"match_df.pck\", \"rb\"))\n",
    "except:\n",
    "    match_data = []\n",
    "    for year in tqdm(range(2005, 2024)):\n",
    "        json = openligadb.get_all_season_matches(\"bl1\", year)\n",
    "        for match_data_json in json:\n",
    "            match_data.append(extract_match_data(match_data_json))\n",
    "    match_df = pd.DataFrame(match_data)\n",
    "    pickle.dump(match_df, open(\"match_df.pck\", \"wb\"))"
   ],
   "metadata": {
    "collapsed": false,
    "ExecuteTime": {
     "end_time": "2024-02-01T17:19:22.394722Z",
     "start_time": "2024-02-01T17:19:18.478278Z"
    }
   },
   "id": "25908570bf14966e"
  },
  {
   "cell_type": "code",
   "execution_count": 53,
   "outputs": [],
   "source": [
    "import numpy as np\n",
    "from dateutil.relativedelta import relativedelta\n",
    "import datetime\n",
    "\n",
    "testing = False\n",
    "\n",
    "if testing:\n",
    "    testing_date = datetime.datetime.today() + relativedelta(days=-14)\n",
    "    manip_df = match_df.copy(deep=True)\n",
    "    manip_df = manip_df.loc[(match_df[\"status\"] == \"finished\") & (match_df[\"date\"] > testing_date)]\n",
    "    manip_df[\"status\"] = [\"future\" for _ in range(len(manip_df.index))]\n",
    "    manip_df[[\"goalsHome\", \"goalsAway\", \"winnerTeamId\"]] = np.NaN\n",
    "    match_df[(match_df[\"status\"] == \"finished\") & (match_df[\"date\"] > testing_date)] = manip_df"
   ],
   "metadata": {
    "collapsed": false,
    "ExecuteTime": {
     "end_time": "2024-02-01T17:19:22.398314Z",
     "start_time": "2024-02-01T17:19:22.396536Z"
    }
   },
   "id": "25c0956903c4888b"
  },
  {
   "cell_type": "code",
   "execution_count": null,
   "outputs": [],
   "source": [
    "updatable_df = match_df[(match_df[\"status\"] == \"future\") & (match_df[\"date\"] < datetime.datetime.today())]\n",
    "for _, row in tqdm(updatable_df.iterrows()):\n",
    "    row_match_data = openligadb.get_match_data(row[\"id\"])\n",
    "    match_df.loc[row.name] = row_match_data\n",
    "if len(updatable_df) > 0:\n",
    "    pickle.dump(match_df, open(\"match_df.pck\", \"wb\"))"
   ],
   "metadata": {
    "collapsed": false
   },
   "id": "1dc07cbfc0075fd5"
  },
  {
   "cell_type": "code",
   "execution_count": null,
   "outputs": [],
   "source": [
    "next_match_day = 1\n",
    "for _, row in match_df[match_df[\"status\"] == \"future\"].iterrows():\n",
    "    next_match_day = row[\"matchDay\"]\n",
    "    if len(match_df[match_df[\"matchDay\"] == next_match_day]) == 9:\n",
    "        break\n",
    "next_match_day_df = match_df[match_df[\"matchDay\"] == next_match_day]"
   ],
   "metadata": {
    "collapsed": false,
    "ExecuteTime": {
     "start_time": "2024-02-01T17:17:26.021226Z"
    }
   },
   "id": "cf320747f2e93346"
  }
 ],
 "metadata": {
  "kernelspec": {
   "display_name": "Python 3",
   "language": "python",
   "name": "python3"
  },
  "language_info": {
   "codemirror_mode": {
    "name": "ipython",
    "version": 2
   },
   "file_extension": ".py",
   "mimetype": "text/x-python",
   "name": "python",
   "nbconvert_exporter": "python",
   "pygments_lexer": "ipython2",
   "version": "2.7.6"
  }
 },
 "nbformat": 4,
 "nbformat_minor": 5
}
