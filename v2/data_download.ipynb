{
 "cells": [
  {
   "cell_type": "code",
   "execution_count": 3,
   "id": "initial_id",
   "metadata": {
    "collapsed": true,
    "ExecuteTime": {
     "end_time": "2024-01-21T19:04:04.235849Z",
     "start_time": "2024-01-21T19:04:04.228546Z"
    }
   },
   "outputs": [],
   "source": [
    "import api.openligadb\n",
    "from api import openligadb\n",
    "\n",
    "def extract_result(match_results):\n",
    "    for match_result in match_results:\n",
    "        if match_result['resultName'] == 'Endergebnis':\n",
    "            return match_result['pointsTeam1'], match_result['pointsTeam2']\n",
    "    return None\n",
    "\n",
    "\n",
    "def extract_winner(match_data):\n",
    "    if match_data[\"goalsHome\"] > match_data[\"goalsAway\"]:\n",
    "        return match_data[\"teamHomeId\"]\n",
    "    elif match_data[\"goalsHome\"] < match_data[\"goalsAway\"]:\n",
    "        return match_data[\"teamAwayId\"]\n",
    "    else:\n",
    "        return None\n",
    "\n",
    "\n",
    "def extract_match_data(json):\n",
    "    match_data = {}\n",
    "    match_data[\"id\"] = json[\"matchID\"]\n",
    "    match_data[\"teamHomeId\"] = json[\"team1\"][\"teamId\"]\n",
    "    match_data[\"teamAwayId\"] = json[\"team2\"][\"teamId\"]\n",
    "    match_data[\"goalsHome\"], match_data[\"goalsAway\"] = extract_result(json[\"matchResults\"])\n",
    "    match_data[\"winnerTeamId\"] = extract_winner(match_data)\n",
    "    return match_data"
   ]
  },
  {
   "cell_type": "code",
   "execution_count": 7,
   "outputs": [
    {
     "data": {
      "text/plain": "{'id': 66630,\n 'teamHomeId': 134,\n 'teamAwayId': 40,\n 'goalsHome': 0,\n 'goalsAway': 4,\n 'winnerTeamId': 40}"
     },
     "execution_count": 7,
     "metadata": {},
     "output_type": "execute_result"
    }
   ],
   "source": [
    "json = api.openligadb.get_all_season_matches(\"bl1\", 2023)\n",
    "match_data = extract_match_data(json[0])\n",
    "match_data"
   ],
   "metadata": {
    "collapsed": false,
    "ExecuteTime": {
     "end_time": "2024-01-21T19:05:24.755881Z",
     "start_time": "2024-01-21T19:05:24.565394Z"
    }
   },
   "id": "25908570bf14966e"
  },
  {
   "cell_type": "code",
   "execution_count": null,
   "outputs": [],
   "source": [],
   "metadata": {
    "collapsed": false
   },
   "id": "20575c67eaf88a42"
  }
 ],
 "metadata": {
  "kernelspec": {
   "display_name": "Python 3",
   "language": "python",
   "name": "python3"
  },
  "language_info": {
   "codemirror_mode": {
    "name": "ipython",
    "version": 2
   },
   "file_extension": ".py",
   "mimetype": "text/x-python",
   "name": "python",
   "nbconvert_exporter": "python",
   "pygments_lexer": "ipython2",
   "version": "2.7.6"
  }
 },
 "nbformat": 4,
 "nbformat_minor": 5
}
