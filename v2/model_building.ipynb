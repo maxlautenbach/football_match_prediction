{
 "cells": [
  {
   "cell_type": "code",
   "execution_count": 10,
   "id": "initial_id",
   "metadata": {
    "collapsed": true,
    "ExecuteTime": {
     "end_time": "2024-02-01T18:23:34.102197Z",
     "start_time": "2024-02-01T18:23:34.099943Z"
    }
   },
   "outputs": [],
   "source": [
    "from api import openligadb\n",
    "import datetime\n",
    "\n",
    "def extract_result(match_results):\n",
    "    for match_result in match_results:\n",
    "        if match_result['resultName'] == 'Endergebnis':\n",
    "            return \"finished\", match_result['pointsTeam1'], match_result['pointsTeam2']\n",
    "    return \"future\", None, None\n",
    "\n",
    "\n",
    "\n",
    "def extract_winner(match_data):\n",
    "    try:\n",
    "        if match_data[\"goalsHome\"] > match_data[\"goalsAway\"]:\n",
    "            return match_data[\"teamHomeId\"]\n",
    "        elif match_data[\"goalsHome\"] < match_data[\"goalsAway\"]:\n",
    "            return match_data[\"teamAwayId\"]\n",
    "        else:\n",
    "            return None\n",
    "    except TypeError:\n",
    "        return None\n",
    "\n",
    "\n",
    "def extract_match_data(json):\n",
    "    match_data = {}\n",
    "    match_data[\"id\"] = json[\"matchID\"]\n",
    "    match_data[\"date\"] = datetime.datetime.strptime(json[\"matchDateTime\"],\"%Y-%m-%dT%H:%M:%S\")\n",
    "    match_data[\"teamHomeId\"] = json[\"team1\"][\"teamId\"]\n",
    "    match_data[\"teamHomeName\"] = json[\"team1\"][\"teamName\"]\n",
    "    match_data[\"teamAwayId\"] = json[\"team2\"][\"teamId\"]\n",
    "    match_data[\"teamAwayName\"] = json[\"team2\"][\"teamName\"]\n",
    "    match_data[\"status\"], match_data[\"goalsHome\"], match_data[\"goalsAway\"] = extract_result(json[\"matchResults\"])\n",
    "    match_data[\"winnerTeamId\"] = extract_winner(match_data)\n",
    "    match_data[\"matchDay\"] = json[\"group\"][\"groupOrderID\"]\n",
    "    match_data[\"season\"] = json[\"leagueSeason\"]\n",
    "    return match_data"
   ]
  },
  {
   "cell_type": "code",
   "execution_count": 11,
   "outputs": [],
   "source": [
    "from tqdm import tqdm\n",
    "import pickle\n",
    "import pandas as pd\n",
    "\n",
    "try:\n",
    "    match_df = pickle.load(open(\"match_df.pck\", \"rb\"))\n",
    "except:\n",
    "    match_data = []\n",
    "    for year in tqdm(range(2005, 2024)):\n",
    "        json = openligadb.get_all_season_matches(\"bl1\", year)\n",
    "        for match_data_json in json:\n",
    "            match_data.append(extract_match_data(match_data_json))\n",
    "    match_df = pd.DataFrame(match_data)\n",
    "    pickle.dump(match_df, open(\"match_df.pck\", \"wb\"))"
   ],
   "metadata": {
    "collapsed": false,
    "ExecuteTime": {
     "end_time": "2024-02-01T18:23:34.120384Z",
     "start_time": "2024-02-01T18:23:34.105011Z"
    }
   },
   "id": "25908570bf14966e"
  },
  {
   "cell_type": "code",
   "execution_count": 12,
   "outputs": [],
   "source": [
    "import numpy as np\n",
    "from dateutil.relativedelta import relativedelta\n",
    "import datetime\n",
    "\n",
    "testing = False\n",
    "\n",
    "if testing:\n",
    "    testing_date = datetime.datetime.today() + relativedelta(days=-14)\n",
    "    manip_df = match_df.copy(deep=True)\n",
    "    manip_df = manip_df.loc[(match_df[\"status\"] == \"finished\") & (match_df[\"date\"] > testing_date)]\n",
    "    manip_df[\"status\"] = [\"future\" for _ in range(len(manip_df.index))]\n",
    "    manip_df[[\"goalsHome\", \"goalsAway\", \"winnerTeamId\"]] = np.NaN\n",
    "    match_df[(match_df[\"status\"] == \"finished\") & (match_df[\"date\"] > testing_date)] = manip_df"
   ],
   "metadata": {
    "collapsed": false,
    "ExecuteTime": {
     "end_time": "2024-02-01T18:23:34.120823Z",
     "start_time": "2024-02-01T18:23:34.110758Z"
    }
   },
   "id": "25c0956903c4888b"
  },
  {
   "cell_type": "code",
   "execution_count": 13,
   "outputs": [
    {
     "name": "stderr",
     "output_type": "stream",
     "text": [
      "0it [00:00, ?it/s]\n"
     ]
    }
   ],
   "source": [
    "updatable_df = match_df[(match_df[\"status\"] == \"future\") & (match_df[\"date\"] < datetime.datetime.today())]\n",
    "for _, row in tqdm(updatable_df.iterrows()):\n",
    "    row_match_data = openligadb.get_match_data(row[\"id\"])\n",
    "    match_df.loc[row.name] = row_match_data\n",
    "if len(updatable_df) > 0:\n",
    "    pickle.dump(match_df, open(\"match_df.pck\", \"wb\"))"
   ],
   "metadata": {
    "collapsed": false,
    "ExecuteTime": {
     "end_time": "2024-02-01T18:23:34.121159Z",
     "start_time": "2024-02-01T18:23:34.113262Z"
    }
   },
   "id": "1dc07cbfc0075fd5"
  },
  {
   "cell_type": "code",
   "execution_count": 14,
   "outputs": [],
   "source": [
    "match_df = match_df[match_df[\"status\"] == \"finished\"].fillna(0)"
   ],
   "metadata": {
    "collapsed": false,
    "ExecuteTime": {
     "end_time": "2024-02-01T18:23:34.127506Z",
     "start_time": "2024-02-01T18:23:34.120828Z"
    }
   },
   "id": "cf320747f2e93346"
  },
  {
   "cell_type": "code",
   "execution_count": 15,
   "outputs": [],
   "source": [
    "team_match_df_dict = dict()"
   ],
   "metadata": {
    "collapsed": false,
    "ExecuteTime": {
     "end_time": "2024-02-01T18:23:34.127789Z",
     "start_time": "2024-02-01T18:23:34.125287Z"
    }
   },
   "id": "6c723458edc2d2f1"
  },
  {
   "cell_type": "code",
   "execution_count": 16,
   "outputs": [],
   "source": [
    "def get_team_match_df(teamId):\n",
    "    team_match_df = match_df[(match_df[\"teamHomeId\"] == teamId) | (match_df[\"teamAwayId\"] == teamId)].copy(deep=True)\n",
    "    goalsTeam = []\n",
    "    goalsOpponent = []\n",
    "    teamPoints = []\n",
    "    for _, row in team_match_df.iterrows():\n",
    "        if row[\"teamHomeId\"] == teamId:\n",
    "            goalsTeam.append(row[\"goalsHome\"])\n",
    "            goalsOpponent.append(row[\"goalsAway\"])\n",
    "        else:\n",
    "            goalsOpponent.append(row[\"goalsHome\"])\n",
    "            goalsTeam.append(row[\"goalsAway\"])\n",
    "        if row[\"winnerTeamId\"] == teamId:\n",
    "            teamPoints.append(3)\n",
    "        elif row[\"winnerTeamId\"] == 0:\n",
    "            teamPoints.append(1)\n",
    "        else:\n",
    "            teamPoints.append(0)\n",
    "    team_match_df[\"goalsTeam\"] = goalsTeam\n",
    "    team_match_df[\"goalsOpponent\"] = goalsOpponent\n",
    "    team_match_df[\"teamPoints\"] = teamPoints\n",
    "    return team_match_df"
   ],
   "metadata": {
    "collapsed": false,
    "ExecuteTime": {
     "end_time": "2024-02-01T18:23:34.132417Z",
     "start_time": "2024-02-01T18:23:34.128875Z"
    }
   },
   "id": "d7be434c865f9598"
  },
  {
   "cell_type": "code",
   "execution_count": 17,
   "outputs": [
    {
     "name": "stderr",
     "output_type": "stream",
     "text": [
      "100%|██████████| 37/37 [00:00<00:00, 183.68it/s]\n"
     ]
    }
   ],
   "source": [
    "for teamId in tqdm(set(match_df[\"teamHomeId\"])):\n",
    "    team_match_df_dict[teamId] = get_team_match_df(teamId)"
   ],
   "metadata": {
    "collapsed": false,
    "ExecuteTime": {
     "end_time": "2024-02-01T18:23:34.338298Z",
     "start_time": "2024-02-01T18:23:34.131672Z"
    }
   },
   "id": "bd4b88f6471ea8a3"
  },
  {
   "cell_type": "code",
   "execution_count": 19,
   "outputs": [
    {
     "name": "stdout",
     "output_type": "stream",
     "text": [
      "[('1. FC Heidenheim 1846', 2023), ('1. FC Kaiserslautern', 2005), ('1. FC Kaiserslautern', 2010), ('1. FC Kaiserslautern', 2011), ('1. FC Köln', 2005)]\n"
     ]
    }
   ],
   "source": [
    "from api.transfermarkt import get_teams_market_values_threaded2\n",
    "from collections import defaultdict\n",
    "\n",
    "try:\n",
    "    market_value_dict =  pickle.load(open(\"market_values_dict.pck\", \"rb\"))\n",
    "except:\n",
    "    team_on_season_df = match_df.groupby([\"teamHomeName\", \"season\"]).size().reset_index(name='Freq')\n",
    "    market_value_list = get_teams_market_values_threaded2(team_on_season_df)\n",
    "    market_value_dict = defaultdict(lambda: defaultdict(float))\n",
    "    for market_value in market_value_list:\n",
    "        market_value_dict[market_value[0]][market_value[1]] = market_value[2]\n",
    "    market_value_dict = dict(market_value_dict)\n",
    "    pickle.dump(market_value_dict, open(\"market_values_dict.pck\", \"wb\"))"
   ],
   "metadata": {
    "collapsed": false,
    "ExecuteTime": {
     "end_time": "2024-02-01T18:24:57.572257Z",
     "start_time": "2024-02-01T18:24:54.806789Z"
    }
   },
   "id": "c9dbb0d22813e7e1"
  },
  {
   "cell_type": "code",
   "execution_count": null,
   "outputs": [],
   "source": [],
   "metadata": {
    "collapsed": false,
    "ExecuteTime": {
     "end_time": "2024-02-01T18:24:04.455099Z",
     "start_time": "2024-02-01T18:24:04.452233Z"
    }
   },
   "id": "8bb2ce1a06540483"
  },
  {
   "cell_type": "code",
   "execution_count": null,
   "outputs": [],
   "source": [],
   "metadata": {
    "collapsed": false,
    "ExecuteTime": {
     "start_time": "2024-02-01T18:24:04.453371Z"
    }
   },
   "id": "abab86a791410b06"
  }
 ],
 "metadata": {
  "kernelspec": {
   "display_name": "Python 3",
   "language": "python",
   "name": "python3"
  },
  "language_info": {
   "codemirror_mode": {
    "name": "ipython",
    "version": 2
   },
   "file_extension": ".py",
   "mimetype": "text/x-python",
   "name": "python",
   "nbconvert_exporter": "python",
   "pygments_lexer": "ipython2",
   "version": "2.7.6"
  }
 },
 "nbformat": 4,
 "nbformat_minor": 5
}
