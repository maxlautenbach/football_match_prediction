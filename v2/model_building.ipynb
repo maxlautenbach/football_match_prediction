{
 "cells": [
  {
   "cell_type": "code",
   "execution_count": 17,
   "id": "initial_id",
   "metadata": {
    "collapsed": true,
    "ExecuteTime": {
     "end_time": "2024-02-02T10:41:44.433680Z",
     "start_time": "2024-02-02T10:41:44.426406Z"
    }
   },
   "outputs": [],
   "source": [
    "import pickle\n",
    "import pandas as pd\n",
    "\n",
    "match_df = pickle.load(open(\"prepped_match_df.pck\", \"rb\"))"
   ]
  },
  {
   "cell_type": "code",
   "execution_count": 18,
   "outputs": [],
   "source": [
    "from sklearn.preprocessing import *\n",
    "\n",
    "enc = LabelEncoder()\n",
    "match_df[\"resultClass\"] = enc.fit_transform(match_df[\"resultClass\"])"
   ],
   "metadata": {
    "collapsed": false,
    "ExecuteTime": {
     "end_time": "2024-02-02T10:41:44.439057Z",
     "start_time": "2024-02-02T10:41:44.433890Z"
    }
   },
   "id": "f177d9a5112b1d05"
  },
  {
   "cell_type": "code",
   "execution_count": 51,
   "outputs": [
    {
     "ename": "ValueError",
     "evalue": "Stratified train/test split is not implemented for shuffle=False",
     "output_type": "error",
     "traceback": [
      "\u001B[0;31m---------------------------------------------------------------------------\u001B[0m",
      "\u001B[0;31mValueError\u001B[0m                                Traceback (most recent call last)",
      "Cell \u001B[0;32mIn[51], line 2\u001B[0m\n\u001B[1;32m      1\u001B[0m \u001B[38;5;28;01mfrom\u001B[39;00m \u001B[38;5;21;01msklearn\u001B[39;00m\u001B[38;5;21;01m.\u001B[39;00m\u001B[38;5;21;01mmodel_selection\u001B[39;00m \u001B[38;5;28;01mimport\u001B[39;00m train_test_split\n\u001B[0;32m----> 2\u001B[0m X_train, X_test, y_train, y_test \u001B[38;5;241m=\u001B[39m \u001B[43mtrain_test_split\u001B[49m\u001B[43m(\u001B[49m\u001B[43mmatch_df\u001B[49m\u001B[38;5;241;43m.\u001B[39;49m\u001B[43mdrop\u001B[49m\u001B[43m(\u001B[49m\u001B[38;5;124;43m\"\u001B[39;49m\u001B[38;5;124;43mresultClass\u001B[39;49m\u001B[38;5;124;43m\"\u001B[39;49m\u001B[43m,\u001B[49m\u001B[43m \u001B[49m\u001B[43maxis\u001B[49m\u001B[38;5;241;43m=\u001B[39;49m\u001B[38;5;241;43m1\u001B[39;49m\u001B[43m)\u001B[49m\u001B[43m,\u001B[49m\u001B[43m \u001B[49m\u001B[43mmatch_df\u001B[49m\u001B[43m[\u001B[49m\u001B[38;5;124;43m\"\u001B[39;49m\u001B[38;5;124;43mresultClass\u001B[39;49m\u001B[38;5;124;43m\"\u001B[39;49m\u001B[43m]\u001B[49m\u001B[43m,\u001B[49m\u001B[43m \u001B[49m\u001B[43mtest_size\u001B[49m\u001B[38;5;241;43m=\u001B[39;49m\u001B[38;5;241;43m0.2\u001B[39;49m\u001B[43m,\u001B[49m\u001B[43m \u001B[49m\u001B[43mshuffle\u001B[49m\u001B[38;5;241;43m=\u001B[39;49m\u001B[38;5;28;43;01mFalse\u001B[39;49;00m\u001B[43m,\u001B[49m\u001B[43m \u001B[49m\u001B[43mstratify\u001B[49m\u001B[38;5;241;43m=\u001B[39;49m\u001B[43mmatch_df\u001B[49m\u001B[43m[\u001B[49m\u001B[38;5;124;43m\"\u001B[39;49m\u001B[38;5;124;43mresultClass\u001B[39;49m\u001B[38;5;124;43m\"\u001B[39;49m\u001B[43m]\u001B[49m\u001B[43m)\u001B[49m\n",
      "File \u001B[0;32m~/PycharmProjects/football_match_prediction/venv3/lib/python3.11/site-packages/sklearn/utils/_param_validation.py:214\u001B[0m, in \u001B[0;36mvalidate_params.<locals>.decorator.<locals>.wrapper\u001B[0;34m(*args, **kwargs)\u001B[0m\n\u001B[1;32m    208\u001B[0m \u001B[38;5;28;01mtry\u001B[39;00m:\n\u001B[1;32m    209\u001B[0m     \u001B[38;5;28;01mwith\u001B[39;00m config_context(\n\u001B[1;32m    210\u001B[0m         skip_parameter_validation\u001B[38;5;241m=\u001B[39m(\n\u001B[1;32m    211\u001B[0m             prefer_skip_nested_validation \u001B[38;5;129;01mor\u001B[39;00m global_skip_validation\n\u001B[1;32m    212\u001B[0m         )\n\u001B[1;32m    213\u001B[0m     ):\n\u001B[0;32m--> 214\u001B[0m         \u001B[38;5;28;01mreturn\u001B[39;00m \u001B[43mfunc\u001B[49m\u001B[43m(\u001B[49m\u001B[38;5;241;43m*\u001B[39;49m\u001B[43margs\u001B[49m\u001B[43m,\u001B[49m\u001B[43m \u001B[49m\u001B[38;5;241;43m*\u001B[39;49m\u001B[38;5;241;43m*\u001B[39;49m\u001B[43mkwargs\u001B[49m\u001B[43m)\u001B[49m\n\u001B[1;32m    215\u001B[0m \u001B[38;5;28;01mexcept\u001B[39;00m InvalidParameterError \u001B[38;5;28;01mas\u001B[39;00m e:\n\u001B[1;32m    216\u001B[0m     \u001B[38;5;66;03m# When the function is just a wrapper around an estimator, we allow\u001B[39;00m\n\u001B[1;32m    217\u001B[0m     \u001B[38;5;66;03m# the function to delegate validation to the estimator, but we replace\u001B[39;00m\n\u001B[1;32m    218\u001B[0m     \u001B[38;5;66;03m# the name of the estimator by the name of the function in the error\u001B[39;00m\n\u001B[1;32m    219\u001B[0m     \u001B[38;5;66;03m# message to avoid confusion.\u001B[39;00m\n\u001B[1;32m    220\u001B[0m     msg \u001B[38;5;241m=\u001B[39m re\u001B[38;5;241m.\u001B[39msub(\n\u001B[1;32m    221\u001B[0m         \u001B[38;5;124mr\u001B[39m\u001B[38;5;124m\"\u001B[39m\u001B[38;5;124mparameter of \u001B[39m\u001B[38;5;124m\\\u001B[39m\u001B[38;5;124mw+ must be\u001B[39m\u001B[38;5;124m\"\u001B[39m,\n\u001B[1;32m    222\u001B[0m         \u001B[38;5;124mf\u001B[39m\u001B[38;5;124m\"\u001B[39m\u001B[38;5;124mparameter of \u001B[39m\u001B[38;5;132;01m{\u001B[39;00mfunc\u001B[38;5;241m.\u001B[39m\u001B[38;5;18m__qualname__\u001B[39m\u001B[38;5;132;01m}\u001B[39;00m\u001B[38;5;124m must be\u001B[39m\u001B[38;5;124m\"\u001B[39m,\n\u001B[1;32m    223\u001B[0m         \u001B[38;5;28mstr\u001B[39m(e),\n\u001B[1;32m    224\u001B[0m     )\n",
      "File \u001B[0;32m~/PycharmProjects/football_match_prediction/venv3/lib/python3.11/site-packages/sklearn/model_selection/_split.py:2655\u001B[0m, in \u001B[0;36mtrain_test_split\u001B[0;34m(test_size, train_size, random_state, shuffle, stratify, *arrays)\u001B[0m\n\u001B[1;32m   2653\u001B[0m \u001B[38;5;28;01mif\u001B[39;00m shuffle \u001B[38;5;129;01mis\u001B[39;00m \u001B[38;5;28;01mFalse\u001B[39;00m:\n\u001B[1;32m   2654\u001B[0m     \u001B[38;5;28;01mif\u001B[39;00m stratify \u001B[38;5;129;01mis\u001B[39;00m \u001B[38;5;129;01mnot\u001B[39;00m \u001B[38;5;28;01mNone\u001B[39;00m:\n\u001B[0;32m-> 2655\u001B[0m         \u001B[38;5;28;01mraise\u001B[39;00m \u001B[38;5;167;01mValueError\u001B[39;00m(\n\u001B[1;32m   2656\u001B[0m             \u001B[38;5;124m\"\u001B[39m\u001B[38;5;124mStratified train/test split is not implemented for shuffle=False\u001B[39m\u001B[38;5;124m\"\u001B[39m\n\u001B[1;32m   2657\u001B[0m         )\n\u001B[1;32m   2659\u001B[0m     train \u001B[38;5;241m=\u001B[39m np\u001B[38;5;241m.\u001B[39marange(n_train)\n\u001B[1;32m   2660\u001B[0m     test \u001B[38;5;241m=\u001B[39m np\u001B[38;5;241m.\u001B[39marange(n_train, n_train \u001B[38;5;241m+\u001B[39m n_test)\n",
      "\u001B[0;31mValueError\u001B[0m: Stratified train/test split is not implemented for shuffle=False"
     ]
    }
   ],
   "source": [
    "from sklearn.model_selection import train_test_split\n",
    "X_train, X_test, y_train, y_test = train_test_split(match_df.drop(\"resultClass\", axis=1), match_df[\"resultClass\"], test_size=0.2, shuffle=False)"
   ],
   "metadata": {
    "collapsed": false,
    "ExecuteTime": {
     "end_time": "2024-02-02T11:24:54.061941Z",
     "start_time": "2024-02-02T11:24:54.022372Z"
    }
   },
   "id": "654741e964cd4c"
  },
  {
   "cell_type": "code",
   "execution_count": 20,
   "outputs": [],
   "source": [
    "from sklearn.metrics import make_scorer\n",
    "\n",
    "def score(y_true, y_pred, **kwargs):\n",
    "    y_true = [x.split(\":\") for x in enc.inverse_transform(y_true)]\n",
    "    y_pred = [x.split(\":\") for x in enc.inverse_transform(y_pred)]\n",
    "    score_value = 0\n",
    "    for true, pred in zip(y_true, y_pred):\n",
    "        if true[0] == pred[0] and true[1] == pred[1]:\n",
    "            score_value += 5\n",
    "        elif (int(true[0]) - int(true[1])) == (int(pred[0]) - int(pred[1])):\n",
    "            score_value += 3\n",
    "        elif ((true[0] > true[1]) and (pred[0] > pred[1])) or ((true[0] < true[1]) and (pred[0] < pred[1])):\n",
    "            score_value += 1\n",
    "    return round(score_value / (len(y_true)/306))\n",
    "\n",
    "kicktipp_scorer = make_scorer(score, greater_is_better=True)"
   ],
   "metadata": {
    "collapsed": false,
    "ExecuteTime": {
     "end_time": "2024-02-02T10:41:44.447455Z",
     "start_time": "2024-02-02T10:41:44.443769Z"
    }
   },
   "id": "834a558d67bb0a2e"
  },
  {
   "cell_type": "code",
   "execution_count": 21,
   "outputs": [],
   "source": [
    "from sklearn.model_selection import TimeSeriesSplit\n",
    "\n",
    "tscv = TimeSeriesSplit(n_splits=5)"
   ],
   "metadata": {
    "collapsed": false,
    "ExecuteTime": {
     "end_time": "2024-02-02T10:41:44.451736Z",
     "start_time": "2024-02-02T10:41:44.446574Z"
    }
   },
   "id": "75d19930a5f03239"
  },
  {
   "cell_type": "markdown",
   "source": [
    "# KNN Classifier\n",
    "N Neighbors: 41\n",
    "CV Score: 338.4\n",
    "\n",
    "**Score: 322**"
   ],
   "metadata": {
    "collapsed": false
   },
   "id": "581a6ee8471513d3"
  },
  {
   "cell_type": "code",
   "execution_count": 22,
   "outputs": [
    {
     "name": "stdout",
     "output_type": "stream",
     "text": [
      "Fitting 5 folds for each of 1 candidates, totalling 5 fits\n",
      "[CV 1/5; 1/1] START n_neighbors=41..............................................\n",
      "[CV 1/5; 1/1] END .............n_neighbors=41;, score=351.000 total time=   0.1s\n",
      "[CV 2/5; 1/1] START n_neighbors=41..............................................\n",
      "[CV 2/5; 1/1] END .............n_neighbors=41;, score=307.000 total time=   0.1s\n",
      "[CV 3/5; 1/1] START n_neighbors=41..............................................\n",
      "[CV 3/5; 1/1] END .............n_neighbors=41;, score=362.000 total time=   0.0s\n",
      "[CV 4/5; 1/1] START n_neighbors=41..............................................\n",
      "[CV 4/5; 1/1] END .............n_neighbors=41;, score=338.000 total time=   0.0s\n",
      "[CV 5/5; 1/1] START n_neighbors=41..............................................\n",
      "[CV 5/5; 1/1] END .............n_neighbors=41;, score=332.000 total time=   0.0s\n",
      "CPU times: user 809 ms, sys: 2.34 s, total: 3.15 s\n",
      "Wall time: 367 ms\n"
     ]
    },
    {
     "data": {
      "text/plain": "(318, {'n_neighbors': 41}, 338.0)"
     },
     "execution_count": 22,
     "metadata": {},
     "output_type": "execute_result"
    }
   ],
   "source": [
    "%%time\n",
    "\n",
    "import numpy as np\n",
    "from sklearn.model_selection import GridSearchCV, RandomizedSearchCV\n",
    "from sklearn.neighbors import KNeighborsClassifier\n",
    "\n",
    "knn = KNeighborsClassifier()\n",
    "\n",
    "parameters = {\n",
    "    \"n_neighbors\": [41],\n",
    "}\n",
    "\n",
    "clf = GridSearchCV(knn, parameters, scoring=kicktipp_scorer, cv=tscv, verbose=10)\n",
    "clf.fit(X_train, y_train)\n",
    "y_pred = clf.predict(X_test)\n",
    "\n",
    "score(y_test, y_pred), clf.best_params_, clf.best_score_"
   ],
   "metadata": {
    "collapsed": false,
    "ExecuteTime": {
     "end_time": "2024-02-02T10:41:44.819755Z",
     "start_time": "2024-02-02T10:41:44.453649Z"
    }
   },
   "id": "a3725ee0d59c3862"
  },
  {
   "cell_type": "code",
   "execution_count": 23,
   "outputs": [
    {
     "data": {
      "text/plain": "301"
     },
     "execution_count": 23,
     "metadata": {},
     "output_type": "execute_result"
    }
   ],
   "source": [
    "from sklearn.ensemble import RandomForestClassifier\n",
    "\n",
    "base_model = RandomForestClassifier(random_state = 2550, n_jobs=-1)\n",
    "base_model.fit(X_train, y_train)\n",
    "y_pred = base_model.predict(X_test)\n",
    "base_score = score(y_test, y_pred)\n",
    "base_score"
   ],
   "metadata": {
    "collapsed": false,
    "ExecuteTime": {
     "end_time": "2024-02-02T10:41:45.046357Z",
     "start_time": "2024-02-02T10:41:44.831888Z"
    }
   },
   "id": "fa90b4e137f068f2"
  },
  {
   "cell_type": "code",
   "execution_count": 53,
   "outputs": [
    {
     "name": "stdout",
     "output_type": "stream",
     "text": [
      "Fitting 5 folds for each of 1 candidates, totalling 5 fits\n"
     ]
    },
    {
     "name": "stderr",
     "output_type": "stream",
     "text": [
      "/Users/maxlautenbach/PycharmProjects/football_match_prediction/venv3/lib/python3.11/site-packages/sklearn/model_selection/_search.py:307: UserWarning: The total space of parameters 1 is smaller than n_iter=200. Running 1 iterations. For exhaustive searches, use GridSearchCV.\n",
      "  warnings.warn(\n"
     ]
    },
    {
     "name": "stdout",
     "output_type": "stream",
     "text": [
      "CPU times: user 2.9 s, sys: 465 ms, total: 3.37 s\n",
      "Wall time: 2.87 s\n"
     ]
    },
    {
     "data": {
      "text/plain": "(301,\n 343,\n {'n_estimators': 540,\n  'max_features': 'log2',\n  'max_depth': 10,\n  'criterion': 'gini'},\n 344.2)"
     },
     "execution_count": 53,
     "metadata": {},
     "output_type": "execute_result"
    }
   ],
   "source": [
    "%%time\n",
    "selected_clf = RandomForestClassifier(n_jobs=-1, random_state=1337)\n",
    "\n",
    "best_par =  {'n_estimators': [540],\n",
    "  'max_features': ['log2'],\n",
    "  'max_depth': [10],\n",
    "  'criterion': ['gini']}\n",
    "\n",
    "parameters = {\n",
    "    \"n_estimators\": np.arange(1, 1000, 1),\n",
    "    \"max_depth\": np.arange(2, len(X_train.columns), 1),\n",
    "    \"max_features\": ['sqrt', 'log2'],\n",
    "    'criterion' : ['gini', 'entropy']\n",
    "}\n",
    "\n",
    "clf = RandomizedSearchCV(selected_clf, best_par, scoring=kicktipp_scorer, cv=tscv, verbose=10, n_jobs=-1, n_iter=200)\n",
    "clf.fit(X_train, y_train)\n",
    "y_pred = clf.predict(X_test)\n",
    "\n",
    "base_score, score(y_test, y_pred), clf.best_params_, clf.best_score_"
   ],
   "metadata": {
    "collapsed": false,
    "ExecuteTime": {
     "end_time": "2024-02-02T11:26:31.586507Z",
     "start_time": "2024-02-02T11:26:28.717789Z"
    }
   },
   "id": "a94c6382ee47dcfa"
  },
  {
   "cell_type": "code",
   "execution_count": 48,
   "outputs": [
    {
     "name": "stderr",
     "output_type": "stream",
     "text": [
      "100%|██████████| 100/100 [01:12<00:00,  1.39it/s]\n"
     ]
    },
    {
     "data": {
      "text/plain": "360"
     },
     "execution_count": 48,
     "metadata": {},
     "output_type": "execute_result"
    }
   ],
   "source": [
    "from tqdm import tqdm\n",
    "\n",
    "best_score = 0\n",
    "best_clf = None\n",
    "\n",
    "for _ in tqdm(range(100)):\n",
    "    clf = RandomForestClassifier(n_estimators=540, max_features='log2', max_depth=10, criterion=\"gini\", n_jobs=-1)\n",
    "    clf.fit(X_train, y_train)\n",
    "    y_pred = clf.predict(X_test)\n",
    "    clf_score = score(y_test, y_pred)\n",
    "    if clf_score > best_score:\n",
    "        best_score = clf_score\n",
    "        best_clf = clf\n",
    "        \n",
    "best_score"
   ],
   "metadata": {
    "collapsed": false,
    "ExecuteTime": {
     "end_time": "2024-02-02T11:22:24.139268Z",
     "start_time": "2024-02-02T11:21:12.065554Z"
    }
   },
   "id": "a8fa461730a3c179"
  },
  {
   "cell_type": "code",
   "execution_count": 49,
   "outputs": [],
   "source": [
    "saving = False\n",
    "if saving:\n",
    "    pickle.dump(best_clf, open(\"classifier.pck\", \"wb\"))\n",
    "    pickle.dump(enc, open(\"encoder.pck\", \"wb\"))"
   ],
   "metadata": {
    "collapsed": false,
    "ExecuteTime": {
     "end_time": "2024-02-02T11:22:26.745293Z",
     "start_time": "2024-02-02T11:22:26.738519Z"
    }
   },
   "id": "8b91ecfdcafeea00"
  },
  {
   "cell_type": "code",
   "execution_count": null,
   "outputs": [],
   "source": [],
   "metadata": {
    "collapsed": false
   },
   "id": "38303f3cd00f250d"
  }
 ],
 "metadata": {
  "kernelspec": {
   "display_name": "Python 3",
   "language": "python",
   "name": "python3"
  },
  "language_info": {
   "codemirror_mode": {
    "name": "ipython",
    "version": 2
   },
   "file_extension": ".py",
   "mimetype": "text/x-python",
   "name": "python",
   "nbconvert_exporter": "python",
   "pygments_lexer": "ipython2",
   "version": "2.7.6"
  }
 },
 "nbformat": 4,
 "nbformat_minor": 5
}
