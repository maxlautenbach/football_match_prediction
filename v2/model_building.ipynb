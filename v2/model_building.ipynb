{
 "cells": [
  {
   "cell_type": "code",
   "execution_count": 1,
   "id": "initial_id",
   "metadata": {
    "collapsed": true,
    "ExecuteTime": {
     "end_time": "2024-02-01T18:20:34.996970Z",
     "start_time": "2024-02-01T18:20:34.969783Z"
    }
   },
   "outputs": [],
   "source": [
    "from api import openligadb\n",
    "import datetime\n",
    "\n",
    "def extract_result(match_results):\n",
    "    for match_result in match_results:\n",
    "        if match_result['resultName'] == 'Endergebnis':\n",
    "            return \"finished\", match_result['pointsTeam1'], match_result['pointsTeam2']\n",
    "    return \"future\", None, None\n",
    "\n",
    "\n",
    "\n",
    "def extract_winner(match_data):\n",
    "    try:\n",
    "        if match_data[\"goalsHome\"] > match_data[\"goalsAway\"]:\n",
    "            return match_data[\"teamHomeId\"]\n",
    "        elif match_data[\"goalsHome\"] < match_data[\"goalsAway\"]:\n",
    "            return match_data[\"teamAwayId\"]\n",
    "        else:\n",
    "            return None\n",
    "    except TypeError:\n",
    "        return None\n",
    "\n",
    "\n",
    "def extract_match_data(json):\n",
    "    match_data = {}\n",
    "    match_data[\"id\"] = json[\"matchID\"]\n",
    "    match_data[\"date\"] = datetime.datetime.strptime(json[\"matchDateTime\"],\"%Y-%m-%dT%H:%M:%S\")\n",
    "    match_data[\"teamHomeId\"] = json[\"team1\"][\"teamId\"]\n",
    "    match_data[\"teamHomeName\"] = json[\"team1\"][\"teamName\"]\n",
    "    match_data[\"teamAwayId\"] = json[\"team2\"][\"teamId\"]\n",
    "    match_data[\"teamAwayName\"] = json[\"team2\"][\"teamName\"]\n",
    "    match_data[\"status\"], match_data[\"goalsHome\"], match_data[\"goalsAway\"] = extract_result(json[\"matchResults\"])\n",
    "    match_data[\"winnerTeamId\"] = extract_winner(match_data)\n",
    "    match_data[\"matchDay\"] = json[\"group\"][\"groupOrderID\"]\n",
    "    match_data[\"season\"] = json[\"leagueSeason\"]\n",
    "    return match_data"
   ]
  },
  {
   "cell_type": "code",
   "execution_count": 2,
   "outputs": [],
   "source": [
    "from tqdm import tqdm\n",
    "import pickle\n",
    "import pandas as pd\n",
    "\n",
    "try:\n",
    "    match_df = pickle.load(open(\"match_df.pck\", \"rb\"))\n",
    "except:\n",
    "    match_data = []\n",
    "    for year in tqdm(range(2005, 2024)):\n",
    "        json = openligadb.get_all_season_matches(\"bl1\", year)\n",
    "        for match_data_json in json:\n",
    "            match_data.append(extract_match_data(match_data_json))\n",
    "    match_df = pd.DataFrame(match_data)\n",
    "    pickle.dump(match_df, open(\"match_df.pck\", \"wb\"))"
   ],
   "metadata": {
    "collapsed": false,
    "ExecuteTime": {
     "end_time": "2024-02-01T18:20:35.249805Z",
     "start_time": "2024-02-01T18:20:34.997985Z"
    }
   },
   "id": "25908570bf14966e"
  },
  {
   "cell_type": "code",
   "execution_count": 3,
   "outputs": [],
   "source": [
    "import numpy as np\n",
    "from dateutil.relativedelta import relativedelta\n",
    "import datetime\n",
    "\n",
    "testing = False\n",
    "\n",
    "if testing:\n",
    "    testing_date = datetime.datetime.today() + relativedelta(days=-14)\n",
    "    manip_df = match_df.copy(deep=True)\n",
    "    manip_df = manip_df.loc[(match_df[\"status\"] == \"finished\") & (match_df[\"date\"] > testing_date)]\n",
    "    manip_df[\"status\"] = [\"future\" for _ in range(len(manip_df.index))]\n",
    "    manip_df[[\"goalsHome\", \"goalsAway\", \"winnerTeamId\"]] = np.NaN\n",
    "    match_df[(match_df[\"status\"] == \"finished\") & (match_df[\"date\"] > testing_date)] = manip_df"
   ],
   "metadata": {
    "collapsed": false,
    "ExecuteTime": {
     "end_time": "2024-02-01T18:20:35.278755Z",
     "start_time": "2024-02-01T18:20:35.252037Z"
    }
   },
   "id": "25c0956903c4888b"
  },
  {
   "cell_type": "code",
   "execution_count": 4,
   "outputs": [
    {
     "name": "stderr",
     "output_type": "stream",
     "text": [
      "0it [00:00, ?it/s]\n"
     ]
    }
   ],
   "source": [
    "updatable_df = match_df[(match_df[\"status\"] == \"future\") & (match_df[\"date\"] < datetime.datetime.today())]\n",
    "for _, row in tqdm(updatable_df.iterrows()):\n",
    "    row_match_data = openligadb.get_match_data(row[\"id\"])\n",
    "    match_df.loc[row.name] = row_match_data\n",
    "if len(updatable_df) > 0:\n",
    "    pickle.dump(match_df, open(\"match_df.pck\", \"wb\"))"
   ],
   "metadata": {
    "collapsed": false,
    "ExecuteTime": {
     "end_time": "2024-02-01T18:20:35.291456Z",
     "start_time": "2024-02-01T18:20:35.276989Z"
    }
   },
   "id": "1dc07cbfc0075fd5"
  },
  {
   "cell_type": "code",
   "execution_count": 5,
   "outputs": [],
   "source": [
    "match_df = match_df[match_df[\"status\"] == \"finished\"].fillna(0)"
   ],
   "metadata": {
    "collapsed": false,
    "ExecuteTime": {
     "end_time": "2024-02-01T18:20:35.297554Z",
     "start_time": "2024-02-01T18:20:35.292908Z"
    }
   },
   "id": "cf320747f2e93346"
  },
  {
   "cell_type": "code",
   "execution_count": 6,
   "outputs": [],
   "source": [
    "team_match_df_dict = dict()"
   ],
   "metadata": {
    "collapsed": false,
    "ExecuteTime": {
     "end_time": "2024-02-01T18:20:35.313010Z",
     "start_time": "2024-02-01T18:20:35.296997Z"
    }
   },
   "id": "6c723458edc2d2f1"
  },
  {
   "cell_type": "code",
   "execution_count": 7,
   "outputs": [],
   "source": [
    "def get_team_match_df(teamId):\n",
    "    team_match_df = match_df[(match_df[\"teamHomeId\"] == teamId) | (match_df[\"teamAwayId\"] == teamId)].copy(deep=True)\n",
    "    goalsTeam = []\n",
    "    goalsOpponent = []\n",
    "    teamPoints = []\n",
    "    for _, row in team_match_df.iterrows():\n",
    "        if row[\"teamHomeId\"] == teamId:\n",
    "            goalsTeam.append(row[\"goalsHome\"])\n",
    "            goalsOpponent.append(row[\"goalsAway\"])\n",
    "        else:\n",
    "            goalsOpponent.append(row[\"goalsHome\"])\n",
    "            goalsTeam.append(row[\"goalsAway\"])\n",
    "        if row[\"winnerTeamId\"] == teamId:\n",
    "            teamPoints.append(3)\n",
    "        elif row[\"winnerTeamId\"] == 0:\n",
    "            teamPoints.append(1)\n",
    "        else:\n",
    "            teamPoints.append(0)\n",
    "    team_match_df[\"goalsTeam\"] = goalsTeam\n",
    "    team_match_df[\"goalsOpponent\"] = goalsOpponent\n",
    "    team_match_df[\"teamPoints\"] = teamPoints\n",
    "    return team_match_df"
   ],
   "metadata": {
    "collapsed": false,
    "ExecuteTime": {
     "end_time": "2024-02-01T18:20:35.313600Z",
     "start_time": "2024-02-01T18:20:35.300292Z"
    }
   },
   "id": "d7be434c865f9598"
  },
  {
   "cell_type": "code",
   "execution_count": 8,
   "outputs": [
    {
     "name": "stderr",
     "output_type": "stream",
     "text": [
      "100%|██████████| 37/37 [00:00<00:00, 181.77it/s]\n"
     ]
    }
   ],
   "source": [
    "for teamId in tqdm(set(match_df[\"teamHomeId\"])):\n",
    "    team_match_df_dict[teamId] = get_team_match_df(teamId)"
   ],
   "metadata": {
    "collapsed": false,
    "ExecuteTime": {
     "end_time": "2024-02-01T18:20:35.509507Z",
     "start_time": "2024-02-01T18:20:35.303126Z"
    }
   },
   "id": "bd4b88f6471ea8a3"
  },
  {
   "cell_type": "code",
   "execution_count": 9,
   "outputs": [
    {
     "name": "stdout",
     "output_type": "stream",
     "text": [
      "[('1. FC Heidenheim 1846', 2023), ('1. FC Kaiserslautern', 2005), ('1. FC Kaiserslautern', 2010), ('1. FC Kaiserslautern', 2011), ('1. FC Köln', 2005)]\n"
     ]
    },
    {
     "ename": "ConnectionError",
     "evalue": "HTTPSConnectionPool(host='www.transfermarkt.de', port=443): Max retries exceeded with url: /schnellsuche/ergebnis/schnellsuche?query=Bayer%20Leverkusen (Caused by NameResolutionError(\"<urllib3.connection.HTTPSConnection object at 0x122463350>: Failed to resolve 'www.transfermarkt.de' ([Errno 8] nodename nor servname provided, or not known)\"))",
     "output_type": "error",
     "traceback": [
      "\u001B[0;31m---------------------------------------------------------------------------\u001B[0m",
      "\u001B[0;31mFileNotFoundError\u001B[0m                         Traceback (most recent call last)",
      "Cell \u001B[0;32mIn[9], line 5\u001B[0m\n\u001B[1;32m      4\u001B[0m \u001B[38;5;28;01mtry\u001B[39;00m:\n\u001B[0;32m----> 5\u001B[0m     market_value_dict \u001B[38;5;241m=\u001B[39m  pickle\u001B[38;5;241m.\u001B[39mload(\u001B[38;5;28;43mopen\u001B[39;49m\u001B[43m(\u001B[49m\u001B[38;5;124;43m\"\u001B[39;49m\u001B[38;5;124;43mmarket_values_dict.pck\u001B[39;49m\u001B[38;5;124;43m\"\u001B[39;49m\u001B[43m,\u001B[49m\u001B[43m \u001B[49m\u001B[38;5;124;43m\"\u001B[39;49m\u001B[38;5;124;43mrb\u001B[39;49m\u001B[38;5;124;43m\"\u001B[39;49m\u001B[43m)\u001B[49m)\n\u001B[1;32m      6\u001B[0m \u001B[38;5;28;01mexcept\u001B[39;00m:\n",
      "File \u001B[0;32m~/PycharmProjects/football_match_prediction/venv3/lib/python3.11/site-packages/IPython/core/interactiveshell.py:310\u001B[0m, in \u001B[0;36m_modified_open\u001B[0;34m(file, *args, **kwargs)\u001B[0m\n\u001B[1;32m    304\u001B[0m     \u001B[38;5;28;01mraise\u001B[39;00m \u001B[38;5;167;01mValueError\u001B[39;00m(\n\u001B[1;32m    305\u001B[0m         \u001B[38;5;124mf\u001B[39m\u001B[38;5;124m\"\u001B[39m\u001B[38;5;124mIPython won\u001B[39m\u001B[38;5;124m'\u001B[39m\u001B[38;5;124mt let you open fd=\u001B[39m\u001B[38;5;132;01m{\u001B[39;00mfile\u001B[38;5;132;01m}\u001B[39;00m\u001B[38;5;124m by default \u001B[39m\u001B[38;5;124m\"\u001B[39m\n\u001B[1;32m    306\u001B[0m         \u001B[38;5;124m\"\u001B[39m\u001B[38;5;124mas it is likely to crash IPython. If you know what you are doing, \u001B[39m\u001B[38;5;124m\"\u001B[39m\n\u001B[1;32m    307\u001B[0m         \u001B[38;5;124m\"\u001B[39m\u001B[38;5;124myou can use builtins\u001B[39m\u001B[38;5;124m'\u001B[39m\u001B[38;5;124m open.\u001B[39m\u001B[38;5;124m\"\u001B[39m\n\u001B[1;32m    308\u001B[0m     )\n\u001B[0;32m--> 310\u001B[0m \u001B[38;5;28;01mreturn\u001B[39;00m \u001B[43mio_open\u001B[49m\u001B[43m(\u001B[49m\u001B[43mfile\u001B[49m\u001B[43m,\u001B[49m\u001B[43m \u001B[49m\u001B[38;5;241;43m*\u001B[39;49m\u001B[43margs\u001B[49m\u001B[43m,\u001B[49m\u001B[43m \u001B[49m\u001B[38;5;241;43m*\u001B[39;49m\u001B[38;5;241;43m*\u001B[39;49m\u001B[43mkwargs\u001B[49m\u001B[43m)\u001B[49m\n",
      "\u001B[0;31mFileNotFoundError\u001B[0m: [Errno 2] No such file or directory: 'market_values_dict.pck'",
      "\nDuring handling of the above exception, another exception occurred:\n",
      "\u001B[0;31mConnectionError\u001B[0m                           Traceback (most recent call last)",
      "Cell \u001B[0;32mIn[9], line 8\u001B[0m\n\u001B[1;32m      6\u001B[0m \u001B[38;5;28;01mexcept\u001B[39;00m:\n\u001B[1;32m      7\u001B[0m     team_on_season_df \u001B[38;5;241m=\u001B[39m match_df\u001B[38;5;241m.\u001B[39mgroupby([\u001B[38;5;124m\"\u001B[39m\u001B[38;5;124mteamHomeName\u001B[39m\u001B[38;5;124m\"\u001B[39m, \u001B[38;5;124m\"\u001B[39m\u001B[38;5;124mseason\u001B[39m\u001B[38;5;124m\"\u001B[39m])\u001B[38;5;241m.\u001B[39msize()\u001B[38;5;241m.\u001B[39mreset_index(name\u001B[38;5;241m=\u001B[39m\u001B[38;5;124m'\u001B[39m\u001B[38;5;124mFreq\u001B[39m\u001B[38;5;124m'\u001B[39m)\n\u001B[0;32m----> 8\u001B[0m     market_value_list \u001B[38;5;241m=\u001B[39m \u001B[43mget_teams_market_values_threaded2\u001B[49m\u001B[43m(\u001B[49m\u001B[43mteam_on_season_df\u001B[49m\u001B[43m)\u001B[49m\n\u001B[1;32m      9\u001B[0m     market_value_dict \u001B[38;5;241m=\u001B[39m defaultdict(\u001B[38;5;28;01mlambda\u001B[39;00m: defaultdict(\u001B[38;5;28mfloat\u001B[39m))\n\u001B[1;32m     10\u001B[0m     \u001B[38;5;28;01mfor\u001B[39;00m market_value \u001B[38;5;129;01min\u001B[39;00m market_value_list:\n",
      "File \u001B[0;32m~/PycharmProjects/football_match_prediction/api/transfermarkt.py:57\u001B[0m, in \u001B[0;36mget_teams_market_values_threaded2\u001B[0;34m(teams_on_season)\u001B[0m\n\u001B[1;32m     55\u001B[0m teams \u001B[38;5;241m=\u001B[39m [(x[\u001B[38;5;124m\"\u001B[39m\u001B[38;5;124mteamHomeName\u001B[39m\u001B[38;5;124m\"\u001B[39m], x[\u001B[38;5;124m\"\u001B[39m\u001B[38;5;124mseason\u001B[39m\u001B[38;5;124m\"\u001B[39m]) \u001B[38;5;28;01mfor\u001B[39;00m _, x \u001B[38;5;129;01min\u001B[39;00m teams_on_season\u001B[38;5;241m.\u001B[39miterrows()]\n\u001B[1;32m     56\u001B[0m \u001B[38;5;28mprint\u001B[39m(teams[:\u001B[38;5;241m5\u001B[39m])\n\u001B[0;32m---> 57\u001B[0m results \u001B[38;5;241m=\u001B[39m \u001B[43mpool\u001B[49m\u001B[38;5;241;43m.\u001B[39;49m\u001B[43mmap\u001B[49m\u001B[43m(\u001B[49m\u001B[43mget_teams_market_value\u001B[49m\u001B[43m,\u001B[49m\u001B[43m \u001B[49m\u001B[43mteams\u001B[49m\u001B[43m)\u001B[49m\n\u001B[1;32m     58\u001B[0m \u001B[38;5;28;01mreturn\u001B[39;00m results\n",
      "File \u001B[0;32m/opt/homebrew/Cellar/python@3.11/3.11.6_1/Frameworks/Python.framework/Versions/3.11/lib/python3.11/multiprocessing/pool.py:367\u001B[0m, in \u001B[0;36mPool.map\u001B[0;34m(self, func, iterable, chunksize)\u001B[0m\n\u001B[1;32m    362\u001B[0m \u001B[38;5;28;01mdef\u001B[39;00m \u001B[38;5;21mmap\u001B[39m(\u001B[38;5;28mself\u001B[39m, func, iterable, chunksize\u001B[38;5;241m=\u001B[39m\u001B[38;5;28;01mNone\u001B[39;00m):\n\u001B[1;32m    363\u001B[0m \u001B[38;5;250m    \u001B[39m\u001B[38;5;124;03m'''\u001B[39;00m\n\u001B[1;32m    364\u001B[0m \u001B[38;5;124;03m    Apply `func` to each element in `iterable`, collecting the results\u001B[39;00m\n\u001B[1;32m    365\u001B[0m \u001B[38;5;124;03m    in a list that is returned.\u001B[39;00m\n\u001B[1;32m    366\u001B[0m \u001B[38;5;124;03m    '''\u001B[39;00m\n\u001B[0;32m--> 367\u001B[0m     \u001B[38;5;28;01mreturn\u001B[39;00m \u001B[38;5;28;43mself\u001B[39;49m\u001B[38;5;241;43m.\u001B[39;49m\u001B[43m_map_async\u001B[49m\u001B[43m(\u001B[49m\u001B[43mfunc\u001B[49m\u001B[43m,\u001B[49m\u001B[43m \u001B[49m\u001B[43miterable\u001B[49m\u001B[43m,\u001B[49m\u001B[43m \u001B[49m\u001B[43mmapstar\u001B[49m\u001B[43m,\u001B[49m\u001B[43m \u001B[49m\u001B[43mchunksize\u001B[49m\u001B[43m)\u001B[49m\u001B[38;5;241;43m.\u001B[39;49m\u001B[43mget\u001B[49m\u001B[43m(\u001B[49m\u001B[43m)\u001B[49m\n",
      "File \u001B[0;32m/opt/homebrew/Cellar/python@3.11/3.11.6_1/Frameworks/Python.framework/Versions/3.11/lib/python3.11/multiprocessing/pool.py:774\u001B[0m, in \u001B[0;36mApplyResult.get\u001B[0;34m(self, timeout)\u001B[0m\n\u001B[1;32m    772\u001B[0m     \u001B[38;5;28;01mreturn\u001B[39;00m \u001B[38;5;28mself\u001B[39m\u001B[38;5;241m.\u001B[39m_value\n\u001B[1;32m    773\u001B[0m \u001B[38;5;28;01melse\u001B[39;00m:\n\u001B[0;32m--> 774\u001B[0m     \u001B[38;5;28;01mraise\u001B[39;00m \u001B[38;5;28mself\u001B[39m\u001B[38;5;241m.\u001B[39m_value\n",
      "File \u001B[0;32m/opt/homebrew/Cellar/python@3.11/3.11.6_1/Frameworks/Python.framework/Versions/3.11/lib/python3.11/multiprocessing/pool.py:125\u001B[0m, in \u001B[0;36mworker\u001B[0;34m(inqueue, outqueue, initializer, initargs, maxtasks, wrap_exception)\u001B[0m\n\u001B[1;32m    123\u001B[0m job, i, func, args, kwds \u001B[38;5;241m=\u001B[39m task\n\u001B[1;32m    124\u001B[0m \u001B[38;5;28;01mtry\u001B[39;00m:\n\u001B[0;32m--> 125\u001B[0m     result \u001B[38;5;241m=\u001B[39m (\u001B[38;5;28;01mTrue\u001B[39;00m, \u001B[43mfunc\u001B[49m\u001B[43m(\u001B[49m\u001B[38;5;241;43m*\u001B[39;49m\u001B[43margs\u001B[49m\u001B[43m,\u001B[49m\u001B[43m \u001B[49m\u001B[38;5;241;43m*\u001B[39;49m\u001B[38;5;241;43m*\u001B[39;49m\u001B[43mkwds\u001B[49m\u001B[43m)\u001B[49m)\n\u001B[1;32m    126\u001B[0m \u001B[38;5;28;01mexcept\u001B[39;00m \u001B[38;5;167;01mException\u001B[39;00m \u001B[38;5;28;01mas\u001B[39;00m e:\n\u001B[1;32m    127\u001B[0m     \u001B[38;5;28;01mif\u001B[39;00m wrap_exception \u001B[38;5;129;01mand\u001B[39;00m func \u001B[38;5;129;01mis\u001B[39;00m \u001B[38;5;129;01mnot\u001B[39;00m _helper_reraises_exception:\n",
      "File \u001B[0;32m/opt/homebrew/Cellar/python@3.11/3.11.6_1/Frameworks/Python.framework/Versions/3.11/lib/python3.11/multiprocessing/pool.py:48\u001B[0m, in \u001B[0;36mmapstar\u001B[0;34m(args)\u001B[0m\n\u001B[1;32m     47\u001B[0m \u001B[38;5;28;01mdef\u001B[39;00m \u001B[38;5;21mmapstar\u001B[39m(args):\n\u001B[0;32m---> 48\u001B[0m     \u001B[38;5;28;01mreturn\u001B[39;00m \u001B[38;5;28mlist\u001B[39m(\u001B[38;5;28mmap\u001B[39m(\u001B[38;5;241m*\u001B[39margs))\n",
      "File \u001B[0;32m~/PycharmProjects/football_match_prediction/api/transfermarkt.py:20\u001B[0m, in \u001B[0;36mget_teams_market_value\u001B[0;34m(args)\u001B[0m\n\u001B[1;32m     16\u001B[0m headers \u001B[38;5;241m=\u001B[39m {\u001B[38;5;124m'\u001B[39m\u001B[38;5;124mUser-Agent\u001B[39m\u001B[38;5;124m'\u001B[39m:\n\u001B[1;32m     17\u001B[0m                \u001B[38;5;124m'\u001B[39m\u001B[38;5;124mMozilla/5.0 (X11; Linux x86_64) AppleWebKit/537.36 (KHTML, like Gecko) Chrome/47.0.2526.106 Safari/537.36\u001B[39m\u001B[38;5;124m'\u001B[39m}\n\u001B[1;32m     19\u001B[0m \u001B[38;5;66;03m# Senden des GET-Requests\u001B[39;00m\n\u001B[0;32m---> 20\u001B[0m response \u001B[38;5;241m=\u001B[39m \u001B[43mrequests\u001B[49m\u001B[38;5;241;43m.\u001B[39;49m\u001B[43mget\u001B[49m\u001B[43m(\u001B[49m\u001B[43murl\u001B[49m\u001B[43m,\u001B[49m\u001B[43m \u001B[49m\u001B[43mheaders\u001B[49m\u001B[38;5;241;43m=\u001B[39;49m\u001B[43mheaders\u001B[49m\u001B[43m)\u001B[49m\n\u001B[1;32m     21\u001B[0m soup \u001B[38;5;241m=\u001B[39m BeautifulSoup(response\u001B[38;5;241m.\u001B[39mcontent, \u001B[38;5;124m'\u001B[39m\u001B[38;5;124mhtml.parser\u001B[39m\u001B[38;5;124m'\u001B[39m)\n\u001B[1;32m     22\u001B[0m link \u001B[38;5;241m=\u001B[39m \u001B[38;5;124m\"\u001B[39m\u001B[38;5;124mhttps://www.transfermarkt.de\u001B[39m\u001B[38;5;124m\"\u001B[39m \u001B[38;5;241m+\u001B[39m soup\u001B[38;5;241m.\u001B[39mfindAll(\u001B[38;5;124m\"\u001B[39m\u001B[38;5;124mtd\u001B[39m\u001B[38;5;124m\"\u001B[39m, {\u001B[38;5;124m\"\u001B[39m\u001B[38;5;124mclass\u001B[39m\u001B[38;5;124m\"\u001B[39m: \u001B[38;5;124m\"\u001B[39m\u001B[38;5;124mhauptlink\u001B[39m\u001B[38;5;124m\"\u001B[39m})[\u001B[38;5;241m0\u001B[39m]\u001B[38;5;241m.\u001B[39mnext_element[\n\u001B[1;32m     23\u001B[0m     \u001B[38;5;124m\"\u001B[39m\u001B[38;5;124mhref\u001B[39m\u001B[38;5;124m\"\u001B[39m] \u001B[38;5;241m+\u001B[39m \u001B[38;5;124m\"\u001B[39m\u001B[38;5;124m?saison_id=\u001B[39m\u001B[38;5;124m\"\u001B[39m \u001B[38;5;241m+\u001B[39m \u001B[38;5;28mstr\u001B[39m(year)\n",
      "File \u001B[0;32m~/PycharmProjects/football_match_prediction/venv3/lib/python3.11/site-packages/requests/api.py:73\u001B[0m, in \u001B[0;36mget\u001B[0;34m(url, params, **kwargs)\u001B[0m\n\u001B[1;32m     62\u001B[0m \u001B[38;5;28;01mdef\u001B[39;00m \u001B[38;5;21mget\u001B[39m(url, params\u001B[38;5;241m=\u001B[39m\u001B[38;5;28;01mNone\u001B[39;00m, \u001B[38;5;241m*\u001B[39m\u001B[38;5;241m*\u001B[39mkwargs):\n\u001B[1;32m     63\u001B[0m \u001B[38;5;250m    \u001B[39m\u001B[38;5;124mr\u001B[39m\u001B[38;5;124;03m\"\"\"Sends a GET request.\u001B[39;00m\n\u001B[1;32m     64\u001B[0m \n\u001B[1;32m     65\u001B[0m \u001B[38;5;124;03m    :param url: URL for the new :class:`Request` object.\u001B[39;00m\n\u001B[0;32m   (...)\u001B[0m\n\u001B[1;32m     70\u001B[0m \u001B[38;5;124;03m    :rtype: requests.Response\u001B[39;00m\n\u001B[1;32m     71\u001B[0m \u001B[38;5;124;03m    \"\"\"\u001B[39;00m\n\u001B[0;32m---> 73\u001B[0m     \u001B[38;5;28;01mreturn\u001B[39;00m \u001B[43mrequest\u001B[49m\u001B[43m(\u001B[49m\u001B[38;5;124;43m\"\u001B[39;49m\u001B[38;5;124;43mget\u001B[39;49m\u001B[38;5;124;43m\"\u001B[39;49m\u001B[43m,\u001B[49m\u001B[43m \u001B[49m\u001B[43murl\u001B[49m\u001B[43m,\u001B[49m\u001B[43m \u001B[49m\u001B[43mparams\u001B[49m\u001B[38;5;241;43m=\u001B[39;49m\u001B[43mparams\u001B[49m\u001B[43m,\u001B[49m\u001B[43m \u001B[49m\u001B[38;5;241;43m*\u001B[39;49m\u001B[38;5;241;43m*\u001B[39;49m\u001B[43mkwargs\u001B[49m\u001B[43m)\u001B[49m\n",
      "File \u001B[0;32m~/PycharmProjects/football_match_prediction/venv3/lib/python3.11/site-packages/requests/api.py:59\u001B[0m, in \u001B[0;36mrequest\u001B[0;34m(method, url, **kwargs)\u001B[0m\n\u001B[1;32m     55\u001B[0m \u001B[38;5;66;03m# By using the 'with' statement we are sure the session is closed, thus we\u001B[39;00m\n\u001B[1;32m     56\u001B[0m \u001B[38;5;66;03m# avoid leaving sockets open which can trigger a ResourceWarning in some\u001B[39;00m\n\u001B[1;32m     57\u001B[0m \u001B[38;5;66;03m# cases, and look like a memory leak in others.\u001B[39;00m\n\u001B[1;32m     58\u001B[0m \u001B[38;5;28;01mwith\u001B[39;00m sessions\u001B[38;5;241m.\u001B[39mSession() \u001B[38;5;28;01mas\u001B[39;00m session:\n\u001B[0;32m---> 59\u001B[0m     \u001B[38;5;28;01mreturn\u001B[39;00m \u001B[43msession\u001B[49m\u001B[38;5;241;43m.\u001B[39;49m\u001B[43mrequest\u001B[49m\u001B[43m(\u001B[49m\u001B[43mmethod\u001B[49m\u001B[38;5;241;43m=\u001B[39;49m\u001B[43mmethod\u001B[49m\u001B[43m,\u001B[49m\u001B[43m \u001B[49m\u001B[43murl\u001B[49m\u001B[38;5;241;43m=\u001B[39;49m\u001B[43murl\u001B[49m\u001B[43m,\u001B[49m\u001B[43m \u001B[49m\u001B[38;5;241;43m*\u001B[39;49m\u001B[38;5;241;43m*\u001B[39;49m\u001B[43mkwargs\u001B[49m\u001B[43m)\u001B[49m\n",
      "File \u001B[0;32m~/PycharmProjects/football_match_prediction/venv3/lib/python3.11/site-packages/requests/sessions.py:589\u001B[0m, in \u001B[0;36mSession.request\u001B[0;34m(self, method, url, params, data, headers, cookies, files, auth, timeout, allow_redirects, proxies, hooks, stream, verify, cert, json)\u001B[0m\n\u001B[1;32m    584\u001B[0m send_kwargs \u001B[38;5;241m=\u001B[39m {\n\u001B[1;32m    585\u001B[0m     \u001B[38;5;124m\"\u001B[39m\u001B[38;5;124mtimeout\u001B[39m\u001B[38;5;124m\"\u001B[39m: timeout,\n\u001B[1;32m    586\u001B[0m     \u001B[38;5;124m\"\u001B[39m\u001B[38;5;124mallow_redirects\u001B[39m\u001B[38;5;124m\"\u001B[39m: allow_redirects,\n\u001B[1;32m    587\u001B[0m }\n\u001B[1;32m    588\u001B[0m send_kwargs\u001B[38;5;241m.\u001B[39mupdate(settings)\n\u001B[0;32m--> 589\u001B[0m resp \u001B[38;5;241m=\u001B[39m \u001B[38;5;28;43mself\u001B[39;49m\u001B[38;5;241;43m.\u001B[39;49m\u001B[43msend\u001B[49m\u001B[43m(\u001B[49m\u001B[43mprep\u001B[49m\u001B[43m,\u001B[49m\u001B[43m \u001B[49m\u001B[38;5;241;43m*\u001B[39;49m\u001B[38;5;241;43m*\u001B[39;49m\u001B[43msend_kwargs\u001B[49m\u001B[43m)\u001B[49m\n\u001B[1;32m    591\u001B[0m \u001B[38;5;28;01mreturn\u001B[39;00m resp\n",
      "File \u001B[0;32m~/PycharmProjects/football_match_prediction/venv3/lib/python3.11/site-packages/requests/sessions.py:703\u001B[0m, in \u001B[0;36mSession.send\u001B[0;34m(self, request, **kwargs)\u001B[0m\n\u001B[1;32m    700\u001B[0m start \u001B[38;5;241m=\u001B[39m preferred_clock()\n\u001B[1;32m    702\u001B[0m \u001B[38;5;66;03m# Send the request\u001B[39;00m\n\u001B[0;32m--> 703\u001B[0m r \u001B[38;5;241m=\u001B[39m \u001B[43madapter\u001B[49m\u001B[38;5;241;43m.\u001B[39;49m\u001B[43msend\u001B[49m\u001B[43m(\u001B[49m\u001B[43mrequest\u001B[49m\u001B[43m,\u001B[49m\u001B[43m \u001B[49m\u001B[38;5;241;43m*\u001B[39;49m\u001B[38;5;241;43m*\u001B[39;49m\u001B[43mkwargs\u001B[49m\u001B[43m)\u001B[49m\n\u001B[1;32m    705\u001B[0m \u001B[38;5;66;03m# Total elapsed time of the request (approximately)\u001B[39;00m\n\u001B[1;32m    706\u001B[0m elapsed \u001B[38;5;241m=\u001B[39m preferred_clock() \u001B[38;5;241m-\u001B[39m start\n",
      "File \u001B[0;32m~/PycharmProjects/football_match_prediction/venv3/lib/python3.11/site-packages/requests/adapters.py:519\u001B[0m, in \u001B[0;36mHTTPAdapter.send\u001B[0;34m(self, request, stream, timeout, verify, cert, proxies)\u001B[0m\n\u001B[1;32m    515\u001B[0m     \u001B[38;5;28;01mif\u001B[39;00m \u001B[38;5;28misinstance\u001B[39m(e\u001B[38;5;241m.\u001B[39mreason, _SSLError):\n\u001B[1;32m    516\u001B[0m         \u001B[38;5;66;03m# This branch is for urllib3 v1.22 and later.\u001B[39;00m\n\u001B[1;32m    517\u001B[0m         \u001B[38;5;28;01mraise\u001B[39;00m SSLError(e, request\u001B[38;5;241m=\u001B[39mrequest)\n\u001B[0;32m--> 519\u001B[0m     \u001B[38;5;28;01mraise\u001B[39;00m \u001B[38;5;167;01mConnectionError\u001B[39;00m(e, request\u001B[38;5;241m=\u001B[39mrequest)\n\u001B[1;32m    521\u001B[0m \u001B[38;5;28;01mexcept\u001B[39;00m ClosedPoolError \u001B[38;5;28;01mas\u001B[39;00m e:\n\u001B[1;32m    522\u001B[0m     \u001B[38;5;28;01mraise\u001B[39;00m \u001B[38;5;167;01mConnectionError\u001B[39;00m(e, request\u001B[38;5;241m=\u001B[39mrequest)\n",
      "\u001B[0;31mConnectionError\u001B[0m: HTTPSConnectionPool(host='www.transfermarkt.de', port=443): Max retries exceeded with url: /schnellsuche/ergebnis/schnellsuche?query=Bayer%20Leverkusen (Caused by NameResolutionError(\"<urllib3.connection.HTTPSConnection object at 0x122463350>: Failed to resolve 'www.transfermarkt.de' ([Errno 8] nodename nor servname provided, or not known)\"))"
     ]
    }
   ],
   "source": [
    "from api.transfermarkt import get_teams_market_values_threaded2\n",
    "from collections import defaultdict\n",
    "\n",
    "try:\n",
    "    market_value_dict =  pickle.load(open(\"market_values_dict.pck\", \"rb\"))\n",
    "except:\n",
    "    team_on_season_df = match_df.groupby([\"teamHomeName\", \"season\"]).size().reset_index(name='Freq')\n",
    "    market_value_list = get_teams_market_values_threaded2(team_on_season_df)\n",
    "    market_value_dict = defaultdict(lambda: defaultdict(float))\n",
    "    for market_value in market_value_list:\n",
    "        market_value_dict[market_value[0]][market_value[1]] = market_value[2]\n",
    "    pickle.dump(market_value_dict, open(\"market_values_dict.pck\", \"wb\"))"
   ],
   "metadata": {
    "collapsed": false,
    "ExecuteTime": {
     "end_time": "2024-02-01T18:21:11.853297Z",
     "start_time": "2024-02-01T18:20:35.510784Z"
    }
   },
   "id": "c9dbb0d22813e7e1"
  },
  {
   "cell_type": "code",
   "execution_count": null,
   "outputs": [],
   "source": [],
   "metadata": {
    "collapsed": false,
    "ExecuteTime": {
     "end_time": "2024-02-01T18:21:11.856800Z",
     "start_time": "2024-02-01T18:21:11.853905Z"
    }
   },
   "id": "8bb2ce1a06540483"
  },
  {
   "cell_type": "code",
   "execution_count": null,
   "outputs": [],
   "source": [],
   "metadata": {
    "collapsed": false,
    "ExecuteTime": {
     "start_time": "2024-02-01T18:21:11.855083Z"
    }
   },
   "id": "abab86a791410b06"
  }
 ],
 "metadata": {
  "kernelspec": {
   "display_name": "Python 3",
   "language": "python",
   "name": "python3"
  },
  "language_info": {
   "codemirror_mode": {
    "name": "ipython",
    "version": 2
   },
   "file_extension": ".py",
   "mimetype": "text/x-python",
   "name": "python",
   "nbconvert_exporter": "python",
   "pygments_lexer": "ipython2",
   "version": "2.7.6"
  }
 },
 "nbformat": 4,
 "nbformat_minor": 5
}
