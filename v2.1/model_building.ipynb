{
 "cells": [
  {
   "cell_type": "code",
   "id": "initial_id",
   "metadata": {
    "collapsed": true,
    "ExecuteTime": {
     "end_time": "2024-11-28T20:12:07.041277Z",
     "start_time": "2024-11-28T20:12:07.037491Z"
    }
   },
   "source": [
    "import pickle\n",
    "import pandas as pd\n",
    "\n",
    "match_df = pickle.load(open(\"prepped_match_df.pck\", \"rb\"))"
   ],
   "outputs": [],
   "execution_count": 24
  },
  {
   "metadata": {
    "ExecuteTime": {
     "end_time": "2024-11-28T20:12:07.056977Z",
     "start_time": "2024-11-28T20:12:07.053533Z"
    }
   },
   "cell_type": "code",
   "source": [
    "from sklearn.preprocessing import *\n",
    "\n",
    "enc = LabelEncoder()\n",
    "match_df[\"resultClass\"] = enc.fit_transform(match_df[\"resultClass\"])"
   ],
   "id": "364d735d46d6c3fe",
   "outputs": [],
   "execution_count": 25
  },
  {
   "cell_type": "code",
   "source": [
    "from sklearn.model_selection import train_test_split\n",
    "from sklearn.preprocessing import *\n",
    "X_train, X_test, y_train, y_test = train_test_split(match_df.drop(\"resultClass\", axis=1), match_df[\"resultClass\"], test_size=0.2, shuffle=False)"
   ],
   "metadata": {
    "collapsed": false,
    "ExecuteTime": {
     "end_time": "2024-11-28T20:12:07.071186Z",
     "start_time": "2024-11-28T20:12:07.066728Z"
    }
   },
   "id": "654741e964cd4c",
   "outputs": [],
   "execution_count": 26
  },
  {
   "cell_type": "code",
   "source": [
    "from sklearn.metrics import make_scorer\n",
    "\n",
    "def score(y_true, y_pred, **kwargs):\n",
    "    y_true = [x.split(\":\") for x in enc.inverse_transform(y_true)]\n",
    "    y_pred = [x.split(\":\") for x in enc.inverse_transform(y_pred)]\n",
    "    score_value = 0\n",
    "    for true, pred in zip(y_true, y_pred):\n",
    "        if true[0] == pred[0] and true[1] == pred[1]:\n",
    "            score_value += 5\n",
    "        elif (int(true[0]) - int(true[1])) == (int(pred[0]) - int(pred[1])):\n",
    "            score_value += 3\n",
    "        elif ((true[0] > true[1]) and (pred[0] > pred[1])) or ((true[0] < true[1]) and (pred[0] < pred[1])):\n",
    "            score_value += 1\n",
    "    return round(score_value / (len(y_true)/306))\n",
    "\n",
    "kicktipp_scorer = make_scorer(score, greater_is_better=True)"
   ],
   "metadata": {
    "collapsed": false,
    "ExecuteTime": {
     "end_time": "2024-11-28T20:12:07.075326Z",
     "start_time": "2024-11-28T20:12:07.072405Z"
    }
   },
   "id": "834a558d67bb0a2e",
   "outputs": [],
   "execution_count": 27
  },
  {
   "cell_type": "code",
   "source": [
    "from sklearn.model_selection import TimeSeriesSplit\n",
    "\n",
    "tscv = TimeSeriesSplit(n_splits=5)"
   ],
   "metadata": {
    "collapsed": false,
    "ExecuteTime": {
     "end_time": "2024-11-28T20:12:07.077673Z",
     "start_time": "2024-11-28T20:12:07.076090Z"
    }
   },
   "id": "75d19930a5f03239",
   "outputs": [],
   "execution_count": 28
  },
  {
   "metadata": {},
   "cell_type": "markdown",
   "source": [
    "# Baseline\n",
    "Most frequent class"
   ],
   "id": "bde75f9f919c2acd"
  },
  {
   "metadata": {
    "ExecuteTime": {
     "end_time": "2024-11-28T20:12:07.083681Z",
     "start_time": "2024-11-28T20:12:07.079180Z"
    }
   },
   "cell_type": "code",
   "source": [
    "import numpy as np\n",
    "\n",
    "y_pred = np.full(len(y_test), y_train.value_counts().idxmax())\n",
    "score(y_test, y_pred)"
   ],
   "id": "a0414eb22d4d0c40",
   "outputs": [
    {
     "data": {
      "text/plain": [
       "299"
      ]
     },
     "execution_count": 29,
     "metadata": {},
     "output_type": "execute_result"
    }
   ],
   "execution_count": 29
  },
  {
   "metadata": {},
   "cell_type": "markdown",
   "source": "# XGBoost",
   "id": "3a0ddb7018566d59"
  },
  {
   "metadata": {
    "ExecuteTime": {
     "end_time": "2024-11-28T20:12:15.258739Z",
     "start_time": "2024-11-28T20:12:07.084267Z"
    }
   },
   "cell_type": "code",
   "source": [
    "from sklearn.model_selection import RandomizedSearchCV\n",
    "import xgboost as xgb\n",
    "from scipy.stats import uniform, randint\n",
    "\n",
    "# Define the parameter search space for classification\n",
    "param_dist = {\n",
    "    # Learning task parameters\n",
    "    'objective': ['multi:softprob'],\n",
    "    'num_class': [len(enc.classes_)],  # Number of unique classes\n",
    "    \n",
    "    # Booster parameters\n",
    "    'max_depth': randint(3, 10),  # Maximum tree depth\n",
    "    'learning_rate': uniform(0.01, 0.3),  # Eta (step size shrinkage)\n",
    "    'n_estimators': randint(100, 500),  # Number of boosting rounds\n",
    "    \n",
    "    # Regularization parameters\n",
    "    'gamma': uniform(0, 5),  # Minimum loss reduction for a split\n",
    "    'min_child_weight': randint(1, 7),  # Minimum sum of instance weight needed in a child\n",
    "    \n",
    "    # Sampling parameters\n",
    "    'subsample': uniform(0.6, 0.4),  # Fraction of samples used for fitting the individual trees\n",
    "    'colsample_bytree': uniform(0.6, 0.4),  # Fraction of features used for fitting the individual trees\n",
    "    \n",
    "    # Regularization L1 and L2\n",
    "    'reg_alpha': uniform(0, 1),  # L1 regularization term\n",
    "    'reg_lambda': uniform(1, 5)  # L2 regularization term\n",
    "}\n",
    "\n",
    "# Create the XGBoost classifier\n",
    "xgb_model = xgb.XGBClassifier(\n",
    "    random_state=42, \n",
    "    n_jobs=-1, # Use all available cores\n",
    ")\n",
    "\n",
    "# Set up RandomizedSearchCV\n",
    "random_search = RandomizedSearchCV(\n",
    "    estimator=xgb_model,\n",
    "    param_distributions=param_dist,\n",
    "    n_iter=100,  # Number of parameter settings sampled\n",
    "    scoring=kicktipp_scorer,  # Use the custom scoring function\n",
    "    cv=tscv,  # Use TimeSeriesSplit cross-validation\n",
    "    random_state=42,\n",
    "    verbose=2\n",
    ")\n",
    "\n",
    "enc_2 = LabelEncoder()\n",
    "# Fit the random search\n",
    "xgb_model.fit(X_train, enc_2.fit_transform(y_train))\n",
    "\n",
    "# Print the best parameters and best score\n",
    "#print(\"Best parameters:\", random_search.best_params_)\n",
    "#print(\"Best cross-validated score:\", random_search.best_score_)\n",
    "\n",
    "# Get the best model\n",
    "#best_xgb_model = random_search.best_estimator_\n",
    "\n",
    "# Predict on test set\n",
    "y_pred = xgb_model.predict(X_test)\n",
    "\n",
    "# Evaluate using the custom scoring function\n",
    "test_score = score(y_test, enc_2.inverse_transform(y_pred))\n",
    "print(\"Test set score:\", test_score)"
   ],
   "id": "d8a3da55fe074f08",
   "outputs": [
    {
     "name": "stdout",
     "output_type": "stream",
     "text": [
      "Test set score: 267\n"
     ]
    }
   ],
   "execution_count": 30
  },
  {
   "cell_type": "code",
   "source": [
    "saving = False\n",
    "#if saving:\n",
    "    #pickle.dump(best_clf, open(\"classifier.pck\", \"wb\"))\n",
    "    #pickle.dump(enc, open(\"encoder.pck\", \"wb\"))"
   ],
   "metadata": {
    "collapsed": false,
    "ExecuteTime": {
     "end_time": "2024-11-28T20:12:15.261017Z",
     "start_time": "2024-11-28T20:12:15.259494Z"
    }
   },
   "id": "8b91ecfdcafeea00",
   "outputs": [],
   "execution_count": 31
  },
  {
   "metadata": {
    "ExecuteTime": {
     "end_time": "2024-11-28T20:12:15.264280Z",
     "start_time": "2024-11-28T20:12:15.262320Z"
    }
   },
   "cell_type": "code",
   "source": "len(enc.classes_)",
   "id": "d6c50621b57a2cf5",
   "outputs": [
    {
     "data": {
      "text/plain": [
       "57"
      ]
     },
     "execution_count": 32,
     "metadata": {},
     "output_type": "execute_result"
    }
   ],
   "execution_count": 32
  },
  {
   "metadata": {
    "ExecuteTime": {
     "end_time": "2024-11-28T20:12:15.267391Z",
     "start_time": "2024-11-28T20:12:15.265018Z"
    }
   },
   "cell_type": "code",
   "source": "",
   "id": "e967d5bb4bd37229",
   "outputs": [],
   "execution_count": 32
  }
 ],
 "metadata": {
  "kernelspec": {
   "display_name": "Python 3",
   "language": "python",
   "name": "python3"
  },
  "language_info": {
   "codemirror_mode": {
    "name": "ipython",
    "version": 2
   },
   "file_extension": ".py",
   "mimetype": "text/x-python",
   "name": "python",
   "nbconvert_exporter": "python",
   "pygments_lexer": "ipython2",
   "version": "2.7.6"
  }
 },
 "nbformat": 4,
 "nbformat_minor": 5
}
