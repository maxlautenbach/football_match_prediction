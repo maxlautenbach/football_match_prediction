{
 "cells": [
  {
   "cell_type": "code",
   "source": [
    "from sklearn.ensemble import RandomForestClassifier\n",
    "from sklearn.preprocessing import LabelEncoder\n",
    "import pickle\n",
    "\n",
    "clf = pickle.load(open(\"classifier.pck\", \"rb\"))\n",
    "enc = pickle.load(open(\"encoder.pck\", \"rb\"))\n",
    "\n",
    "next_matchday_df = pickle.load(open(\"next_matchday_df.pck\", \"rb\"))\n",
    "next_matchday_df.drop(\"resultClass\", axis=1, inplace=True)\n",
    "next_matchday_df_prep = next_matchday_df.drop([\"date\", \"teamHomeName\", \"teamAwayName\"], axis=1)\n",
    "predictions = clf.predict(next_matchday_df_prep)\n",
    "next_matchday_df[\"prediction\"] = enc.inverse_transform(predictions)\n",
    "next_matchday_df[[\"date\", \"teamHomeName\", \"teamAwayName\", \"prediction\"]]"
   ],
   "metadata": {
    "collapsed": false,
    "ExecuteTime": {
     "end_time": "2024-11-03T18:29:58.637396Z",
     "start_time": "2024-11-03T18:29:56.988142Z"
    }
   },
   "id": "c6de4d807ab9333b",
   "outputs": [
    {
     "data": {
      "text/plain": [
       "                     date           teamHomeName              teamAwayName  \\\n",
       "11409 2024-11-08 20:30:00     1. FC Union Berlin               SC Freiburg   \n",
       "11410 2024-11-09 15:30:00          Werder Bremen             Holstein Kiel   \n",
       "11411 2024-11-09 15:30:00        1. FSV Mainz 05         Borussia Dortmund   \n",
       "11412 2024-11-09 15:30:00             VfL Bochum          Bayer Leverkusen   \n",
       "11413 2024-11-09 15:30:00           FC St. Pauli         FC Bayern München   \n",
       "11414 2024-11-09 18:30:00             RB Leipzig  Borussia Mönchengladbach   \n",
       "11415 2024-11-10 15:30:00            FC Augsburg       TSG 1899 Hoffenheim   \n",
       "11416 2024-11-10 17:30:00          VfB Stuttgart       Eintracht Frankfurt   \n",
       "11417 2024-11-10 19:30:00  1. FC Heidenheim 1846             VfL Wolfsburg   \n",
       "\n",
       "      prediction  \n",
       "11409        1:1  \n",
       "11410        2:1  \n",
       "11411        1:1  \n",
       "11412        1:1  \n",
       "11413        1:1  \n",
       "11414        1:1  \n",
       "11415        1:1  \n",
       "11416        2:0  \n",
       "11417        1:1  "
      ],
      "text/html": [
       "<div>\n",
       "<style scoped>\n",
       "    .dataframe tbody tr th:only-of-type {\n",
       "        vertical-align: middle;\n",
       "    }\n",
       "\n",
       "    .dataframe tbody tr th {\n",
       "        vertical-align: top;\n",
       "    }\n",
       "\n",
       "    .dataframe thead th {\n",
       "        text-align: right;\n",
       "    }\n",
       "</style>\n",
       "<table border=\"1\" class=\"dataframe\">\n",
       "  <thead>\n",
       "    <tr style=\"text-align: right;\">\n",
       "      <th></th>\n",
       "      <th>date</th>\n",
       "      <th>teamHomeName</th>\n",
       "      <th>teamAwayName</th>\n",
       "      <th>prediction</th>\n",
       "    </tr>\n",
       "  </thead>\n",
       "  <tbody>\n",
       "    <tr>\n",
       "      <th>11409</th>\n",
       "      <td>2024-11-08 20:30:00</td>\n",
       "      <td>1. FC Union Berlin</td>\n",
       "      <td>SC Freiburg</td>\n",
       "      <td>1:1</td>\n",
       "    </tr>\n",
       "    <tr>\n",
       "      <th>11410</th>\n",
       "      <td>2024-11-09 15:30:00</td>\n",
       "      <td>Werder Bremen</td>\n",
       "      <td>Holstein Kiel</td>\n",
       "      <td>2:1</td>\n",
       "    </tr>\n",
       "    <tr>\n",
       "      <th>11411</th>\n",
       "      <td>2024-11-09 15:30:00</td>\n",
       "      <td>1. FSV Mainz 05</td>\n",
       "      <td>Borussia Dortmund</td>\n",
       "      <td>1:1</td>\n",
       "    </tr>\n",
       "    <tr>\n",
       "      <th>11412</th>\n",
       "      <td>2024-11-09 15:30:00</td>\n",
       "      <td>VfL Bochum</td>\n",
       "      <td>Bayer Leverkusen</td>\n",
       "      <td>1:1</td>\n",
       "    </tr>\n",
       "    <tr>\n",
       "      <th>11413</th>\n",
       "      <td>2024-11-09 15:30:00</td>\n",
       "      <td>FC St. Pauli</td>\n",
       "      <td>FC Bayern München</td>\n",
       "      <td>1:1</td>\n",
       "    </tr>\n",
       "    <tr>\n",
       "      <th>11414</th>\n",
       "      <td>2024-11-09 18:30:00</td>\n",
       "      <td>RB Leipzig</td>\n",
       "      <td>Borussia Mönchengladbach</td>\n",
       "      <td>1:1</td>\n",
       "    </tr>\n",
       "    <tr>\n",
       "      <th>11415</th>\n",
       "      <td>2024-11-10 15:30:00</td>\n",
       "      <td>FC Augsburg</td>\n",
       "      <td>TSG 1899 Hoffenheim</td>\n",
       "      <td>1:1</td>\n",
       "    </tr>\n",
       "    <tr>\n",
       "      <th>11416</th>\n",
       "      <td>2024-11-10 17:30:00</td>\n",
       "      <td>VfB Stuttgart</td>\n",
       "      <td>Eintracht Frankfurt</td>\n",
       "      <td>2:0</td>\n",
       "    </tr>\n",
       "    <tr>\n",
       "      <th>11417</th>\n",
       "      <td>2024-11-10 19:30:00</td>\n",
       "      <td>1. FC Heidenheim 1846</td>\n",
       "      <td>VfL Wolfsburg</td>\n",
       "      <td>1:1</td>\n",
       "    </tr>\n",
       "  </tbody>\n",
       "</table>\n",
       "</div>"
      ]
     },
     "execution_count": 1,
     "metadata": {},
     "output_type": "execute_result"
    }
   ],
   "execution_count": 1
  },
  {
   "cell_type": "code",
   "id": "initial_id",
   "metadata": {
    "collapsed": true,
    "ExecuteTime": {
     "end_time": "2024-11-03T18:30:08.171367Z",
     "start_time": "2024-11-03T18:29:58.638336Z"
    }
   },
   "source": [
    "from selenium import webdriver\n",
    "from selenium.webdriver.common.keys import Keys\n",
    "from selenium.webdriver.common.by import By\n",
    "\n",
    "import dotenv\n",
    "import os\n",
    "\n",
    "dotenv.load_dotenv(\".env\")\n",
    "os.getenv(\"EMAIL\")\n",
    "\n",
    "driver = webdriver.Chrome()\n",
    "driver.get(os.getenv(\"LINK-TIPPABGABE\"))\n",
    "\n",
    "nav_button = driver.find_element(By.CLASS_NAME, \"navtoggle\")\n",
    "nav_button.click()\n",
    "\n",
    "email_input = driver.find_element(By.ID, \"kennung\")\n",
    "email_input.send_keys(os.getenv(\"EMAIL\"))\n",
    "passwort_input = driver.find_element(By.ID, \"passwort\")\n",
    "passwort_input.send_keys(os.getenv(\"PASSWORT\"))\n",
    "\n",
    "login_button = driver.find_element(By.NAME, \"submitbutton\")\n",
    "login_button.click()"
   ],
   "outputs": [],
   "execution_count": 2
  },
  {
   "cell_type": "code",
   "source": [
    "cookies_div = driver.find_element(By.CLASS_NAME, \"qc-cmp2-summary-buttons\")\n",
    "for button in cookies_div.find_elements(By.TAG_NAME, \"button\"):\n",
    "    if button.find_element(By.TAG_NAME, \"span\").get_attribute(\"innerHTML\") == \"ZUSTIMMEN\":\n",
    "        button.click()\n",
    "        break"
   ],
   "metadata": {
    "collapsed": false,
    "ExecuteTime": {
     "end_time": "2024-11-03T18:30:08.278767Z",
     "start_time": "2024-11-03T18:30:08.172283Z"
    }
   },
   "id": "e5daa366a0fc6bf8",
   "outputs": [],
   "execution_count": 3
  },
  {
   "cell_type": "code",
   "source": [
    "from difflib import get_close_matches\n",
    "\n",
    "tippabgabe_tabelle = driver.find_element(By.ID, \"tippabgabeSpiele\")\n",
    "for datarow in tippabgabe_tabelle.find_elements(By.CLASS_NAME, \"datarow\"):\n",
    "    homeTeam = datarow.find_element(By.CLASS_NAME, \"col1\").get_attribute(\"innerHTML\")\n",
    "    if homeTeam != \"\":\n",
    "        selectedTeam = get_close_matches(homeTeam, next_matchday_df[\"teamHomeName\"])[0]\n",
    "        prediction = next_matchday_df[next_matchday_df[\"teamHomeName\"] == selectedTeam][\"prediction\"].iloc[0].split(\":\")\n",
    "        inputs = datarow.find_elements(By.TAG_NAME, \"input\")\n",
    "        inputs[1].clear()\n",
    "        inputs[1].send_keys(prediction[0])\n",
    "        inputs[2].clear()\n",
    "        inputs[2].send_keys(prediction[1])"
   ],
   "metadata": {
    "collapsed": false,
    "ExecuteTime": {
     "end_time": "2024-11-03T18:30:09.026559Z",
     "start_time": "2024-11-03T18:30:08.281049Z"
    }
   },
   "id": "efb19cfc69a35f7e",
   "outputs": [],
   "execution_count": 4
  },
  {
   "cell_type": "code",
   "source": [
    "driver.find_element(By.NAME, \"submitbutton\").click()"
   ],
   "metadata": {
    "collapsed": false,
    "ExecuteTime": {
     "end_time": "2024-11-03T18:30:09.178928Z",
     "start_time": "2024-11-03T18:30:09.027784Z"
    }
   },
   "id": "83c3d68f55d491c7",
   "outputs": [],
   "execution_count": 5
  },
  {
   "cell_type": "code",
   "source": [
    "driver.close()"
   ],
   "metadata": {
    "collapsed": false,
    "ExecuteTime": {
     "end_time": "2024-11-03T18:30:09.254658Z",
     "start_time": "2024-11-03T18:30:09.179872Z"
    }
   },
   "id": "97746c415450f3f9",
   "outputs": [],
   "execution_count": 6
  },
  {
   "cell_type": "code",
   "source": [],
   "metadata": {
    "collapsed": false,
    "ExecuteTime": {
     "end_time": "2024-11-03T18:30:09.274662Z",
     "start_time": "2024-11-03T18:30:09.272413Z"
    }
   },
   "id": "f26603e242c62da6",
   "outputs": [],
   "execution_count": 6
  }
 ],
 "metadata": {
  "kernelspec": {
   "display_name": "Python 3",
   "language": "python",
   "name": "python3"
  },
  "language_info": {
   "codemirror_mode": {
    "name": "ipython",
    "version": 2
   },
   "file_extension": ".py",
   "mimetype": "text/x-python",
   "name": "python",
   "nbconvert_exporter": "python",
   "pygments_lexer": "ipython2",
   "version": "2.7.6"
  }
 },
 "nbformat": 4,
 "nbformat_minor": 5
}
